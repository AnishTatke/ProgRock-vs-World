{
 "cells": [
  {
   "cell_type": "code",
   "execution_count": 1,
   "id": "0b0e8561",
   "metadata": {},
   "outputs": [
    {
     "name": "stderr",
     "output_type": "stream",
     "text": [
      "/home/hoangngominh98/anaconda3/lib/python3.9/site-packages/torchvision/io/image.py:13: UserWarning: Failed to load image Python extension: libc10_cuda.so: cannot open shared object file: No such file or directory\n",
      "  warn(f\"Failed to load image Python extension: {e}\")\n"
     ]
    }
   ],
   "source": [
    "# Importing Libraries\n",
    "import os\n",
    "import librosa\n",
    "import soundfile\n",
    "import torch\n",
    "\n",
    "import numpy as np\n",
    "import matplotlib.pyplot as plt\n",
    "import librosa.display\n",
    "\n",
    "from tqdm import tqdm\n",
    "from torch.utils.data import Dataset, DataLoader\n",
    "from torchvision import transforms\n"
   ]
  },
  {
   "cell_type": "code",
   "execution_count": null,
   "id": "c2446920",
   "metadata": {},
   "outputs": [],
   "source": []
  },
  {
   "cell_type": "code",
   "execution_count": 2,
   "id": "d7ebecee",
   "metadata": {},
   "outputs": [],
   "source": [
    "from sklearn import preprocessing\n",
    "\n",
    "def extract_features_song_get_means(song):\n",
    "    print(song)\n",
    "    y, _ = librosa.load(song)\n",
    "\n",
    "    # get Mel-frequency cepstral coefficients\n",
    "    #print(y.shape)\n",
    "    #sample = 2000000\n",
    "    #mfcc = librosa.feature.mfcc(y = y[:sample])\n",
    "    # normalize values between -1,1 (divide by max)\n",
    "    #mfcc /= np.amax(np.absolute(mfcc))\n",
    "    \n",
    "    magnitude = np.abs(librosa.stft(y))\n",
    "    mel_spec = librosa.feature.melspectrogram(S = magnitude**2)\n",
    "    mfcc = librosa.feature.mfcc(S = librosa.power_to_db(mel_spec))\n",
    "    chroma = librosa.feature.chroma_stft(S = magnitude)\n",
    "    \n",
    "    mean_mfcc = np.mean(mfcc, axis=1)\n",
    "    mean_mel_spec = np.mean(mel_spec, axis=1)\n",
    "    mean_chroma = np.mean(chroma, axis=1)\n",
    "    cov_mfcc = np.ndarray.flatten(np.cov(mfcc))\n",
    "    cov_mel_spec = np.ndarray.flatten(np.cov(mel_spec))\n",
    "    cov_chroma = np.ndarray.flatten(np.cov(chroma))\n",
    "    \n",
    "    mean_mfcc = preprocessing.normalize([mean_mfcc])\n",
    "    mean_mel_spec = preprocessing.normalize([mean_mel_spec])\n",
    "    mean_chroma = preprocessing.normalize([mean_chroma])\n",
    "    cov_mfcc = preprocessing.normalize([cov_mfcc])\n",
    "    cov_mel_spec = preprocessing.normalize([cov_mel_spec])\n",
    "    cov_chroma = preprocessing.normalize([cov_chroma])\n",
    "    \n",
    "    mean_mfcc = mean_mfcc.reshape((mean_mfcc.shape[1],))\n",
    "    mean_mel_spec = mean_mel_spec.reshape((mean_mel_spec.shape[1],))\n",
    "    mean_chroma = mean_chroma.reshape((mean_chroma.shape[1],))\n",
    "    cov_mfcc = cov_mfcc.reshape((cov_mfcc.shape[1],))\n",
    "    cov_mel_spec = cov_mel_spec.reshape((cov_mel_spec.shape[1],))\n",
    "    cov_chroma = cov_chroma.reshape((cov_chroma.shape[1],))\n",
    "    # tempo, beat_frames = librosa.beat.beat_track(y = snippet, sr = sr)\n",
    "    # cq_chroma = librosa.feature.chroma_cqt(y = snippet, sr = sr)\n",
    "    # onset_env = librosa.onset.onset_strength(y = snippet, sr=sr)\n",
    "    features = np.concatenate((mean_mel_spec, mean_mfcc, mean_chroma, cov_mel_spec, cov_mfcc, cov_chroma), axis=0)\n",
    "    print(features.shape)\n",
    "    return np.ndarray.flatten(features)"
   ]
  },
  {
   "cell_type": "code",
   "execution_count": 3,
   "id": "7436f823",
   "metadata": {},
   "outputs": [
    {
     "name": "stdout",
     "output_type": "stream",
     "text": [
      "Processing 142 songs in Progressive genre...\n",
      "Prog_Dataset/Progressive/01. The Same River.mp3\n",
      "(17088,)\n",
      "Prog_Dataset/Progressive/Pain of Salvation - The Perfect Element I - 02. In the Flesh.mp3\n",
      "(17088,)\n",
      "Prog_Dataset/Progressive/06. Anekdoten - Our Days Are Numbered.mp3\n",
      "(17088,)\n",
      "Prog_Dataset/Progressive/02. The Road Of Bones.mp3\n",
      "(17088,)\n",
      "Prog_Dataset/Progressive/01_Genesis_Watcher of the Skies.mp3\n",
      "(17088,)\n",
      "Prog_Dataset/Progressive/La conquista della posizione eretta.mp3\n",
      "(17088,)\n",
      "Prog_Dataset/Progressive/Kraftwerk - 01 - Autobahn.mp3\n",
      "(17088,)\n",
      "Prog_Dataset/Progressive/02 - Odyssey.mp3\n",
      "(17088,)\n",
      "Prog_Dataset/Progressive/01-The Bryden 2-Step (For Amphibians), Pt.1.mp3\n",
      "(17088,)\n",
      "Prog_Dataset/Progressive/01 - Phaedra.mp3\n",
      "(17088,)\n",
      "Prog_Dataset/Progressive/08 - Octavarium.mp3\n",
      "(17088,)\n",
      "Prog_Dataset/Progressive/05_Arriving Somewhere but Not Here.mp3\n",
      "(17088,)\n",
      "Prog_Dataset/Progressive/Kansas_08_Magnum_Opus.mp3\n"
     ]
    },
    {
     "name": "stderr",
     "output_type": "stream",
     "text": [
      "Note: Illegal Audio-MPEG-Header 0x4c595249 at offset 20630146.\n",
      "Note: Trying to resync...\n",
      "Note: Hit end of (available) data during resync.\n"
     ]
    },
    {
     "name": "stdout",
     "output_type": "stream",
     "text": [
      "(17088,)\n",
      "Prog_Dataset/Progressive/Baris_Manco_Bay_Koca_Destani_2023.mp3\n",
      "(17088,)\n",
      "Prog_Dataset/Progressive/05_Schism.mp3\n",
      "(17088,)\n",
      "Prog_Dataset/Progressive/12 - The Garden.mp3\n",
      "(17088,)\n",
      "Prog_Dataset/Progressive/03_Anesthetize.mp3\n",
      "(17088,)\n",
      "Prog_Dataset/Progressive/01-Zarathustra.mp3\n",
      "(17088,)\n",
      "Prog_Dataset/Progressive/Procol_Harum_In_Held.mp3\n",
      "(17088,)\n",
      "Prog_Dataset/Progressive/105-emerson_lake_and_palmer-karn_evil_9_1st_impression_(part_1).mp3\n",
      "(17088,)\n",
      "Prog_Dataset/Progressive/Appena un poco.mp3\n",
      "(17088,)\n",
      "Prog_Dataset/Progressive/01-genesis-dancing_with_the_moonlit_knight.mp3\n",
      "(17088,)\n",
      "Prog_Dataset/Progressive/Syzygy_Dialectic.mp3\n",
      "(17088,)\n",
      "Prog_Dataset/Progressive/05. Part V.mp3\n",
      "(17088,)\n",
      "Prog_Dataset/Progressive/05-Nine Feet Underground.mp3\n",
      "(17088,)\n",
      "Prog_Dataset/Progressive/(Disc 2) 01 - Telepathic Minds.mp3\n",
      "(17088,)\n",
      "Prog_Dataset/Progressive/05 - Starless.mp3\n",
      "(17088,)\n",
      "Prog_Dataset/Progressive/103 Epitaph.mp3\n",
      "(17088,)\n",
      "Prog_Dataset/Progressive/03 - Halleluwah.mp3\n",
      "(17088,)\n",
      "Prog_Dataset/Progressive/06-In a glass house.mp3\n",
      "(17088,)\n",
      "Prog_Dataset/Progressive/MIKE OLDFIELD - Part One (Tubular Bells I).mp3\n",
      "(17088,)\n",
      "Prog_Dataset/Progressive/205 The Court Of The Crimson King.mp3\n",
      "(17088,)\n",
      "Prog_Dataset/Progressive/Eloy - Poseidon_s Creation.mp3\n",
      "(17088,)\n",
      "Prog_Dataset/Progressive/4-Song Of Scheherazade.mp3\n",
      "(17088,)\n",
      "Prog_Dataset/Progressive/08 - White Walls.mp3\n",
      "(17088,)\n",
      "Prog_Dataset/Progressive/02 In a Silent Way...It_s About that Time.mp3\n",
      "(17088,)\n",
      "Prog_Dataset/Progressive/01_2112_I_Overture_II_Temples_of_Syrinx_III_Discovery_IV_Presentation_V_Oracle_VI_Soliloquy_VII_Grand_Finale.mp3\n",
      "(17088,)\n",
      "Prog_Dataset/Progressive/01. Hallogallo.mp3\n",
      "(17088,)\n",
      "Prog_Dataset/Progressive/01. Folklore.mp3\n",
      "(17088,)\n",
      "Prog_Dataset/Progressive/08 - The Divine Wings Of Tragedy.mp3\n",
      "(17088,)\n",
      "Prog_Dataset/Progressive/Emerson_Lake_Palmer_Peter_Gunn.mp3\n",
      "(17088,)\n",
      "Prog_Dataset/Progressive/01_A_Change_of_Seasons_I_Sunrise_II_Innocence_III_Carpe_Diem_IV_Winters_V_Another_World_VI_Summer_VII_Sunset.mp3\n",
      "(17088,)\n",
      "Prog_Dataset/Progressive/05 - Fatal Tragedy.mp3\n",
      "(17088,)\n",
      "Prog_Dataset/Progressive/Thick As A Brick.mp3\n",
      "(17088,)\n",
      "Prog_Dataset/Progressive/07_The_Night_Nights_in_White_Satin.mp3\n",
      "(17088,)\n",
      "Prog_Dataset/Progressive/-04- Knots.mp3\n",
      "(17088,)\n",
      "Prog_Dataset/Progressive/09. Bo Hansson - Rohans Horn - Slaget vid Pelennors slatter.mp3\n",
      "(17088,)\n",
      "Prog_Dataset/Progressive/01_Genesis_The Musical Box.mp3\n",
      "(17088,)\n",
      "Prog_Dataset/Progressive/09 - Ancestral.mp3\n",
      "(17088,)\n",
      "Prog_Dataset/Progressive/06 - Scene Four  Beyond This Life.mp3\n",
      "(17088,)\n",
      "Prog_Dataset/Progressive/04. Second Life Syndrome.mp3\n",
      "(17088,)\n",
      "Prog_Dataset/Progressive/01 Script For A Jester_s Tear.mp3\n"
     ]
    },
    {
     "name": "stderr",
     "output_type": "stream",
     "text": [
      "[src/libmpg123/id3.c:process_comment():584] error: No comment text / valid description?\n"
     ]
    },
    {
     "name": "stdout",
     "output_type": "stream",
     "text": [
      "(17088,)\n",
      "Prog_Dataset/Progressive/06 - Ultimo Entardecer.mp3\n"
     ]
    },
    {
     "name": "stderr",
     "output_type": "stream",
     "text": [
      "[src/libmpg123/id3.c:process_comment():584] error: No comment text / valid description?\n"
     ]
    },
    {
     "name": "stdout",
     "output_type": "stream",
     "text": [
      "(17088,)\n",
      "Prog_Dataset/Progressive/01 - Songs From The Wood (2003 Digital Remaster).mp3\n",
      "(17088,)\n",
      "Prog_Dataset/Progressive/01_Yours Is No Disgrace.mp3\n",
      "(17088,)\n",
      "Prog_Dataset/Progressive/01-The runaway.mp3\n",
      "(17088,)\n",
      "Prog_Dataset/Progressive/01 - Luminol.mp3\n",
      "(17088,)\n",
      "Prog_Dataset/Progressive/01_Shine On You Crazy Diamond I.mp3\n",
      "(17088,)\n",
      "Prog_Dataset/Progressive/08 - Kingdom Of Dreams.mp3\n",
      "(17088,)\n",
      "Prog_Dataset/Progressive/03. Omen.mp3\n",
      "(17088,)\n",
      "Prog_Dataset/Progressive/05 Soup.mp3\n",
      "(17088,)\n",
      "Prog_Dataset/Progressive/08. Guardian.mp3\n",
      "(17088,)\n",
      "Prog_Dataset/Progressive/01 Peaches En Regalia.mp3\n",
      "(17088,)\n",
      "Prog_Dataset/Progressive/5 A Sprinkling Of Clouds.mp3\n",
      "(17088,)\n",
      "Prog_Dataset/Progressive/09 Heart Of The Sunrise.mp3\n",
      "(17088,)\n",
      "Prog_Dataset/Progressive/01_-_the_revealing_science_of_god_-_dance_of_the_dawn_320_lame_cbr.mp3\n",
      "(17088,)\n",
      "Prog_Dataset/Progressive/05_The_Afternoon_a_Afternoon_b_Evening.mp3\n",
      "(17088,)\n",
      "Prog_Dataset/Progressive/05. When the Water Breaks.mp3\n",
      "(17088,)\n",
      "Prog_Dataset/Progressive/Opeth - The Moor.mp3\n",
      "(17088,)\n",
      "Prog_Dataset/Progressive/06. Milliontown.mp3\n",
      "(17088,)\n",
      "Prog_Dataset/Progressive/03-genesis-firth_of_fifth.mp3\n",
      "(17088,)\n",
      "Prog_Dataset/Progressive/01. Hazard Profile Part One.mp3\n",
      "(17088,)\n",
      "Prog_Dataset/Progressive/01 - When the Heart Rules the Mind.mp3\n",
      "(17088,)\n",
      "Prog_Dataset/Progressive/05-Phallus Dei.mp3\n",
      "(17088,)\n",
      "Prog_Dataset/Progressive/06_Genesis_Supper_s Ready.mp3\n",
      "(17088,)\n",
      "Prog_Dataset/Progressive/03Uriah Heep - July Morning.mp3\n",
      "(17088,)\n",
      "Prog_Dataset/Progressive/04 The Sleepwalkers.mp3\n",
      "(17088,)\n",
      "Prog_Dataset/Progressive/06 Mekanik Kommandoh.mp3\n",
      "(17088,)\n",
      "Prog_Dataset/Progressive/01 Close to the Edge I. The Solid Time of Change II. Total Mass Retain III.  I GetUp I Get Down IV. Seasons of Man).mp3\n",
      "(17088,)\n",
      "Prog_Dataset/Progressive/01 Meeting of the Spirits.mp3\n",
      "(17088,)\n",
      "Prog_Dataset/Progressive/06 - Echoes.mp3\n"
     ]
    },
    {
     "name": "stderr",
     "output_type": "stream",
     "text": [
      "[src/libmpg123/id3.c:process_comment():584] error: No comment text / valid description?\n"
     ]
    },
    {
     "name": "stdout",
     "output_type": "stream",
     "text": [
      "(17088,)\n",
      "Prog_Dataset/Progressive/04-Stranger In Your Soul_Resampled.mp3\n",
      "(17088,)\n",
      "Prog_Dataset/Progressive/01. Vert.mp3\n",
      "(17088,)\n",
      "Prog_Dataset/Progressive/02_Dogs.mp3\n",
      "(17088,)\n",
      "Prog_Dataset/Progressive/03 A Plague of Lighthouse Keepers.mp3\n",
      "(17088,)\n",
      "Prog_Dataset/Progressive/The Flower Kings - 1997 Stardust We Are CD2 - 11 - Stardust We Are.mp3\n",
      "(17088,)\n",
      "Prog_Dataset/Progressive/07 - Zartlicher Abschied.mp3\n",
      "(17088,)\n",
      "Prog_Dataset/Progressive/03_YYZ_Rush_Moving_Pictures_Deluxe_Edition_2011.mp3\n",
      "(17088,)\n",
      "Prog_Dataset/Progressive/04_La_Villa_Strangiato_Rush_Hemispheres_Deluxe_Edition.mp3\n",
      "(17088,)\n",
      "Prog_Dataset/Progressive/05 Red Shift.mp3\n",
      "(17088,)\n",
      "Prog_Dataset/Progressive/08-This Strange Engine.mp3\n",
      "(17088,)\n",
      "Prog_Dataset/Progressive/08 - Lady Fantasy.mp3\n",
      "(17088,)\n",
      "Prog_Dataset/Progressive/01 - School.mp3\n",
      "(17088,)\n",
      "Prog_Dataset/Progressive/03 - Suenos De Maniqui.mp3\n",
      "(17088,)\n",
      "Prog_Dataset/Progressive/01.A passion play 1.mp3\n",
      "(17088,)\n",
      "Prog_Dataset/Progressive/01 - Roundabout.mp3\n",
      "(17088,)\n",
      "Prog_Dataset/Progressive/03_Time.mp3\n",
      "(17088,)\n",
      "Prog_Dataset/Progressive/11 Bohemian Rhapsody.mp3\n",
      "(17088,)\n",
      "Prog_Dataset/Progressive/13 Aenema.mp3\n",
      "(17088,)\n",
      "Prog_Dataset/Progressive/01. The Light.mp3\n",
      "(17088,)\n",
      "Prog_Dataset/Progressive/01Al Di Meola - Flight over Rio.mp3\n",
      "(17088,)\n",
      "Prog_Dataset/Progressive/06 Megalyth.mp3\n",
      "(17088,)\n",
      "Prog_Dataset/Progressive/L_evoluzione.mp3\n",
      "(17088,)\n",
      "Prog_Dataset/Progressive/02 Willie The Pimp.mp3\n",
      "(17088,)\n",
      "Prog_Dataset/Progressive/01 - UFO.mp3\n"
     ]
    },
    {
     "name": "stderr",
     "output_type": "stream",
     "text": [
      "[src/libmpg123/id3.c:process_comment():584] error: No comment text / valid description?\n"
     ]
    },
    {
     "name": "stdout",
     "output_type": "stream",
     "text": [
      "(17088,)\n",
      "Prog_Dataset/Progressive/Frances the Mute-The Mars Volta-05-Cassandra Geminni 1.mp3\n",
      "(17088,)\n",
      "Prog_Dataset/Progressive/06-king_crimson-larks_tounges_in_aspic_(part_ii).mp3\n",
      "(17088,)\n",
      "Prog_Dataset/Progressive/07 A Louse Is Not A Home.mp3\n",
      "(17088,)\n",
      "Prog_Dataset/Progressive/01 - Birds of Fire.mp3\n",
      "(17088,)\n",
      "Prog_Dataset/Progressive/101 21st Century Schizoid Man.mp3\n",
      "(17088,)\n",
      "Prog_Dataset/Progressive/05 - Vivaldi.mp3\n"
     ]
    },
    {
     "name": "stderr",
     "output_type": "stream",
     "text": [
      "[src/libmpg123/id3.c:process_comment():584] error: No comment text / valid description?\n"
     ]
    },
    {
     "name": "stdout",
     "output_type": "stream",
     "text": [
      "(17088,)\n",
      "Prog_Dataset/Progressive/01-hymn_of_the_seventh_galaxy_320_lame_cbr.mp3\n",
      "(17088,)\n",
      "Prog_Dataset/Progressive/Big Big Train - English Electric (Part Two) - 01 - East Coast Racer.mp3\n",
      "(17088,)\n",
      "Prog_Dataset/Progressive/09 - Headlong Flight.mp3\n",
      "(17088,)\n",
      "Prog_Dataset/Progressive/04 Black Rose Immortal.mp3\n",
      "(17088,)\n",
      "Prog_Dataset/Progressive/01_-_ace_of_wands_320_lame_cbr.mp3\n",
      "(17088,)\n",
      "Prog_Dataset/Progressive/02 Scorched Earth.mp3\n",
      "(17088,)\n",
      "Prog_Dataset/Progressive/04 - The River Under.mp3\n",
      "(17088,)\n",
      "Prog_Dataset/Progressive/5  The architect.mp3\n",
      "(17088,)\n",
      "Prog_Dataset/Progressive/09 - Ice (Remastered 2023).mp3\n",
      "(17088,)\n",
      "Prog_Dataset/Progressive/103 Moon In June.mp3\n",
      "(17088,)\n",
      "Prog_Dataset/Progressive/02 Can You Understand.mp3\n",
      "(17088,)\n",
      "Prog_Dataset/Progressive/12-animals_as_leaders-song_of_solomon.mp3\n",
      "(17088,)\n",
      "Prog_Dataset/Progressive/02. Bleed (live).mp3\n",
      "(17088,)\n",
      "Prog_Dataset/Progressive/4 Foxlight.mp3\n",
      "(17088,)\n",
      "Prog_Dataset/Progressive/04Billy Cobham - Stratus.mp3\n",
      "(17088,)\n",
      "Prog_Dataset/Progressive/01 The Gates Of Delirium.mp3\n",
      "(17088,)\n",
      "Prog_Dataset/Progressive/08_-_opeth_-_blackwater park_-_blackwater park.mp3\n",
      "(17088,)\n",
      "Prog_Dataset/Progressive/07 - Fool_s Overture.mp3\n",
      "(17088,)\n",
      "Prog_Dataset/Progressive/01 Hortz Fur Dehn Stekehn West.mp3\n",
      "(17088,)\n",
      "Prog_Dataset/Progressive/04. The Czar I. Usurper - II. Escape - III. Martyr - IV. Spiral_khaos[].mp3\n",
      "(17088,)\n",
      "Prog_Dataset/Progressive/01-Hocus Pocus.mp3\n",
      "(17088,)\n",
      "Prog_Dataset/Progressive/01-Sospesi Nell_Incredibile.mp3\n",
      "(17088,)\n",
      "Prog_Dataset/Progressive/Ne_Obliviscaris_And_Plague_Flowers_The_Kaleidoscope.mp3\n",
      "(17088,)\n",
      "Prog_Dataset/Progressive/101-elp-tarkus.mp3\n",
      "(17088,)\n",
      "Prog_Dataset/Progressive/Caravan_The_Love_In_Your_Eye.mp3\n",
      "(17088,)\n",
      "Prog_Dataset/Progressive/01 - Song Within A Song.mp3\n",
      "(17088,)\n",
      "Prog_Dataset/Progressive/01 Jordrok.mp3\n",
      "(17088,)\n",
      "Prog_Dataset/Progressive/Steve_Hackett_The_Return_of_the_Giant_Hogweed.mp3\n",
      "(17088,)\n",
      "Prog_Dataset/Progressive/04 Operation- Mindcrime.mp3\n",
      "(17088,)\n",
      "Prog_Dataset/Progressive/06 Forgotten Sons.mp3\n"
     ]
    },
    {
     "name": "stderr",
     "output_type": "stream",
     "text": [
      "[src/libmpg123/id3.c:process_comment():584] error: No comment text / valid description?\n"
     ]
    },
    {
     "name": "stdout",
     "output_type": "stream",
     "text": [
      "(17088,)\n",
      "Prog_Dataset/Progressive/13 - A Day in the Life.mp3\n",
      "(17088,)\n",
      "Processing 87 songs in Non_Progressive/Top_Of_The_Pops genre...\n",
      "Prog_Dataset/Non_Progressive/Top_Of_The_Pops/2001_Train_Drops_Of_Jupiter.mp3\n",
      "(17088,)\n",
      "Prog_Dataset/Non_Progressive/Top_Of_The_Pops/1945_Harry_James_and_Kitty_Kallen_It_s_Been_A_Long_Long_Time.mp3\n",
      "(17088,)\n",
      "Prog_Dataset/Non_Progressive/Top_Of_The_Pops/2021_Silk_Sonic_Leave_the_Door_Open.mp3\n",
      "(17088,)\n",
      "Prog_Dataset/Non_Progressive/Top_Of_The_Pops/1965_Beach_Boys_California_Girls.mp3\n"
     ]
    },
    {
     "name": "stderr",
     "output_type": "stream",
     "text": [
      "[src/libmpg123/id3.c:process_comment():584] error: No comment text / valid description?\n"
     ]
    },
    {
     "name": "stdout",
     "output_type": "stream",
     "text": [
      "(17088,)\n",
      "Prog_Dataset/Non_Progressive/Top_Of_The_Pops/2008_Alicia_Keys_No_One.mp3\n",
      "(17088,)\n",
      "Prog_Dataset/Non_Progressive/Top_Of_The_Pops/1958_The_Champs_Tequila.mp3\n"
     ]
    },
    {
     "name": "stderr",
     "output_type": "stream",
     "text": [
      "[src/libmpg123/id3.c:process_comment():584] error: No comment text / valid description?\n"
     ]
    },
    {
     "name": "stdout",
     "output_type": "stream",
     "text": [
      "(17088,)\n",
      "Prog_Dataset/Non_Progressive/Top_Of_The_Pops/2007_Fergie_Big_Girls_Don_t_Cry.mp3\n",
      "(17088,)\n",
      "Prog_Dataset/Non_Progressive/Top_Of_The_Pops/1964_The_Beatles_I_Want_To_Hold_Your_Hand.mp3\n",
      "(17088,)\n",
      "Prog_Dataset/Non_Progressive/Top_Of_The_Pops/1960_Bryan_Hyland_Itsy_Bitsy.mp3\n",
      "(17088,)\n",
      "Prog_Dataset/Non_Progressive/Top_Of_The_Pops/2003_Evanescence_Bring_Me_To_Life.mp3\n",
      "(17088,)\n",
      "Prog_Dataset/Non_Progressive/Top_Of_The_Pops/1966_The_Rolling_Stones_Paint_It_Black.mp3\n",
      "(17088,)\n",
      "Prog_Dataset/Non_Progressive/Top_Of_The_Pops/2023_Morgan_Wallen_Last_Night.mp3\n",
      "(17088,)\n",
      "Prog_Dataset/Non_Progressive/Top_Of_The_Pops/2012_Taylor_Swift_We_Are_Never_Getting_Back_Together.mp3\n"
     ]
    },
    {
     "name": "stderr",
     "output_type": "stream",
     "text": [
      "Note: Illegal Audio-MPEG-Header 0x4c595249 at offset 7797061.\n",
      "Note: Trying to resync...\n",
      "Note: Hit end of (available) data during resync.\n"
     ]
    },
    {
     "name": "stdout",
     "output_type": "stream",
     "text": [
      "(17088,)\n",
      "Prog_Dataset/Non_Progressive/Top_Of_The_Pops/1978_Bee_Gees_Night_Fever.mp3\n",
      "(17088,)\n",
      "Prog_Dataset/Non_Progressive/Top_Of_The_Pops/1976_Eagles_Hotel_California.mp3\n",
      "(17088,)\n",
      "Prog_Dataset/Non_Progressive/Top_Of_The_Pops/1977_ABBA_Dancing_Queen.mp3\n",
      "(17088,)\n",
      "Prog_Dataset/Non_Progressive/Top_Of_The_Pops/2011_Adele_Rolling_In_The_Deep.mp3\n",
      "(17088,)\n",
      "Prog_Dataset/Non_Progressive/Top_Of_The_Pops/2020_BTS_Dynamite.mp3\n",
      "(17088,)\n",
      "Prog_Dataset/Non_Progressive/Top_Of_The_Pops/2002_Linkin_Park_In_The_End.mp3\n",
      "(17088,)\n",
      "Prog_Dataset/Non_Progressive/Top_Of_The_Pops/1980_Pink_Floyd_Another_Brick_In_The_Wall_Part_II.mp3\n",
      "(17088,)\n",
      "Prog_Dataset/Non_Progressive/Top_Of_The_Pops/1989_Milli_Vanilli_Girl_You_Know_It_s_True.mp3\n",
      "(17088,)\n",
      "Prog_Dataset/Non_Progressive/Top_Of_The_Pops/1992_Nirvana_Smells_Like_Teen_Spirit.mp3\n"
     ]
    },
    {
     "name": "stderr",
     "output_type": "stream",
     "text": [
      "[src/libmpg123/id3.c:process_comment():584] error: No comment text / valid description?\n"
     ]
    },
    {
     "name": "stdout",
     "output_type": "stream",
     "text": [
      "(17088,)\n",
      "Prog_Dataset/Non_Progressive/Top_Of_The_Pops/1996_Alanis_Morissette_Ironic.mp3\n",
      "(17088,)\n",
      "Prog_Dataset/Non_Progressive/Top_Of_The_Pops/2022_Kendrick_Lamar_Beth_Gibbons_Mother_I_Sober.mp3\n",
      "(17088,)\n",
      "Prog_Dataset/Non_Progressive/Top_Of_The_Pops/2004_Usher_Yeah.mp3\n",
      "(17088,)\n",
      "Prog_Dataset/Non_Progressive/Top_Of_The_Pops/1955_Bill_Haley_And_His_Comets_Rock_Around_The_Clock.mp3\n",
      "(17088,)\n",
      "Prog_Dataset/Non_Progressive/Top_Of_The_Pops/1973_Diana_Ross_Touch_Me_In_The_Morning.mp3\n"
     ]
    },
    {
     "name": "stderr",
     "output_type": "stream",
     "text": [
      "[src/libmpg123/id3.c:process_comment():584] error: No comment text / valid description?\n"
     ]
    },
    {
     "name": "stdout",
     "output_type": "stream",
     "text": [
      "(17088,)\n",
      "Prog_Dataset/Non_Progressive/Top_Of_The_Pops/1940_Tommy_Dorsey_I_ll_Never_Smile_Again.mp3\n",
      "(17088,)\n",
      "Prog_Dataset/Non_Progressive/Top_Of_The_Pops/2009_Beyonce_Single_Ladies_Put_A_Ring_On_It.mp3\n",
      "(17088,)\n",
      "Prog_Dataset/Non_Progressive/Top_Of_The_Pops/1986_Mr._Mister_Broken_Wings.mp3\n"
     ]
    },
    {
     "name": "stderr",
     "output_type": "stream",
     "text": [
      "Note: Illegal Audio-MPEG-Header 0x4c595249 at offset 8066079.\n",
      "Note: Trying to resync...\n",
      "Note: Hit end of (available) data during resync.\n"
     ]
    },
    {
     "name": "stdout",
     "output_type": "stream",
     "text": [
      "(17088,)\n",
      "Prog_Dataset/Non_Progressive/Top_Of_The_Pops/1997_The_Verve_Bittersweet_Symphony.mp3\n",
      "(17088,)\n",
      "Prog_Dataset/Non_Progressive/Top_Of_The_Pops/1998_Celine_Dion_My_Heart_Will_Go_On.mp3\n",
      "(17088,)\n",
      "Prog_Dataset/Non_Progressive/Top_Of_The_Pops/1967_The_Doors_Light_My_Fire.mp3\n",
      "(17088,)\n",
      "Prog_Dataset/Non_Progressive/Top_Of_The_Pops/2005_Kelly_Clarkson_Since_U_Been_Gone.mp3\n"
     ]
    },
    {
     "name": "stderr",
     "output_type": "stream",
     "text": [
      "[src/libmpg123/id3.c:process_comment():584] error: No comment text / valid description?\n"
     ]
    },
    {
     "name": "stdout",
     "output_type": "stream",
     "text": [
      "(17088,)\n",
      "Prog_Dataset/Non_Progressive/Top_Of_The_Pops/1942_Kay_Kyser_Praise_the_Lord_and_Pass_the_Ammunition.mp3\n",
      "(17088,)\n",
      "Prog_Dataset/Non_Progressive/Top_Of_The_Pops/1962_Ray_Charles_I_Can_t_Stop_Loving_You.mp3\n"
     ]
    },
    {
     "name": "stderr",
     "output_type": "stream",
     "text": [
      "[src/libmpg123/id3.c:process_comment():584] error: No comment text / valid description?\n"
     ]
    },
    {
     "name": "stdout",
     "output_type": "stream",
     "text": [
      "(17088,)\n",
      "Prog_Dataset/Non_Progressive/Top_Of_The_Pops/1993_Snap_Rhythm_Is_A_Dancer.mp3\n",
      "(17088,)\n",
      "Prog_Dataset/Non_Progressive/Top_Of_The_Pops/1949_Vaughan_Monroe_Riders_In_The_Sky.mp3\n",
      "(17088,)\n",
      "Prog_Dataset/Non_Progressive/Top_Of_The_Pops/1943_Duke_Ellington_In_A_Sentimental.mp3\n",
      "(17088,)\n",
      "Prog_Dataset/Non_Progressive/Top_Of_The_Pops/1982_Foreigner_Waiting_For_A_Girl_Like_You.mp3\n",
      "(17088,)\n",
      "Prog_Dataset/Non_Progressive/Top_Of_The_Pops/1983_Police_Every_Breath_You_Take.mp3\n",
      "(17088,)\n",
      "Prog_Dataset/Non_Progressive/Top_Of_The_Pops/1994_Ace_Of_Base_All_That_She_Wants.mp3\n",
      "(17088,)\n",
      "Prog_Dataset/Non_Progressive/Top_Of_The_Pops/2010_Lady_Gaga_Telephone.mp3\n"
     ]
    },
    {
     "name": "stderr",
     "output_type": "stream",
     "text": [
      "Note: Illegal Audio-MPEG-Header 0x00000000 at offset 5460065.\n",
      "Note: Trying to resync...\n",
      "Note: Hit end of (available) data during resync.\n"
     ]
    },
    {
     "name": "stdout",
     "output_type": "stream",
     "text": [
      "(17088,)\n",
      "Prog_Dataset/Non_Progressive/Top_Of_The_Pops/1952_Vera_Lynn_Auf_Wiederseh`n_Sweetheart.mp3\n",
      "(17088,)\n",
      "Prog_Dataset/Non_Progressive/Top_Of_The_Pops/2014_Katy_Perry_Roar.mp3\n",
      "(17088,)\n",
      "Prog_Dataset/Non_Progressive/Top_Of_The_Pops/1969_Neil_Diamond_Sweet_Caroline.mp3\n"
     ]
    },
    {
     "name": "stderr",
     "output_type": "stream",
     "text": [
      "Note: Illegal Audio-MPEG-Header 0x00544147 at offset 3412749.\n",
      "Note: Trying to resync...\n",
      "Note: Hit end of (available) data during resync.\n"
     ]
    },
    {
     "name": "stdout",
     "output_type": "stream",
     "text": [
      "(17088,)\n",
      "Prog_Dataset/Non_Progressive/Top_Of_The_Pops/1968_Steppenwolf_Born_To_Be_Wild.mp3\n",
      "(17088,)\n",
      "Prog_Dataset/Non_Progressive/Top_Of_The_Pops/1953_Les_Paul_And_Mary_Ford_Vaya_Con_Dios.mp3\n",
      "(17088,)\n",
      "Prog_Dataset/Non_Progressive/Top_Of_The_Pops/1957_Harry_Belafonte_Banana_Boat_Song.mp3\n",
      "(17088,)\n",
      "Prog_Dataset/Non_Progressive/Top_Of_The_Pops/1971_Rod_Stewart_Maggie_May.mp3\n",
      "(17088,)\n",
      "Prog_Dataset/Non_Progressive/Top_Of_The_Pops/1981_Kim_Carnes_Bette_Davis_Eyes.mp3\n",
      "(17088,)\n",
      "Prog_Dataset/Non_Progressive/Top_Of_The_Pops/2000_Sting_Desert_Rose.mp3\n",
      "(17088,)\n",
      "Prog_Dataset/Non_Progressive/Top_Of_The_Pops/1954_Rosemary_Clooney_Hey_There.mp3\n",
      "(17088,)\n",
      "Prog_Dataset/Non_Progressive/Top_Of_The_Pops/1948_Peggy_Lee_Manana.mp3\n",
      "(17088,)\n",
      "Prog_Dataset/Non_Progressive/Top_Of_The_Pops/1970_Simon_and_Garfunkel_Bridge_Over_Troubled_Water.mp3\n",
      "(17088,)\n",
      "Prog_Dataset/Non_Progressive/Top_Of_The_Pops/1999_Britney_Spears_...Baby_One_More_Time.mp3\n",
      "(17088,)\n",
      "Prog_Dataset/Non_Progressive/Top_Of_The_Pops/1974_Jackson_5_Dancing_Machine.mp3\n",
      "(17088,)\n",
      "Prog_Dataset/Non_Progressive/Top_Of_The_Pops/1961_Lawrence_Welk_Calcutta.mp3\n"
     ]
    },
    {
     "name": "stderr",
     "output_type": "stream",
     "text": [
      "[src/libmpg123/id3.c:process_comment():584] error: No comment text / valid description?\n",
      "Note: Illegal Audio-MPEG-Header 0x42696c6c at offset 3302120.\n",
      "Note: Trying to resync...\n",
      "Note: Hit end of (available) data during resync.\n"
     ]
    },
    {
     "name": "stdout",
     "output_type": "stream",
     "text": [
      "(17088,)\n",
      "Prog_Dataset/Non_Progressive/Top_Of_The_Pops/1991_Mariah_Carey_Someday.mp3\n",
      "(17088,)\n",
      "Prog_Dataset/Non_Progressive/Top_Of_The_Pops/2019_Ariana_Grande_Thank_U,_Next.mp3\n",
      "(17088,)\n",
      "Prog_Dataset/Non_Progressive/Top_Of_The_Pops/1979_The_Knack_My_Sharona.mp3\n"
     ]
    },
    {
     "name": "stderr",
     "output_type": "stream",
     "text": [
      "[src/libmpg123/layer3.c:INT123_do_layer3():1801] error: dequantization failed!\n",
      "Note: Illegal Audio-MPEG-Header 0x4f09842e at offset 3049050.\n",
      "Note: Trying to resync...\n",
      "Note: Skipped 1024 bytes in input.\n",
      "[src/libmpg123/parse.c:wetwork():1365] error: Giving up resync after 1024 bytes - your stream is not nice... (maybe increasing resync limit could help).\n",
      "/tmp/ipykernel_3468638/3771222143.py:5: UserWarning: PySoundFile failed. Trying audioread instead.\n",
      "  y, _ = librosa.load(song)\n",
      "/home/hoangngominh98/anaconda3/lib/python3.9/site-packages/librosa/core/audio.py:183: FutureWarning: librosa.core.audio.__audioread_load\n",
      "\tDeprecated as of librosa version 0.10.0.\n",
      "\tIt will be removed in librosa version 1.0.\n",
      "  y, sr_native = __audioread_load(path, offset, duration, dtype)\n"
     ]
    },
    {
     "name": "stdout",
     "output_type": "stream",
     "text": [
      "(17088,)\n",
      "Prog_Dataset/Non_Progressive/Top_Of_The_Pops/2017_Migos_Bad_&_Boujee.mp3\n",
      "(17088,)\n",
      "Prog_Dataset/Non_Progressive/Top_Of_The_Pops/1995_Hootie_And_The_Blowfish_Hold_My_Hand.mp3\n",
      "(17088,)\n",
      "Prog_Dataset/Non_Progressive/Top_Of_The_Pops/1956_Elvis_Presley_Heartbreak_Hotel.mp3\n",
      "(17088,)\n",
      "Prog_Dataset/Non_Progressive/Top_Of_The_Pops/1947_Francis_Craig_and_His_Orchestra_Near_You.mp3\n",
      "(17088,)\n",
      "Prog_Dataset/Non_Progressive/Top_Of_The_Pops/1946_Perry_Como_Prisoner_of_Love.mp3\n",
      "(17088,)\n",
      "Prog_Dataset/Non_Progressive/Top_Of_The_Pops/2015_Rihanna_FourFiveSeconds.mp3\n",
      "(17088,)\n",
      "Prog_Dataset/Non_Progressive/Top_Of_The_Pops/1987_Heart_Alone.mp3\n",
      "(17088,)\n",
      "Prog_Dataset/Non_Progressive/Top_Of_The_Pops/1985_Wham_Careless_Whisper.mp3\n",
      "(17088,)\n",
      "Prog_Dataset/Non_Progressive/Top_Of_The_Pops/1963_Peter_Paul_And_Mary_Puff_The_Magic_Dragon.mp3\n",
      "(17088,)\n",
      "Prog_Dataset/Non_Progressive/Top_Of_The_Pops/1941_Glenn_Miller_Chatanooga_Choo_Choo.mp3\n"
     ]
    },
    {
     "name": "stderr",
     "output_type": "stream",
     "text": [
      "Note: Illegal Audio-MPEG-Header 0x00000000 at offset 2806046.\n",
      "Note: Trying to resync...\n",
      "Note: Hit end of (available) data during resync.\n"
     ]
    },
    {
     "name": "stdout",
     "output_type": "stream",
     "text": [
      "(17088,)\n",
      "Prog_Dataset/Non_Progressive/Top_Of_The_Pops/1930_Josephine_Baker_J`ai_Deux_Amours.mp3\n",
      "(17088,)\n",
      "Prog_Dataset/Non_Progressive/Top_Of_The_Pops/2013_Bruno_Mars_Locked_Out_Of_Heaven.mp3\n"
     ]
    },
    {
     "name": "stderr",
     "output_type": "stream",
     "text": [
      "[src/libmpg123/id3.c:process_comment():584] error: No comment text / valid description?\n"
     ]
    },
    {
     "name": "stdout",
     "output_type": "stream",
     "text": [
      "(17088,)\n",
      "Prog_Dataset/Non_Progressive/Top_Of_The_Pops/2018_Drake_God_s_Plan.mp3\n",
      "(17088,)\n",
      "Prog_Dataset/Non_Progressive/Top_Of_The_Pops/1959_Johnny_Horton_The_Battle_Of_New_Orleans.mp3\n",
      "(17088,)\n",
      "Prog_Dataset/Non_Progressive/Top_Of_The_Pops/2006_Kanye_West_Gold_Digger.mp3\n",
      "(17088,)\n",
      "Prog_Dataset/Non_Progressive/Top_Of_The_Pops/1975_America_Sister_Golden_Hair.mp3\n",
      "(17088,)\n",
      "Prog_Dataset/Non_Progressive/Top_Of_The_Pops/1944_Les_Brown_Twilight_Time.mp3\n",
      "(17088,)\n",
      "Prog_Dataset/Non_Progressive/Top_Of_The_Pops/1951_Tony_Bennett_Because_Of_You.mp3\n",
      "(17088,)\n",
      "Prog_Dataset/Non_Progressive/Top_Of_The_Pops/2001_Alan_Jackson_Where_Were_You.mp3\n",
      "(17088,)\n",
      "Prog_Dataset/Non_Progressive/Top_Of_The_Pops/1990_Michael_Bolton_How_Am_I_Supposed_To_Live_Without_You.mp3\n",
      "(17088,)\n",
      "Prog_Dataset/Non_Progressive/Top_Of_The_Pops/1988_INXS_Need_You_Tonight.mp3\n",
      "(17088,)\n",
      "Prog_Dataset/Non_Progressive/Top_Of_The_Pops/1972_Don_McLean_American_Pie.mp3\n",
      "(17088,)\n",
      "Prog_Dataset/Non_Progressive/Top_Of_The_Pops/1950_Nat_King_Cole_Mona_Lisa.mp3\n",
      "(17088,)\n",
      "Prog_Dataset/Non_Progressive/Top_Of_The_Pops/1939_Judy_Garland_Somewhere_Over_The_Rainbow.mp3\n",
      "(17088,)\n",
      "Prog_Dataset/Non_Progressive/Top_Of_The_Pops/2016_Twenty_One_Pilots_Stressed_Out.mp3\n",
      "(17088,)\n",
      "Prog_Dataset/Non_Progressive/Top_Of_The_Pops/1984_Prince_When_Doves_Cry.mp3\n",
      "(17088,)\n",
      "Processing 272 songs in Non_Progressive/Other_Songs genre...\n",
      "Prog_Dataset/Non_Progressive/Other_Songs/03_Losfer Words (Big _Orra).mp3\n",
      "(17088,)\n",
      "Prog_Dataset/Non_Progressive/Other_Songs/Nena ‎- 99 Luftballons.mp3\n",
      "(17088,)\n",
      "Prog_Dataset/Non_Progressive/Other_Songs/01 - Autumn Lords.mp3\n",
      "(17088,)\n",
      "Prog_Dataset/Non_Progressive/Other_Songs/Daft Punk - 04 - Harder, Better, Faster, Stronger.mp3\n",
      "(17088,)\n",
      "Prog_Dataset/Non_Progressive/Other_Songs/20 - Thelonious Monk - _Round Midnight.mp3\n"
     ]
    },
    {
     "name": "stderr",
     "output_type": "stream",
     "text": [
      "[src/libmpg123/id3.c:process_comment():584] error: No comment text / valid description?\n"
     ]
    },
    {
     "name": "stdout",
     "output_type": "stream",
     "text": [
      "(17088,)\n",
      "Prog_Dataset/Non_Progressive/Other_Songs/01_Pulcinella_1st_scene_Overture.mp3\n",
      "(17088,)\n",
      "Prog_Dataset/Non_Progressive/Other_Songs/Green Day -07- Basket Case.mp3\n"
     ]
    },
    {
     "name": "stderr",
     "output_type": "stream",
     "text": [
      "[src/libmpg123/id3.c:process_comment():584] error: No comment text / valid description?\n",
      "/tmp/ipykernel_3468638/3771222143.py:5: UserWarning: PySoundFile failed. Trying audioread instead.\n",
      "  y, _ = librosa.load(song)\n",
      "/home/hoangngominh98/anaconda3/lib/python3.9/site-packages/librosa/core/audio.py:183: FutureWarning: librosa.core.audio.__audioread_load\n",
      "\tDeprecated as of librosa version 0.10.0.\n",
      "\tIt will be removed in librosa version 1.0.\n",
      "  y, sr_native = __audioread_load(path, offset, duration, dtype)\n"
     ]
    },
    {
     "name": "stdout",
     "output_type": "stream",
     "text": [
      "(17088,)\n",
      "Prog_Dataset/Non_Progressive/Other_Songs/Symphony_40_G_Minor.mp3\n",
      "(17088,)\n",
      "Prog_Dataset/Non_Progressive/Other_Songs/04 The Unforgettable Fire.mp3\n"
     ]
    },
    {
     "name": "stderr",
     "output_type": "stream",
     "text": [
      "[src/libmpg123/id3.c:process_comment():584] error: No comment text / valid description?\n"
     ]
    },
    {
     "name": "stdout",
     "output_type": "stream",
     "text": [
      "(17088,)\n",
      "Prog_Dataset/Non_Progressive/Other_Songs/CCR_Who_ll Stop The Rain.mp3\n",
      "(17088,)\n",
      "Prog_Dataset/Non_Progressive/Other_Songs/13 - So Long, Farewell.mp3\n",
      "(17088,)\n",
      "Prog_Dataset/Non_Progressive/Other_Songs/08 - Damage Inc  (LP Version).mp3\n",
      "(17088,)\n",
      "Prog_Dataset/Non_Progressive/Other_Songs/07_Johnny B. Goode.mp3\n",
      "(17088,)\n",
      "Prog_Dataset/Non_Progressive/Other_Songs/01 - Immigrant Song.mp3\n",
      "(17088,)\n",
      "Prog_Dataset/Non_Progressive/Other_Songs/08 Behind Blue Eyes.mp3\n",
      "(17088,)\n",
      "Prog_Dataset/Non_Progressive/Other_Songs/Christine_and_the_Queens_People_Ive_Been_Sad.mp3\n",
      "(17088,)\n",
      "Prog_Dataset/Non_Progressive/Other_Songs/01 - I.G.Y..mp3\n",
      "(17088,)\n",
      "Prog_Dataset/Non_Progressive/Other_Songs/10 - 2000 Miles .mp3\n",
      "(17088,)\n",
      "Prog_Dataset/Non_Progressive/Other_Songs/10. Michael Sembello - Maniac.mp3\n",
      "(17088,)\n",
      "Prog_Dataset/Non_Progressive/Other_Songs/07 Say It Ain_t So.mp3\n",
      "(17088,)\n",
      "Prog_Dataset/Non_Progressive/Other_Songs/08 - Anarchy In The U.K.mp3\n",
      "(17088,)\n",
      "Prog_Dataset/Non_Progressive/Other_Songs/04 - Suspended in Gaffa.mp3\n",
      "(17088,)\n",
      "Prog_Dataset/Non_Progressive/Other_Songs/Disintegration-The Cure-09-The Same Deep Water as You.mp3\n",
      "(17088,)\n",
      "Prog_Dataset/Non_Progressive/Other_Songs/03 Supermassive Black Hole.mp3\n",
      "(17088,)\n",
      "Prog_Dataset/Non_Progressive/Other_Songs/06_The Offspring_Gone Away.mp3\n",
      "(17088,)\n",
      "Prog_Dataset/Non_Progressive/Other_Songs/David-Guetta-Ft.-Sia---Titanium-(Instrumental)-[Download].mp3\n",
      "(17088,)\n",
      "Prog_Dataset/Non_Progressive/Other_Songs/04 - Ayasofya.mp3\n",
      "(17088,)\n",
      "Prog_Dataset/Non_Progressive/Other_Songs/03-House Of The Rising Sun.mp3\n",
      "(17088,)\n",
      "Prog_Dataset/Non_Progressive/Other_Songs/SZA_Kill_Bill.mp3\n",
      "(17088,)\n",
      "Prog_Dataset/Non_Progressive/Other_Songs/06 Californication.mp3\n",
      "(17088,)\n",
      "Prog_Dataset/Non_Progressive/Other_Songs/Ed-Sheeran---Shape-of-You.mp3\n",
      "(17088,)\n",
      "Prog_Dataset/Non_Progressive/Other_Songs/01_Aces High.mp3\n",
      "(17088,)\n",
      "Prog_Dataset/Non_Progressive/Other_Songs/13 - Layla.mp3\n",
      "(17088,)\n",
      "Prog_Dataset/Non_Progressive/Other_Songs/07 - Subterranean.mp3\n",
      "(17088,)\n",
      "Prog_Dataset/Non_Progressive/Other_Songs/01 - Upside Down.mp3\n",
      "(17088,)\n",
      "Prog_Dataset/Non_Progressive/Other_Songs/Little_Simz_Woman.mp3\n",
      "(17088,)\n",
      "Prog_Dataset/Non_Progressive/Other_Songs/01 - Radioactive.mp3\n",
      "(17088,)\n",
      "Prog_Dataset/Non_Progressive/Other_Songs/06 The Temple of the King.mp3\n",
      "(17088,)\n",
      "Prog_Dataset/Non_Progressive/Other_Songs/12_Toxicity.mp3\n",
      "(17088,)\n",
      "Prog_Dataset/Non_Progressive/Other_Songs/Golden Earring - Radar Love.mp3\n",
      "(17088,)\n",
      "Prog_Dataset/Non_Progressive/Other_Songs/Titi_Me_Pregunto.mp3\n",
      "(17088,)\n",
      "Prog_Dataset/Non_Progressive/Other_Songs/Beyonce_Cuff_It.mp3\n",
      "(17088,)\n",
      "Prog_Dataset/Non_Progressive/Other_Songs/Cardi_B_WAP.mp3\n",
      "(17088,)\n",
      "Prog_Dataset/Non_Progressive/Other_Songs/Peach_Pit_Almighty_Aphrodite.mp3\n",
      "(17088,)\n",
      "Prog_Dataset/Non_Progressive/Other_Songs/09 - Zum.mp3\n",
      "(17088,)\n",
      "Prog_Dataset/Non_Progressive/Other_Songs/2-10 Dear Mama.mp3\n",
      "(17088,)\n",
      "Prog_Dataset/Non_Progressive/Other_Songs/01 War Pigs _ Luke_s Wall.mp3\n",
      "(17088,)\n",
      "Prog_Dataset/Non_Progressive/Other_Songs/Kabir_Singh_Bekhayali.mp3\n",
      "(17088,)\n",
      "Prog_Dataset/Non_Progressive/Other_Songs/Run_The_Jewels_Yankee_and_the_Brave.mp3\n",
      "(17088,)\n",
      "Prog_Dataset/Non_Progressive/Other_Songs/Lizzo_Juice.mp3\n",
      "(17088,)\n",
      "Prog_Dataset/Non_Progressive/Other_Songs/Sharon_Van_Etten_Seventeen.mp3\n",
      "(17088,)\n",
      "Prog_Dataset/Non_Progressive/Other_Songs/The Revivalists - Wish I Knew You.mp3\n",
      "(17088,)\n",
      "Prog_Dataset/Non_Progressive/Other_Songs/01 - Only Shallow.mp3\n",
      "(17088,)\n",
      "Prog_Dataset/Non_Progressive/Other_Songs/Marco_Luka_Paradise.mp3\n",
      "(17088,)\n",
      "Prog_Dataset/Non_Progressive/Other_Songs/Brockhampton_Buzzcut_feat_Danny_Brown.mp3\n",
      "(17088,)\n",
      "Prog_Dataset/Non_Progressive/Other_Songs/Billie_Eilish_What_Was_I_Made_For.mp3\n",
      "(17088,)\n",
      "Prog_Dataset/Non_Progressive/Other_Songs/Playboi_Carti_Rockstar_Made.mp3\n",
      "(17088,)\n",
      "Prog_Dataset/Non_Progressive/Other_Songs/Twenty_One_Pilots_No_Chances.mp3\n",
      "(17088,)\n",
      "Prog_Dataset/Non_Progressive/Other_Songs/Lorde-Green-Light.mp3\n",
      "(17088,)\n",
      "Prog_Dataset/Non_Progressive/Other_Songs/01-blueprint_320_lame_cbr.mp3\n",
      "(17088,)\n",
      "Prog_Dataset/Non_Progressive/Other_Songs/Pink_Sweat_Icy.mp3\n",
      "(17088,)\n",
      "Prog_Dataset/Non_Progressive/Other_Songs/Allie_X_Not_So_Bad_in_LA.mp3\n",
      "(17088,)\n",
      "Prog_Dataset/Non_Progressive/Other_Songs/Neha_Kakkar_Yaad_Piya_Ki_Aane_Lagi.mp3\n",
      "(17088,)\n",
      "Prog_Dataset/Non_Progressive/Other_Songs/Charli_XCX_Speed_Drive_Barbie.mp3\n",
      "(17088,)\n",
      "Prog_Dataset/Non_Progressive/Other_Songs/Edgar_Winter_Frankenstein.mp3\n",
      "(17088,)\n",
      "Prog_Dataset/Non_Progressive/Other_Songs/Ruelle_The_World_We_Made.mp3\n",
      "(17088,)\n",
      "Prog_Dataset/Non_Progressive/Other_Songs/01-We_re An American Band.mp3\n",
      "(17088,)\n",
      "Prog_Dataset/Non_Progressive/Other_Songs/The_Technicolors_Tonight_You_Are_Mine.mp3\n",
      "(17088,)\n",
      "Prog_Dataset/Non_Progressive/Other_Songs/slow thai Mura Masa - Doorman.mp3\n",
      "(17088,)\n",
      "Prog_Dataset/Non_Progressive/Other_Songs/K-Pop_1.mp3\n",
      "(17088,)\n",
      "Prog_Dataset/Non_Progressive/Other_Songs/The Neighbourhood - Wiped Out.mp3\n",
      "(17088,)\n",
      "Prog_Dataset/Non_Progressive/Other_Songs/Travis Scott - CIRCUS MAXIMUS (Official Audio) ft. The Weeknd, Swae Lee.mp3\n",
      "(17088,)\n",
      "Prog_Dataset/Non_Progressive/Other_Songs/08 - Xoomij.mp3\n",
      "(17088,)\n",
      "Prog_Dataset/Non_Progressive/Other_Songs/11 - Hello Earth.mp3\n",
      "(17088,)\n",
      "Prog_Dataset/Non_Progressive/Other_Songs/02. Top Of The World.mp3\n",
      "(17088,)\n",
      "Prog_Dataset/Non_Progressive/Other_Songs/Bad_Bunny_Si_Veo_A_Tu_Mama.mp3\n",
      "(17088,)\n",
      "Prog_Dataset/Non_Progressive/Other_Songs/13 - Al Hahla Al ’Ali.mp3\n",
      "(17088,)\n",
      "Prog_Dataset/Non_Progressive/Other_Songs/Taylor_Swift_All_Too_Well_Taylor_Version.mp3\n",
      "(17088,)\n",
      "Prog_Dataset/Non_Progressive/Other_Songs/Russ Conway - Pepe.mp3\n",
      "(17088,)\n",
      "Prog_Dataset/Non_Progressive/Other_Songs/01 - My Spirit Will Go On.mp3\n",
      "(17088,)\n",
      "Prog_Dataset/Non_Progressive/Other_Songs/Metro_Boomin_On_Time.mp3\n",
      "(17088,)\n",
      "Prog_Dataset/Non_Progressive/Other_Songs/05-bangles-hazy_shade_of_winter.mp3\n",
      "(17088,)\n",
      "Prog_Dataset/Non_Progressive/Other_Songs/Chase Atlantic - SLIDE (Official Music Video).mp3\n",
      "(17088,)\n",
      "Prog_Dataset/Non_Progressive/Other_Songs/Russian_2.mp3\n",
      "(17088,)\n",
      "Prog_Dataset/Non_Progressive/Other_Songs/04 - A Lovely Night.mp3\n",
      "(17088,)\n",
      "Prog_Dataset/Non_Progressive/Other_Songs/04 - Condor Pasa.mp3\n",
      "(17088,)\n",
      "Prog_Dataset/Non_Progressive/Other_Songs/The Weeknd - The Birds (Trilogy).mp3\n",
      "(17088,)\n",
      "Prog_Dataset/Non_Progressive/Other_Songs/08 - Asmarina (My Asmara).mp3\n",
      "(17088,)\n",
      "Prog_Dataset/Non_Progressive/Other_Songs/Kid_Cudi_Frequency.mp3\n",
      "(17088,)\n",
      "Prog_Dataset/Non_Progressive/Other_Songs/04 - Out Of The Blue.mp3\n",
      "(17088,)\n",
      "Prog_Dataset/Non_Progressive/Other_Songs/11-zao-a_last_time_for_everything.mp3\n"
     ]
    },
    {
     "name": "stderr",
     "output_type": "stream",
     "text": [
      "[src/libmpg123/layer3.c:INT123_do_layer3():1801] error: dequantization failed!\n",
      "Note: Illegal Audio-MPEG-Header 0x00000000 at offset 8848353.\n",
      "Note: Trying to resync...\n",
      "Note: Skipped 1024 bytes in input.\n",
      "[src/libmpg123/parse.c:wetwork():1365] error: Giving up resync after 1024 bytes - your stream is not nice... (maybe increasing resync limit could help).\n",
      "/tmp/ipykernel_3468638/3771222143.py:5: UserWarning: PySoundFile failed. Trying audioread instead.\n",
      "  y, _ = librosa.load(song)\n",
      "/home/hoangngominh98/anaconda3/lib/python3.9/site-packages/librosa/core/audio.py:183: FutureWarning: librosa.core.audio.__audioread_load\n",
      "\tDeprecated as of librosa version 0.10.0.\n",
      "\tIt will be removed in librosa version 1.0.\n",
      "  y, sr_native = __audioread_load(path, offset, duration, dtype)\n"
     ]
    },
    {
     "name": "stdout",
     "output_type": "stream",
     "text": [
      "(17088,)\n",
      "Prog_Dataset/Non_Progressive/Other_Songs/09Henry Mancini - Peter Gunn.mp3\n",
      "(17088,)\n",
      "Prog_Dataset/Non_Progressive/Other_Songs/02 - Someone In The Crowd.mp3\n",
      "(17088,)\n",
      "Prog_Dataset/Non_Progressive/Other_Songs/01 - Big Chief.mp3\n",
      "(17088,)\n",
      "Prog_Dataset/Non_Progressive/Other_Songs/01 - Mustt Mustt (Lost in His Work).mp3\n",
      "(17088,)\n",
      "Prog_Dataset/Non_Progressive/Other_Songs/07 - While The Earth Sleeps (feat Peter Gabriel).mp3\n",
      "(17088,)\n",
      "Prog_Dataset/Non_Progressive/Other_Songs/02 Aja.mp3\n",
      "(17088,)\n",
      "Prog_Dataset/Non_Progressive/Other_Songs/O_Re_Piya_Rahat Fateh Ali Khan_ Salim-Sulaiman.mp3\n",
      "(17088,)\n",
      "Prog_Dataset/Non_Progressive/Other_Songs/05 Homewrecker.mp3\n",
      "(17088,)\n",
      "Prog_Dataset/Non_Progressive/Other_Songs/01 - End Titles from Blade Runner.mp3\n",
      "(17088,)\n",
      "Prog_Dataset/Non_Progressive/Other_Songs/03 Midnight At The Bazaar.mp3\n",
      "(17088,)\n",
      "Prog_Dataset/Non_Progressive/Other_Songs/1-01 Eruption.mp3\n",
      "(17088,)\n",
      "Prog_Dataset/Non_Progressive/Other_Songs/01 - Tiempo Al Tiempo.mp3\n",
      "(17088,)\n",
      "Prog_Dataset/Non_Progressive/Other_Songs/02 - Joie De Vivre.mp3\n",
      "(17088,)\n",
      "Prog_Dataset/Non_Progressive/Other_Songs/Lil Nas X - Old Town Road (feat. Billy Ray Cyrus).mp3\n",
      "(17088,)\n",
      "Prog_Dataset/Non_Progressive/Other_Songs/Salif Keita - Cono.mp3\n",
      "(17088,)\n",
      "Prog_Dataset/Non_Progressive/Other_Songs/01. B.mp3\n",
      "(17088,)\n",
      "Prog_Dataset/Non_Progressive/Other_Songs/Paul Gilbert - Technical Difficulties (Racer X).mp3\n",
      "(17088,)\n",
      "Prog_Dataset/Non_Progressive/Other_Songs/the-chainsmokers-&-coldplay---something-just-like-this.mp3\n",
      "(17088,)\n",
      "Prog_Dataset/Non_Progressive/Other_Songs/03-oneohtrix_point_never-betrayed_in_the_octagon-kouala.mp3\n",
      "(17088,)\n",
      "Prog_Dataset/Non_Progressive/Other_Songs/01. Painkiller.mp3\n",
      "(17088,)\n",
      "Prog_Dataset/Non_Progressive/Other_Songs/04-Invisible Limits.mp3\n",
      "(17088,)\n",
      "Prog_Dataset/Non_Progressive/Other_Songs/03 Julianna Barwick - One Half.mp3\n",
      "(17088,)\n",
      "Prog_Dataset/Non_Progressive/Other_Songs/01 - Harden My Heart.mp3\n",
      "(17088,)\n",
      "Prog_Dataset/Non_Progressive/Other_Songs/10 - Jefferson Airplane - Surrealistic Pillow  - White Rabbit.mp3\n",
      "(17088,)\n",
      "Prog_Dataset/Non_Progressive/Other_Songs/10-hozier-be-65228571.mp3\n",
      "(17088,)\n",
      "Prog_Dataset/Non_Progressive/Other_Songs/06. Blue Jeans.mp3\n",
      "(17088,)\n",
      "Prog_Dataset/Non_Progressive/Other_Songs/01_Surfing with the Alien.mp3\n",
      "(17088,)\n",
      "Prog_Dataset/Non_Progressive/Other_Songs/05-lana_del_rey-doin_time.mp3\n",
      "(17088,)\n",
      "Prog_Dataset/Non_Progressive/Other_Songs/02 The World At Large.mp3\n",
      "(17088,)\n",
      "Prog_Dataset/Non_Progressive/Other_Songs/03-the_strokes-brooklyn_bridge_to_chorus.mp3\n",
      "(17088,)\n",
      "Prog_Dataset/Non_Progressive/Other_Songs/A Tribe Called Quest - Midnight Marauders - 14 - God Lives Through.mp3\n",
      "(17088,)\n",
      "Prog_Dataset/Non_Progressive/Other_Songs/02 - A Whiter Shade Of Pale.mp3\n",
      "(17088,)\n",
      "Prog_Dataset/Non_Progressive/Other_Songs/03 Horns Surrounding Me.mp3\n",
      "(17088,)\n",
      "Prog_Dataset/Non_Progressive/Other_Songs/Khalil_Fong_Love_in_this_world.mp3\n",
      "(17088,)\n",
      "Prog_Dataset/Non_Progressive/Other_Songs/15. Happier Than Ever.mp3\n",
      "(17088,)\n",
      "Prog_Dataset/Non_Progressive/Other_Songs/04 Still D.R.E. (Feat. Snoop Dogg).mp3\n",
      "(17088,)\n",
      "Prog_Dataset/Non_Progressive/Other_Songs/Julia-Michaels---Issues.mp3\n",
      "(17088,)\n",
      "Prog_Dataset/Non_Progressive/Other_Songs/02 - Adagio in C Minor.mp3\n",
      "(17088,)\n",
      "Prog_Dataset/Non_Progressive/Other_Songs/01 - Under the Pressure.mp3\n",
      "(17088,)\n",
      "Prog_Dataset/Non_Progressive/Other_Songs/02 End Game (feat. Ed Sheeran & Future).mp3\n",
      "(17088,)\n",
      "Prog_Dataset/Non_Progressive/Other_Songs/04 - Piano Concerto No. 2 - 1. Allegro.mp3\n",
      "(17088,)\n",
      "Prog_Dataset/Non_Progressive/Other_Songs/14 - 25 or 6 to 4 (Steven Wilson Remix).mp3\n",
      "(17088,)\n",
      "Prog_Dataset/Non_Progressive/Other_Songs/27.-The-Chainsmokers---Paris.mp3\n"
     ]
    },
    {
     "name": "stderr",
     "output_type": "stream",
     "text": [
      "Note: Illegal Audio-MPEG-Header 0x4c595249 at offset 8933388.\n",
      "Note: Trying to resync...\n",
      "Note: Hit end of (available) data during resync.\n"
     ]
    },
    {
     "name": "stdout",
     "output_type": "stream",
     "text": [
      "(17088,)\n",
      "Prog_Dataset/Non_Progressive/Other_Songs/Hallelujah_Kate_McKinnon.mp3\n",
      "(17088,)\n",
      "Prog_Dataset/Non_Progressive/Other_Songs/Chinna Chinna Aasai - ROJA.mp3\n",
      "(17088,)\n",
      "Prog_Dataset/Non_Progressive/Other_Songs/23-The-Weeknd---I-Feel-It-Coming-(Feat-Daft-Punk).mp3\n"
     ]
    },
    {
     "name": "stderr",
     "output_type": "stream",
     "text": [
      "Note: Illegal Audio-MPEG-Header 0x4c595249 at offset 10880470.\n",
      "Note: Trying to resync...\n",
      "Note: Hit end of (available) data during resync.\n"
     ]
    },
    {
     "name": "stdout",
     "output_type": "stream",
     "text": [
      "(17088,)\n",
      "Prog_Dataset/Non_Progressive/Other_Songs/03 - Angel of Music.mp3\n",
      "(17088,)\n",
      "Prog_Dataset/Non_Progressive/Other_Songs/www.NewAlbumReleases.net_14 - Hyyerr (Feat. Chip Tha Ripper).mp3\n"
     ]
    },
    {
     "name": "stderr",
     "output_type": "stream",
     "text": [
      "Note: Illegal Audio-MPEG-Header 0x46656174 at offset 5182435.\n",
      "Note: Trying to resync...\n",
      "Note: Hit end of (available) data during resync.\n"
     ]
    },
    {
     "name": "stdout",
     "output_type": "stream",
     "text": [
      "(17088,)\n",
      "Prog_Dataset/Non_Progressive/Other_Songs/Aphex Twin - Avril 14th.mp3\n",
      "(17088,)\n",
      "Prog_Dataset/Non_Progressive/Other_Songs/04 - Devil_s Advocate _ Bambodansarna.mp3\n",
      "(17088,)\n",
      "Prog_Dataset/Non_Progressive/Other_Songs/05 - Go to the West - Meeting in Menggu Tents - Be Together - Sister Liu.mp3\n",
      "(17088,)\n",
      "Prog_Dataset/Non_Progressive/Other_Songs/04-deacon_blues_320_lame_cbr.mp3\n",
      "(17088,)\n",
      "Prog_Dataset/Non_Progressive/Other_Songs/02. Ascension (feat. Vince Staples).mp3\n",
      "(17088,)\n",
      "Prog_Dataset/Non_Progressive/Other_Songs/03 - Don_t Believe The Hype.mp3\n",
      "(17088,)\n",
      "Prog_Dataset/Non_Progressive/Other_Songs/Serge_Prokofiev_1.mp3\n",
      "(17088,)\n",
      "Prog_Dataset/Non_Progressive/Other_Songs/10 All Is Full Of Love.mp3\n",
      "(17088,)\n",
      "Prog_Dataset/Non_Progressive/Other_Songs/07_Summoning Of The Muse.mp3\n",
      "(17088,)\n",
      "Prog_Dataset/Non_Progressive/Other_Songs/04 Dounounia.mp3\n",
      "(17088,)\n",
      "Prog_Dataset/Non_Progressive/Other_Songs/7 - The Hurt Inside.mp3\n",
      "(17088,)\n",
      "Prog_Dataset/Non_Progressive/Other_Songs/02 - Woman In Love (Album Version).mp3\n",
      "(17088,)\n",
      "Prog_Dataset/Non_Progressive/Other_Songs/06 - Sweet Dreams (Are Made Of This).mp3\n",
      "(17088,)\n",
      "Prog_Dataset/Non_Progressive/Other_Songs/05-Tjolky [Тьолки].mp3\n",
      "(17088,)\n",
      "Prog_Dataset/Non_Progressive/Other_Songs/Imagine-Dragons---Believer.mp3\n",
      "(17088,)\n",
      "Prog_Dataset/Non_Progressive/Other_Songs/02 - Petrichrist.mp3\n",
      "(17088,)\n",
      "Prog_Dataset/Non_Progressive/Other_Songs/16 - Navras.mp3\n",
      "(17088,)\n",
      "Prog_Dataset/Non_Progressive/Other_Songs/04-The Rip.mp3\n",
      "(17088,)\n",
      "Prog_Dataset/Non_Progressive/Other_Songs/The Jimi Hendrix Experience - Voodoo Chile.mp3\n",
      "(17088,)\n",
      "Prog_Dataset/Non_Progressive/Other_Songs/Anu_Orta_Veniya.mp3\n",
      "(17088,)\n",
      "Prog_Dataset/Non_Progressive/Other_Songs/01 - amy winehouse - rehab.mp3\n",
      "(17088,)\n",
      "Prog_Dataset/Non_Progressive/Other_Songs/04 - El corrido de Alfonso.mp3\n",
      "(17088,)\n",
      "Prog_Dataset/Non_Progressive/Other_Songs/01.ArmenMiran-PreciousStory.mp3\n",
      "(17088,)\n",
      "Prog_Dataset/Non_Progressive/Other_Songs/04. Air Supply - All Out Of Love.mp3\n",
      "(17088,)\n",
      "Prog_Dataset/Non_Progressive/Other_Songs/04 - Big Shot.mp3\n",
      "(17088,)\n",
      "Prog_Dataset/Non_Progressive/Other_Songs/06 - Sigur Rós - Sæglópur.mp3\n",
      "(17088,)\n",
      "Prog_Dataset/Non_Progressive/Other_Songs/16 - Madhuban Mein Radhika Nache Re (Kohinoor 1960).mp3\n",
      "(17088,)\n",
      "Prog_Dataset/Non_Progressive/Other_Songs/01 Play Your Part (Pt. 1).mp3\n",
      "(17088,)\n",
      "Prog_Dataset/Non_Progressive/Other_Songs/10 The Thrill Is Gone.mp3\n",
      "(17088,)\n",
      "Prog_Dataset/Non_Progressive/Other_Songs/08 - Tsinandali Choir - Orovela.mp3\n",
      "(17088,)\n",
      "Prog_Dataset/Non_Progressive/Other_Songs/rasme-asheghi.mp3\n",
      "(17088,)\n",
      "Prog_Dataset/Non_Progressive/Other_Songs/C-Pop_Hits_1.mp3\n",
      "(17088,)\n",
      "Prog_Dataset/Non_Progressive/Other_Songs/06 Savana Dance.mp3\n",
      "(17088,)\n",
      "Prog_Dataset/Non_Progressive/Other_Songs/05. Violin Concerto in E minor op.64 - I Allegro molto appassionato.mp3\n",
      "(17088,)\n",
      "Prog_Dataset/Non_Progressive/Other_Songs/06 - Give It Up.mp3\n",
      "(17088,)\n",
      "Prog_Dataset/Non_Progressive/Other_Songs/07 Guy_s Eyes.mp3\n",
      "(17088,)\n",
      "Prog_Dataset/Non_Progressive/Other_Songs/08 I Could Have Danced All Night.mp3\n",
      "(17088,)\n",
      "Prog_Dataset/Non_Progressive/Other_Songs/03. Ten-Day Interval.mp3\n",
      "(17088,)\n",
      "Prog_Dataset/Non_Progressive/Other_Songs/13 Metin Arolat - Elveda.mp3\n",
      "(17088,)\n",
      "Prog_Dataset/Non_Progressive/Other_Songs/03 - Bayaty.mp3\n",
      "(17088,)\n",
      "Prog_Dataset/Non_Progressive/Other_Songs/05 - Moonwind.mp3\n",
      "(17088,)\n",
      "Prog_Dataset/Non_Progressive/Other_Songs/07-Cage-The-Elephant---Aint-No-Rest-For-The-Wicked.mp3\n"
     ]
    },
    {
     "name": "stderr",
     "output_type": "stream",
     "text": [
      "[src/libmpg123/id3.c:process_comment():584] error: No comment text / valid description?\n"
     ]
    },
    {
     "name": "stdout",
     "output_type": "stream",
     "text": [
      "(17088,)\n",
      "Prog_Dataset/Non_Progressive/Other_Songs/01 Machu Picchu.mp3\n",
      "(17088,)\n",
      "Prog_Dataset/Non_Progressive/Other_Songs/06 - Janelle Monae - Cold War.mp3\n",
      "(17088,)\n",
      "Prog_Dataset/Non_Progressive/Other_Songs/02_Violin_Concerto_in_D_Major_Adagio.mp3\n",
      "(17088,)\n",
      "Prog_Dataset/Non_Progressive/Other_Songs/09-Year Of The Cat.mp3\n"
     ]
    },
    {
     "name": "stderr",
     "output_type": "stream",
     "text": [
      "[src/libmpg123/id3.c:process_comment():584] error: No comment text / valid description?\n"
     ]
    },
    {
     "name": "stdout",
     "output_type": "stream",
     "text": [
      "(17088,)\n",
      "Prog_Dataset/Non_Progressive/Other_Songs/Ali Farka Toure with Ry Cooder - Talking Timbuktu - 10 - Diaraby.mp3\n",
      "(17088,)\n",
      "Prog_Dataset/Non_Progressive/Other_Songs/02 - Zombified.mp3\n",
      "(17088,)\n",
      "Prog_Dataset/Non_Progressive/Other_Songs/05 we_re drowning in it.mp3\n",
      "(17088,)\n",
      "Prog_Dataset/Non_Progressive/Other_Songs/05 - Modern Love (2002 Remastered Version).mp3\n",
      "(17088,)\n",
      "Prog_Dataset/Non_Progressive/Other_Songs/05 Clocks.mp3\n",
      "(17088,)\n",
      "Prog_Dataset/Non_Progressive/Other_Songs/03 Space Song.mp3\n",
      "(17088,)\n",
      "Prog_Dataset/Non_Progressive/Other_Songs/04 - Somebody Told Me.mp3\n",
      "(17088,)\n",
      "Prog_Dataset/Non_Progressive/Other_Songs/01-Light - Look At Your Sun.mp3\n"
     ]
    },
    {
     "name": "stderr",
     "output_type": "stream",
     "text": [
      "[src/libmpg123/id3.c:process_comment():584] error: No comment text / valid description?\n"
     ]
    },
    {
     "name": "stdout",
     "output_type": "stream",
     "text": [
      "(17088,)\n",
      "Prog_Dataset/Non_Progressive/Other_Songs/06 - De Música Ligera (Remasterizado 2007).mp3\n",
      "(17088,)\n",
      "Prog_Dataset/Non_Progressive/Other_Songs/Ursine Vulpine ft Annaca   Wicked Game (Lyrics).mp3\n",
      "(17088,)\n",
      "Prog_Dataset/Non_Progressive/Other_Songs/01 Styx - Grand Illusion.mp3\n"
     ]
    },
    {
     "name": "stderr",
     "output_type": "stream",
     "text": [
      "Note: Illegal Audio-MPEG-Header 0x00000000 at offset 10986313.\n",
      "Note: Trying to resync...\n",
      "Note: Hit end of (available) data during resync.\n"
     ]
    },
    {
     "name": "stdout",
     "output_type": "stream",
     "text": [
      "(17088,)\n",
      "Prog_Dataset/Non_Progressive/Other_Songs/04 - Interstate Love Song.mp3\n",
      "(17088,)\n",
      "Prog_Dataset/Non_Progressive/Other_Songs/13 Famous Last Words.mp3\n",
      "(17088,)\n",
      "Prog_Dataset/Non_Progressive/Other_Songs/19 - Tusk.mp3\n",
      "(17088,)\n",
      "Prog_Dataset/Non_Progressive/Other_Songs/11 - Your Lucky Day In Hell.mp3\n",
      "(17088,)\n",
      "Prog_Dataset/Non_Progressive/Other_Songs/12 - Buckingham Green.mp3\n",
      "(17088,)\n",
      "Prog_Dataset/Non_Progressive/Other_Songs/03 - No Doubt - Just a Girl.mp3\n",
      "(17088,)\n",
      "Prog_Dataset/Non_Progressive/Other_Songs/04 Cracker - Low.mp3\n"
     ]
    },
    {
     "name": "stderr",
     "output_type": "stream",
     "text": [
      "[src/libmpg123/id3.c:process_comment():584] error: No comment text / valid description?\n"
     ]
    },
    {
     "name": "stdout",
     "output_type": "stream",
     "text": [
      "(17088,)\n",
      "Prog_Dataset/Non_Progressive/Other_Songs/08 All the Small Things.mp3\n",
      "(17088,)\n",
      "Prog_Dataset/Non_Progressive/Other_Songs/01-Janitor Of Lunacy.mp3\n",
      "(17088,)\n",
      "Prog_Dataset/Non_Progressive/Other_Songs/09 - Money For Nothing (Album Version).mp3\n",
      "(17088,)\n",
      "Prog_Dataset/Non_Progressive/Other_Songs/05-Flourescent Adolescent.mp3\n",
      "(17088,)\n",
      "Prog_Dataset/Non_Progressive/Other_Songs/Cranberries - 04 - Zombie.mp3\n",
      "(17088,)\n",
      "Prog_Dataset/Non_Progressive/Other_Songs/03. Rag Doll.mp3\n",
      "(17088,)\n",
      "Prog_Dataset/Non_Progressive/Other_Songs/07. Black Hole Sun.mp3\n"
     ]
    },
    {
     "name": "stderr",
     "output_type": "stream",
     "text": [
      "[src/libmpg123/id3.c:process_comment():584] error: No comment text / valid description?\n"
     ]
    },
    {
     "name": "stdout",
     "output_type": "stream",
     "text": [
      "(17088,)\n",
      "Prog_Dataset/Non_Progressive/Other_Songs/1-03 Wonderwall.mp3\n",
      "(17088,)\n",
      "Prog_Dataset/Non_Progressive/Other_Songs/07 - Wake Up.mp3\n",
      "(17088,)\n",
      "Prog_Dataset/Non_Progressive/Other_Songs/06 - Disarm.mp3\n",
      "(17088,)\n",
      "Prog_Dataset/Non_Progressive/Other_Songs/Cosmia.mp3\n",
      "(17088,)\n",
      "Prog_Dataset/Non_Progressive/Other_Songs/06 Felt Mountain.mp3\n",
      "(17088,)\n",
      "Prog_Dataset/Non_Progressive/Other_Songs/09 - Dilettante.mp3\n",
      "(17088,)\n",
      "Prog_Dataset/Non_Progressive/Other_Songs/07 Eight Miles High.mp3\n",
      "(17088,)\n",
      "Prog_Dataset/Non_Progressive/Other_Songs/10 - Don_t You Want Me - The Human League.mp3\n",
      "(17088,)\n",
      "Prog_Dataset/Non_Progressive/Other_Songs/Gin_Blossoms_Hey_Jealousy.mp3\n",
      "(17088,)\n",
      "Prog_Dataset/Non_Progressive/Other_Songs/04 - Ted Just Admit it.......mp3\n",
      "(17088,)\n",
      "Prog_Dataset/Non_Progressive/Other_Songs/01 - It_s The End Of The World As We Know It (And I Feel Fine) (Edit) (2006 Digital Remaster).mp3\n",
      "(17088,)\n",
      "Prog_Dataset/Non_Progressive/Other_Songs/11 - Inoculate the Innocuous.mp3\n",
      "(17088,)\n",
      "Prog_Dataset/Non_Progressive/Other_Songs/05. This Time.mp3\n",
      "(17088,)\n",
      "Prog_Dataset/Non_Progressive/Other_Songs/Collective Soul_The World I Know.mp3\n",
      "(17088,)\n",
      "Prog_Dataset/Non_Progressive/Other_Songs/Closer.mp3\n",
      "(17088,)\n",
      "Prog_Dataset/Non_Progressive/Other_Songs/04---Relax---Frankie-Goes-To-Hollywood.mp3\n",
      "(17088,)\n",
      "Prog_Dataset/Non_Progressive/Other_Songs/11 Better Man.mp3\n",
      "(17088,)\n",
      "Prog_Dataset/Non_Progressive/Other_Songs/101-tom_petty_and_the_heartbreakers-refugee.mp3\n",
      "(17088,)\n",
      "Prog_Dataset/Non_Progressive/Other_Songs/06 - How Soon Is Now_.mp3\n",
      "(17088,)\n",
      "Prog_Dataset/Non_Progressive/Other_Songs/06 - Cruel Summer.mp3\n",
      "(17088,)\n",
      "Prog_Dataset/Non_Progressive/Other_Songs/09 - Madonna, Sean and Me.mp3\n",
      "(17088,)\n",
      "Prog_Dataset/Non_Progressive/Other_Songs/04 - Elton John - Goodbye Yellow Brick Road (Remastered 2014).mp3\n",
      "(17088,)\n",
      "Prog_Dataset/Non_Progressive/Other_Songs/05-shock_the_monkey_320_lame_cbr.mp3\n",
      "(17088,)\n",
      "Prog_Dataset/Non_Progressive/Other_Songs/02 West End Girls.mp3\n",
      "(17088,)\n",
      "Prog_Dataset/Non_Progressive/Other_Songs/06-alone_again_or_320_lame_cbr.mp3\n",
      "(17088,)\n",
      "Prog_Dataset/Non_Progressive/Other_Songs/12 - Round And Round [12_ Version].mp3\n",
      "(17088,)\n",
      "Prog_Dataset/Non_Progressive/Other_Songs/02 - Burnin_ For You.mp3\n",
      "(17088,)\n",
      "Prog_Dataset/Non_Progressive/Other_Songs/02 Peace Of Mind.mp3\n",
      "(17088,)\n",
      "Prog_Dataset/Non_Progressive/Other_Songs/07 - Head Over Heels  Broken.mp3\n",
      "(17088,)\n",
      "Prog_Dataset/Non_Progressive/Other_Songs/02 - Killer Queen.mp3\n"
     ]
    },
    {
     "name": "stderr",
     "output_type": "stream",
     "text": [
      "[src/libmpg123/id3.c:process_comment():584] error: No comment text / valid description?\n"
     ]
    },
    {
     "name": "stdout",
     "output_type": "stream",
     "text": [
      "(17088,)\n",
      "Prog_Dataset/Non_Progressive/Other_Songs/02-blondie-call_me-rns.mp3\n",
      "(17088,)\n",
      "Prog_Dataset/Non_Progressive/Other_Songs/02. Planet Earth.mp3\n",
      "(17088,)\n",
      "Prog_Dataset/Non_Progressive/Other_Songs/24_Billy_Vaughan_Orange_Blossom_Special.mp3\n",
      "(17088,)\n",
      "Prog_Dataset/Non_Progressive/Other_Songs/22 Turn On The News.mp3\n",
      "(17088,)\n",
      "Prog_Dataset/Non_Progressive/Other_Songs/Billy Joel - It_s Still Rock And Roll To Me.mp3\n",
      "(17088,)\n",
      "Prog_Dataset/Non_Progressive/Other_Songs/09 I_m Just a Singer (In a Rock and Roll Band).mp3\n",
      "(17088,)\n",
      "Prog_Dataset/Non_Progressive/Other_Songs/06 Tales Of Brave Ulysses.mp3\n",
      "(17088,)\n",
      "Prog_Dataset/Non_Progressive/Other_Songs/07 - You Really Got Me.mp3\n",
      "(17088,)\n",
      "Prog_Dataset/Non_Progressive/Other_Songs/01 - Loser.mp3\n",
      "(17088,)\n",
      "Prog_Dataset/Non_Progressive/Other_Songs/09 - Golden Brown [Explicit].mp3\n",
      "(17088,)\n",
      "Prog_Dataset/Non_Progressive/Other_Songs/101-led_zeppelin-immigrant_song.mp3\n",
      "(17088,)\n",
      "Prog_Dataset/Non_Progressive/Other_Songs/06 Naima.mp3\n",
      "(17088,)\n",
      "Prog_Dataset/Non_Progressive/Other_Songs/04 - Vera.mp3\n",
      "(17088,)\n",
      "Prog_Dataset/Non_Progressive/Other_Songs/07. The Cars - Bye Bye Love.mp3\n"
     ]
    },
    {
     "name": "stderr",
     "output_type": "stream",
     "text": [
      "Note: Illegal Audio-MPEG-Header 0x00000000 at offset 10147253.\n",
      "Note: Trying to resync...\n",
      "Note: Hit end of (available) data during resync.\n"
     ]
    },
    {
     "name": "stdout",
     "output_type": "stream",
     "text": [
      "(17088,)\n",
      "Prog_Dataset/Non_Progressive/Other_Songs/02 - Arc of a Diver.mp3\n",
      "(17088,)\n",
      "Prog_Dataset/Non_Progressive/Other_Songs/07-do_it_again_320_lame_cbr.mp3\n",
      "(17088,)\n",
      "Prog_Dataset/Non_Progressive/Other_Songs/13. Frank Sinatra - The Girl From Ipanema.mp3\n",
      "(17088,)\n",
      "Prog_Dataset/Non_Progressive/Other_Songs/01 - Blinded By The Light.mp3\n",
      "(17088,)\n",
      "Prog_Dataset/Non_Progressive/Other_Songs/20 - They Can_t Take That Away from Me (Remastered).mp3\n",
      "(17088,)\n",
      "Prog_Dataset/Non_Progressive/Other_Songs/11 - Lonely People.mp3\n",
      "(17088,)\n",
      "Prog_Dataset/Non_Progressive/Other_Songs/(06) [Alice Cooper] No More Mr. Nice Guy.mp3\n",
      "(17088,)\n",
      "Prog_Dataset/Non_Progressive/Other_Songs/3. My Beautiful Dark Twisted Fantasy - POWER.mp3\n",
      "(17088,)\n",
      "Prog_Dataset/Non_Progressive/Other_Songs/08-love_to_love_320_lame_cbr.mp3\n",
      "(17088,)\n",
      "Prog_Dataset/Non_Progressive/Other_Songs/Kind Of Blue-Miles Davis-02-Freddie Freeloader.mp3\n",
      "(17088,)\n",
      "Prog_Dataset/Non_Progressive/Other_Songs/08 Listen.mp3\n",
      "(17088,)\n",
      "Prog_Dataset/Non_Progressive/Other_Songs/Tame_Impala_01_Let_It_Happen.mp3\n"
     ]
    },
    {
     "name": "stderr",
     "output_type": "stream",
     "text": [
      "Note: Illegal Audio-MPEG-Header 0x4c595249 at offset 18882356.\n",
      "Note: Trying to resync...\n",
      "Note: Hit end of (available) data during resync.\n"
     ]
    },
    {
     "name": "stdout",
     "output_type": "stream",
     "text": [
      "(17088,)\n",
      "Prog_Dataset/Non_Progressive/Other_Songs/09_Jewel Of The Summertime.mp3\n",
      "(17088,)\n",
      "Prog_Dataset/Non_Progressive/Other_Songs/03 - The national anthem.mp3\n"
     ]
    },
    {
     "name": "stderr",
     "output_type": "stream",
     "text": [
      "Note: Illegal Audio-MPEG-Header 0x040cfffb at offset 7708883.\n",
      "Note: Trying to resync...\n",
      "Note: Skipped 2 bytes in input.\n",
      "[src/libmpg123/layer3.c:INT123_do_layer3():1801] error: dequantization failed!\n",
      "Note: Illegal Audio-MPEG-Header 0xb0049200 at offset 7710137.\n",
      "Note: Trying to resync...\n",
      "Note: Skipped 285 bytes in input.\n"
     ]
    },
    {
     "name": "stdout",
     "output_type": "stream",
     "text": [
      "(17088,)\n",
      "Prog_Dataset/Non_Progressive/Other_Songs/03 - Take Five (LP Version).mp3\n",
      "(17088,)\n",
      "Prog_Dataset/Non_Progressive/Other_Songs/09. Tel Aviv.mp3\n",
      "(17088,)\n",
      "Prog_Dataset/Non_Progressive/Other_Songs/06. In A Gadda Da Vida.mp3\n",
      "(17088,)\n",
      "Prog_Dataset/Non_Progressive/Other_Songs/17 - Cross Road Blues (take 1).mp3\n",
      "(17088,)\n"
     ]
    }
   ],
   "source": [
    "import glob\n",
    "# Prepare a list for all the features and all the labels\n",
    "all_features = []\n",
    "all_labels = []\n",
    "\n",
    "#genres = ['blues', 'classical', 'country', 'disco', 'hiphop', 'jazz', 'metal', 'pop', 'reggae', 'rock']\n",
    "genres_path = \"Prog_Dataset/\"\n",
    "genres = [\"Progressive\", 'Non_Progressive/Top_Of_The_Pops', 'Non_Progressive/Other_Songs']\n",
    "# Extract features and genre names from each song\n",
    "for genre in genres:\n",
    "    sound_files = glob.glob(genres_path + genre + '/*')\n",
    "    #print(sound_files)\n",
    "    print('Processing %d songs in %s genre...' % (len(sound_files), genre))\n",
    "    for i, song in enumerate(sound_files):\n",
    "        if (song[-3:] == 'csv') or (song[-3:] == 'ods'):\n",
    "            continue\n",
    "        # Handle corrupt song \n",
    "        if 'jazz.00054.wav' in song:\n",
    "            features = extract_features_song_get_means(sound_files[i - 1])\n",
    "        else:\n",
    "            features = extract_features_song_get_means(song)\n",
    "\n",
    "        all_features.append(features)\n",
    "        if genre == 'Progressive':\n",
    "            all_labels.append(0)\n",
    "        else:\n",
    "            all_labels.append(1)"
   ]
  },
  {
   "cell_type": "code",
   "execution_count": 28,
   "id": "8808e3c9",
   "metadata": {},
   "outputs": [
    {
     "name": "stdout",
     "output_type": "stream",
     "text": [
      "Processing 142 songs in Progressive genre...\n",
      "Processing 87 songs in Non_Progressive/Top_Of_The_Pops genre...\n",
      "Processing 272 songs in Non_Progressive/Other_Songs genre...\n"
     ]
    }
   ],
   "source": [
    "import glob\n",
    "# Prepare a list for all the features and all the labels\n",
    "song_names = []\n",
    "\n",
    "#genres = ['blues', 'classical', 'country', 'disco', 'hiphop', 'jazz', 'metal', 'pop', 'reggae', 'rock']\n",
    "genres_path = \"Prog_Dataset/\"\n",
    "genres = [\"Progressive\", 'Non_Progressive/Top_Of_The_Pops', 'Non_Progressive/Other_Songs']\n",
    "# Extract features and genre names from each song\n",
    "for genre in genres:\n",
    "    sound_files = glob.glob(genres_path + genre + '/*')\n",
    "    #print(sound_files)\n",
    "    print('Processing %d songs in %s genre...' % (len(sound_files), genre))\n",
    "    for i, song in enumerate(sound_files):\n",
    "        if (song[-3:] == 'csv') or (song[-3:] == 'ods'):\n",
    "            continue\n",
    "        # Handle corrupt song \n",
    "        song_names.append(song)"
   ]
  },
  {
   "cell_type": "code",
   "execution_count": 4,
   "id": "96ec14dc",
   "metadata": {},
   "outputs": [],
   "source": [
    "features=np.stack(all_features)"
   ]
  },
  {
   "cell_type": "code",
   "execution_count": 5,
   "id": "276c6d64",
   "metadata": {},
   "outputs": [],
   "source": [
    "labels=np.stack(all_labels)"
   ]
  },
  {
   "cell_type": "code",
   "execution_count": 6,
   "id": "eab03a59",
   "metadata": {},
   "outputs": [],
   "source": [
    "features = features.astype('float32')\n",
    "labels = labels.astype('int64')"
   ]
  },
  {
   "cell_type": "code",
   "execution_count": 7,
   "id": "7e3c7c1c",
   "metadata": {},
   "outputs": [],
   "source": [
    "from torch.utils.data import TensorDataset, DataLoader\n",
    "\n",
    "features_tensor = torch.from_numpy(features)\n",
    "labels_tensor = torch.from_numpy(labels)\n",
    "dataset = TensorDataset(features_tensor, labels_tensor)"
   ]
  },
  {
   "cell_type": "code",
   "execution_count": 8,
   "id": "faa031ae",
   "metadata": {},
   "outputs": [
    {
     "data": {
      "text/plain": [
       "(400, 101)"
      ]
     },
     "execution_count": 8,
     "metadata": {},
     "output_type": "execute_result"
    }
   ],
   "source": [
    "from torch.utils.data import random_split\n",
    "\n",
    "train_ds, val_ds = random_split(dataset, [400, len(all_features)-400])\n",
    "\n",
    "len(train_ds), len(val_ds)"
   ]
  },
  {
   "cell_type": "code",
   "execution_count": 9,
   "id": "169d8f26",
   "metadata": {},
   "outputs": [],
   "source": [
    "batch_size = 32\n",
    "\n",
    "train_dl = DataLoader(train_ds, batch_size = batch_size, shuffle = True, num_workers = 2, pin_memory = True)\n",
    "val_dl = DataLoader(val_ds, batch_size = batch_size, num_workers = 2, pin_memory = True)"
   ]
  },
  {
   "cell_type": "code",
   "execution_count": 10,
   "id": "163571f6",
   "metadata": {},
   "outputs": [],
   "source": [
    "def get_default_device():\n",
    "    \"\"\"Pick GPU if available, else CPU\"\"\"\n",
    "    if torch.cuda.is_available():\n",
    "        return torch.device('cuda')\n",
    "    else:\n",
    "        return torch.device('cpu')\n",
    "    \n",
    "def to_device(data, device):\n",
    "    \"\"\"Move tensor(s) to chosen device\"\"\"\n",
    "    if isinstance(data, (list,tuple)):\n",
    "        return [to_device(x, device) for x in data]\n",
    "    return data.to(device, non_blocking=True)\n",
    "\n",
    "class DeviceDataLoader():\n",
    "    \"\"\"Wrap a dataloader to move data to a device\"\"\"\n",
    "    def __init__(self, dl, device):\n",
    "        self.dl = dl\n",
    "        self.device = device\n",
    "        \n",
    "    def __iter__(self):\n",
    "        \"\"\"Yield a batch of data after moving it to device\"\"\"\n",
    "        for b in self.dl: \n",
    "            yield to_device(b, self.device)\n",
    "\n",
    "    def __len__(self):\n",
    "        \"\"\"Number of batches\"\"\"\n",
    "        return len(self.dl)\n",
    "    \n",
    "device = get_default_device()    \n",
    "train_loader = DeviceDataLoader(train_dl, device)\n",
    "val_loader = DeviceDataLoader(val_dl, device)"
   ]
  },
  {
   "cell_type": "code",
   "execution_count": 11,
   "id": "38ced346",
   "metadata": {},
   "outputs": [],
   "source": [
    "import torch\n",
    "import torch.nn as nn\n",
    "import torch.nn.functional as F\n",
    "from torchvision.datasets import ImageFolder\n",
    "from torchvision import transforms\n",
    "from torchvision.utils import make_grid\n",
    "import torchvision.models as models\n",
    "import numpy as np # linear algebra\n",
    "import pandas as pd # data processing, CSV file I/O (e.g. pd.read_csv)\n",
    "import os\n",
    "import librosa\n",
    "import librosa.feature\n",
    "import librosa.display\n",
    "import glob\n",
    "from matplotlib import pyplot as plt"
   ]
  },
  {
   "cell_type": "code",
   "execution_count": 12,
   "id": "201fa5c5",
   "metadata": {},
   "outputs": [],
   "source": [
    "import sklearn.metrics\n",
    "def accuracy(outputs, labels):\n",
    "    #_, preds = torch.max(outputs, dim=1)\n",
    "    #return torch.tensor(torch.sum(preds == labels).item() / len(preds))\n",
    "    accuracy = sklearn.metrics.accuracy_score(labels, outputs.reshape((outputs.shape[0],)) > 0.5)\n",
    "    #print(accuracy)\n",
    "    return torch.tensor(accuracy, dtype=torch.float64)\n",
    "\n",
    "class SongClassificationBase(nn.Module):\n",
    "    \n",
    "    def training_step(self, batch):\n",
    "        #print(batch)\n",
    "        songs, labels = batch \n",
    "        self.train()\n",
    "        out = self(songs)                  # Generate predictions\n",
    "        #print(song.shape)\n",
    "        #print(out.reshape((out.shape[0],)), labels)\n",
    "        #print(out.reshape((out.shape[0],)), labels)\n",
    "        loss = F.binary_cross_entropy(out.reshape((out.shape[0],))  , labels.float()) # Calculate loss\n",
    "        acc = accuracy(out, labels)\n",
    "        return loss, acc\n",
    "    \n",
    "    def validation_step(self, batch):\n",
    "        songs, labels = batch\n",
    "        self.eval()\n",
    "        out = self(songs)                    # Generate predictions\n",
    "        #print(out.reshape((out.shape[0],)), labels)\n",
    "        loss = F.binary_cross_entropy(out.reshape((out.shape[0],)), labels.float())   # Calculate loss\n",
    "        acc = accuracy(out, labels)           # Calculate accuracy\n",
    "        return {'val_loss': loss.detach(), 'val_acc': acc}\n",
    "        \n",
    "    def validation_epoch_end(self, outputs):\n",
    "        batch_losses = [x['val_loss'] for x in outputs]\n",
    "        epoch_loss = torch.stack(batch_losses).mean()   # Combine losses\n",
    "        batch_accs = [x['val_acc'] for x in outputs]\n",
    "        #print(batch_accs)\n",
    "        epoch_acc = torch.stack(batch_accs).mean()      # Combine accuracies\n",
    "        return {'val_loss': epoch_loss.item(), 'val_acc': epoch_acc.item()}\n",
    "    \n",
    "    def epoch_end(self, epoch, result):\n",
    "        print(\"Epoch [{}], train_loss: {:.4f}, train_acc: {:.4f}, val_loss: {:.4f}, val_acc: {:.4f}\".format(\n",
    "            epoch, result['train_loss'], result['train_acc'], result['val_loss'], result['val_acc']))"
   ]
  },
  {
   "cell_type": "code",
   "execution_count": 13,
   "id": "fa3588c3",
   "metadata": {},
   "outputs": [],
   "source": [
    "@torch.no_grad()\n",
    "def evaluate(model, val_loader):\n",
    "    model.eval()\n",
    "    outputs = [model.validation_step(batch) for batch in val_loader]\n",
    "    return model.validation_epoch_end(outputs)\n",
    "\n",
    "def get_lr(optimizer):\n",
    "    for param_group in optimizer.param_groups:\n",
    "        return param_group['lr']\n",
    "\n",
    "def fit_one_cycle(epochs, max_lr, model, train_loader, val_loader, \n",
    "                  weight_decay=0, grad_clip=None, opt_func=torch.optim.Adam):\n",
    "    torch.cuda.empty_cache()\n",
    "    history = []\n",
    "    \n",
    "    # Set up cutom optimizer with weight decay\n",
    "    optimizer = opt_func(model.parameters(), max_lr, weight_decay=weight_decay)\n",
    "    # Set up one-cycle learning rate scheduler\n",
    "    sched = torch.optim.lr_scheduler.OneCycleLR(optimizer, max_lr, epochs=epochs, \n",
    "                                                steps_per_epoch=len(train_loader))\n",
    "    for epoch in range(epochs):\n",
    "        # Training Phase \n",
    "        model.train()\n",
    "        train_losses = []\n",
    "        train_acc = []\n",
    "        lrs = []\n",
    "        for batch in train_loader:\n",
    "            loss, acc = model.training_step(batch)\n",
    "            train_losses.append(loss)\n",
    "            train_acc.append(acc)\n",
    "            loss.backward()\n",
    "            \n",
    "            # Gradient clipping\n",
    "            if grad_clip: \n",
    "                nn.utils.clip_grad_value_(model.parameters(), grad_clip)\n",
    "            \n",
    "            optimizer.step()\n",
    "            optimizer.zero_grad()\n",
    "            \n",
    "            # Record & update learning rate\n",
    "            lrs.append(get_lr(optimizer))\n",
    "            sched.step()\n",
    "        \n",
    "        # Validation phase\n",
    "        result = evaluate(model, val_loader)\n",
    "        result['train_loss'] = torch.stack(train_losses).mean().item()\n",
    "        result['train_acc'] = torch.stack(train_acc).mean().item()\n",
    "        result['lrs'] = lrs\n",
    "        model.epoch_end(epoch, result)\n",
    "        history.append(result)\n",
    "    return history"
   ]
  },
  {
   "cell_type": "code",
   "execution_count": 14,
   "id": "4a5bbe6f",
   "metadata": {},
   "outputs": [],
   "source": [
    "class FNN(SongClassificationBase):\n",
    "    \n",
    "    def __init__(self):\n",
    "        super().__init__()\n",
    "        self.model = nn.Sequential(\n",
    "            nn.Linear(17088, 5120),\n",
    "            nn.ReLU(),\n",
    "            nn.Dropout(0.2),\n",
    "            nn.Linear(5120, 1024),\n",
    "            nn.ReLU(),\n",
    "            nn.Dropout(0.2),\n",
    "            nn.Linear(1024, 512),\n",
    "            nn.ReLU(),\n",
    "            nn.Dropout(0.2),\n",
    "            nn.Linear(512, 64),\n",
    "            nn.ReLU(),\n",
    "            nn.Dropout(0.2),\n",
    "            nn.Linear(64, 1)\n",
    "        )\n",
    "        \n",
    "    \n",
    "    def forward(self, xb):\n",
    "        out = self.model(xb)\n",
    "        return torch.sigmoid(out)"
   ]
  },
  {
   "cell_type": "code",
   "execution_count": 239,
   "id": "d631fe47",
   "metadata": {},
   "outputs": [
    {
     "name": "stdout",
     "output_type": "stream",
     "text": [
      "----------------------------------------------------------------\n",
      "        Layer (type)               Output Shape         Param #\n",
      "================================================================\n",
      "            Linear-1            [32, 160, 5120]      87,495,680\n",
      "              ReLU-2            [32, 160, 5120]               0\n",
      "           Dropout-3            [32, 160, 5120]               0\n",
      "            Linear-4            [32, 160, 1024]       5,243,904\n",
      "              ReLU-5            [32, 160, 1024]               0\n",
      "           Dropout-6            [32, 160, 1024]               0\n",
      "            Linear-7             [32, 160, 512]         524,800\n",
      "              ReLU-8             [32, 160, 512]               0\n",
      "           Dropout-9             [32, 160, 512]               0\n",
      "           Linear-10              [32, 160, 64]          32,832\n",
      "             ReLU-11              [32, 160, 64]               0\n",
      "          Dropout-12              [32, 160, 64]               0\n",
      "           Linear-13               [32, 160, 1]              65\n",
      "================================================================\n",
      "Total params: 93,297,281\n",
      "Trainable params: 93,297,281\n",
      "Non-trainable params: 0\n",
      "----------------------------------------------------------------\n",
      "Input size (MB): 333.75\n",
      "Forward/backward pass size (MB): 787.54\n",
      "Params size (MB): 355.90\n",
      "Estimated Total Size (MB): 1477.19\n",
      "----------------------------------------------------------------\n"
     ]
    }
   ],
   "source": [
    "from torchsummary.torchsummary import summary\n",
    "\n",
    "summary(model1, (160,17088), batch_size=32, device='cuda')"
   ]
  },
  {
   "cell_type": "code",
   "execution_count": 15,
   "id": "4b97ea71",
   "metadata": {},
   "outputs": [],
   "source": [
    "epochs = 50\n",
    "max_lr = 3e-4\n",
    "opt_func = torch.optim.Adam\n",
    "grad_clip = 1e-2\n",
    "weight_decay = 1e-4\n",
    "model1 = to_device(FNN(), device)"
   ]
  },
  {
   "cell_type": "code",
   "execution_count": 16,
   "id": "bc90f329",
   "metadata": {},
   "outputs": [
    {
     "name": "stdout",
     "output_type": "stream",
     "text": [
      "Epoch [0], train_loss: 0.7081, train_acc: 0.2933, val_loss: 0.7026, val_acc: 0.3641\n",
      "Epoch [1], train_loss: 0.7067, train_acc: 0.2885, val_loss: 0.7010, val_acc: 0.3641\n",
      "Epoch [2], train_loss: 0.7028, train_acc: 0.2885, val_loss: 0.6974, val_acc: 0.3641\n",
      "Epoch [3], train_loss: 0.6943, train_acc: 0.4471, val_loss: 0.6873, val_acc: 0.6359\n",
      "Epoch [4], train_loss: 0.6577, train_acc: 0.7043, val_loss: 0.6573, val_acc: 0.6359\n",
      "Epoch [5], train_loss: 0.6097, train_acc: 0.7139, val_loss: 0.6736, val_acc: 0.6359\n",
      "Epoch [6], train_loss: 0.5871, train_acc: 0.7139, val_loss: 0.6428, val_acc: 0.6359\n",
      "Epoch [7], train_loss: 0.5777, train_acc: 0.6995, val_loss: 0.6118, val_acc: 0.6359\n",
      "Epoch [8], train_loss: 0.5345, train_acc: 0.7067, val_loss: 0.6012, val_acc: 0.6359\n",
      "Epoch [9], train_loss: 0.4745, train_acc: 0.7716, val_loss: 0.5184, val_acc: 0.7703\n",
      "Epoch [10], train_loss: 0.4511, train_acc: 0.7740, val_loss: 0.4840, val_acc: 0.7469\n",
      "Epoch [11], train_loss: 0.3778, train_acc: 0.8365, val_loss: 0.4440, val_acc: 0.8203\n",
      "Epoch [12], train_loss: 0.3506, train_acc: 0.8413, val_loss: 0.4788, val_acc: 0.7500\n",
      "Epoch [13], train_loss: 0.3024, train_acc: 0.8678, val_loss: 0.4366, val_acc: 0.8172\n",
      "Epoch [14], train_loss: 0.2608, train_acc: 0.8990, val_loss: 0.4228, val_acc: 0.8125\n",
      "Epoch [15], train_loss: 0.2226, train_acc: 0.8966, val_loss: 0.5033, val_acc: 0.7750\n",
      "Epoch [16], train_loss: 0.2276, train_acc: 0.8990, val_loss: 0.4361, val_acc: 0.8203\n",
      "Epoch [17], train_loss: 0.3055, train_acc: 0.8558, val_loss: 0.3861, val_acc: 0.8281\n",
      "Epoch [18], train_loss: 0.1918, train_acc: 0.9231, val_loss: 0.3947, val_acc: 0.8438\n",
      "Epoch [19], train_loss: 0.1689, train_acc: 0.9351, val_loss: 0.5553, val_acc: 0.7672\n",
      "Epoch [20], train_loss: 0.1670, train_acc: 0.9303, val_loss: 0.5407, val_acc: 0.7734\n",
      "Epoch [21], train_loss: 0.2084, train_acc: 0.9135, val_loss: 0.5836, val_acc: 0.7516\n",
      "Epoch [22], train_loss: 0.1337, train_acc: 0.9471, val_loss: 0.4752, val_acc: 0.8125\n",
      "Epoch [23], train_loss: 0.1483, train_acc: 0.9471, val_loss: 0.5090, val_acc: 0.8359\n",
      "Epoch [24], train_loss: 0.1030, train_acc: 0.9688, val_loss: 0.5254, val_acc: 0.7859\n",
      "Epoch [25], train_loss: 0.0898, train_acc: 0.9712, val_loss: 0.5600, val_acc: 0.8016\n",
      "Epoch [26], train_loss: 0.0911, train_acc: 0.9688, val_loss: 0.7145, val_acc: 0.7438\n",
      "Epoch [27], train_loss: 0.0766, train_acc: 0.9760, val_loss: 0.5914, val_acc: 0.8438\n",
      "Epoch [28], train_loss: 0.0699, train_acc: 0.9784, val_loss: 0.6548, val_acc: 0.7359\n",
      "Epoch [29], train_loss: 0.0911, train_acc: 0.9712, val_loss: 0.6161, val_acc: 0.8359\n",
      "Epoch [30], train_loss: 0.0999, train_acc: 0.9639, val_loss: 0.6148, val_acc: 0.8125\n",
      "Epoch [31], train_loss: 0.0717, train_acc: 0.9760, val_loss: 0.5621, val_acc: 0.7937\n",
      "Epoch [32], train_loss: 0.0414, train_acc: 0.9904, val_loss: 0.6013, val_acc: 0.7859\n",
      "Epoch [33], train_loss: 0.0425, train_acc: 0.9856, val_loss: 0.6215, val_acc: 0.8359\n",
      "Epoch [34], train_loss: 0.0457, train_acc: 0.9832, val_loss: 0.6755, val_acc: 0.7937\n",
      "Epoch [35], train_loss: 0.0345, train_acc: 0.9904, val_loss: 0.6641, val_acc: 0.7859\n",
      "Epoch [36], train_loss: 0.0262, train_acc: 0.9928, val_loss: 0.7782, val_acc: 0.7672\n",
      "Epoch [37], train_loss: 0.0322, train_acc: 0.9928, val_loss: 0.6894, val_acc: 0.7937\n",
      "Epoch [38], train_loss: 0.0267, train_acc: 0.9928, val_loss: 0.6757, val_acc: 0.7937\n",
      "Epoch [39], train_loss: 0.0231, train_acc: 0.9952, val_loss: 0.6909, val_acc: 0.7937\n",
      "Epoch [40], train_loss: 0.0240, train_acc: 0.9952, val_loss: 0.6863, val_acc: 0.7937\n",
      "Epoch [41], train_loss: 0.0250, train_acc: 0.9952, val_loss: 0.7113, val_acc: 0.8016\n",
      "Epoch [42], train_loss: 0.0244, train_acc: 0.9952, val_loss: 0.6689, val_acc: 0.8438\n",
      "Epoch [43], train_loss: 0.0208, train_acc: 0.9952, val_loss: 0.6835, val_acc: 0.7937\n",
      "Epoch [44], train_loss: 0.0216, train_acc: 0.9952, val_loss: 0.7299, val_acc: 0.8016\n",
      "Epoch [45], train_loss: 0.0218, train_acc: 0.9952, val_loss: 0.7319, val_acc: 0.8016\n",
      "Epoch [46], train_loss: 0.0186, train_acc: 0.9952, val_loss: 0.7183, val_acc: 0.8016\n",
      "Epoch [47], train_loss: 0.0161, train_acc: 0.9952, val_loss: 0.7169, val_acc: 0.8016\n",
      "Epoch [48], train_loss: 0.0214, train_acc: 0.9952, val_loss: 0.7172, val_acc: 0.8016\n",
      "Epoch [49], train_loss: 0.0188, train_acc: 0.9952, val_loss: 0.7168, val_acc: 0.8016\n"
     ]
    }
   ],
   "source": [
    "history1 = []\n",
    "history1 += fit_one_cycle(epochs, max_lr, model1, train_loader, val_loader, \n",
    "                             grad_clip=grad_clip, \n",
    "                             weight_decay=weight_decay, \n",
    "                             opt_func=opt_func)"
   ]
  },
  {
   "cell_type": "code",
   "execution_count": 19,
   "id": "6a693399",
   "metadata": {},
   "outputs": [
    {
     "data": {
      "image/png": "[encoded data removed]",
      "text/plain": [
       "<Figure size 720x360 with 1 Axes>"
      ]
     },
     "metadata": {
      "needs_background": "light"
     },
     "output_type": "display_data"
    }
   ],
   "source": [
    "import matplotlib.pyplot as plt\n",
    "\n",
    "val_acc = []\n",
    "train_acc = []\n",
    "for detail in history1:\n",
    "    train_acc.append(detail['train_loss'])\n",
    "    val_acc.append(detail['val_loss'])\n",
    "\n",
    "plt.figure(figsize=(10,5))\n",
    "#plt.title(\"Training and Validation Accuracy\")\n",
    "plt.plot(val_acc,label=\"val\")\n",
    "plt.plot(train_acc,label=\"train\")\n",
    "plt.xlabel(\"Iterations\", size=15)\n",
    "plt.ylabel(\"Loss\", size=15)\n",
    "plt.rc('xtick', labelsize=15) \n",
    "plt.rc('ytick', labelsize=15) \n",
    "plt.legend()\n",
    "plt.show()\n",
    "#plt.savefig('FC_curve.png')\n",
    "\n"
   ]
  },
  {
   "cell_type": "code",
   "execution_count": 18,
   "id": "c41f95cb",
   "metadata": {},
   "outputs": [
    {
     "data": {
      "image/png": "[encoded data removed]",
      "text/plain": [
       "<Figure size 720x360 with 1 Axes>"
      ]
     },
     "metadata": {
      "needs_background": "light"
     },
     "output_type": "display_data"
    }
   ],
   "source": [
    "import matplotlib.pyplot as plt\n",
    "\n",
    "val_acc = []\n",
    "train_acc = []\n",
    "for detail in history1:\n",
    "    train_acc.append(detail['train_acc'])\n",
    "    val_acc.append(detail['val_acc'])\n",
    "\n",
    "plt.figure(figsize=(10,5))\n",
    "#plt.title(\"Training and Validation Accuracy\")\n",
    "plt.plot(val_acc,label=\"val\")\n",
    "plt.plot(train_acc,label=\"train\")\n",
    "plt.xlabel(\"Iterations\", size=15)\n",
    "plt.ylabel(\"Accuracy\", size=15)\n",
    "plt.rc('xtick', labelsize=15) \n",
    "plt.rc('ytick', labelsize=15) \n",
    "plt.legend()\n",
    "plt.show()\n",
    "#plt.savefig('FC_curve.png')\n",
    "\n"
   ]
  },
  {
   "cell_type": "code",
   "execution_count": 178,
   "id": "714ba99c",
   "metadata": {},
   "outputs": [
    {
     "data": {
      "text/plain": [
       "[{'val_loss': 0.7112954258918762,\n",
       "  'val_acc': 0.26666666666666666,\n",
       "  'train_loss': 0.7168548703193665,\n",
       "  'train_acc': 0.25769927536231885,\n",
       "  'lrs': [0.00011999999999999988,\n",
       "   0.0001236689549612346,\n",
       "   0.00013465712369145665]},\n",
       " {'val_loss': 0.7001469731330872,\n",
       "  'val_acc': 0.26666666666666666,\n",
       "  'train_loss': 0.7088065147399902,\n",
       "  'train_acc': 0.24547101449275363,\n",
       "  'lrs': [0.00015290851300153036,\n",
       "   0.00017833011799512364,\n",
       "   0.00021079239600034277]},\n",
       " {'val_loss': 0.6669110655784607,\n",
       "  'val_acc': 0.7333333333333333,\n",
       "  'train_loss': 0.6943021416664124,\n",
       "  'train_acc': 0.39855072463768115,\n",
       "  'lrs': [0.00025012992668949335,\n",
       "   0.0002961422550231516,\n",
       "   0.00034859491272309917]},\n",
       " {'val_loss': 0.5848948359489441,\n",
       "  'val_acc': 0.7333333333333333,\n",
       "  'train_loss': 0.6177797913551331,\n",
       "  'train_acc': 0.7586050724637681,\n",
       "  'lrs': [0.00040722061306892095,\n",
       "   0.000471720612929868,\n",
       "   0.0005417662350913717]},\n",
       " {'val_loss': 0.6800726652145386,\n",
       "  'val_acc': 0.7333333333333333,\n",
       "  'train_loss': 0.5547237396240234,\n",
       "  'train_acc': 0.7463768115942028,\n",
       "  'lrs': [0.000617000543118789, 0.0006970401602236606, 0.0007814772228639391]},\n",
       " {'val_loss': 0.5973929762840271,\n",
       "  'val_acc': 0.7333333333333333,\n",
       "  'train_loss': 0.5759963393211365,\n",
       "  'train_acc': 0.7545289855072465,\n",
       "  'lrs': [0.0008698814591231179, 0.0009618023812772835, 0.001056771581377298]},\n",
       " {'val_loss': 0.611358642578125,\n",
       "  'val_acc': 0.7333333333333333,\n",
       "  'train_loss': 0.5220520496368408,\n",
       "  'train_acc': 0.7463768115942028,\n",
       "  'lrs': [0.0011543051181483412,\n",
       "   0.0012539059830437137,\n",
       "   0.0013550666328864692]},\n",
       " {'val_loss': 0.7561668157577515,\n",
       "  'val_acc': 0.7333333333333333,\n",
       "  'train_loss': 0.46578946709632874,\n",
       "  'train_acc': 0.7463768115942028,\n",
       "  'lrs': [0.0014572715761931056, 0.00156, 0.0016627284238068943]},\n",
       " {'val_loss': 1.1360936164855957,\n",
       "  'val_acc': 0.7333333333333333,\n",
       "  'train_loss': 0.3801758289337158,\n",
       "  'train_acc': 0.8251811594202899,\n",
       "  'lrs': [0.0017649333671135305, 0.0018660940169562864, 0.001965694881851659]},\n",
       " {'val_loss': 1.2775242328643799,\n",
       "  'val_acc': 0.5666666666666667,\n",
       "  'train_loss': 0.2812342941761017,\n",
       "  'train_acc': 0.8668478260869565,\n",
       "  'lrs': [0.0020632284186227015, 0.0021581976187227164, 0.002250118540876881]},\n",
       " {'val_loss': 1.0709481239318848,\n",
       "  'val_acc': 0.5,\n",
       "  'train_loss': 0.3337039053440094,\n",
       "  'train_acc': 0.8795289855072465,\n",
       "  'lrs': [0.00233852277713606, 0.0024229598397763398, 0.0025029994568812105]},\n",
       " {'val_loss': 1.231692910194397,\n",
       "  'val_acc': 0.6333333333333333,\n",
       "  'train_loss': 0.40803730487823486,\n",
       "  'train_acc': 0.833786231884058,\n",
       "  'lrs': [0.0025782337649086283, 0.002648279387070132, 0.002712779386931079]},\n",
       " {'val_loss': 1.7213448286056519,\n",
       "  'val_acc': 0.7333333333333333,\n",
       "  'train_loss': 0.23022592067718506,\n",
       "  'train_acc': 0.8899456521739131,\n",
       "  'lrs': [0.002771405087276901, 0.0028238577449768484, 0.0028698700733105066]},\n",
       " {'val_loss': 1.1843006610870361,\n",
       "  'val_acc': 0.6,\n",
       "  'train_loss': 0.26923882961273193,\n",
       "  'train_acc': 0.8605072463768115,\n",
       "  'lrs': [0.0029092076039996567,\n",
       "   0.0029416698820048763,\n",
       "   0.0029670914869984696]},\n",
       " {'val_loss': 5.729151725769043,\n",
       "  'val_acc': 0.5,\n",
       "  'train_loss': 0.10537267476320267,\n",
       "  'train_acc': 0.9605978260869565,\n",
       "  'lrs': [0.0029853428763085433, 0.0029963310450387653, 0.003]},\n",
       " {'val_loss': 5.394067287445068,\n",
       "  'val_acc': 0.7333333333333333,\n",
       "  'train_loss': 1.1192586421966553,\n",
       "  'train_acc': 0.8129528985507246,\n",
       "  'lrs': [0.0029993286511106614, 0.002997315205390824, 0.0029939614651470947]},\n",
       " {'val_loss': 0.6787512302398682,\n",
       "  'val_acc': 0.5333333333333333,\n",
       "  'train_loss': 0.5049809217453003,\n",
       "  'train_acc': 0.7903079710144928,\n",
       "  'lrs': [0.002989270432431198, 0.0029832463063527354, 0.002975894479320413]},\n",
       " {'val_loss': 1.0620520114898682,\n",
       "  'val_acc': 0.7666666666666667,\n",
       "  'train_loss': 0.3836776316165924,\n",
       "  'train_acc': 0.7776268115942028,\n",
       "  'lrs': [0.0029672215322151044, 0.002957235228499071, 0.0029459445072666157]},\n",
       " {'val_loss': 1.5405995845794678,\n",
       "  'val_acc': 0.7333333333333333,\n",
       "  'train_loss': 0.22030353546142578,\n",
       "  'train_acc': 0.8940217391304347,\n",
       "  'lrs': [0.0029333594752423767, 0.0029194913977344437, 0.002904352688550382]},\n",
       " {'val_loss': 1.7664320468902588,\n",
       "  'val_acc': 0.6666666666666666,\n",
       "  'train_loss': 0.09448453038930893,\n",
       "  'train_acc': 0.9583333333333334,\n",
       "  'lrs': [0.002887956898885192, 0.002870318705191155, 0.002851453896040421]},\n",
       " {'val_loss': 7.855562210083008,\n",
       "  'val_acc': 0.6666666666666666,\n",
       "  'train_loss': 0.05588270723819733,\n",
       "  'train_acc': 0.96875,\n",
       "  'lrs': [0.0028313793579920975, 0.002810113060476491, 0.0027876740397100377]},\n",
       " {'val_loss': 8.214150428771973,\n",
       "  'val_acc': 0.6666666666666666,\n",
       "  'train_loss': 0.021581722423434258,\n",
       "  'train_acc': 0.9895833333333334,\n",
       "  'lrs': [0.002764082381655307, 0.0027393592040413466, 0.002713526637460455]},\n",
       " {'val_loss': 8.778196334838867,\n",
       "  'val_acc': 0.6,\n",
       "  'train_loss': 0.011967364698648453,\n",
       "  'train_acc': 0.9895833333333334,\n",
       "  'lrs': [0.0026866078055583042, 0.002658626804335144, 0.0026296086805766205]},\n",
       " {'val_loss': 11.384780883789062,\n",
       "  'val_acc': 0.7333333333333333,\n",
       "  'train_loss': 0.08617991209030151,\n",
       "  'train_acc': 0.9750905797101449,\n",
       "  'lrs': [0.0025995794094335082, 0.002568565871170436, 0.002536595827104403]},\n",
       " {'val_loss': 7.93899393081665,\n",
       "  'val_acc': 0.6333333333333333,\n",
       "  'train_loss': 0.18775665760040283,\n",
       "  'train_acc': 0.9397644927536232,\n",
       "  'lrs': [0.0025036978947546493,\n",
       "   0.0024699015222260923,\n",
       "   0.0024352369618492894]},\n",
       " {'val_loss': 10.895498275756836,\n",
       "  'val_acc': 0.7333333333333333,\n",
       "  'train_loss': 0.08952492475509644,\n",
       "  'train_acc': 0.9565217391304347,\n",
       "  'lrs': [0.0023997352431005025,\n",
       "   0.0023634281448261163,\n",
       "   0.0023263481667962654]},\n",
       " {'val_loss': 7.749583721160889,\n",
       "  'val_acc': 0.5333333333333333,\n",
       "  'train_loss': 0.0470866821706295,\n",
       "  'train_acc': 1.0,\n",
       "  'lrs': [0.002288528500613138, 0.002250003, 0.0022108061504975234]},\n",
       " {'val_loss': 7.819028377532959,\n",
       "  'val_acc': 0.6333333333333333,\n",
       "  'train_loss': 0.04910321161150932,\n",
       "  'train_acc': 0.96875,\n",
       "  'lrs': [0.002170973038594559, 0.0021305393203209784, 0.0020895411893306955]},\n",
       " {'val_loss': 10.90986442565918,\n",
       "  'val_acc': 0.7666666666666667,\n",
       "  'train_loss': 0.006148533895611763,\n",
       "  'train_acc': 1.0,\n",
       "  'lrs': [0.002048015344503447, 0.002005998957094321, 0.001963529637460455]},\n",
       " {'val_loss': 11.170662879943848,\n",
       "  'val_acc': 0.7666666666666667,\n",
       "  'train_loss': 0.0070818327367305756,\n",
       "  'train_acc': 1.0,\n",
       "  'lrs': [0.0019206454013946683,\n",
       "   0.0018773846360961802,\n",
       "   0.0018337860658088677]},\n",
       " {'val_loss': 11.482202529907227,\n",
       "  'val_acc': 0.7,\n",
       "  'train_loss': 0.0013440846232697368,\n",
       "  'train_acc': 1.0,\n",
       "  'lrs': [0.001789888717157823, 0.0017457318842152379, 0.0017013550933268882]},\n",
       " {'val_loss': 12.12277603149414,\n",
       "  'val_acc': 0.6666666666666666,\n",
       "  'train_loss': 5.3419626055983827e-05,\n",
       "  'train_acc': 1.0,\n",
       "  'lrs': [0.0016567980677307005, 0.001612100691999075, 0.0015673029763367903]},\n",
       " {'val_loss': 12.462665557861328,\n",
       "  'val_acc': 0.6666666666666666,\n",
       "  'train_loss': 0.0001563920668559149,\n",
       "  'train_acc': 1.0,\n",
       "  'lrs': [0.0015224450207664533, 0.001477566979233547, 0.0014327090236632102]},\n",
       " {'val_loss': 12.58340835571289,\n",
       "  'val_acc': 0.6666666666666666,\n",
       "  'train_loss': 0.00010976370685966685,\n",
       "  'train_acc': 1.0,\n",
       "  'lrs': [0.001387911308000925, 0.0013432139322692995, 0.001298656906673112]},\n",
       " {'val_loss': 12.62308120727539,\n",
       "  'val_acc': 0.6666666666666666,\n",
       "  'train_loss': 6.888907228130847e-05,\n",
       "  'train_acc': 1.0,\n",
       "  'lrs': [0.001254280115784762, 0.001210123282842177, 0.0011662259341911321]},\n",
       " {'val_loss': 12.622557640075684,\n",
       "  'val_acc': 0.6666666666666666,\n",
       "  'train_loss': 4.130744491703808e-05,\n",
       "  'train_acc': 1.0,\n",
       "  'lrs': [0.0011226273639038196, 0.0010793665986053318, 0.001036482362539545]},\n",
       " {'val_loss': 12.601725578308105,\n",
       "  'val_acc': 0.6666666666666666,\n",
       "  'train_loss': 2.7856551241711713e-05,\n",
       "  'train_acc': 1.0,\n",
       "  'lrs': [0.0009940130429056794,\n",
       "   0.0009519966554965536,\n",
       "   0.0009104708106693045]},\n",
       " {'val_loss': 12.571269989013672,\n",
       "  'val_acc': 0.6666666666666666,\n",
       "  'train_loss': 2.1009946067351848e-05,\n",
       "  'train_acc': 1.0,\n",
       "  'lrs': [0.0008694726796790218,\n",
       "   0.0008290389614054408,\n",
       "   0.0007892058495024768]},\n",
       " {'val_loss': 12.5403470993042,\n",
       "  'val_acc': 0.6666666666666666,\n",
       "  'train_loss': 2.4135015337378718e-05,\n",
       "  'train_acc': 1.0,\n",
       "  'lrs': [0.0007500090000000003, 0.0007114834993868616, 0.000673663833203735]},\n",
       " {'val_loss': 12.510392189025879,\n",
       "  'val_acc': 0.6666666666666666,\n",
       "  'train_loss': 1.7737862435751595e-05,\n",
       "  'train_acc': 1.0,\n",
       "  'lrs': [0.000636583855173884, 0.0006002767568994976, 0.0005647750381507109]},\n",
       " {'val_loss': 12.48402214050293,\n",
       "  'val_acc': 0.6666666666666666,\n",
       "  'train_loss': 2.2508835172629915e-05,\n",
       "  'train_acc': 1.0,\n",
       "  'lrs': [0.000530110477773908,\n",
       "   0.0004963141052453513,\n",
       "   0.00046341617289559695]},\n",
       " {'val_loss': 12.461013793945312,\n",
       "  'val_acc': 0.6666666666666666,\n",
       "  'train_loss': 1.7692082110443152e-05,\n",
       "  'train_acc': 1.0,\n",
       "  'lrs': [0.0004314461288295648,\n",
       "   0.0004004325905664918,\n",
       "   0.0003704033194233797]},\n",
       " {'val_loss': 12.438797950744629,\n",
       "  'val_acc': 0.6666666666666666,\n",
       "  'train_loss': 1.7682599718682468e-05,\n",
       "  'train_acc': 1.0,\n",
       "  'lrs': [0.00034138519566485626,\n",
       "   0.00031340419444169645,\n",
       "   0.00028648536253954527]},\n",
       " {'val_loss': 12.42415714263916,\n",
       "  'val_acc': 0.6666666666666666,\n",
       "  'train_loss': 1.810812136682216e-05,\n",
       "  'train_acc': 1.0,\n",
       "  'lrs': [0.0002606527959586539,\n",
       "   0.00023592961834469314,\n",
       "   0.00021233796028996245]},\n",
       " {'val_loss': 12.41349983215332,\n",
       "  'val_acc': 0.6666666666666666,\n",
       "  'train_loss': 1.8352920960751362e-05,\n",
       "  'train_acc': 1.0,\n",
       "  'lrs': [0.00018989893952350923,\n",
       "   0.0001686326420079029,\n",
       "   0.00014855810395957884]},\n",
       " {'val_loss': 12.406229019165039,\n",
       "  'val_acc': 0.6666666666666666,\n",
       "  'train_loss': 1.842569326981902e-05,\n",
       "  'train_acc': 1.0,\n",
       "  'lrs': [0.0001296932948088444,\n",
       "   0.0001120551011148078,\n",
       "   9.565931144961802e-05]},\n",
       " {'val_loss': 12.401782035827637,\n",
       "  'val_acc': 0.6666666666666666,\n",
       "  'train_loss': 1.8708393326960504e-05,\n",
       "  'train_acc': 1.0,\n",
       "  'lrs': [8.05206022655564e-05, 6.665252475762353e-05, 5.406749273338431e-05]},\n",
       " {'val_loss': 12.399489402770996,\n",
       "  'val_acc': 0.6666666666666666,\n",
       "  'train_loss': 1.869260631792713e-05,\n",
       "  'train_acc': 1.0,\n",
       "  'lrs': [4.277677150092849e-05,\n",
       "   3.2790467784895864e-05,\n",
       "   2.411752067958709e-05]},\n",
       " {'val_loss': 12.398699760437012,\n",
       "  'val_acc': 0.6666666666666666,\n",
       "  'train_loss': 1.8308353901375085e-05,\n",
       "  'train_acc': 1.0,\n",
       "  'lrs': [1.6765693647264565e-05,\n",
       "   1.0741567568802018e-05,\n",
       "   6.050534852905369e-06]},\n",
       " {'val_loss': 12.398625373840332,\n",
       "  'val_acc': 0.6666666666666666,\n",
       "  'train_loss': 2.4081498850136995e-05,\n",
       "  'train_acc': 1.0,\n",
       "  'lrs': [2.696794609175874e-06, 6.83348889338717e-07, 1.2e-08]}]"
      ]
     },
     "execution_count": 178,
     "metadata": {},
     "output_type": "execute_result"
    }
   ],
   "source": [
    "history1"
   ]
  },
  {
   "cell_type": "code",
   "execution_count": 42,
   "id": "2d82cbb3",
   "metadata": {},
   "outputs": [],
   "source": [
    "import sklearn.metrics"
   ]
  },
  {
   "cell_type": "code",
   "execution_count": 108,
   "id": "800e7f88",
   "metadata": {},
   "outputs": [
    {
     "name": "stdout",
     "output_type": "stream",
     "text": [
      "[[17  8]\n",
      " [12 64]]\n"
     ]
    }
   ],
   "source": [
    "val_dl = DataLoader(val_ds, batch_size = 120, num_workers = 2, pin_memory = True)\n",
    "val_loader = DeviceDataLoader(val_dl, device)\n",
    "for state in val_loader:    \n",
    "    #print(state[0].shape)\n",
    "    pred = model1(state[0]).detach().numpy()\n",
    "    cm=sklearn.metrics.confusion_matrix(state[1],pred > 0.5)\n",
    "    print(cm)\n",
    "#plt.imshow(cm, cmap='binary')"
   ]
  },
  {
   "cell_type": "code",
   "execution_count": 113,
   "id": "46a5f2bf",
   "metadata": {},
   "outputs": [
    {
     "name": "stdout",
     "output_type": "stream",
     "text": [
      "[[117   0]\n",
      " [  2 281]]\n"
     ]
    }
   ],
   "source": [
    "train_dl_ = DataLoader(train_ds, batch_size = 600, num_workers = 2, pin_memory = True)\n",
    "train_loader_ = DeviceDataLoader(train_dl_, device)\n",
    "for state in train_loader_:    \n",
    "    #print(state[0].shape)\n",
    "    pred = model1(state[0]).detach().numpy()\n",
    "    cm=sklearn.metrics.confusion_matrix(state[1],pred > 0.5)\n",
    "    print(cm)\n",
    "#plt.imshow(cm, cmap='binary')"
   ]
  },
  {
   "cell_type": "code",
   "execution_count": 114,
   "id": "c5fc8349",
   "metadata": {},
   "outputs": [],
   "source": [
    "wrong_sample = []\n",
    "for sample, prediction, label in zip(state[0], pred, state[1]):\n",
    "    if (prediction[0]>0.5) != label.item():\n",
    "        wrong_sample.append((sample, prediction[0]))"
   ]
  },
  {
   "cell_type": "code",
   "execution_count": 62,
   "id": "1b235c2f",
   "metadata": {},
   "outputs": [
    {
     "data": {
      "text/plain": [
       "[tensor([0.0098, 0.1748, 0.3820,  ..., 0.0323, 0.1077, 0.1514]),\n",
       " tensor([0.0236, 0.2540, 0.3357,  ..., 0.0138, 0.0580, 0.1148])]"
      ]
     },
     "execution_count": 62,
     "metadata": {},
     "output_type": "execute_result"
    }
   ],
   "source": [
    "wrong_sample"
   ]
  },
  {
   "cell_type": "code",
   "execution_count": 115,
   "id": "e57ee124",
   "metadata": {},
   "outputs": [],
   "source": [
    "wrong_prog = []\n",
    "wrong_nonprog = []\n",
    "for sample, prediction in wrong_sample:\n",
    "    for index, feature in enumerate(all_features):\n",
    "        check = True\n",
    "        for i in range(feature.shape[0]):\n",
    "            if abs(feature[i] - sample[i]) >= 0.000001:\n",
    "                check = False\n",
    "                break\n",
    "        if check:\n",
    "            if song_names[index][13] == 'P':\n",
    "                wrong_prog.append((song_names[index], prediction))\n",
    "                #print(prediction)\n",
    "            else:\n",
    "                wrong_nonprog.append((song_names[index], 1-prediction))\n",
    "                #print(1-prediction)\n",
    "            #print(song_names[index])"
   ]
  },
  {
   "cell_type": "code",
   "execution_count": 74,
   "id": "10568661",
   "metadata": {},
   "outputs": [
    {
     "data": {
      "text/plain": [
       "[('Prog_Dataset/Non_Progressive/Other_Songs/Cranberries - 04 - Zombie.mp3',\n",
       "  0.9936984102241695),\n",
       " ('Prog_Dataset/Non_Progressive/Other_Songs/11 - Lonely People.mp3',\n",
       "  0.7633778303861618),\n",
       " ('Prog_Dataset/Non_Progressive/Other_Songs/03 - No Doubt - Just a Girl.mp3',\n",
       "  0.8436512500047684),\n",
       " ('Prog_Dataset/Non_Progressive/Other_Songs/06 - Sigur Rós - Sæglópur.mp3',\n",
       "  0.6778866946697235),\n",
       " ('Prog_Dataset/Non_Progressive/Other_Songs/02 Aja.mp3', 0.9940750706009567),\n",
       " ('Prog_Dataset/Non_Progressive/Other_Songs/10 The Thrill Is Gone.mp3',\n",
       "  0.8025485128164291),\n",
       " ('Prog_Dataset/Non_Progressive/Other_Songs/05-shock_the_monkey_320_lame_cbr.mp3',\n",
       "  0.9573304168879986),\n",
       " ('Prog_Dataset/Non_Progressive/Other_Songs/Bad_Bunny_Si_Veo_A_Tu_Mama.mp3',\n",
       "  0.9898659819737077),\n",
       " ('Prog_Dataset/Non_Progressive/Top_Of_The_Pops/1996_Alanis_Morissette_Ironic.mp3',\n",
       "  0.9918111525475979),\n",
       " ('Prog_Dataset/Non_Progressive/Other_Songs/03-House Of The Rising Sun.mp3',\n",
       "  0.9438552856445312),\n",
       " ('Prog_Dataset/Non_Progressive/Top_Of_The_Pops/1976_Eagles_Hotel_California.mp3',\n",
       "  0.9897049330174923),\n",
       " ('Prog_Dataset/Non_Progressive/Other_Songs/19 - Tusk.mp3',\n",
       "  0.7557903826236725)]"
      ]
     },
     "execution_count": 74,
     "metadata": {},
     "output_type": "execute_result"
    }
   ],
   "source": [
    "wrong_nonprog"
   ]
  },
  {
   "cell_type": "code",
   "execution_count": 116,
   "id": "a4572447",
   "metadata": {},
   "outputs": [],
   "source": [
    "res_dict = []\n",
    "for song, prediction in wrong_prog:\n",
    "    res_dict.append({'Song names':song[25:], 'Probability for wrong class': prediction, 'True label': 'Prog'})\n",
    "for song, prediction in wrong_nonprog:\n",
    "    res_dict.append({'Song names':song[41:], 'Probability for wrong class': prediction, 'True label': 'Non-Prog'})"
   ]
  },
  {
   "cell_type": "code",
   "execution_count": 117,
   "id": "2c731802",
   "metadata": {},
   "outputs": [],
   "source": [
    "# name of csv file\n",
    "import csv\n",
    "\n",
    "filename = \"FC_FD_Misclassification_Train.csv\"\n",
    "fields = ['Song names', 'Probability for wrong class', 'True label']\n",
    "# writing to csv file\n",
    "with open(filename, 'w') as csvfile:\n",
    "    # creating a csv dict writer object\n",
    "    writer = csv.DictWriter(csvfile, fieldnames=fields)\n",
    " \n",
    "    # writing headers (field names)\n",
    "    writer.writeheader()\n",
    " \n",
    "    # writing data rows\n",
    "    writer.writerows(res_dict)"
   ]
  },
  {
   "cell_type": "code",
   "execution_count": 27,
   "id": "0fd7b178",
   "metadata": {},
   "outputs": [
    {
     "data": {
      "text/plain": [
       "<sklearn.metrics._plot.confusion_matrix.ConfusionMatrixDisplay at 0x7f6bcb88deb0>"
      ]
     },
     "execution_count": 27,
     "metadata": {},
     "output_type": "execute_result"
    },
    {
     "data": {
      "image/png": "[encoded data removed]",
      "text/plain": [
       "<Figure size 720x720 with 2 Axes>"
      ]
     },
     "metadata": {
      "needs_background": "light"
     },
     "output_type": "display_data"
    }
   ],
   "source": [
    "from sklearn import metrics\n",
    "cm_display = metrics.ConfusionMatrixDisplay(confusion_matrix = cm, display_labels = ['Prog', 'Non-Prog'])\n",
    "\n",
    "#cm_display.plot()\n",
    "fig, ax = plt.subplots(figsize=(10,10))\n",
    "font = {\n",
    "    'weight' : 'bold',\n",
    "    'size'   : 22}\n",
    "plt.rc('font', **font)\n",
    "cm_display.plot(ax=ax, cmap=plt.cm.Blues)\n",
    "\n",
    "#plt.show()"
   ]
  },
  {
   "cell_type": "code",
   "execution_count": 220,
   "id": "da246318",
   "metadata": {},
   "outputs": [
    {
     "name": "stdout",
     "output_type": "stream",
     "text": [
      "FNN(\n",
      "  (model): Sequential(\n",
      "    (0): Linear(in_features=17088, out_features=5120, bias=True)\n",
      "    (1): ReLU()\n",
      "    (2): Dropout(p=0.2, inplace=False)\n",
      "    (3): Linear(in_features=5120, out_features=1024, bias=True)\n",
      "    (4): ReLU()\n",
      "    (5): Dropout(p=0.2, inplace=False)\n",
      "    (6): Linear(in_features=1024, out_features=512, bias=True)\n",
      "    (7): ReLU()\n",
      "    (8): Dropout(p=0.2, inplace=False)\n",
      "    (9): Linear(in_features=512, out_features=64, bias=True)\n",
      "    (10): ReLU()\n",
      "    (11): Dropout(p=0.2, inplace=False)\n",
      "    (12): Linear(in_features=64, out_features=1, bias=True)\n",
      "  )\n",
      ")\n"
     ]
    }
   ],
   "source": [
    "print(model1)"
   ]
  },
  {
   "cell_type": "markdown",
   "id": "6b5d689d",
   "metadata": {},
   "source": [
    "# Test"
   ]
  },
  {
   "cell_type": "code",
   "execution_count": 75,
   "id": "05494f9b",
   "metadata": {},
   "outputs": [
    {
     "name": "stdout",
     "output_type": "stream",
     "text": [
      "Processing 138 songs in Progressive genre...\n",
      "Prog_Dataset/Test/Progressive/08 .3 1.m4a\n"
     ]
    },
    {
     "name": "stderr",
     "output_type": "stream",
     "text": [
      "/tmp/ipykernel_3468638/3771222143.py:5: UserWarning: PySoundFile failed. Trying audioread instead.\n",
      "  y, _ = librosa.load(song)\n",
      "/home/hoangngominh98/anaconda3/lib/python3.9/site-packages/librosa/core/audio.py:183: FutureWarning: librosa.core.audio.__audioread_load\n",
      "\tDeprecated as of librosa version 0.10.0.\n",
      "\tIt will be removed in librosa version 1.0.\n",
      "  y, sr_native = __audioread_load(path, offset, duration, dtype)\n"
     ]
    },
    {
     "name": "stdout",
     "output_type": "stream",
     "text": [
      "(17088,)\n",
      "Prog_Dataset/Test/Progressive/01 - Red.mp3\n",
      "(17088,)\n",
      "Prog_Dataset/Test/Progressive/10.Elegy.mp3\n",
      "(17088,)\n",
      "Prog_Dataset/Test/Progressive/05 Awaken.mp3\n",
      "(17088,)\n",
      "Prog_Dataset/Test/Progressive/01. Diana.mp3\n",
      "(17088,)\n",
      "Prog_Dataset/Test/Progressive/03 Nectar.mp3\n",
      "(17088,)\n",
      "Prog_Dataset/Test/Progressive/10_Sorrow.mp3\n",
      "(17088,)\n",
      "Prog_Dataset/Test/Progressive/08 - I Spy.mp3\n",
      "(17088,)\n",
      "Prog_Dataset/Test/Progressive/05. Vrooom.mp3\n",
      "(17088,)\n",
      "Prog_Dataset/Test/Progressive/01. Ka$cade.mp3\n",
      "(17088,)\n",
      "Prog_Dataset/Test/Progressive/06. Part VI.mp3\n",
      "(17088,)\n",
      "Prog_Dataset/Test/Progressive/05 - Entree.mp3\n",
      "(17088,)\n",
      "Prog_Dataset/Test/Progressive/02 - Xanadu.mp3\n",
      "(17088,)\n",
      "Prog_Dataset/Test/Progressive/01-Stand By.mp3\n"
     ]
    },
    {
     "name": "stderr",
     "output_type": "stream",
     "text": [
      "[src/libmpg123/id3.c:process_comment():584] error: No comment text / valid description?\n"
     ]
    },
    {
     "name": "stdout",
     "output_type": "stream",
     "text": [
      "(17088,)\n",
      "Prog_Dataset/Test/Progressive/02_Freewill.mp3\n",
      "(17088,)\n",
      "Prog_Dataset/Test/Progressive/09_Lateralus.mp3\n",
      "(17088,)\n",
      "Prog_Dataset/Test/Progressive/15 Third Eye.mp3\n",
      "(17088,)\n",
      "Prog_Dataset/Test/Progressive/06. Hardcore.mp3\n",
      "(17088,)\n",
      "Prog_Dataset/Test/Progressive/08 - Voyager.mp3\n",
      "(17088,)\n",
      "Prog_Dataset/Test/Progressive/08 Los Endos.mp3\n",
      "(17088,)\n",
      "Prog_Dataset/Test/Progressive/07. ShutDOWN.mp3\n",
      "(17088,)\n",
      "Prog_Dataset/Test/Progressive/08 Dreamtime.mp3\n",
      "(17088,)\n",
      "Prog_Dataset/Test/Progressive/10 The Storm.mp3\n",
      "(17088,)\n",
      "Prog_Dataset/Test/Progressive/02 - Rubicon.mp3\n",
      "(17088,)\n",
      "Prog_Dataset/Test/Progressive/04_Birthright.mp3\n",
      "(17088,)\n",
      "Prog_Dataset/Test/Progressive/09_Time Flies.mp3\n",
      "(17088,)\n",
      "Prog_Dataset/Test/Progressive/11 - Stopa 11.mp3\n",
      "(17088,)\n",
      "Prog_Dataset/Test/Progressive/11. Jaguar God.mp3\n",
      "(17088,)\n",
      "Prog_Dataset/Test/Progressive/03. Little Man.mp3\n",
      "(17088,)\n",
      "Prog_Dataset/Test/Progressive/04 Clairvoyant.mp3\n",
      "(17088,)\n",
      "Prog_Dataset/Test/Progressive/04. Descending.mp3\n",
      "(17088,)\n",
      "Prog_Dataset/Test/Progressive/01. Simple Boy.mp3\n",
      "(17088,)\n",
      "Prog_Dataset/Test/Progressive/05 - Ouroboros.mp3\n",
      "(17088,)\n",
      "Prog_Dataset/Test/Progressive/08. Pareidolia.mp3\n",
      "(17088,)\n",
      "Prog_Dataset/Test/Progressive/03 - Kali Yuga.mp3\n",
      "(17088,)\n",
      "Prog_Dataset/Test/Progressive/05 - Stargazers.mp3\n",
      "(17088,)\n",
      "Prog_Dataset/Test/Progressive/01-Introduzione.mp3\n"
     ]
    },
    {
     "name": "stderr",
     "output_type": "stream",
     "text": [
      "[src/libmpg123/id3.c:process_comment():584] error: No comment text / valid description?\n"
     ]
    },
    {
     "name": "stdout",
     "output_type": "stream",
     "text": [
      "(17088,)\n",
      "Prog_Dataset/Test/Progressive/08 Heavy Horses.mp3\n",
      "(17088,)\n",
      "Prog_Dataset/Test/Progressive/01-Opening Move.mp3\n"
     ]
    },
    {
     "name": "stderr",
     "output_type": "stream",
     "text": [
      "[src/libmpg123/id3.c:process_comment():584] error: No comment text / valid description?\n"
     ]
    },
    {
     "name": "stdout",
     "output_type": "stream",
     "text": [
      "(17088,)\n",
      "Prog_Dataset/Test/Progressive/08 - Ebb & Flow.mp3\n",
      "(17088,)\n",
      "Prog_Dataset/Test/Progressive/12 - The Garden.mp3\n",
      "(17088,)\n",
      "Prog_Dataset/Test/Progressive/11 Strip The Soul.m4a\n"
     ]
    },
    {
     "name": "stderr",
     "output_type": "stream",
     "text": [
      "/tmp/ipykernel_3468638/3771222143.py:5: UserWarning: PySoundFile failed. Trying audioread instead.\n",
      "  y, _ = librosa.load(song)\n",
      "/home/hoangngominh98/anaconda3/lib/python3.9/site-packages/librosa/core/audio.py:183: FutureWarning: librosa.core.audio.__audioread_load\n",
      "\tDeprecated as of librosa version 0.10.0.\n",
      "\tIt will be removed in librosa version 1.0.\n",
      "  y, sr_native = __audioread_load(path, offset, duration, dtype)\n"
     ]
    },
    {
     "name": "stdout",
     "output_type": "stream",
     "text": [
      "(17088,)\n",
      "Prog_Dataset/Test/Progressive/08 Rosetta Stoned.mp3\n",
      "(17088,)\n",
      "Prog_Dataset/Test/Progressive/02 - The Weirding.mp3\n",
      "(17088,)\n",
      "Prog_Dataset/Test/Progressive/04 - Running Hard.mp3\n",
      "(17088,)\n",
      "Prog_Dataset/Test/Progressive/02 April Ethereal.mp3\n",
      "(17088,)\n",
      "Prog_Dataset/Test/Progressive/02. Time Is Monet.mp3\n"
     ]
    },
    {
     "name": "stderr",
     "output_type": "stream",
     "text": [
      "[src/libmpg123/id3.c:process_comment():584] error: No comment text / valid description?\n"
     ]
    },
    {
     "name": "stdout",
     "output_type": "stream",
     "text": [
      "(17088,)\n",
      "Prog_Dataset/Test/Progressive/04 - No Part Of Me.mp3\n",
      "(17088,)\n",
      "Prog_Dataset/Test/Progressive/11 - On That Note.flac\n",
      "(17088,)\n",
      "Prog_Dataset/Test/Progressive/01. Oblivion_khaos.mp3\n",
      "(17088,)\n",
      "Prog_Dataset/Test/Progressive/07 The Cinema Show.mp3\n",
      "(17088,)\n",
      "Prog_Dataset/Test/Progressive/04 Master Builder.flac\n",
      "(17088,)\n",
      "Prog_Dataset/Test/Progressive/09 - Quantum Factor.mp3\n",
      "(17088,)\n",
      "Prog_Dataset/Test/Progressive/01. Machine Messiah.mp3\n",
      "(17088,)\n",
      "Prog_Dataset/Test/Progressive/05.Harvest_of_Souls.mp3\n",
      "(17088,)\n",
      "Prog_Dataset/Test/Progressive/03. Egoist Hedonist.mp3\n",
      "(17088,)\n",
      "Prog_Dataset/Test/Progressive/05 - Jurassic Shift.mp3\n",
      "(17088,)\n",
      "Prog_Dataset/Test/Progressive/04-Anyone's Daughter.mp3\n"
     ]
    },
    {
     "name": "stderr",
     "output_type": "stream",
     "text": [
      "[src/libmpg123/id3.c:process_comment():584] error: No comment text / valid description?\n"
     ]
    },
    {
     "name": "stdout",
     "output_type": "stream",
     "text": [
      "(17088,)\n",
      "Prog_Dataset/Test/Progressive/08 Suite Sister Mary.mp3\n",
      "(17088,)\n",
      "Prog_Dataset/Test/Progressive/07. Escalator Shrine.mp3\n",
      "(17088,)\n",
      "Prog_Dataset/Test/Progressive/01 - Nothing At Best.mp3\n",
      "(17088,)\n",
      "Prog_Dataset/Test/Progressive/07 - Chimera’s Wreck.mp3\n",
      "(17088,)\n",
      "Prog_Dataset/Test/Progressive/13 - Beyond the Pale.mp3\n",
      "(17088,)\n",
      "Prog_Dataset/Test/Progressive/02 - Song for America.mp3\n",
      "(17088,)\n",
      "Prog_Dataset/Test/Progressive/103 Thela Hun Ginjeet.mp3\n",
      "(17088,)\n",
      "Prog_Dataset/Test/Progressive/02_Pictures_Of_A_City.mp3\n",
      "(17088,)\n",
      "Prog_Dataset/Test/Progressive/03 Sartori In Tangier.mp3\n",
      "(17088,)\n",
      "Prog_Dataset/Test/Progressive/01 Prologue - Autumn.flac\n",
      "(17088,)\n",
      "Prog_Dataset/Test/Progressive/05_Turn of the Century.mp3\n",
      "(17088,)\n",
      "Prog_Dataset/Test/Progressive/05. Bortglömda Gårdar.flac\n",
      "(17088,)\n",
      "Prog_Dataset/Test/Progressive/05. Guardian Of My Soul.mp3\n",
      "(17088,)\n",
      "Prog_Dataset/Test/Progressive/1 robert wyatt SEA SONG.mp3\n",
      "(17088,)\n",
      "Prog_Dataset/Test/Progressive/06  Ashes Are  Burning .mp3\n",
      "(17088,)\n",
      "Prog_Dataset/Test/Progressive/203-opeth-heart_in_hand.mp3\n",
      "(17088,)\n",
      "Prog_Dataset/Test/Progressive/05 - Those Golden Wings.mp3\n",
      "(17088,)\n",
      "Prog_Dataset/Test/Progressive/03 - Symphony X - Fallen.mp3\n",
      "(17088,)\n",
      "Prog_Dataset/Test/Progressive/10 Peace To The Mountain.mp3\n",
      "(17088,)\n",
      "Prog_Dataset/Test/Progressive/Impressioni di settembre.mp3\n",
      "(17088,)\n",
      "Prog_Dataset/Test/Progressive/07. Incantation (Part 1).mp3\n",
      "(17088,)\n",
      "Prog_Dataset/Test/Progressive/01 - Untouchable, Part 1.mp3\n",
      "(17088,)\n",
      "Prog_Dataset/Test/Progressive/03 Paralised Civilization.mp3\n",
      "(17088,)\n",
      "Prog_Dataset/Test/Progressive/Dark Light - Sinkin' Deep.mp3\n",
      "(17088,)\n",
      "Prog_Dataset/Test/Progressive/05. Histoires Sans Paroles.mp3\n",
      "(17088,)\n",
      "Prog_Dataset/Test/Progressive/09 - Welcome to the Planet.mp3\n",
      "(17088,)\n",
      "Prog_Dataset/Test/Progressive/17-Toxicological Whispering.mp3\n"
     ]
    },
    {
     "name": "stderr",
     "output_type": "stream",
     "text": [
      "[src/libmpg123/id3.c:process_comment():584] error: No comment text / valid description?\n"
     ]
    },
    {
     "name": "stdout",
     "output_type": "stream",
     "text": [
      "(17088,)\n",
      "Prog_Dataset/Test/Progressive/06 The Main Monkey Business.mp3\n",
      "(17088,)\n",
      "Prog_Dataset/Test/Progressive/Thrak-King Crimson-06-THRAK.mp3\n",
      "(17088,)\n",
      "Prog_Dataset/Test/Progressive/08. Towards The Blue Horizon.mp3\n",
      "(17088,)\n",
      "Prog_Dataset/Test/Progressive/01 - Assault & Battery Part I.mp3\n"
     ]
    },
    {
     "name": "stderr",
     "output_type": "stream",
     "text": [
      "[src/libmpg123/id3.c:process_comment():584] error: No comment text / valid description?\n"
     ]
    },
    {
     "name": "stdout",
     "output_type": "stream",
     "text": [
      "(17088,)\n",
      "Prog_Dataset/Test/Progressive/08. Visions -remastered 2017-.mp3\n",
      "(17088,)\n",
      "Prog_Dataset/Test/Progressive/06-Happy Nightmare (Mescaline).mp3\n",
      "(17088,)\n",
      "Prog_Dataset/Test/Progressive/Opeth - Serenity Painted Death.mp3\n",
      "(17088,)\n",
      "Prog_Dataset/Test/Progressive/09 - The World We Used to Know.mp3\n",
      "(17088,)\n",
      "Prog_Dataset/Test/Progressive/Duke-Genesis-11-Duke's Travels.mp3\n",
      "(17088,)\n",
      "Prog_Dataset/Test/Progressive/The Gathering - 09 - Saturnine.mp3\n",
      "(17088,)\n",
      "Prog_Dataset/Test/Progressive/06 - The Storm Before the Calm.mp3\n",
      "(17088,)\n",
      "Prog_Dataset/Test/Progressive/03. Aquarium -remastered 2017-.mp3\n",
      "(17088,)\n",
      "Prog_Dataset/Test/Progressive/11 Architects of Consciousness.mp3\n",
      "(17088,)\n",
      "Prog_Dataset/Test/Progressive/07 - The Final Thing On My Mind.mp3\n",
      "(17088,)\n",
      "Prog_Dataset/Test/Progressive/08_The_Devil's_Triangle_Part_II.mp3\n",
      "(17088,)\n",
      "Prog_Dataset/Test/Progressive/04-In The Land Of Grey And Pink.mp3\n",
      "(17088,)\n",
      "Prog_Dataset/Test/Progressive/02_The Revealing Science of God.mp3\n",
      "(17088,)\n",
      "Prog_Dataset/Test/Progressive/05_Shine On You Crazy Diamond II.mp3\n",
      "(17088,)\n",
      "Prog_Dataset/Test/Progressive/Devin Townsend Project - Kingdom.mp3\n",
      "(17088,)\n",
      "Prog_Dataset/Test/Progressive/EMERSON-LAKE-PALMER---PETER-GUNN.mp3\n",
      "(17088,)\n",
      "Prog_Dataset/Test/Progressive/02-Mountain Of Fruits And Flowers.mp3\n"
     ]
    },
    {
     "name": "stderr",
     "output_type": "stream",
     "text": [
      "[src/libmpg123/id3.c:process_comment():584] error: No comment text / valid description?\n"
     ]
    },
    {
     "name": "stdout",
     "output_type": "stream",
     "text": [
      "(17088,)\n",
      "Prog_Dataset/Test/Progressive/04. Selkies- The Endless Obsession.mp3\n",
      "(17088,)\n",
      "Prog_Dataset/Test/Progressive/01 Dream Theater - The Glass Prison.mp3\n",
      "(17088,)\n",
      "Prog_Dataset/Test/Progressive/07_Genesis_The Fountain of Salmacis.mp3\n",
      "(17088,)\n",
      "Prog_Dataset/Test/Progressive/MIKE OLDFIELD - Part One (Ommadawn).mp3\n"
     ]
    },
    {
     "name": "stderr",
     "output_type": "stream",
     "text": [
      "Note: Illegal Audio-MPEG-Header 0x41475061 at offset 23269468.\n",
      "Note: Trying to resync...\n",
      "Note: Hit end of (available) data during resync.\n"
     ]
    },
    {
     "name": "stdout",
     "output_type": "stream",
     "text": [
      "(17088,)\n",
      "Prog_Dataset/Test/Progressive/101-marillion-the_invisible_man-sns.mp3\n",
      "(17088,)\n",
      "Prog_Dataset/Test/Progressive/02. This Film Might Change Your Life.mp3\n"
     ]
    },
    {
     "name": "stderr",
     "output_type": "stream",
     "text": [
      "[src/libmpg123/id3.c:process_comment():584] error: No comment text / valid description?\n"
     ]
    },
    {
     "name": "stdout",
     "output_type": "stream",
     "text": [
      "(17088,)\n",
      "Prog_Dataset/Test/Progressive/Barclay James Harvest - Mocking Bird.mp3\n",
      "(17088,)\n",
      "Prog_Dataset/Test/Progressive/101-emerson_lake_and_palmer-jerusalem.mp3\n",
      "(17088,)\n",
      "Prog_Dataset/Test/Progressive/06. Native Construct - Chromatic Lights.mp3\n",
      "(17088,)\n",
      "Prog_Dataset/Test/Progressive/05-Son Of There's No Place Like Homerton.mp3\n",
      "(17088,)\n",
      "Prog_Dataset/Test/Progressive/08_-_shadow_of_the_hierophant_320_lame_cbr.mp3\n",
      "(17088,)\n",
      "Prog_Dataset/Test/Progressive/19 - Islands (Live at The Egg, Albany, NY).mp3\n"
     ]
    },
    {
     "name": "stderr",
     "output_type": "stream",
     "text": [
      "[src/libmpg123/id3.c:process_comment():584] error: No comment text / valid description?\n"
     ]
    },
    {
     "name": "stdout",
     "output_type": "stream",
     "text": [
      "(17088,)\n",
      "Prog_Dataset/Test/Progressive/King Crimson - Islands - 02 - Sailor's Tale.mp3\n",
      "(17088,)\n",
      "Prog_Dataset/Test/Progressive/The Dear Hunter - 06 - A Night on the Town.flac\n",
      "(17088,)\n",
      "Prog_Dataset/Test/Progressive/Wind & Wuthering-Genesis-02-One For the Vine.mp3\n",
      "(17088,)\n",
      "Prog_Dataset/Test/Progressive/01 Cirkus (including Entry of the Chameleons).mp3\n",
      "(17088,)\n",
      "Prog_Dataset/Test/Progressive/08 - Spectral Mornings (2005 Digital Remaster).mp3\n",
      "(17088,)\n",
      "Prog_Dataset/Test/Progressive/01 - Atom Heart Mother Suite (2011 - Remaster).mp3\n",
      "(17088,)\n",
      "Prog_Dataset/Test/Progressive/01 - Beyond the Threshold, Pt. I (Helios Awakens).mp3\n",
      "(17088,)\n",
      "Prog_Dataset/Test/Progressive/06-duel_of_the_jester_and_the_tyrant_320_lame_cbr.mp3\n",
      "(17088,)\n",
      "Prog_Dataset/Test/Progressive/The Power To Believe-King Crimson-08-Dangerous Curves.mp3\n",
      "(17088,)\n",
      "Prog_Dataset/Test/Progressive/03 Starship Trooper- Life Seeker , Disillusion , Wurm.flac\n",
      "(17088,)\n",
      "Prog_Dataset/Test/Progressive/1 - 09 - Steve Hackett - Can-Utility And The Coastliners.mp3\n",
      "(17088,)\n",
      "Prog_Dataset/Test/Progressive/De-Loused In The Comatorium-The Mars Volta-07-Cicatriz ESP.mp3\n",
      "(17088,)\n",
      "Prog_Dataset/Test/Progressive/10-Locomotive Breath (Mixed And Mastered By Steven Wilson).flac\n",
      "(17088,)\n",
      "Prog_Dataset/Test/Progressive/The Power To Believe-King Crimson-07-The Power To Believe II.mp3\n",
      "(17088,)\n",
      "Prog_Dataset/Test/Progressive/captain beefheart - trout mask replica - 05 - hair pie- bake .mp3\n",
      "(17088,)\n",
      "Prog_Dataset/Test/Progressive/Dream Theater - Metropolis, Pt. 1- The Miracle and the Sleeper.mp3\n",
      "(17088,)\n",
      "Prog_Dataset/Test/Progressive/Rick Wakeman-The Six Wives of Henry VIII-05-Anne Boleyn 'The Day Thou Gavest Lord Hath Ended'.flac\n",
      "(17088,)\n",
      "Prog_Dataset/Test/Progressive/02-And You And I (I. Cord Of Life, II. Eclipse, III. The Preacher The Teacher, IV. Apocalypse).mp3\n",
      "(17088,)\n",
      "Processing 133 songs in Non_Progressive genre...\n",
      "Prog_Dataset/Test/Non_Progressive/10 I.mp3\n",
      "(17088,)\n",
      "Prog_Dataset/Test/Non_Progressive/06 How.mp3\n",
      "(17088,)\n",
      "Prog_Dataset/Test/Non_Progressive/Reptile.mp3\n",
      "(17088,)\n",
      "Prog_Dataset/Test/Non_Progressive/Bambola.mp3\n",
      "(17088,)\n",
      "Prog_Dataset/Test/Non_Progressive/15 - Tam.mp3\n",
      "(17088,)\n",
      "Prog_Dataset/Test/Non_Progressive/06 - Merge.mp3\n",
      "(17088,)\n",
      "Prog_Dataset/Test/Non_Progressive/02 All Mine.mp3\n",
      "(17088,)\n",
      "Prog_Dataset/Test/Non_Progressive/03-Birthday.mp3\n"
     ]
    },
    {
     "name": "stderr",
     "output_type": "stream",
     "text": [
      "[src/libmpg123/layer3.c:INT123_do_layer3():1841] error: dequantization failed!\n"
     ]
    },
    {
     "name": "stdout",
     "output_type": "stream",
     "text": [
      "(17088,)\n",
      "Prog_Dataset/Test/Non_Progressive/03 - Cirice.mp3\n",
      "(17088,)\n",
      "Prog_Dataset/Test/Non_Progressive/03 Madazulu.mp3\n",
      "(17088,)\n",
      "Prog_Dataset/Test/Non_Progressive/02 Paranoid.m4a\n"
     ]
    },
    {
     "name": "stderr",
     "output_type": "stream",
     "text": [
      "/tmp/ipykernel_3468638/3771222143.py:5: UserWarning: PySoundFile failed. Trying audioread instead.\n",
      "  y, _ = librosa.load(song)\n",
      "/home/hoangngominh98/anaconda3/lib/python3.9/site-packages/librosa/core/audio.py:183: FutureWarning: librosa.core.audio.__audioread_load\n",
      "\tDeprecated as of librosa version 0.10.0.\n",
      "\tIt will be removed in librosa version 1.0.\n",
      "  y, sr_native = __audioread_load(path, offset, duration, dtype)\n"
     ]
    },
    {
     "name": "stdout",
     "output_type": "stream",
     "text": [
      "(17088,)\n",
      "Prog_Dataset/Test/Non_Progressive/03. Teardrop.mp3\n",
      "(17088,)\n",
      "Prog_Dataset/Test/Non_Progressive/07 By Myself.m4a\n"
     ]
    },
    {
     "name": "stderr",
     "output_type": "stream",
     "text": [
      "/tmp/ipykernel_3468638/3771222143.py:5: UserWarning: PySoundFile failed. Trying audioread instead.\n",
      "  y, _ = librosa.load(song)\n",
      "/home/hoangngominh98/anaconda3/lib/python3.9/site-packages/librosa/core/audio.py:183: FutureWarning: librosa.core.audio.__audioread_load\n",
      "\tDeprecated as of librosa version 0.10.0.\n",
      "\tIt will be removed in librosa version 1.0.\n",
      "  y, sr_native = __audioread_load(path, offset, duration, dtype)\n"
     ]
    },
    {
     "name": "stdout",
     "output_type": "stream",
     "text": [
      "(17088,)\n",
      "Prog_Dataset/Test/Non_Progressive/03 Katy Song.mp3\n",
      "(17088,)\n",
      "Prog_Dataset/Test/Non_Progressive/02. Cover Me.mp3\n",
      "(17088,)\n",
      "Prog_Dataset/Test/Non_Progressive/08 - Kollaps.wma\n"
     ]
    },
    {
     "name": "stderr",
     "output_type": "stream",
     "text": [
      "/tmp/ipykernel_3468638/3771222143.py:5: UserWarning: PySoundFile failed. Trying audioread instead.\n",
      "  y, _ = librosa.load(song)\n",
      "/home/hoangngominh98/anaconda3/lib/python3.9/site-packages/librosa/core/audio.py:183: FutureWarning: librosa.core.audio.__audioread_load\n",
      "\tDeprecated as of librosa version 0.10.0.\n",
      "\tIt will be removed in librosa version 1.0.\n",
      "  y, sr_native = __audioread_load(path, offset, duration, dtype)\n"
     ]
    },
    {
     "name": "stdout",
     "output_type": "stream",
     "text": [
      "(17088,)\n",
      "Prog_Dataset/Test/Non_Progressive/02 That's All.mp3\n",
      "(17088,)\n",
      "Prog_Dataset/Test/Non_Progressive/06 - Physical.mp3\n",
      "(17088,)\n",
      "Prog_Dataset/Test/Non_Progressive/into the void.mp3\n",
      "(17088,)\n",
      "Prog_Dataset/Test/Non_Progressive/01 Jacqueline.mp3\n",
      "(17088,)\n",
      "Prog_Dataset/Test/Non_Progressive/05-Territories.mp3\n",
      "(17088,)\n",
      "Prog_Dataset/Test/Non_Progressive/03. Tessellate.mp3\n",
      "(17088,)\n",
      "Prog_Dataset/Test/Non_Progressive/Chelsea Dagger.mp3\n",
      "(17088,)\n",
      "Prog_Dataset/Test/Non_Progressive/01 - Bolo Hari.mp3\n",
      "(17088,)\n",
      "Prog_Dataset/Test/Non_Progressive/06 - Video Girl.mp3\n",
      "(17088,)\n",
      "Prog_Dataset/Test/Non_Progressive/03 - King Ghost.mp3\n",
      "(17088,)\n",
      "Prog_Dataset/Test/Non_Progressive/09 - Dilettante.mp3\n",
      "(17088,)\n",
      "Prog_Dataset/Test/Non_Progressive/01_Mind Ecology.mp3\n",
      "(17088,)\n",
      "Prog_Dataset/Test/Non_Progressive/09 Ascot Gavotte.mp3\n",
      "(17088,)\n",
      "Prog_Dataset/Test/Non_Progressive/02 Sweet Lullaby.mp3\n",
      "(17088,)\n",
      "Prog_Dataset/Test/Non_Progressive/03 - Mikrokosmos.mp3\n",
      "(17088,)\n",
      "Prog_Dataset/Test/Non_Progressive/01 - Djobi Djoba.mp3\n",
      "(17088,)\n",
      "Prog_Dataset/Test/Non_Progressive/02 - James Brown.mp3\n"
     ]
    },
    {
     "name": "stderr",
     "output_type": "stream",
     "text": [
      "[src/libmpg123/id3.c:process_extra():681] error: No extra frame text / valid description?\n"
     ]
    },
    {
     "name": "stdout",
     "output_type": "stream",
     "text": [
      "(17088,)\n",
      "Prog_Dataset/Test/Non_Progressive/08 - Old Strings.mp3\n",
      "(17088,)\n",
      "Prog_Dataset/Test/Non_Progressive/01 - Highway Star.mp3\n",
      "(17088,)\n",
      "Prog_Dataset/Test/Non_Progressive/03 Boys Don't Cry.mp3\n",
      "(17088,)\n",
      "Prog_Dataset/Test/Non_Progressive/05 - In Your Eyes.mp3\n",
      "(17088,)\n",
      "Prog_Dataset/Test/Non_Progressive/13 - Neodammerung.mp3\n",
      "(17088,)\n",
      "Prog_Dataset/Test/Non_Progressive/1-01 It's Not Over.m4a\n"
     ]
    },
    {
     "name": "stderr",
     "output_type": "stream",
     "text": [
      "/tmp/ipykernel_3468638/3771222143.py:5: UserWarning: PySoundFile failed. Trying audioread instead.\n",
      "  y, _ = librosa.load(song)\n",
      "/home/hoangngominh98/anaconda3/lib/python3.9/site-packages/librosa/core/audio.py:183: FutureWarning: librosa.core.audio.__audioread_load\n",
      "\tDeprecated as of librosa version 0.10.0.\n",
      "\tIt will be removed in librosa version 1.0.\n",
      "  y, sr_native = __audioread_load(path, offset, duration, dtype)\n"
     ]
    },
    {
     "name": "stdout",
     "output_type": "stream",
     "text": [
      "(17088,)\n",
      "Prog_Dataset/Test/Non_Progressive/04 Boy In The Moon.mp3\n",
      "(17088,)\n",
      "Prog_Dataset/Test/Non_Progressive/07_Sinister Grains.mp3\n",
      "(17088,)\n",
      "Prog_Dataset/Test/Non_Progressive/03-Sweet Blindness.mp3\n",
      "(17088,)\n",
      "Prog_Dataset/Test/Non_Progressive/Bauhaus - Mask - 02.mp3\n",
      "(17088,)\n",
      "Prog_Dataset/Test/Non_Progressive/09 Do You Realize--.mp3\n",
      "(17088,)\n",
      "Prog_Dataset/Test/Non_Progressive/05 - Hey Lawdy Mama.mp3\n",
      "(17088,)\n",
      "Prog_Dataset/Test/Non_Progressive/07 - Speed Of Sound.mp3\n",
      "(17088,)\n",
      "Prog_Dataset/Test/Non_Progressive/Radiohead - Spectre.mp3\n",
      "(17088,)\n",
      "Prog_Dataset/Test/Non_Progressive/03 - Of These, Hope.mp3\n",
      "(17088,)\n",
      "Prog_Dataset/Test/Non_Progressive/03_vicious_delicious.mp3\n",
      "(17088,)\n",
      "Prog_Dataset/Test/Non_Progressive/04 - Song of Destiny.mp3\n",
      "(17088,)\n",
      "Prog_Dataset/Test/Non_Progressive/02 I Can Do Anything.m4a\n"
     ]
    },
    {
     "name": "stderr",
     "output_type": "stream",
     "text": [
      "/tmp/ipykernel_3468638/3771222143.py:5: UserWarning: PySoundFile failed. Trying audioread instead.\n",
      "  y, _ = librosa.load(song)\n",
      "/home/hoangngominh98/anaconda3/lib/python3.9/site-packages/librosa/core/audio.py:183: FutureWarning: librosa.core.audio.__audioread_load\n",
      "\tDeprecated as of librosa version 0.10.0.\n",
      "\tIt will be removed in librosa version 1.0.\n",
      "  y, sr_native = __audioread_load(path, offset, duration, dtype)\n"
     ]
    },
    {
     "name": "stdout",
     "output_type": "stream",
     "text": [
      "(17088,)\n",
      "Prog_Dataset/Test/Non_Progressive/05.King of Hollywood.mp3\n",
      "(17088,)\n",
      "Prog_Dataset/Test/Non_Progressive/Beethoven_Symphony_5.mp3\n",
      "(17088,)\n",
      "Prog_Dataset/Test/Non_Progressive/Jerusalem-the Anthem.mp3\n",
      "(17088,)\n",
      "Prog_Dataset/Test/Non_Progressive/22 - Dear Mr. Fantasy.mp3\n",
      "(17088,)\n",
      "Prog_Dataset/Test/Non_Progressive/11 - Terraplane Blues.mp3\n",
      "(17088,)\n",
      "Prog_Dataset/Test/Non_Progressive/01 - Run Away With Me.mp3\n",
      "(17088,)\n",
      "Prog_Dataset/Test/Non_Progressive/02-Heart Full Of Soul.mp3\n",
      "(17088,)\n",
      "Prog_Dataset/Test/Non_Progressive/10-Music And Politics.mp3\n",
      "(17088,)\n",
      "Prog_Dataset/Test/Non_Progressive/07 Keep An Eye On Dan.mp3\n",
      "(17088,)\n",
      "Prog_Dataset/Test/Non_Progressive/01 - Beds Are Burning.mp3\n"
     ]
    },
    {
     "name": "stderr",
     "output_type": "stream",
     "text": [
      "[src/libmpg123/id3.c:process_comment():584] error: No comment text / valid description?\n"
     ]
    },
    {
     "name": "stdout",
     "output_type": "stream",
     "text": [
      "(17088,)\n",
      "Prog_Dataset/Test/Non_Progressive/01 Dance Yrself Clean.mp3\n",
      "(17088,)\n",
      "Prog_Dataset/Test/Non_Progressive/01 Penguin Cafe Single.mp3\n"
     ]
    },
    {
     "name": "stderr",
     "output_type": "stream",
     "text": [
      "[src/libmpg123/id3.c:INT123_parse_new_id3():1086] error: Whoa! ID3v2 frame claims to be larger than the whole rest of the tag.\n"
     ]
    },
    {
     "name": "stdout",
     "output_type": "stream",
     "text": [
      "(17088,)\n",
      "Prog_Dataset/Test/Non_Progressive/09 - Intimate Grandeur.mp3\n",
      "(17088,)\n",
      "Prog_Dataset/Test/Non_Progressive/01_Mere Sapnon Ki Rani.mp3\n",
      "(17088,)\n",
      "Prog_Dataset/Test/Non_Progressive/03 Sweet Talkin' Woman.mp3\n",
      "(17088,)\n",
      "Prog_Dataset/Test/Non_Progressive/01-Life's Greatest Fool.mp3\n",
      "(17088,)\n",
      "Prog_Dataset/Test/Non_Progressive/01 - Heat Of The Moment.mp3\n",
      "(17088,)\n",
      "Prog_Dataset/Test/Non_Progressive/55. Rosalía - Malamente.mp3\n",
      "(17088,)\n",
      "Prog_Dataset/Test/Non_Progressive/01 - Another Day Of Sun.mp3\n",
      "(17088,)\n",
      "Prog_Dataset/Test/Non_Progressive/A Dream In Red Mansions.mp3\n",
      "(17088,)\n",
      "Prog_Dataset/Test/Non_Progressive/06 - Between Love & Hate.mp3\n",
      "(17088,)\n",
      "Prog_Dataset/Test/Non_Progressive/08 - You Make Loving Fun.mp3\n",
      "(17088,)\n",
      "Prog_Dataset/Test/Non_Progressive/03 I Am a God (feat. God).m4a\n"
     ]
    },
    {
     "name": "stderr",
     "output_type": "stream",
     "text": [
      "/tmp/ipykernel_3468638/3771222143.py:5: UserWarning: PySoundFile failed. Trying audioread instead.\n",
      "  y, _ = librosa.load(song)\n",
      "/home/hoangngominh98/anaconda3/lib/python3.9/site-packages/librosa/core/audio.py:183: FutureWarning: librosa.core.audio.__audioread_load\n",
      "\tDeprecated as of librosa version 0.10.0.\n",
      "\tIt will be removed in librosa version 1.0.\n",
      "  y, sr_native = __audioread_load(path, offset, duration, dtype)\n"
     ]
    },
    {
     "name": "stdout",
     "output_type": "stream",
     "text": [
      "(17088,)\n",
      "Prog_Dataset/Test/Non_Progressive/04-Fade Away (And Radiate).mp3\n",
      "(17088,)\n",
      "Prog_Dataset/Test/Non_Progressive/08 - When the Levee Breaks.mp3\n",
      "(17088,)\n",
      "Prog_Dataset/Test/Non_Progressive/05 - The Time And The Test.mp3\n",
      "(17088,)\n",
      "Prog_Dataset/Test/Non_Progressive/06_The Offspring_Gone Away.mp3\n",
      "(17088,)\n",
      "Prog_Dataset/Test/Non_Progressive/08 - Supersonic Rocket Ship.mp3\n",
      "(17088,)\n",
      "Prog_Dataset/Test/Non_Progressive/03 - What the Water Gave Me.mp3\n",
      "(17088,)\n",
      "Prog_Dataset/Test/Non_Progressive/02 Voulez-Vous Abba 320kbps.mp3\n",
      "(17088,)\n",
      "Prog_Dataset/Test/Non_Progressive/01. Owner Of A Lonely Heart.mp3\n",
      "(17088,)\n",
      "Prog_Dataset/Test/Non_Progressive/The Legend Of Ashitaka Theme.mp3\n",
      "(17088,)\n",
      "Prog_Dataset/Test/Non_Progressive/02. Untitled 02 (06.23.2014).mp3\n",
      "(17088,)\n",
      "Prog_Dataset/Test/Non_Progressive/03 - Three Ragas in 'D' Minor.mp3\n",
      "(17088,)\n",
      "Prog_Dataset/Test/Non_Progressive/03.-DJ-Snake---Let-Me-Love-You.mp3\n",
      "(17088,)\n",
      "Prog_Dataset/Test/Non_Progressive/06 TITO PUENTE-HONG KONG MAMBO.mp3\n",
      "(17088,)\n",
      "Prog_Dataset/Test/Non_Progressive/12-modest_mouse-spitting_venom.mp3\n",
      "(17088,)\n",
      "Prog_Dataset/Test/Non_Progressive/09-the_strokes-ode_to_the_mets.mp3\n",
      "(17088,)\n",
      "Prog_Dataset/Test/Non_Progressive/9-08 Strawberry Fields Forever.mp3\n",
      "(17088,)\n",
      "Prog_Dataset/Test/Non_Progressive/11 Jeru The Damaja - Come Clean.mp3\n",
      "(17088,)\n",
      "Prog_Dataset/Test/Non_Progressive/04. Let's Pretend We're Married.mp3\n",
      "(17088,)\n",
      "Prog_Dataset/Test/Non_Progressive/02 - Sigur Rós - Svefn-G-Englar.mp3\n",
      "(17088,)\n",
      "Prog_Dataset/Test/Non_Progressive/01 Ghost Love Score (Remastered).mp3\n",
      "(17088,)\n",
      "Prog_Dataset/Test/Non_Progressive/20. De La Soul - Me Myself And I.mp3\n",
      "(17088,)\n",
      "Prog_Dataset/Test/Non_Progressive/04. Ascension (Don't Ever Wonder).mp3\n",
      "(17088,)\n",
      "Prog_Dataset/Test/Non_Progressive/05 I Left My Wallet In El Segundo.mp3\n"
     ]
    },
    {
     "name": "stderr",
     "output_type": "stream",
     "text": [
      "Note: Illegal Audio-MPEG-Header 0x00000000 at offset 6074356.\n",
      "Note: Trying to resync...\n",
      "Note: Hit end of (available) data during resync.\n"
     ]
    },
    {
     "name": "stdout",
     "output_type": "stream",
     "text": [
      "(17088,)\n",
      "Prog_Dataset/Test/Non_Progressive/11 variations on a cocktail dress.mp3\n",
      "(17088,)\n",
      "Prog_Dataset/Test/Non_Progressive/07 - Signals (Orchestrion Sketch).mp3\n",
      "(17088,)\n",
      "Prog_Dataset/Test/Non_Progressive/13 - Porcelina of the Vast Oceans.mp3\n",
      "(17088,)\n",
      "Prog_Dataset/Test/Non_Progressive/03 Nightmares On Wax - Pipes Honour.mp3\n",
      "(17088,)\n",
      "Prog_Dataset/Test/Non_Progressive/01 the american metaphysical circus.mp3\n",
      "(17088,)\n",
      "Prog_Dataset/Test/Non_Progressive/01 Everyone's At It (Album Version).mp3\n",
      "(17088,)\n",
      "Prog_Dataset/Test/Non_Progressive/01 - Prelude and The Sound of Music.mp3\n",
      "(17088,)\n",
      "Prog_Dataset/Test/Non_Progressive/05 - The Temple On the Edge of Time.mp3\n",
      "(17088,)\n",
      "Prog_Dataset/Test/Non_Progressive/05. Ancestress (feat. Sindri Eldon).mp3\n",
      "(17088,)\n",
      "Prog_Dataset/Test/Non_Progressive/21Henry Mancini - Baby Elephant Walk.mp3\n",
      "(17088,)\n",
      "Prog_Dataset/Test/Non_Progressive/06 Angel Tears - Inshalla (Ya Salam).mp3\n",
      "(17088,)\n",
      "Prog_Dataset/Test/Non_Progressive/01 - Nina Simone -  - Be My Husband .mp3\n",
      "(17088,)\n",
      "Prog_Dataset/Test/Non_Progressive/01. Redbone - Come And Get Your Love.mp3\n",
      "(17088,)\n",
      "Prog_Dataset/Test/Non_Progressive/Edward_Sharpe_The_Magnetic_Zeros_Home.mp3\n",
      "(17088,)\n",
      "Prog_Dataset/Test/Non_Progressive/02. None Of Them Knew They Were Robots.mp3\n",
      "(17088,)\n",
      "Prog_Dataset/Test/Non_Progressive/02 QUEENS OF THE STONE AGE-NO ONE KNOWS.mp3\n",
      "(17088,)\n",
      "Prog_Dataset/Test/Non_Progressive/02-kendrick_lamar-all_the_stars-88bcf2c3.mp3\n",
      "(17088,)\n",
      "Prog_Dataset/Test/Non_Progressive/Moby---Extreme-Ways-(Bourne's-Ultimatum).mp3\n"
     ]
    },
    {
     "name": "stderr",
     "output_type": "stream",
     "text": [
      "[src/libmpg123/id3.c:process_comment():584] error: No comment text / valid description?\n",
      "/tmp/ipykernel_3468638/3771222143.py:5: UserWarning: PySoundFile failed. Trying audioread instead.\n",
      "  y, _ = librosa.load(song)\n",
      "/home/hoangngominh98/anaconda3/lib/python3.9/site-packages/librosa/core/audio.py:183: FutureWarning: librosa.core.audio.__audioread_load\n",
      "\tDeprecated as of librosa version 0.10.0.\n",
      "\tIt will be removed in librosa version 1.0.\n",
      "  y, sr_native = __audioread_load(path, offset, duration, dtype)\n"
     ]
    },
    {
     "name": "stdout",
     "output_type": "stream",
     "text": [
      "(17088,)\n",
      "Prog_Dataset/Test/Non_Progressive/02. Death Cab for Cutie - Soul Meets Body.ogg\n",
      "(17088,)\n",
      "Prog_Dataset/Test/Non_Progressive/15 Sprawl II (Mountains Beyond Mountains).mp3\n",
      "(17088,)\n",
      "Prog_Dataset/Test/Non_Progressive/05-miles_runs_the_voodoo_down_320_lame_cbr.mp3\n",
      "(17088,)\n",
      "Prog_Dataset/Test/Non_Progressive/2 - Arctic Monkeys - One Point Perspective.mp3\n",
      "(17088,)\n",
      "Prog_Dataset/Test/Non_Progressive/06.-Jax-Jones-feat.-RAYE--You-Don't-Know-Me.mp3\n",
      "(17088,)\n",
      "Prog_Dataset/Test/Non_Progressive/02-tears_for_fears-the_tipping_point-68bb3466.mp3\n",
      "(17088,)\n",
      "Prog_Dataset/Test/Non_Progressive/08-oneohtrix_point_never-computer_vision-kouala.mp3\n",
      "(17088,)\n",
      "Prog_Dataset/Test/Non_Progressive/Oingo-Boingo---Weird-Science-(Extended-Dance-Mix).mp3\n"
     ]
    },
    {
     "name": "stderr",
     "output_type": "stream",
     "text": [
      "Note: Illegal Audio-MPEG-Header 0x69726420 at offset 6205317.\n",
      "Note: Trying to resync...\n",
      "Note: Hit end of (available) data during resync.\n"
     ]
    },
    {
     "name": "stdout",
     "output_type": "stream",
     "text": [
      "(17088,)\n",
      "Prog_Dataset/Test/Non_Progressive/Kiss Me, Kiss Me, Kiss Me-The Cure-07-The Snakepit.mp3\n",
      "(17088,)\n",
      "Prog_Dataset/Test/Non_Progressive/Sufjan Stevens - The Age of Adz - 11 Impossible Soul.mp3\n",
      "(17088,)\n",
      "Prog_Dataset/Test/Non_Progressive/John Williams-The Phantom Menace-0 - Duel of the Fates.mp3\n"
     ]
    },
    {
     "name": "stderr",
     "output_type": "stream",
     "text": [
      "Note: Illegal Audio-MPEG-Header 0x20202020 at offset 4065165.\n",
      "Note: Trying to resync...\n",
      "Note: Skipped 1024 bytes in input.\n",
      "[src/libmpg123/parse.c:wetwork():1365] error: Giving up resync after 1024 bytes - your stream is not nice... (maybe increasing resync limit could help).\n",
      "/tmp/ipykernel_3468638/3771222143.py:5: UserWarning: PySoundFile failed. Trying audioread instead.\n",
      "  y, _ = librosa.load(song)\n",
      "/home/hoangngominh98/anaconda3/lib/python3.9/site-packages/librosa/core/audio.py:183: FutureWarning: librosa.core.audio.__audioread_load\n",
      "\tDeprecated as of librosa version 0.10.0.\n",
      "\tIt will be removed in librosa version 1.0.\n",
      "  y, sr_native = __audioread_load(path, offset, duration, dtype)\n"
     ]
    },
    {
     "name": "stdout",
     "output_type": "stream",
     "text": [
      "(17088,)\n",
      "Prog_Dataset/Test/Non_Progressive/01  The Last Shadow Puppets - The Age Of The Understatement.mp3\n",
      "(17088,)\n",
      "Prog_Dataset/Test/Non_Progressive/05 - Nick Cave & The Bad Seeds - Fifteen Feet Of Pure White Snow.mp3\n",
      "(17088,)\n",
      "Prog_Dataset/Test/Non_Progressive/06 Marvins Room - Buried Alive (Interlude) (Feat. Kendrick Lamar).mp3\n",
      "(17088,)\n",
      "Prog_Dataset/Test/Non_Progressive/Gustav Mahler - Symphony no.3 - 06 - Langsam--Ruhevoll--Empfunden.flac\n",
      "(17088,)\n",
      "Prog_Dataset/Test/Non_Progressive/15 - Mussorgsky - Pictures at an Exhibition (orch. Ravel)- The Great Gate at Kiev.flac\n",
      "(17088,)\n"
     ]
    }
   ],
   "source": [
    "import glob\n",
    "# Prepare a list for all the features and all the labels\n",
    "all_features_test = []\n",
    "all_labels_test = []\n",
    "\n",
    "#genres = ['blues', 'classical', 'country', 'disco', 'hiphop', 'jazz', 'metal', 'pop', 'reggae', 'rock']\n",
    "genres_path = \"Prog_Dataset/Test/\"\n",
    "genres = [\"Progressive\", 'Non_Progressive']\n",
    "# Extract features and genre names from each song\n",
    "for genre in genres:\n",
    "    sound_files = glob.glob(genres_path + genre + '/*')\n",
    "    #print(sound_files)\n",
    "    print('Processing %d songs in %s genre...' % (len(sound_files), genre))\n",
    "    for i, song in enumerate(sound_files):\n",
    "        if (song[-3:] == 'csv') or (song[-3:] == 'ods'):\n",
    "            continue\n",
    "        # Handle corrupt song \n",
    "        if 'jazz.00054.wav' in song:\n",
    "            features = extract_features_song_get_means(sound_files[i - 1])\n",
    "        else:\n",
    "            features = extract_features_song_get_means(song)\n",
    "\n",
    "        all_features_test.append(features)\n",
    "        if genre == 'Progressive':\n",
    "            all_labels_test.append(0)\n",
    "        else:\n",
    "            all_labels_test.append(1)"
   ]
  },
  {
   "cell_type": "code",
   "execution_count": 76,
   "id": "1e860a70",
   "metadata": {},
   "outputs": [],
   "source": [
    "features_test=np.stack(all_features_test)\n",
    "labels_test=np.stack(all_labels_test)\n",
    "features_test = features_test.astype('float32')\n",
    "labels_test = labels_test.astype('int64')\n",
    "features_tensor_test = torch.from_numpy(features_test)\n",
    "labels_tensor_test = torch.from_numpy(labels_test)\n",
    "dataset_test = TensorDataset(features_tensor_test, labels_tensor_test)\n",
    "test_dl = DataLoader(dataset_test, batch_size = 267, num_workers = 2, pin_memory = True)\n",
    "test_loader = DeviceDataLoader(test_dl, device)"
   ]
  },
  {
   "cell_type": "code",
   "execution_count": 107,
   "id": "cd041c22",
   "metadata": {},
   "outputs": [
    {
     "name": "stdout",
     "output_type": "stream",
     "text": [
      "[[ 91  45]\n",
      " [ 16 115]]\n"
     ]
    }
   ],
   "source": [
    "for state in test_loader:    \n",
    "    #print(state[0].shape)\n",
    "    pred = model1(state[0]).detach().numpy()\n",
    "    cm=sklearn.metrics.confusion_matrix(state[1],pred > 0.5)\n",
    "    print(cm)"
   ]
  },
  {
   "cell_type": "code",
   "execution_count": 86,
   "id": "7011c081",
   "metadata": {},
   "outputs": [
    {
     "data": {
      "text/plain": [
       "<sklearn.metrics._plot.confusion_matrix.ConfusionMatrixDisplay at 0x7f6bcb787ee0>"
      ]
     },
     "execution_count": 86,
     "metadata": {},
     "output_type": "execute_result"
    },
    {
     "data": {
      "image/png": "[encoded data removed]",
      "text/plain": [
       "<Figure size 720x720 with 2 Axes>"
      ]
     },
     "metadata": {
      "needs_background": "light"
     },
     "output_type": "display_data"
    }
   ],
   "source": [
    "from sklearn import metrics\n",
    "cm_display = metrics.ConfusionMatrixDisplay(confusion_matrix = cm, display_labels = ['Prog', 'Non-Prog'])\n",
    "\n",
    "#cm_display.plot()\n",
    "fig, ax = plt.subplots(figsize=(10,10))\n",
    "font = {\n",
    "    'weight' : 'bold',\n",
    "    'size'   : 22}\n",
    "plt.rc('font', **font)\n",
    "cm_display.plot(ax=ax, cmap=plt.cm.Blues)\n"
   ]
  },
  {
   "cell_type": "code",
   "execution_count": 79,
   "id": "3644dd18",
   "metadata": {},
   "outputs": [
    {
     "data": {
      "text/plain": [
       "0.7715355805243446"
      ]
     },
     "execution_count": 79,
     "metadata": {},
     "output_type": "execute_result"
    }
   ],
   "source": [
    "(91+115)/(91+115+16+45)"
   ]
  },
  {
   "cell_type": "code",
   "execution_count": 242,
   "id": "70217599",
   "metadata": {},
   "outputs": [
    {
     "data": {
      "text/plain": [
       "0.7415730337078652"
      ]
     },
     "execution_count": 242,
     "metadata": {},
     "output_type": "execute_result"
    }
   ],
   "source": [
    "(121+77)/(121+77+54+15)"
   ]
  },
  {
   "cell_type": "code",
   "execution_count": 88,
   "id": "078376e8",
   "metadata": {},
   "outputs": [
    {
     "name": "stdout",
     "output_type": "stream",
     "text": [
      "Processing 138 songs in Progressive genre...\n",
      "Processing 133 songs in Non_Progressive genre...\n"
     ]
    }
   ],
   "source": [
    "import glob\n",
    "# Prepare a list for all the features and all the labels\n",
    "song_names_test = []\n",
    "\n",
    "#genres = ['blues', 'classical', 'country', 'disco', 'hiphop', 'jazz', 'metal', 'pop', 'reggae', 'rock']\n",
    "genres_path = \"Prog_Dataset/Test/\"\n",
    "genres = [\"Progressive\", 'Non_Progressive']\n",
    "# Extract features and genre names from each song\n",
    "for genre in genres:\n",
    "    sound_files = glob.glob(genres_path + genre + '/*')\n",
    "    #print(sound_files)\n",
    "    print('Processing %d songs in %s genre...' % (len(sound_files), genre))\n",
    "    for i, song in enumerate(sound_files):\n",
    "        if (song[-3:] == 'csv') or (song[-3:] == 'ods'):\n",
    "            continue\n",
    "        # Handle corrupt song \n",
    "        song_names_test.append(song)"
   ]
  },
  {
   "cell_type": "code",
   "execution_count": 89,
   "id": "a358e79e",
   "metadata": {},
   "outputs": [],
   "source": [
    "wrong_sample_test = []\n",
    "for sample, prediction, label in zip(state[0].numpy(), pred, state[1]):\n",
    "    if (prediction[0]>0.5) != label.item():\n",
    "        wrong_sample_test.append((sample, prediction[0]))"
   ]
  },
  {
   "cell_type": "code",
   "execution_count": 96,
   "id": "c066def8",
   "metadata": {},
   "outputs": [],
   "source": [
    "wrong_prog_test = []\n",
    "wrong_nonprog_test = []\n",
    "for sample, prediction in wrong_sample_test:\n",
    "    for index, feature in enumerate(all_features_test):\n",
    "        check = True\n",
    "        for i in range(feature.shape[0]):\n",
    "            if abs(feature[i] - sample[i]) >= 0.000001:\n",
    "                check = False\n",
    "                break\n",
    "        if check:\n",
    "            if song_names_test[index][18] == 'P':\n",
    "                #print(feature[50], sample[50])\n",
    "                wrong_prog_test.append((song_names_test[index], prediction))\n",
    "                #print(prediction)\n",
    "            else:\n",
    "                wrong_nonprog_test.append((song_names_test[index], 1-prediction))\n",
    "                #print(1-prediction)\n",
    "    #break\n",
    "            #print(song_names[index])"
   ]
  },
  {
   "cell_type": "code",
   "execution_count": 98,
   "id": "c5b362b6",
   "metadata": {},
   "outputs": [
    {
     "data": {
      "text/plain": [
       "[('Prog_Dataset/Test/Progressive/01 - Red.mp3', 0.9964959),\n",
       " ('Prog_Dataset/Test/Progressive/01. Diana.mp3', 0.99546623),\n",
       " ('Prog_Dataset/Test/Progressive/10_Sorrow.mp3', 0.9991617),\n",
       " ('Prog_Dataset/Test/Progressive/08 - I Spy.mp3', 0.82958865),\n",
       " ('Prog_Dataset/Test/Progressive/02_Freewill.mp3', 0.89174616),\n",
       " ('Prog_Dataset/Test/Progressive/15 Third Eye.mp3', 0.95043784),\n",
       " ('Prog_Dataset/Test/Progressive/04_Birthright.mp3', 0.97781247),\n",
       " ('Prog_Dataset/Test/Progressive/11. Jaguar God.mp3', 0.841949),\n",
       " ('Prog_Dataset/Test/Progressive/03. Little Man.mp3', 0.9999757),\n",
       " ('Prog_Dataset/Test/Progressive/01. Simple Boy.mp3', 0.9989899),\n",
       " ('Prog_Dataset/Test/Progressive/05 - Ouroboros.mp3', 0.9982754),\n",
       " ('Prog_Dataset/Test/Progressive/05 - Stargazers.mp3', 0.99960905),\n",
       " ('Prog_Dataset/Test/Progressive/02 - The Weirding.mp3', 0.9999999),\n",
       " ('Prog_Dataset/Test/Progressive/04 - Running Hard.mp3', 0.9986981),\n",
       " ('Prog_Dataset/Test/Progressive/02 April Ethereal.mp3', 0.6559908),\n",
       " ('Prog_Dataset/Test/Progressive/01. Oblivion_khaos.mp3', 0.99495655),\n",
       " ('Prog_Dataset/Test/Progressive/09 - Quantum Factor.mp3', 0.99983644),\n",
       " ('Prog_Dataset/Test/Progressive/08 Suite Sister Mary.mp3', 0.99950254),\n",
       " ('Prog_Dataset/Test/Progressive/13 - Beyond the Pale.mp3', 0.9991972),\n",
       " ('Prog_Dataset/Test/Progressive/103 Thela Hun Ginjeet.mp3', 0.9934477),\n",
       " ('Prog_Dataset/Test/Progressive/01 Prologue - Autumn.flac', 0.9744451),\n",
       " ('Prog_Dataset/Test/Progressive/05_Turn of the Century.mp3', 0.9982742),\n",
       " ('Prog_Dataset/Test/Progressive/1 robert wyatt SEA SONG.mp3', 1.0),\n",
       " ('Prog_Dataset/Test/Progressive/03 - Symphony X - Fallen.mp3', 0.9984586),\n",
       " ('Prog_Dataset/Test/Progressive/10 Peace To The Mountain.mp3', 0.8509247),\n",
       " (\"Prog_Dataset/Test/Progressive/Dark Light - Sinkin' Deep.mp3\", 0.9524725),\n",
       " ('Prog_Dataset/Test/Progressive/17-Toxicological Whispering.mp3', 0.99999905),\n",
       " ('Prog_Dataset/Test/Progressive/Thrak-King Crimson-06-THRAK.mp3', 0.69976616),\n",
       " ('Prog_Dataset/Test/Progressive/08. Towards The Blue Horizon.mp3', 0.659147),\n",
       " ('Prog_Dataset/Test/Progressive/01 - Assault & Battery Part I.mp3',\n",
       "  0.85969436),\n",
       " ('Prog_Dataset/Test/Progressive/09 - The World We Used to Know.mp3',\n",
       "  0.7885168),\n",
       " ('Prog_Dataset/Test/Progressive/The Gathering - 09 - Saturnine.mp3',\n",
       "  0.99977595),\n",
       " ('Prog_Dataset/Test/Progressive/06 - The Storm Before the Calm.mp3',\n",
       "  0.9989391),\n",
       " ('Prog_Dataset/Test/Progressive/03. Aquarium -remastered 2017-.mp3',\n",
       "  0.9981926),\n",
       " (\"Prog_Dataset/Test/Progressive/08_The_Devil's_Triangle_Part_II.mp3\",\n",
       "  0.9967855),\n",
       " ('Prog_Dataset/Test/Progressive/Devin Townsend Project - Kingdom.mp3',\n",
       "  0.99980766),\n",
       " ('Prog_Dataset/Test/Progressive/04. Selkies- The Endless Obsession.mp3',\n",
       "  0.99986744),\n",
       " ('Prog_Dataset/Test/Progressive/Barclay James Harvest - Mocking Bird.mp3',\n",
       "  0.95042837),\n",
       " ('Prog_Dataset/Test/Progressive/101-emerson_lake_and_palmer-jerusalem.mp3',\n",
       "  0.9982229),\n",
       " ('Prog_Dataset/Test/Progressive/19 - Islands (Live at The Egg, Albany, NY).mp3',\n",
       "  0.99513924),\n",
       " (\"Prog_Dataset/Test/Progressive/King Crimson - Islands - 02 - Sailor's Tale.mp3\",\n",
       "  0.9881164),\n",
       " ('Prog_Dataset/Test/Progressive/The Power To Believe-King Crimson-08-Dangerous Curves.mp3',\n",
       "  0.99997246),\n",
       " ('Prog_Dataset/Test/Progressive/The Power To Believe-King Crimson-07-The Power To Believe II.mp3',\n",
       "  0.98463225),\n",
       " ('Prog_Dataset/Test/Progressive/captain beefheart - trout mask replica - 05 - hair pie- bake .mp3',\n",
       "  0.9487658),\n",
       " ('Prog_Dataset/Test/Progressive/02-And You And I (I. Cord Of Life, II. Eclipse, III. The Preacher The Teacher, IV. Apocalypse).mp3',\n",
       "  0.987275)]"
      ]
     },
     "execution_count": 98,
     "metadata": {},
     "output_type": "execute_result"
    }
   ],
   "source": [
    "wrong_prog_test"
   ]
  },
  {
   "cell_type": "code",
   "execution_count": 99,
   "id": "f26986bf",
   "metadata": {},
   "outputs": [],
   "source": [
    "res_dict = []\n",
    "for song, prediction in wrong_prog_test:\n",
    "    res_dict.append({'Song names':song[30:], 'Probability for wrong class': prediction, 'True label': 'Prog'})\n",
    "for song, prediction in wrong_nonprog_test:\n",
    "    res_dict.append({'Song names':song[34:], 'Probability for wrong class': prediction, 'True label': 'Non-Prog'})"
   ]
  },
  {
   "cell_type": "code",
   "execution_count": 100,
   "id": "d0e4ec41",
   "metadata": {},
   "outputs": [],
   "source": [
    "# name of csv file\n",
    "import csv\n",
    "\n",
    "filename = \"FC_FD_Misclassification_Test.csv\"\n",
    "fields = ['Song names', 'Probability for wrong class', 'True label']\n",
    "# writing to csv file\n",
    "with open(filename, 'w') as csvfile:\n",
    "    # creating a csv dict writer object\n",
    "    writer = csv.DictWriter(csvfile, fieldnames=fields)\n",
    " \n",
    "    # writing headers (field names)\n",
    "    writer.writeheader()\n",
    " \n",
    "    # writing data rows\n",
    "    writer.writerows(res_dict)"
   ]
  },
  {
   "cell_type": "code",
   "execution_count": 80,
   "id": "9da4fdfa",
   "metadata": {},
   "outputs": [
    {
     "name": "stdout",
     "output_type": "stream",
     "text": [
      "Processing 22 songs in Other genre...\n",
      "Prog_Dataset/Test/Other/01 Arithmophobia.mp3\n",
      "(17088,)\n",
      "Prog_Dataset/Test/Other/PERIPHERY - Zyglrox.mp3\n",
      "(17088,)\n",
      "Prog_Dataset/Test/Other/Meshuggah- Soul Burn.mp3\n",
      "(17088,)\n",
      "Prog_Dataset/Test/Other/06 A Light Will Shine.mp3\n",
      "(17088,)\n",
      "Prog_Dataset/Test/Other/05. Physical Education.mp3\n",
      "(17088,)\n",
      "Prog_Dataset/Test/Other/SikTh - Hold My Finger.mp3\n",
      "(17088,)\n",
      "Prog_Dataset/Test/Other/Veil Of Maya - Punisher.mp3\n",
      "(17088,)\n",
      "Prog_Dataset/Test/Other/CHIMP SPANNER - Bad Code.mp3\n",
      "(17088,)\n",
      "Prog_Dataset/Test/Other/The Algorithm - Isometry.mp3\n",
      "(17088,)\n",
      "Prog_Dataset/Test/Other/01-darko_us-splinter_cell.mp3\n",
      "(17088,)\n",
      "Prog_Dataset/Test/Other/03 - Language II Conspire.mp3\n",
      "(17088,)\n",
      "Prog_Dataset/Test/Other/MONUMENTS - I, The Creator.mp3\n",
      "(17088,)\n",
      "Prog_Dataset/Test/Other/HEART OF A COWARD - Hollow.mp3\n",
      "(17088,)\n",
      "Prog_Dataset/Test/Other/BORN OF OSIRIS - Divergency.mp3\n",
      "(17088,)\n",
      "Prog_Dataset/Test/Other/Hacktivist - DECEIVE AND DEFY.mp3\n",
      "(17088,)\n",
      "Prog_Dataset/Test/Other/07 The Race Is About To Begin.mp3\n",
      "(17088,)\n",
      "Prog_Dataset/Test/Other/Textures - Laments Of An Icarus.mp3\n",
      "(17088,)\n",
      "Prog_Dataset/Test/Other/08-the_haarp_machine-machine_over.mp3\n",
      "(17088,)\n",
      "Prog_Dataset/Test/Other/Cloudkicker - Let yourself be huge.mp3\n",
      "(17088,)\n",
      "Prog_Dataset/Test/Other/b1-master_boot_record-dma_4_cascade.mp3\n",
      "(17088,)\n",
      "Prog_Dataset/Test/Other/AFTER THE BURIAL - A Wolf Amongst Ravens.mp3\n",
      "(17088,)\n",
      "Prog_Dataset/Test/Other/06-1289, Voyeur Will Shine, Fight For Distinction, Evolution Is Mine..mp3\n",
      "(17088,)\n"
     ]
    }
   ],
   "source": [
    "import glob\n",
    "# Prepare a list for all the features and all the labels\n",
    "all_features_test_2 = []\n",
    "all_labels_test_2 = []\n",
    "\n",
    "#genres = ['blues', 'classical', 'country', 'disco', 'hiphop', 'jazz', 'metal', 'pop', 'reggae', 'rock']\n",
    "genres_path = \"Prog_Dataset/Test/\"\n",
    "genres = [\"Other\"]\n",
    "# Extract features and genre names from each song\n",
    "for genre in genres:\n",
    "    sound_files = glob.glob(genres_path + genre + '/*')\n",
    "    #print(sound_files)\n",
    "    print('Processing %d songs in %s genre...' % (len(sound_files), genre))\n",
    "    for i, song in enumerate(sound_files):\n",
    "        if (song[-3:] == 'csv') or (song[-3:] == 'ods'):\n",
    "            continue\n",
    "        # Handle corrupt song \n",
    "        if 'jazz.00054.wav' in song:\n",
    "            features = extract_features_song_get_means(sound_files[i - 1])\n",
    "        else:\n",
    "            features = extract_features_song_get_means(song)\n",
    "\n",
    "        all_features_test_2.append(features)\n",
    "        if genre == 'Progressive':\n",
    "            all_labels_test_2.append(0)\n",
    "        else:\n",
    "            all_labels_test_2.append(1)"
   ]
  },
  {
   "cell_type": "code",
   "execution_count": 81,
   "id": "d56f9b66",
   "metadata": {},
   "outputs": [],
   "source": [
    "features_test_2=np.stack(all_features_test_2)\n",
    "labels_test_2=np.stack(all_labels_test_2)\n",
    "features_test_2 = features_test_2.astype('float32')\n",
    "labels_test_2 = labels_test_2.astype('int64')\n",
    "features_tensor_test_2 = torch.from_numpy(features_test_2)\n",
    "labels_tensor_test_2 = torch.from_numpy(labels_test_2)\n",
    "dataset_test_2 = TensorDataset(features_tensor_test_2, labels_tensor_test_2)\n",
    "test_dl_2 = DataLoader(dataset_test_2, batch_size = 267, num_workers = 2, pin_memory = True)\n",
    "test_loader_2 = DeviceDataLoader(test_dl_2, device)"
   ]
  },
  {
   "cell_type": "code",
   "execution_count": 101,
   "id": "5e571a3d",
   "metadata": {},
   "outputs": [
    {
     "name": "stdout",
     "output_type": "stream",
     "text": [
      "[[ 0  0]\n",
      " [ 4 18]]\n"
     ]
    }
   ],
   "source": [
    "for state in test_loader_2:    \n",
    "    #print(state[0].shape)\n",
    "    pred = model1(state[0]).detach().numpy()\n",
    "    cm=sklearn.metrics.confusion_matrix(state[1],pred > 0.5)\n",
    "    print(cm)"
   ]
  },
  {
   "cell_type": "code",
   "execution_count": 102,
   "id": "8d1873a5",
   "metadata": {},
   "outputs": [
    {
     "name": "stdout",
     "output_type": "stream",
     "text": [
      "Processing 22 songs in Other genre...\n"
     ]
    }
   ],
   "source": [
    "import glob\n",
    "# Prepare a list for all the features and all the labels\n",
    "song_names_2 = []\n",
    "\n",
    "#genres = ['blues', 'classical', 'country', 'disco', 'hiphop', 'jazz', 'metal', 'pop', 'reggae', 'rock']\n",
    "genres_path = \"Prog_Dataset/Test/\"\n",
    "genres = [\"Other\"]\n",
    "# Extract features and genre names from each song\n",
    "for genre in genres:\n",
    "    sound_files = glob.glob(genres_path + genre + '/*')\n",
    "    #print(sound_files)\n",
    "    print('Processing %d songs in %s genre...' % (len(sound_files), genre))\n",
    "    for i, song in enumerate(sound_files):\n",
    "        if (song[-3:] == 'csv') or (song[-3:] == 'ods'):\n",
    "            continue\n",
    "        # Handle corrupt song \n",
    "        song_names_2.append(song)"
   ]
  },
  {
   "cell_type": "code",
   "execution_count": 103,
   "id": "ba09736f",
   "metadata": {},
   "outputs": [],
   "source": [
    "song_list = []\n",
    "for sample, prediction in zip(state[0].numpy(), pred):\n",
    "    if (prediction[0]>0.5):\n",
    "        song_list.append((sample, 0))\n",
    "    else:\n",
    "        song_list.append((sample, 1))"
   ]
  },
  {
   "cell_type": "code",
   "execution_count": 104,
   "id": "9b0d4770",
   "metadata": {},
   "outputs": [],
   "source": [
    "res_dict_2 = []\n",
    "for sample, prediction in song_list:\n",
    "    for index, feature in enumerate(all_features_test_2):\n",
    "        check = True\n",
    "        for i in range(feature.shape[0]):\n",
    "            if abs(feature[i] - sample[i]) >= 0.0000001:\n",
    "                check = False\n",
    "                break\n",
    "        if check:\n",
    "            if prediction == 0:\n",
    "                res_dict_2.append({'Song names': song_names_2[index][24:], 'Predicted label': 'Prog'})\n",
    "                #print(prediction)\n",
    "            else:\n",
    "                res_dict_2.append({'Song names': song_names_2[index][24:], 'Predicted label': 'Non-Prog'})\n",
    "                #print(1-prediction)\n",
    "    #break\n",
    "            #print(song_names[index])"
   ]
  },
  {
   "cell_type": "code",
   "execution_count": 106,
   "id": "99a445a8",
   "metadata": {},
   "outputs": [
    {
     "data": {
      "text/plain": [
       "[{'Song names': '01 Arithmophobia.mp3', 'Predicted label': 'Prog'},\n",
       " {'Song names': 'PERIPHERY - Zyglrox.mp3', 'Predicted label': 'Non-Prog'},\n",
       " {'Song names': 'Meshuggah- Soul Burn.mp3', 'Predicted label': 'Prog'},\n",
       " {'Song names': '06 A Light Will Shine.mp3', 'Predicted label': 'Prog'},\n",
       " {'Song names': '05. Physical Education.mp3', 'Predicted label': 'Prog'},\n",
       " {'Song names': 'SikTh - Hold My Finger.mp3', 'Predicted label': 'Non-Prog'},\n",
       " {'Song names': 'Veil Of Maya - Punisher.mp3', 'Predicted label': 'Prog'},\n",
       " {'Song names': 'CHIMP SPANNER - Bad Code.mp3', 'Predicted label': 'Non-Prog'},\n",
       " {'Song names': 'The Algorithm - Isometry.mp3', 'Predicted label': 'Prog'},\n",
       " {'Song names': '01-darko_us-splinter_cell.mp3', 'Predicted label': 'Prog'},\n",
       " {'Song names': '03 - Language II Conspire.mp3', 'Predicted label': 'Prog'},\n",
       " {'Song names': 'MONUMENTS - I, The Creator.mp3', 'Predicted label': 'Prog'},\n",
       " {'Song names': 'HEART OF A COWARD - Hollow.mp3', 'Predicted label': 'Prog'},\n",
       " {'Song names': 'BORN OF OSIRIS - Divergency.mp3', 'Predicted label': 'Prog'},\n",
       " {'Song names': 'Hacktivist - DECEIVE AND DEFY.mp3',\n",
       "  'Predicted label': 'Prog'},\n",
       " {'Song names': '07 The Race Is About To Begin.mp3',\n",
       "  'Predicted label': 'Prog'},\n",
       " {'Song names': 'Textures - Laments Of An Icarus.mp3',\n",
       "  'Predicted label': 'Prog'},\n",
       " {'Song names': '08-the_haarp_machine-machine_over.mp3',\n",
       "  'Predicted label': 'Prog'},\n",
       " {'Song names': 'Cloudkicker - Let yourself be huge.mp3',\n",
       "  'Predicted label': 'Prog'},\n",
       " {'Song names': 'b1-master_boot_record-dma_4_cascade.mp3',\n",
       "  'Predicted label': 'Non-Prog'},\n",
       " {'Song names': 'AFTER THE BURIAL - A Wolf Amongst Ravens.mp3',\n",
       "  'Predicted label': 'Prog'},\n",
       " {'Song names': '06-1289, Voyeur Will Shine, Fight For Distinction, Evolution Is Mine..mp3',\n",
       "  'Predicted label': 'Prog'}]"
      ]
     },
     "execution_count": 106,
     "metadata": {},
     "output_type": "execute_result"
    }
   ],
   "source": [
    "res_dict_2"
   ]
  },
  {
   "cell_type": "code",
   "execution_count": 105,
   "id": "a21c7317",
   "metadata": {},
   "outputs": [],
   "source": [
    "# name of csv file\n",
    "import csv\n",
    "\n",
    "filename = \"FC_FD_PostProg_Prediction.csv\"\n",
    "fields = ['Song names', 'Predicted label']\n",
    "# writing to csv file\n",
    "with open(filename, 'w') as csvfile:\n",
    "    # creating a csv dict writer object\n",
    "    writer = csv.DictWriter(csvfile, fieldnames=fields)\n",
    " \n",
    "    # writing headers (field names)\n",
    "    writer.writeheader()\n",
    " \n",
    "    # writing data rows\n",
    "    writer.writerows(res_dict_2)"
   ]
  }
 ],
 "metadata": {
  "kernelspec": {
   "display_name": "Python 3 (ipykernel)",
   "language": "python",
   "name": "python3"
  },
  "language_info": {
   "codemirror_mode": {
    "name": "ipython",
    "version": 3
   },
   "file_extension": ".py",
   "mimetype": "text/x-python",
   "name": "python",
   "nbconvert_exporter": "python",
   "pygments_lexer": "ipython3",
   "version": "3.9.7"
  }
 },
 "nbformat": 4,
 "nbformat_minor": 5
}
