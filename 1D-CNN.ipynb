{
 "cells": [
  {
   "cell_type": "code",
   "execution_count": 1,
   "id": "0b0e8561",
   "metadata": {},
   "outputs": [
    {
     "name": "stderr",
     "output_type": "stream",
     "text": [
      "/home/hoangngominh98/anaconda3/lib/python3.9/site-packages/torchvision/io/image.py:13: UserWarning: Failed to load image Python extension: libc10_cuda.so: cannot open shared object file: No such file or directory\n",
      "  warn(f\"Failed to load image Python extension: {e}\")\n"
     ]
    }
   ],
   "source": [
    "# Importing Libraries\n",
    "import os\n",
    "import librosa\n",
    "import soundfile\n",
    "import torch\n",
    "\n",
    "import numpy as np\n",
    "import matplotlib.pyplot as plt\n",
    "import librosa.display\n",
    "\n",
    "from tqdm import tqdm\n",
    "from torch.utils.data import Dataset, DataLoader\n",
    "from torchvision import transforms\n"
   ]
  },
  {
   "cell_type": "code",
   "execution_count": 3,
   "id": "d7ebecee",
   "metadata": {},
   "outputs": [],
   "source": [
    "from sklearn import preprocessing\n",
    "\n",
    "def extract_features_song_get_means(song):\n",
    "    print(song)\n",
    "    rate = 22050\n",
    "    y, _ = librosa.load(song, sr = rate)\n",
    "\n",
    "    # get Mel-frequency cepstral coefficients\n",
    "    #print(y.shape)\n",
    "    #sample = 2000000\n",
    "    #mfcc = librosa.feature.mfcc(y = y[:sample])\n",
    "    # normalize values between -1,1 (divide by max)\n",
    "    #mfcc /= np.amax(np.absolute(mfcc))\n",
    "    magnitude = np.abs(librosa.stft(y))\n",
    "    mel_spec = librosa.feature.melspectrogram(S = magnitude**2)\n",
    "    mfcc = librosa.feature.mfcc(S = librosa.power_to_db(mel_spec))\n",
    "    chroma = librosa.feature.chroma_stft(S = magnitude)\n",
    "    \n",
    "    # tempo, beat_frames = librosa.beat.beat_track(y = snippet, sr = sr)\n",
    "    # cq_chroma = librosa.feature.chroma_cqt(y = snippet, sr = sr)\n",
    "    # onset_env = librosa.onset.onset_strength(y = snippet, sr=sr)\n",
    "    features = np.concatenate((mel_spec, mfcc, chroma), axis=0)\n",
    "    print(features.shape)\n",
    "    #return np.ndarray.flatten(features)\n",
    "    return np.array(features)"
   ]
  },
  {
   "cell_type": "code",
   "execution_count": 4,
   "id": "7436f823",
   "metadata": {},
   "outputs": [
    {
     "name": "stdout",
     "output_type": "stream",
     "text": [
      "Processing 142 songs in Progressive genre...\n",
      "Prog_Dataset/Progressive/01. The Same River.mp3\n",
      "(160, 31090)\n",
      "Prog_Dataset/Progressive/Pain of Salvation - The Perfect Element I - 02. In the Flesh.mp3\n",
      "(160, 22242)\n",
      "Prog_Dataset/Progressive/06. Anekdoten - Our Days Are Numbered.mp3\n",
      "(160, 22235)\n",
      "Prog_Dataset/Progressive/02. The Road Of Bones.mp3\n",
      "(160, 22069)\n",
      "Prog_Dataset/Progressive/01_Genesis_Watcher of the Skies.mp3\n",
      "(160, 19089)\n",
      "Prog_Dataset/Progressive/La conquista della posizione eretta.mp3\n",
      "(160, 22510)\n",
      "Prog_Dataset/Progressive/Kraftwerk - 01 - Autobahn.mp3\n",
      "(160, 58840)\n",
      "Prog_Dataset/Progressive/02 - Odyssey.mp3\n",
      "(160, 19672)\n",
      "Prog_Dataset/Progressive/01-The Bryden 2-Step (For Amphibians), Pt.1.mp3\n",
      "(160, 23028)\n",
      "Prog_Dataset/Progressive/01 - Phaedra.mp3\n",
      "(160, 43402)\n",
      "Prog_Dataset/Progressive/08 - Octavarium.mp3\n",
      "(160, 62017)\n",
      "Prog_Dataset/Progressive/05_Arriving Somewhere but Not Here.mp3\n",
      "(160, 31103)\n",
      "Prog_Dataset/Progressive/Kansas_08_Magnum_Opus.mp3\n"
     ]
    },
    {
     "name": "stderr",
     "output_type": "stream",
     "text": [
      "Note: Illegal Audio-MPEG-Header 0x4c595249 at offset 20630146.\n",
      "Note: Trying to resync...\n",
      "Note: Hit end of (available) data during resync.\n"
     ]
    },
    {
     "name": "stdout",
     "output_type": "stream",
     "text": [
      "(160, 22211)\n",
      "Prog_Dataset/Progressive/Baris_Manco_Bay_Koca_Destani_2023.mp3\n",
      "(160, 33139)\n",
      "Prog_Dataset/Progressive/05_Schism.mp3\n",
      "(160, 17553)\n",
      "Prog_Dataset/Progressive/12 - The Garden.mp3\n",
      "(160, 18064)\n",
      "Prog_Dataset/Progressive/03_Anesthetize.mp3\n",
      "(160, 45779)\n",
      "Prog_Dataset/Progressive/01-Zarathustra.mp3\n",
      "(160, 53137)\n",
      "Prog_Dataset/Progressive/Procol_Harum_In_Held.mp3\n",
      "(160, 45613)\n",
      "Prog_Dataset/Progressive/105-emerson_lake_and_palmer-karn_evil_9_1st_impression_(part_1).mp3\n",
      "(160, 22179)\n",
      "Prog_Dataset/Progressive/Appena un poco.mp3\n",
      "(160, 20092)\n",
      "Prog_Dataset/Progressive/01-genesis-dancing_with_the_moonlit_knight.mp3\n",
      "(160, 20804)\n",
      "Prog_Dataset/Progressive/Syzygy_Dialectic.mp3\n",
      "(160, 42812)\n",
      "Prog_Dataset/Progressive/05. Part V.mp3\n",
      "(160, 13980)\n",
      "Prog_Dataset/Progressive/05-Nine Feet Underground.mp3\n",
      "(160, 58746)\n",
      "Prog_Dataset/Progressive/(Disc 2) 01 - Telepathic Minds.mp3\n",
      "(160, 44700)\n",
      "Prog_Dataset/Progressive/05 - Starless.mp3\n",
      "(160, 32145)\n",
      "Prog_Dataset/Progressive/103 Epitaph.mp3\n",
      "(160, 22937)\n",
      "Prog_Dataset/Progressive/03 - Halleluwah.mp3\n",
      "(160, 23789)\n",
      "Prog_Dataset/Progressive/06-In a glass house.mp3\n",
      "(160, 21840)\n",
      "Prog_Dataset/Progressive/MIKE OLDFIELD - Part One (Tubular Bells I).mp3\n",
      "(160, 66179)\n",
      "Prog_Dataset/Progressive/205 The Court Of The Crimson King.mp3\n",
      "(160, 24371)\n",
      "Prog_Dataset/Progressive/Eloy - Poseidon_s Creation.mp3\n",
      "(160, 30342)\n",
      "Prog_Dataset/Progressive/4-Song Of Scheherazade.mp3\n",
      "(160, 63890)\n",
      "Prog_Dataset/Progressive/08 - White Walls.mp3\n",
      "(160, 36742)\n",
      "Prog_Dataset/Progressive/02 In a Silent Way...It_s About that Time.mp3\n",
      "(160, 51350)\n",
      "Prog_Dataset/Progressive/01_2112_I_Overture_II_Temples_of_Syrinx_III_Discovery_IV_Presentation_V_Oracle_VI_Soliloquy_VII_Grand_Finale.mp3\n",
      "(160, 53351)\n",
      "Prog_Dataset/Progressive/01. Hallogallo.mp3\n",
      "(160, 26160)\n",
      "Prog_Dataset/Progressive/01. Folklore.mp3\n",
      "(160, 19423)\n",
      "Prog_Dataset/Progressive/08 - The Divine Wings Of Tragedy.mp3\n",
      "(160, 53522)\n",
      "Prog_Dataset/Progressive/Emerson_Lake_Palmer_Peter_Gunn.mp3\n",
      "(160, 9777)\n",
      "Prog_Dataset/Progressive/01_A_Change_of_Seasons_I_Sunrise_II_Innocence_III_Carpe_Diem_IV_Winters_V_Another_World_VI_Summer_VII_Sunset.mp3\n",
      "(160, 59841)\n",
      "Prog_Dataset/Progressive/05 - Fatal Tragedy.mp3\n",
      "(160, 17631)\n",
      "Prog_Dataset/Progressive/Thick As A Brick.mp3\n",
      "(160, 112931)\n",
      "Prog_Dataset/Progressive/07_The_Night_Nights_in_White_Satin.mp3\n",
      "(160, 19359)\n",
      "Prog_Dataset/Progressive/-04- Knots.mp3\n",
      "(160, 10810)\n",
      "Prog_Dataset/Progressive/09. Bo Hansson - Rohans Horn - Slaget vid Pelennors slatter.mp3\n",
      "(160, 10355)\n",
      "Prog_Dataset/Progressive/01_Genesis_The Musical Box.mp3\n",
      "(160, 27102)\n",
      "Prog_Dataset/Progressive/09 - Ancestral.mp3\n",
      "(160, 35029)\n",
      "Prog_Dataset/Progressive/06 - Scene Four  Beyond This Life.mp3\n",
      "(160, 29400)\n",
      "Prog_Dataset/Progressive/04. Second Life Syndrome.mp3\n",
      "(160, 40497)\n",
      "Prog_Dataset/Progressive/01 Script For A Jester_s Tear.mp3\n"
     ]
    },
    {
     "name": "stderr",
     "output_type": "stream",
     "text": [
      "[src/libmpg123/id3.c:process_comment():584] error: No comment text / valid description?\n"
     ]
    },
    {
     "name": "stdout",
     "output_type": "stream",
     "text": [
      "(160, 22511)\n",
      "Prog_Dataset/Progressive/06 - Ultimo Entardecer.mp3\n"
     ]
    },
    {
     "name": "stderr",
     "output_type": "stream",
     "text": [
      "[src/libmpg123/id3.c:process_comment():584] error: No comment text / valid description?\n"
     ]
    },
    {
     "name": "stdout",
     "output_type": "stream",
     "text": [
      "(160, 24536)\n",
      "Prog_Dataset/Progressive/01 - Songs From The Wood (2003 Digital Remaster).mp3\n",
      "(160, 12729)\n",
      "Prog_Dataset/Progressive/01_Yours Is No Disgrace.mp3\n",
      "(160, 25082)\n",
      "Prog_Dataset/Progressive/01-The runaway.mp3\n",
      "(160, 18752)\n",
      "Prog_Dataset/Progressive/01 - Luminol.mp3\n",
      "(160, 31444)\n",
      "Prog_Dataset/Progressive/01_Shine On You Crazy Diamond I.mp3\n",
      "(160, 35009)\n",
      "Prog_Dataset/Progressive/08 - Kingdom Of Dreams.mp3\n",
      "(160, 17604)\n",
      "Prog_Dataset/Progressive/03. Omen.mp3\n",
      "(160, 33559)\n",
      "Prog_Dataset/Progressive/05 Soup.mp3\n",
      "(160, 27239)\n",
      "Prog_Dataset/Progressive/08. Guardian.mp3\n",
      "(160, 19475)\n",
      "Prog_Dataset/Progressive/01 Peaches En Regalia.mp3\n",
      "(160, 9422)\n",
      "Prog_Dataset/Progressive/5 A Sprinkling Of Clouds.mp3\n",
      "(160, 23152)\n",
      "Prog_Dataset/Progressive/09 Heart Of The Sunrise.mp3\n",
      "(160, 29832)\n",
      "Prog_Dataset/Progressive/01_-_the_revealing_science_of_god_-_dance_of_the_dawn_320_lame_cbr.mp3\n",
      "(160, 52805)\n",
      "Prog_Dataset/Progressive/05_The_Afternoon_a_Afternoon_b_Evening.mp3\n",
      "(160, 21686)\n",
      "Prog_Dataset/Progressive/05. When the Water Breaks.mp3\n",
      "(160, 43828)\n",
      "Prog_Dataset/Progressive/Opeth - The Moor.mp3\n",
      "(160, 29543)\n",
      "Prog_Dataset/Progressive/06. Milliontown.mp3\n",
      "(160, 68707)\n",
      "Prog_Dataset/Progressive/03-genesis-firth_of_fifth.mp3\n",
      "(160, 24757)\n",
      "Prog_Dataset/Progressive/01. Hazard Profile Part One.mp3\n",
      "(160, 24097)\n",
      "Prog_Dataset/Progressive/01 - When the Heart Rules the Mind.mp3\n",
      "(160, 14166)\n",
      "Prog_Dataset/Progressive/05-Phallus Dei.mp3\n",
      "(160, 53716)\n",
      "Prog_Dataset/Progressive/06_Genesis_Supper_s Ready.mp3\n",
      "(160, 59113)\n",
      "Prog_Dataset/Progressive/03Uriah Heep - July Morning.mp3\n",
      "(160, 27258)\n",
      "Prog_Dataset/Progressive/04 The Sleepwalkers.mp3\n",
      "(160, 27608)\n",
      "Prog_Dataset/Progressive/06 Mekanik Kommandoh.mp3\n",
      "(160, 10718)\n",
      "Prog_Dataset/Progressive/01 Close to the Edge I. The Solid Time of Change II. Total Mass Retain III.  I GetUp I Get Down IV. Seasons of Man).mp3\n",
      "(160, 48433)\n",
      "Prog_Dataset/Progressive/01 Meeting of the Spirits.mp3\n",
      "(160, 17722)\n",
      "Prog_Dataset/Progressive/06 - Echoes.mp3\n"
     ]
    },
    {
     "name": "stderr",
     "output_type": "stream",
     "text": [
      "[src/libmpg123/id3.c:process_comment():584] error: No comment text / valid description?\n"
     ]
    },
    {
     "name": "stdout",
     "output_type": "stream",
     "text": [
      "(160, 60665)\n",
      "Prog_Dataset/Progressive/04-Stranger In Your Soul_Resampled.mp3\n",
      "(160, 77530)\n",
      "Prog_Dataset/Progressive/01. Vert.mp3\n",
      "(160, 14447)\n",
      "Prog_Dataset/Progressive/02_Dogs.mp3\n",
      "(160, 44202)\n",
      "Prog_Dataset/Progressive/03 A Plague of Lighthouse Keepers.mp3\n",
      "(160, 59978)\n",
      "Prog_Dataset/Progressive/The Flower Kings - 1997 Stardust We Are CD2 - 11 - Stardust We Are.mp3\n",
      "(160, 64759)\n",
      "Prog_Dataset/Progressive/07 - Zartlicher Abschied.mp3\n",
      "(160, 16212)\n",
      "Prog_Dataset/Progressive/03_YYZ_Rush_Moving_Pictures_Deluxe_Edition_2011.mp3\n",
      "(160, 11451)\n",
      "Prog_Dataset/Progressive/04_La_Villa_Strangiato_Rush_Hemispheres_Deluxe_Edition.mp3\n",
      "(160, 24774)\n",
      "Prog_Dataset/Progressive/05 Red Shift.mp3\n",
      "(160, 21207)\n",
      "Prog_Dataset/Progressive/08-This Strange Engine.mp3\n",
      "(160, 78558)\n",
      "Prog_Dataset/Progressive/08 - Lady Fantasy.mp3\n",
      "(160, 41584)\n",
      "Prog_Dataset/Progressive/01 - School.mp3\n",
      "(160, 14401)\n",
      "Prog_Dataset/Progressive/03 - Suenos De Maniqui.mp3\n",
      "(160, 24083)\n",
      "Prog_Dataset/Progressive/01.A passion play 1.mp3\n",
      "(160, 59713)\n",
      "Prog_Dataset/Progressive/01 - Roundabout.mp3\n",
      "(160, 22219)\n",
      "Prog_Dataset/Progressive/03_Time.mp3\n",
      "(160, 18309)\n",
      "Prog_Dataset/Progressive/11 Bohemian Rhapsody.mp3\n",
      "(160, 15285)\n",
      "Prog_Dataset/Progressive/13 Aenema.mp3\n",
      "(160, 17214)\n",
      "Prog_Dataset/Progressive/01. The Light.mp3\n",
      "(160, 40167)\n",
      "Prog_Dataset/Progressive/01Al Di Meola - Flight over Rio.mp3\n",
      "(160, 18806)\n",
      "Prog_Dataset/Progressive/06 Megalyth.mp3\n",
      "(160, 5125)\n",
      "Prog_Dataset/Progressive/L_evoluzione.mp3\n",
      "(160, 36133)\n",
      "Prog_Dataset/Progressive/02 Willie The Pimp.mp3\n",
      "(160, 23984)\n",
      "Prog_Dataset/Progressive/01 - UFO.mp3\n"
     ]
    },
    {
     "name": "stderr",
     "output_type": "stream",
     "text": [
      "[src/libmpg123/id3.c:process_comment():584] error: No comment text / valid description?\n"
     ]
    },
    {
     "name": "stdout",
     "output_type": "stream",
     "text": [
      "(160, 16714)\n",
      "Prog_Dataset/Progressive/Frances the Mute-The Mars Volta-05-Cassandra Geminni 1.mp3\n",
      "(160, 12304)\n",
      "Prog_Dataset/Progressive/06-king_crimson-larks_tounges_in_aspic_(part_ii).mp3\n",
      "(160, 19121)\n",
      "Prog_Dataset/Progressive/07 A Louse Is Not A Home.mp3\n",
      "(160, 32351)\n",
      "Prog_Dataset/Progressive/01 - Birds of Fire.mp3\n",
      "(160, 14969)\n",
      "Prog_Dataset/Progressive/101 21st Century Schizoid Man.mp3\n",
      "(160, 19137)\n",
      "Prog_Dataset/Progressive/05 - Vivaldi.mp3\n"
     ]
    },
    {
     "name": "stderr",
     "output_type": "stream",
     "text": [
      "[src/libmpg123/id3.c:process_comment():584] error: No comment text / valid description?\n"
     ]
    },
    {
     "name": "stdout",
     "output_type": "stream",
     "text": [
      "(160, 19417)\n",
      "Prog_Dataset/Progressive/01-hymn_of_the_seventh_galaxy_320_lame_cbr.mp3\n",
      "(160, 9129)\n",
      "Prog_Dataset/Progressive/Big Big Train - English Electric (Part Two) - 01 - East Coast Racer.mp3\n",
      "(160, 40613)\n",
      "Prog_Dataset/Progressive/09 - Headlong Flight.mp3\n",
      "(160, 18964)\n",
      "Prog_Dataset/Progressive/04 Black Rose Immortal.mp3\n",
      "(160, 52306)\n",
      "Prog_Dataset/Progressive/01_-_ace_of_wands_320_lame_cbr.mp3\n",
      "(160, 14000)\n",
      "Prog_Dataset/Progressive/02 Scorched Earth.mp3\n",
      "(160, 25112)\n",
      "Prog_Dataset/Progressive/04 - The River Under.mp3\n",
      "(160, 22420)\n",
      "Prog_Dataset/Progressive/5  The architect.mp3\n",
      "(160, 12421)\n",
      "Prog_Dataset/Progressive/09 - Ice (Remastered 2023).mp3\n",
      "(160, 26508)\n",
      "Prog_Dataset/Progressive/103 Moon In June.mp3\n",
      "(160, 49440)\n",
      "Prog_Dataset/Progressive/02 Can You Understand.mp3\n",
      "(160, 26842)\n",
      "Prog_Dataset/Progressive/12-animals_as_leaders-song_of_solomon.mp3\n",
      "(160, 10946)\n",
      "Prog_Dataset/Progressive/02. Bleed (live).mp3\n",
      "(160, 19514)\n",
      "Prog_Dataset/Progressive/4 Foxlight.mp3\n",
      "(160, 34419)\n",
      "Prog_Dataset/Progressive/04Billy Cobham - Stratus.mp3\n",
      "(160, 25383)\n",
      "Prog_Dataset/Progressive/01 The Gates Of Delirium.mp3\n",
      "(160, 56682)\n",
      "Prog_Dataset/Progressive/08_-_opeth_-_blackwater park_-_blackwater park.mp3\n",
      "(160, 31367)\n",
      "Prog_Dataset/Progressive/07 - Fool_s Overture.mp3\n",
      "(160, 28106)\n",
      "Prog_Dataset/Progressive/01 Hortz Fur Dehn Stekehn West.mp3\n",
      "(160, 24728)\n",
      "Prog_Dataset/Progressive/04. The Czar I. Usurper - II. Escape - III. Martyr - IV. Spiral_khaos[].mp3\n",
      "(160, 28092)\n",
      "Prog_Dataset/Progressive/01-Hocus Pocus.mp3\n",
      "(160, 17381)\n",
      "Prog_Dataset/Progressive/01-Sospesi Nell_Incredibile.mp3\n",
      "(160, 22431)\n",
      "Prog_Dataset/Progressive/Ne_Obliviscaris_And_Plague_Flowers_The_Kaleidoscope.mp3\n",
      "(160, 29843)\n",
      "Prog_Dataset/Progressive/101-elp-tarkus.mp3\n",
      "(160, 53359)\n",
      "Prog_Dataset/Progressive/Caravan_The_Love_In_Your_Eye.mp3\n",
      "(160, 11023)\n",
      "Prog_Dataset/Progressive/01 - Song Within A Song.mp3\n",
      "(160, 18688)\n",
      "Prog_Dataset/Progressive/01 Jordrok.mp3\n",
      "(160, 28884)\n",
      "Prog_Dataset/Progressive/Steve_Hackett_The_Return_of_the_Giant_Hogweed.mp3\n",
      "(160, 22630)\n",
      "Prog_Dataset/Progressive/04 Operation- Mindcrime.mp3\n",
      "(160, 12286)\n",
      "Prog_Dataset/Progressive/06 Forgotten Sons.mp3\n"
     ]
    },
    {
     "name": "stderr",
     "output_type": "stream",
     "text": [
      "[src/libmpg123/id3.c:process_comment():584] error: No comment text / valid description?\n"
     ]
    },
    {
     "name": "stdout",
     "output_type": "stream",
     "text": [
      "(160, 21676)\n",
      "Prog_Dataset/Progressive/13 - A Day in the Life.mp3\n",
      "(160, 14381)\n",
      "Processing 87 songs in Non_Progressive/Top_Of_The_Pops genre...\n",
      "Prog_Dataset/Non_Progressive/Top_Of_The_Pops/2001_Train_Drops_Of_Jupiter.mp3\n",
      "(160, 1596)\n",
      "Prog_Dataset/Non_Progressive/Top_Of_The_Pops/1945_Harry_James_and_Kitty_Kallen_It_s_Been_A_Long_Long_Time.mp3\n",
      "(160, 9123)\n",
      "Prog_Dataset/Non_Progressive/Top_Of_The_Pops/2021_Silk_Sonic_Leave_the_Door_Open.mp3\n",
      "(160, 10696)\n",
      "Prog_Dataset/Non_Progressive/Top_Of_The_Pops/1965_Beach_Boys_California_Girls.mp3\n"
     ]
    },
    {
     "name": "stderr",
     "output_type": "stream",
     "text": [
      "[src/libmpg123/id3.c:process_comment():584] error: No comment text / valid description?\n"
     ]
    },
    {
     "name": "stdout",
     "output_type": "stream",
     "text": [
      "(160, 6825)\n",
      "Prog_Dataset/Non_Progressive/Top_Of_The_Pops/2008_Alicia_Keys_No_One.mp3\n",
      "(160, 10931)\n",
      "Prog_Dataset/Non_Progressive/Top_Of_The_Pops/1958_The_Champs_Tequila.mp3\n"
     ]
    },
    {
     "name": "stderr",
     "output_type": "stream",
     "text": [
      "[src/libmpg123/id3.c:process_comment():584] error: No comment text / valid description?\n"
     ]
    },
    {
     "name": "stdout",
     "output_type": "stream",
     "text": [
      "(160, 5689)\n",
      "Prog_Dataset/Non_Progressive/Top_Of_The_Pops/2007_Fergie_Big_Girls_Don_t_Cry.mp3\n",
      "(160, 11547)\n",
      "Prog_Dataset/Non_Progressive/Top_Of_The_Pops/1964_The_Beatles_I_Want_To_Hold_Your_Hand.mp3\n",
      "(160, 6244)\n",
      "Prog_Dataset/Non_Progressive/Top_Of_The_Pops/1960_Bryan_Hyland_Itsy_Bitsy.mp3\n",
      "(160, 6130)\n",
      "Prog_Dataset/Non_Progressive/Top_Of_The_Pops/2003_Evanescence_Bring_Me_To_Life.mp3\n",
      "(160, 10160)\n",
      "Prog_Dataset/Non_Progressive/Top_Of_The_Pops/1966_The_Rolling_Stones_Paint_It_Black.mp3\n",
      "(160, 9704)\n",
      "Prog_Dataset/Non_Progressive/Top_Of_The_Pops/2023_Morgan_Wallen_Last_Night.mp3\n",
      "(160, 6960)\n",
      "Prog_Dataset/Non_Progressive/Top_Of_The_Pops/2012_Taylor_Swift_We_Are_Never_Getting_Back_Together.mp3\n"
     ]
    },
    {
     "name": "stderr",
     "output_type": "stream",
     "text": [
      "Note: Illegal Audio-MPEG-Header 0x4c595249 at offset 7797061.\n",
      "Note: Trying to resync...\n",
      "Note: Hit end of (available) data during resync.\n"
     ]
    },
    {
     "name": "stdout",
     "output_type": "stream",
     "text": [
      "(160, 8323)\n",
      "Prog_Dataset/Non_Progressive/Top_Of_The_Pops/1978_Bee_Gees_Night_Fever.mp3\n",
      "(160, 9191)\n",
      "Prog_Dataset/Non_Progressive/Top_Of_The_Pops/1976_Eagles_Hotel_California.mp3\n",
      "(160, 16811)\n",
      "Prog_Dataset/Non_Progressive/Top_Of_The_Pops/1977_ABBA_Dancing_Queen.mp3\n",
      "(160, 10019)\n",
      "Prog_Dataset/Non_Progressive/Top_Of_The_Pops/2011_Adele_Rolling_In_The_Deep.mp3\n",
      "(160, 9875)\n",
      "Prog_Dataset/Non_Progressive/Top_Of_The_Pops/2020_BTS_Dynamite.mp3\n",
      "(160, 8573)\n",
      "Prog_Dataset/Non_Progressive/Top_Of_The_Pops/2002_Linkin_Park_In_The_End.mp3\n",
      "(160, 9343)\n",
      "Prog_Dataset/Non_Progressive/Top_Of_The_Pops/1980_Pink_Floyd_Another_Brick_In_The_Wall_Part_II.mp3\n",
      "(160, 10289)\n",
      "Prog_Dataset/Non_Progressive/Top_Of_The_Pops/1989_Milli_Vanilli_Girl_You_Know_It_s_True.mp3\n",
      "(160, 11001)\n",
      "Prog_Dataset/Non_Progressive/Top_Of_The_Pops/1992_Nirvana_Smells_Like_Teen_Spirit.mp3\n"
     ]
    },
    {
     "name": "stderr",
     "output_type": "stream",
     "text": [
      "[src/libmpg123/id3.c:process_comment():584] error: No comment text / valid description?\n"
     ]
    },
    {
     "name": "stdout",
     "output_type": "stream",
     "text": [
      "(160, 13002)\n",
      "Prog_Dataset/Non_Progressive/Top_Of_The_Pops/1996_Alanis_Morissette_Ironic.mp3\n",
      "(160, 9906)\n",
      "Prog_Dataset/Non_Progressive/Top_Of_The_Pops/2022_Kendrick_Lamar_Beth_Gibbons_Mother_I_Sober.mp3\n",
      "(160, 17509)\n",
      "Prog_Dataset/Non_Progressive/Top_Of_The_Pops/2004_Usher_Yeah.mp3\n",
      "(160, 10783)\n",
      "Prog_Dataset/Non_Progressive/Top_Of_The_Pops/1955_Bill_Haley_And_His_Comets_Rock_Around_The_Clock.mp3\n",
      "(160, 6067)\n",
      "Prog_Dataset/Non_Progressive/Top_Of_The_Pops/1973_Diana_Ross_Touch_Me_In_The_Morning.mp3\n"
     ]
    },
    {
     "name": "stderr",
     "output_type": "stream",
     "text": [
      "[src/libmpg123/id3.c:process_comment():584] error: No comment text / valid description?\n"
     ]
    },
    {
     "name": "stdout",
     "output_type": "stream",
     "text": [
      "(160, 8836)\n",
      "Prog_Dataset/Non_Progressive/Top_Of_The_Pops/1940_Tommy_Dorsey_I_ll_Never_Smile_Again.mp3\n",
      "(160, 8241)\n",
      "Prog_Dataset/Non_Progressive/Top_Of_The_Pops/2009_Beyonce_Single_Ladies_Put_A_Ring_On_It.mp3\n",
      "(160, 8403)\n",
      "Prog_Dataset/Non_Progressive/Top_Of_The_Pops/1986_Mr._Mister_Broken_Wings.mp3\n"
     ]
    },
    {
     "name": "stderr",
     "output_type": "stream",
     "text": [
      "Note: Illegal Audio-MPEG-Header 0x4c595249 at offset 8066079.\n",
      "Note: Trying to resync...\n",
      "Note: Hit end of (available) data during resync.\n"
     ]
    },
    {
     "name": "stdout",
     "output_type": "stream",
     "text": [
      "(160, 14474)\n",
      "Prog_Dataset/Non_Progressive/Top_Of_The_Pops/1997_The_Verve_Bittersweet_Symphony.mp3\n",
      "(160, 15436)\n",
      "Prog_Dataset/Non_Progressive/Top_Of_The_Pops/1998_Celine_Dion_My_Heart_Will_Go_On.mp3\n",
      "(160, 12073)\n",
      "Prog_Dataset/Non_Progressive/Top_Of_The_Pops/1967_The_Doors_Light_My_Fire.mp3\n",
      "(160, 18454)\n",
      "Prog_Dataset/Non_Progressive/Top_Of_The_Pops/2005_Kelly_Clarkson_Since_U_Been_Gone.mp3\n"
     ]
    },
    {
     "name": "stderr",
     "output_type": "stream",
     "text": [
      "[src/libmpg123/id3.c:process_comment():584] error: No comment text / valid description?\n"
     ]
    },
    {
     "name": "stdout",
     "output_type": "stream",
     "text": [
      "(160, 8084)\n",
      "Prog_Dataset/Non_Progressive/Top_Of_The_Pops/1942_Kay_Kyser_Praise_the_Lord_and_Pass_the_Ammunition.mp3\n",
      "(160, 6465)\n",
      "Prog_Dataset/Non_Progressive/Top_Of_The_Pops/1962_Ray_Charles_I_Can_t_Stop_Loving_You.mp3\n"
     ]
    },
    {
     "name": "stderr",
     "output_type": "stream",
     "text": [
      "[src/libmpg123/id3.c:process_comment():584] error: No comment text / valid description?\n"
     ]
    },
    {
     "name": "stdout",
     "output_type": "stream",
     "text": [
      "(160, 10922)\n",
      "Prog_Dataset/Non_Progressive/Top_Of_The_Pops/1993_Snap_Rhythm_Is_A_Dancer.mp3\n",
      "(160, 14309)\n",
      "Prog_Dataset/Non_Progressive/Top_Of_The_Pops/1949_Vaughan_Monroe_Riders_In_The_Sky.mp3\n",
      "(160, 7798)\n",
      "Prog_Dataset/Non_Progressive/Top_Of_The_Pops/1943_Duke_Ellington_In_A_Sentimental.mp3\n",
      "(160, 9771)\n",
      "Prog_Dataset/Non_Progressive/Top_Of_The_Pops/1982_Foreigner_Waiting_For_A_Girl_Like_You.mp3\n",
      "(160, 12482)\n",
      "Prog_Dataset/Non_Progressive/Top_Of_The_Pops/1983_Police_Every_Breath_You_Take.mp3\n",
      "(160, 10954)\n",
      "Prog_Dataset/Non_Progressive/Top_Of_The_Pops/1994_Ace_Of_Base_All_That_She_Wants.mp3\n",
      "(160, 9049)\n",
      "Prog_Dataset/Non_Progressive/Top_Of_The_Pops/2010_Lady_Gaga_Telephone.mp3\n"
     ]
    },
    {
     "name": "stderr",
     "output_type": "stream",
     "text": [
      "Note: Illegal Audio-MPEG-Header 0x00000000 at offset 5460065.\n",
      "Note: Trying to resync...\n",
      "Note: Hit end of (available) data during resync.\n"
     ]
    },
    {
     "name": "stdout",
     "output_type": "stream",
     "text": [
      "(160, 9734)\n",
      "Prog_Dataset/Non_Progressive/Top_Of_The_Pops/1952_Vera_Lynn_Auf_Wiederseh`n_Sweetheart.mp3\n",
      "(160, 7241)\n",
      "Prog_Dataset/Non_Progressive/Top_Of_The_Pops/2014_Katy_Perry_Roar.mp3\n",
      "(160, 11591)\n",
      "Prog_Dataset/Non_Progressive/Top_Of_The_Pops/1969_Neil_Diamond_Sweet_Caroline.mp3\n"
     ]
    },
    {
     "name": "stderr",
     "output_type": "stream",
     "text": [
      "Note: Illegal Audio-MPEG-Header 0x00544147 at offset 3412749.\n",
      "Note: Trying to resync...\n",
      "Note: Hit end of (available) data during resync.\n"
     ]
    },
    {
     "name": "stdout",
     "output_type": "stream",
     "text": [
      "(160, 9195)\n",
      "Prog_Dataset/Non_Progressive/Top_Of_The_Pops/1968_Steppenwolf_Born_To_Be_Wild.mp3\n",
      "(160, 9172)\n",
      "Prog_Dataset/Non_Progressive/Top_Of_The_Pops/1953_Les_Paul_And_Mary_Ford_Vaya_Con_Dios.mp3\n",
      "(160, 7299)\n",
      "Prog_Dataset/Non_Progressive/Top_Of_The_Pops/1957_Harry_Belafonte_Banana_Boat_Song.mp3\n",
      "(160, 8066)\n",
      "Prog_Dataset/Non_Progressive/Top_Of_The_Pops/1971_Rod_Stewart_Maggie_May.mp3\n",
      "(160, 14904)\n",
      "Prog_Dataset/Non_Progressive/Top_Of_The_Pops/1981_Kim_Carnes_Bette_Davis_Eyes.mp3\n",
      "(160, 10017)\n",
      "Prog_Dataset/Non_Progressive/Top_Of_The_Pops/2000_Sting_Desert_Rose.mp3\n",
      "(160, 12320)\n",
      "Prog_Dataset/Non_Progressive/Top_Of_The_Pops/1954_Rosemary_Clooney_Hey_There.mp3\n",
      "(160, 8402)\n",
      "Prog_Dataset/Non_Progressive/Top_Of_The_Pops/1948_Peggy_Lee_Manana.mp3\n",
      "(160, 7673)\n",
      "Prog_Dataset/Non_Progressive/Top_Of_The_Pops/1970_Simon_and_Garfunkel_Bridge_Over_Troubled_Water.mp3\n",
      "(160, 12623)\n",
      "Prog_Dataset/Non_Progressive/Top_Of_The_Pops/1999_Britney_Spears_...Baby_One_More_Time.mp3\n",
      "(160, 9255)\n",
      "Prog_Dataset/Non_Progressive/Top_Of_The_Pops/1974_Jackson_5_Dancing_Machine.mp3\n",
      "(160, 9049)\n",
      "Prog_Dataset/Non_Progressive/Top_Of_The_Pops/1961_Lawrence_Welk_Calcutta.mp3\n"
     ]
    },
    {
     "name": "stderr",
     "output_type": "stream",
     "text": [
      "[src/libmpg123/id3.c:process_comment():584] error: No comment text / valid description?\n",
      "Note: Illegal Audio-MPEG-Header 0x42696c6c at offset 3302120.\n",
      "Note: Trying to resync...\n",
      "Note: Hit end of (available) data during resync.\n"
     ]
    },
    {
     "name": "stdout",
     "output_type": "stream",
     "text": [
      "(160, 5927)\n",
      "Prog_Dataset/Non_Progressive/Top_Of_The_Pops/1991_Mariah_Carey_Someday.mp3\n",
      "(160, 15904)\n",
      "Prog_Dataset/Non_Progressive/Top_Of_The_Pops/2019_Ariana_Grande_Thank_U,_Next.mp3\n",
      "(160, 14235)\n",
      "Prog_Dataset/Non_Progressive/Top_Of_The_Pops/1979_The_Knack_My_Sharona.mp3\n"
     ]
    },
    {
     "name": "stderr",
     "output_type": "stream",
     "text": [
      "[src/libmpg123/layer3.c:INT123_do_layer3():1801] error: dequantization failed!\n",
      "Note: Illegal Audio-MPEG-Header 0x4f09842e at offset 3049050.\n",
      "Note: Trying to resync...\n",
      "Note: Skipped 1024 bytes in input.\n",
      "[src/libmpg123/parse.c:wetwork():1365] error: Giving up resync after 1024 bytes - your stream is not nice... (maybe increasing resync limit could help).\n",
      "/tmp/ipykernel_3471998/2405025507.py:6: UserWarning: PySoundFile failed. Trying audioread instead.\n",
      "  y, _ = librosa.load(song, sr = rate)\n",
      "/home/hoangngominh98/anaconda3/lib/python3.9/site-packages/librosa/core/audio.py:183: FutureWarning: librosa.core.audio.__audioread_load\n",
      "\tDeprecated as of librosa version 0.10.0.\n",
      "\tIt will be removed in librosa version 1.0.\n",
      "  y, sr_native = __audioread_load(path, offset, duration, dtype)\n"
     ]
    },
    {
     "name": "stdout",
     "output_type": "stream",
     "text": [
      "(160, 5853)\n",
      "Prog_Dataset/Non_Progressive/Top_Of_The_Pops/2017_Migos_Bad_&_Boujee.mp3\n",
      "(160, 14407)\n",
      "Prog_Dataset/Non_Progressive/Top_Of_The_Pops/1995_Hootie_And_The_Blowfish_Hold_My_Hand.mp3\n",
      "(160, 11017)\n",
      "Prog_Dataset/Non_Progressive/Top_Of_The_Pops/1956_Elvis_Presley_Heartbreak_Hotel.mp3\n",
      "(160, 5547)\n",
      "Prog_Dataset/Non_Progressive/Top_Of_The_Pops/1947_Francis_Craig_and_His_Orchestra_Near_You.mp3\n",
      "(160, 7549)\n",
      "Prog_Dataset/Non_Progressive/Top_Of_The_Pops/1946_Perry_Como_Prisoner_of_Love.mp3\n",
      "(160, 8685)\n",
      "Prog_Dataset/Non_Progressive/Top_Of_The_Pops/2015_Rihanna_FourFiveSeconds.mp3\n",
      "(160, 8112)\n",
      "Prog_Dataset/Non_Progressive/Top_Of_The_Pops/1987_Heart_Alone.mp3\n",
      "(160, 9445)\n",
      "Prog_Dataset/Non_Progressive/Top_Of_The_Pops/1985_Wham_Careless_Whisper.mp3\n",
      "(160, 16755)\n",
      "Prog_Dataset/Non_Progressive/Top_Of_The_Pops/1963_Peter_Paul_And_Mary_Puff_The_Magic_Dragon.mp3\n",
      "(160, 8983)\n",
      "Prog_Dataset/Non_Progressive/Top_Of_The_Pops/1941_Glenn_Miller_Chatanooga_Choo_Choo.mp3\n"
     ]
    },
    {
     "name": "stderr",
     "output_type": "stream",
     "text": [
      "Note: Illegal Audio-MPEG-Header 0x00000000 at offset 2806046.\n",
      "Note: Trying to resync...\n",
      "Note: Hit end of (available) data during resync.\n"
     ]
    },
    {
     "name": "stdout",
     "output_type": "stream",
     "text": [
      "(160, 7550)\n",
      "Prog_Dataset/Non_Progressive/Top_Of_The_Pops/1930_Josephine_Baker_J`ai_Deux_Amours.mp3\n",
      "(160, 7172)\n",
      "Prog_Dataset/Non_Progressive/Top_Of_The_Pops/2013_Bruno_Mars_Locked_Out_Of_Heaven.mp3\n"
     ]
    },
    {
     "name": "stderr",
     "output_type": "stream",
     "text": [
      "[src/libmpg123/id3.c:process_comment():584] error: No comment text / valid description?\n"
     ]
    },
    {
     "name": "stdout",
     "output_type": "stream",
     "text": [
      "(160, 10059)\n",
      "Prog_Dataset/Non_Progressive/Top_Of_The_Pops/2018_Drake_God_s_Plan.mp3\n",
      "(160, 15370)\n",
      "Prog_Dataset/Non_Progressive/Top_Of_The_Pops/1959_Johnny_Horton_The_Battle_Of_New_Orleans.mp3\n",
      "(160, 6540)\n",
      "Prog_Dataset/Non_Progressive/Top_Of_The_Pops/2006_Kanye_West_Gold_Digger.mp3\n",
      "(160, 8975)\n",
      "Prog_Dataset/Non_Progressive/Top_Of_The_Pops/1975_America_Sister_Golden_Hair.mp3\n",
      "(160, 8451)\n",
      "Prog_Dataset/Non_Progressive/Top_Of_The_Pops/1944_Les_Brown_Twilight_Time.mp3\n",
      "(160, 8973)\n",
      "Prog_Dataset/Non_Progressive/Top_Of_The_Pops/1951_Tony_Bennett_Because_Of_You.mp3\n",
      "(160, 7704)\n",
      "Prog_Dataset/Non_Progressive/Top_Of_The_Pops/2001_Alan_Jackson_Where_Were_You.mp3\n",
      "(160, 13316)\n",
      "Prog_Dataset/Non_Progressive/Top_Of_The_Pops/1990_Michael_Bolton_How_Am_I_Supposed_To_Live_Without_You.mp3\n",
      "(160, 11098)\n",
      "Prog_Dataset/Non_Progressive/Top_Of_The_Pops/1988_INXS_Need_You_Tonight.mp3\n",
      "(160, 7993)\n",
      "Prog_Dataset/Non_Progressive/Top_Of_The_Pops/1972_Don_McLean_American_Pie.mp3\n",
      "(160, 22094)\n",
      "Prog_Dataset/Non_Progressive/Top_Of_The_Pops/1950_Nat_King_Cole_Mona_Lisa.mp3\n",
      "(160, 9040)\n",
      "Prog_Dataset/Non_Progressive/Top_Of_The_Pops/1939_Judy_Garland_Somewhere_Over_The_Rainbow.mp3\n",
      "(160, 7975)\n",
      "Prog_Dataset/Non_Progressive/Top_Of_The_Pops/2016_Twenty_One_Pilots_Stressed_Out.mp3\n",
      "(160, 9703)\n",
      "Prog_Dataset/Non_Progressive/Top_Of_The_Pops/1984_Prince_When_Doves_Cry.mp3\n",
      "(160, 15252)\n",
      "Processing 272 songs in Non_Progressive/Other_Songs genre...\n",
      "Prog_Dataset/Non_Progressive/Other_Songs/03_Losfer Words (Big _Orra).mp3\n",
      "(160, 10889)\n",
      "Prog_Dataset/Non_Progressive/Other_Songs/Nena ‎- 99 Luftballons.mp3\n",
      "(160, 10196)\n",
      "Prog_Dataset/Non_Progressive/Other_Songs/01 - Autumn Lords.mp3\n",
      "(160, 8880)\n",
      "Prog_Dataset/Non_Progressive/Other_Songs/Daft Punk - 04 - Harder, Better, Faster, Stronger.mp3\n",
      "(160, 9660)\n",
      "Prog_Dataset/Non_Progressive/Other_Songs/20 - Thelonious Monk - _Round Midnight.mp3\n"
     ]
    },
    {
     "name": "stderr",
     "output_type": "stream",
     "text": [
      "[src/libmpg123/id3.c:process_comment():584] error: No comment text / valid description?\n"
     ]
    },
    {
     "name": "stdout",
     "output_type": "stream",
     "text": [
      "(160, 8262)\n",
      "Prog_Dataset/Non_Progressive/Other_Songs/01_Pulcinella_1st_scene_Overture.mp3\n",
      "(160, 5399)\n",
      "Prog_Dataset/Non_Progressive/Other_Songs/Green Day -07- Basket Case.mp3\n"
     ]
    },
    {
     "name": "stderr",
     "output_type": "stream",
     "text": [
      "[src/libmpg123/id3.c:process_comment():584] error: No comment text / valid description?\n",
      "/tmp/ipykernel_3471998/2405025507.py:6: UserWarning: PySoundFile failed. Trying audioread instead.\n",
      "  y, _ = librosa.load(song, sr = rate)\n",
      "/home/hoangngominh98/anaconda3/lib/python3.9/site-packages/librosa/core/audio.py:183: FutureWarning: librosa.core.audio.__audioread_load\n",
      "\tDeprecated as of librosa version 0.10.0.\n",
      "\tIt will be removed in librosa version 1.0.\n",
      "  y, sr_native = __audioread_load(path, offset, duration, dtype)\n"
     ]
    },
    {
     "name": "stdout",
     "output_type": "stream",
     "text": [
      "(160, 7892)\n",
      "Prog_Dataset/Non_Progressive/Other_Songs/Symphony_40_G_Minor.mp3\n",
      "(160, 20252)\n",
      "Prog_Dataset/Non_Progressive/Other_Songs/04 The Unforgettable Fire.mp3\n"
     ]
    },
    {
     "name": "stderr",
     "output_type": "stream",
     "text": [
      "[src/libmpg123/id3.c:process_comment():584] error: No comment text / valid description?\n"
     ]
    },
    {
     "name": "stdout",
     "output_type": "stream",
     "text": [
      "(160, 12806)\n",
      "Prog_Dataset/Non_Progressive/Other_Songs/CCR_Who_ll Stop The Rain.mp3\n",
      "(160, 6449)\n",
      "Prog_Dataset/Non_Progressive/Other_Songs/13 - So Long, Farewell.mp3\n",
      "(160, 7556)\n",
      "Prog_Dataset/Non_Progressive/Other_Songs/08 - Damage Inc  (LP Version).mp3\n",
      "(160, 14270)\n",
      "Prog_Dataset/Non_Progressive/Other_Songs/07_Johnny B. Goode.mp3\n",
      "(160, 6947)\n",
      "Prog_Dataset/Non_Progressive/Other_Songs/01 - Immigrant Song.mp3\n",
      "(160, 7215)\n",
      "Prog_Dataset/Non_Progressive/Other_Songs/08 Behind Blue Eyes.mp3\n",
      "(160, 9584)\n",
      "Prog_Dataset/Non_Progressive/Other_Songs/Christine_and_the_Queens_People_Ive_Been_Sad.mp3\n",
      "(160, 11240)\n",
      "Prog_Dataset/Non_Progressive/Other_Songs/01 - I.G.Y..mp3\n",
      "(160, 15717)\n",
      "Prog_Dataset/Non_Progressive/Other_Songs/10 - 2000 Miles .mp3\n",
      "(160, 9379)\n",
      "Prog_Dataset/Non_Progressive/Other_Songs/10. Michael Sembello - Maniac.mp3\n",
      "(160, 10877)\n",
      "Prog_Dataset/Non_Progressive/Other_Songs/07 Say It Ain_t So.mp3\n",
      "(160, 11151)\n",
      "Prog_Dataset/Non_Progressive/Other_Songs/08 - Anarchy In The U.K.mp3\n",
      "(160, 9151)\n",
      "Prog_Dataset/Non_Progressive/Other_Songs/04 - Suspended in Gaffa.mp3\n",
      "(160, 10126)\n",
      "Prog_Dataset/Non_Progressive/Other_Songs/Disintegration-The Cure-09-The Same Deep Water as You.mp3\n",
      "(160, 24198)\n",
      "Prog_Dataset/Non_Progressive/Other_Songs/03 Supermassive Black Hole.mp3\n",
      "(160, 9009)\n",
      "Prog_Dataset/Non_Progressive/Other_Songs/06_The Offspring_Gone Away.mp3\n",
      "(160, 11537)\n",
      "Prog_Dataset/Non_Progressive/Other_Songs/David-Guetta-Ft.-Sia---Titanium-(Instrumental)-[Download].mp3\n",
      "(160, 10584)\n",
      "Prog_Dataset/Non_Progressive/Other_Songs/04 - Ayasofya.mp3\n",
      "(160, 8572)\n",
      "Prog_Dataset/Non_Progressive/Other_Songs/03-House Of The Rising Sun.mp3\n",
      "(160, 11656)\n",
      "Prog_Dataset/Non_Progressive/Other_Songs/SZA_Kill_Bill.mp3\n",
      "(160, 6698)\n",
      "Prog_Dataset/Non_Progressive/Other_Songs/06 Californication.mp3\n",
      "(160, 14201)\n",
      "Prog_Dataset/Non_Progressive/Other_Songs/Ed-Sheeran---Shape-of-You.mp3\n",
      "(160, 10066)\n",
      "Prog_Dataset/Non_Progressive/Other_Songs/01_Aces High.mp3\n",
      "(160, 11593)\n",
      "Prog_Dataset/Non_Progressive/Other_Songs/13 - Layla.mp3\n",
      "(160, 18332)\n",
      "Prog_Dataset/Non_Progressive/Other_Songs/07 - Subterranean.mp3\n",
      "(160, 15828)\n",
      "Prog_Dataset/Non_Progressive/Other_Songs/01 - Upside Down.mp3\n",
      "(160, 7741)\n",
      "Prog_Dataset/Non_Progressive/Other_Songs/Little_Simz_Woman.mp3\n",
      "(160, 11625)\n",
      "Prog_Dataset/Non_Progressive/Other_Songs/01 - Radioactive.mp3\n",
      "(160, 8046)\n",
      "Prog_Dataset/Non_Progressive/Other_Songs/06 The Temple of the King.mp3\n",
      "(160, 12270)\n",
      "Prog_Dataset/Non_Progressive/Other_Songs/12_Toxicity.mp3\n",
      "(160, 9433)\n",
      "Prog_Dataset/Non_Progressive/Other_Songs/Golden Earring - Radar Love.mp3\n",
      "(160, 16528)\n",
      "Prog_Dataset/Non_Progressive/Other_Songs/Titi_Me_Pregunto.mp3\n",
      "(160, 10497)\n",
      "Prog_Dataset/Non_Progressive/Other_Songs/Beyonce_Cuff_It.mp3\n",
      "(160, 9708)\n",
      "Prog_Dataset/Non_Progressive/Other_Songs/Cardi_B_WAP.mp3\n",
      "(160, 8089)\n",
      "Prog_Dataset/Non_Progressive/Other_Songs/Peach_Pit_Almighty_Aphrodite.mp3\n",
      "(160, 9386)\n",
      "Prog_Dataset/Non_Progressive/Other_Songs/09 - Zum.mp3\n",
      "(160, 26126)\n",
      "Prog_Dataset/Non_Progressive/Other_Songs/2-10 Dear Mama.mp3\n",
      "(160, 12005)\n",
      "Prog_Dataset/Non_Progressive/Other_Songs/01 War Pigs _ Luke_s Wall.mp3\n",
      "(160, 20430)\n",
      "Prog_Dataset/Non_Progressive/Other_Songs/Kabir_Singh_Bekhayali.mp3\n",
      "(160, 15241)\n",
      "Prog_Dataset/Non_Progressive/Other_Songs/Run_The_Jewels_Yankee_and_the_Brave.mp3\n",
      "(160, 6294)\n",
      "Prog_Dataset/Non_Progressive/Other_Songs/Lizzo_Juice.mp3\n",
      "(160, 8646)\n",
      "Prog_Dataset/Non_Progressive/Other_Songs/Sharon_Van_Etten_Seventeen.mp3\n",
      "(160, 11511)\n",
      "Prog_Dataset/Non_Progressive/Other_Songs/The Revivalists - Wish I Knew You.mp3\n",
      "(160, 12178)\n",
      "Prog_Dataset/Non_Progressive/Other_Songs/01 - Only Shallow.mp3\n",
      "(160, 11098)\n",
      "Prog_Dataset/Non_Progressive/Other_Songs/Marco_Luka_Paradise.mp3\n",
      "(160, 6031)\n",
      "Prog_Dataset/Non_Progressive/Other_Songs/Brockhampton_Buzzcut_feat_Danny_Brown.mp3\n",
      "(160, 9094)\n",
      "Prog_Dataset/Non_Progressive/Other_Songs/Billie_Eilish_What_Was_I_Made_For.mp3\n",
      "(160, 9578)\n",
      "Prog_Dataset/Non_Progressive/Other_Songs/Playboi_Carti_Rockstar_Made.mp3\n",
      "(160, 8340)\n",
      "Prog_Dataset/Non_Progressive/Other_Songs/Twenty_One_Pilots_No_Chances.mp3\n",
      "(160, 9759)\n",
      "Prog_Dataset/Non_Progressive/Other_Songs/Lorde-Green-Light.mp3\n",
      "(160, 10467)\n",
      "Prog_Dataset/Non_Progressive/Other_Songs/01-blueprint_320_lame_cbr.mp3\n",
      "(160, 14081)\n",
      "Prog_Dataset/Non_Progressive/Other_Songs/Pink_Sweat_Icy.mp3\n",
      "(160, 7998)\n",
      "Prog_Dataset/Non_Progressive/Other_Songs/Allie_X_Not_So_Bad_in_LA.mp3\n",
      "(160, 9203)\n",
      "Prog_Dataset/Non_Progressive/Other_Songs/Neha_Kakkar_Yaad_Piya_Ki_Aane_Lagi.mp3\n",
      "(160, 14471)\n",
      "Prog_Dataset/Non_Progressive/Other_Songs/Charli_XCX_Speed_Drive_Barbie.mp3\n",
      "(160, 5076)\n",
      "Prog_Dataset/Non_Progressive/Other_Songs/Edgar_Winter_Frankenstein.mp3\n",
      "(160, 12316)\n",
      "Prog_Dataset/Non_Progressive/Other_Songs/Ruelle_The_World_We_Made.mp3\n",
      "(160, 7959)\n",
      "Prog_Dataset/Non_Progressive/Other_Songs/01-We_re An American Band.mp3\n",
      "(160, 8950)\n",
      "Prog_Dataset/Non_Progressive/Other_Songs/The_Technicolors_Tonight_You_Are_Mine.mp3\n",
      "(160, 9908)\n",
      "Prog_Dataset/Non_Progressive/Other_Songs/slow thai Mura Masa - Doorman.mp3\n",
      "(160, 8010)\n",
      "Prog_Dataset/Non_Progressive/Other_Songs/K-Pop_1.mp3\n",
      "(160, 10966)\n",
      "Prog_Dataset/Non_Progressive/Other_Songs/The Neighbourhood - Wiped Out.mp3\n",
      "(160, 16081)\n",
      "Prog_Dataset/Non_Progressive/Other_Songs/Travis Scott - CIRCUS MAXIMUS (Official Audio) ft. The Weeknd, Swae Lee.mp3\n",
      "(160, 11213)\n",
      "Prog_Dataset/Non_Progressive/Other_Songs/08 - Xoomij.mp3\n",
      "(160, 7744)\n",
      "Prog_Dataset/Non_Progressive/Other_Songs/11 - Hello Earth.mp3\n",
      "(160, 16068)\n",
      "Prog_Dataset/Non_Progressive/Other_Songs/02. Top Of The World.mp3\n",
      "(160, 7682)\n",
      "Prog_Dataset/Non_Progressive/Other_Songs/Bad_Bunny_Si_Veo_A_Tu_Mama.mp3\n",
      "(160, 11444)\n",
      "Prog_Dataset/Non_Progressive/Other_Songs/13 - Al Hahla Al ’Ali.mp3\n",
      "(160, 7615)\n",
      "Prog_Dataset/Non_Progressive/Other_Songs/Taylor_Swift_All_Too_Well_Taylor_Version.mp3\n",
      "(160, 26364)\n",
      "Prog_Dataset/Non_Progressive/Other_Songs/Russ Conway - Pepe.mp3\n",
      "(160, 6106)\n",
      "Prog_Dataset/Non_Progressive/Other_Songs/01 - My Spirit Will Go On.mp3\n",
      "(160, 20431)\n",
      "Prog_Dataset/Non_Progressive/Other_Songs/Metro_Boomin_On_Time.mp3\n",
      "(160, 7283)\n",
      "Prog_Dataset/Non_Progressive/Other_Songs/05-bangles-hazy_shade_of_winter.mp3\n",
      "(160, 7267)\n",
      "Prog_Dataset/Non_Progressive/Other_Songs/Chase Atlantic - SLIDE (Official Music Video).mp3\n",
      "(160, 9656)\n",
      "Prog_Dataset/Non_Progressive/Other_Songs/Russian_2.mp3\n",
      "(160, 10160)\n",
      "Prog_Dataset/Non_Progressive/Other_Songs/04 - A Lovely Night.mp3\n",
      "(160, 10186)\n",
      "Prog_Dataset/Non_Progressive/Other_Songs/04 - Condor Pasa.mp3\n",
      "(160, 12908)\n",
      "Prog_Dataset/Non_Progressive/Other_Songs/The Weeknd - The Birds (Trilogy).mp3\n",
      "(160, 37340)\n",
      "Prog_Dataset/Non_Progressive/Other_Songs/08 - Asmarina (My Asmara).mp3\n",
      "(160, 12859)\n",
      "Prog_Dataset/Non_Progressive/Other_Songs/Kid_Cudi_Frequency.mp3\n",
      "(160, 12974)\n",
      "Prog_Dataset/Non_Progressive/Other_Songs/04 - Out Of The Blue.mp3\n",
      "(160, 12358)\n",
      "Prog_Dataset/Non_Progressive/Other_Songs/11-zao-a_last_time_for_everything.mp3\n"
     ]
    },
    {
     "name": "stderr",
     "output_type": "stream",
     "text": [
      "[src/libmpg123/layer3.c:INT123_do_layer3():1801] error: dequantization failed!\n",
      "Note: Illegal Audio-MPEG-Header 0x00000000 at offset 8848353.\n",
      "Note: Trying to resync...\n",
      "Note: Skipped 1024 bytes in input.\n",
      "[src/libmpg123/parse.c:wetwork():1365] error: Giving up resync after 1024 bytes - your stream is not nice... (maybe increasing resync limit could help).\n",
      "/tmp/ipykernel_3471998/2405025507.py:6: UserWarning: PySoundFile failed. Trying audioread instead.\n",
      "  y, _ = librosa.load(song, sr = rate)\n",
      "/home/hoangngominh98/anaconda3/lib/python3.9/site-packages/librosa/core/audio.py:183: FutureWarning: librosa.core.audio.__audioread_load\n",
      "\tDeprecated as of librosa version 0.10.0.\n",
      "\tIt will be removed in librosa version 1.0.\n",
      "  y, sr_native = __audioread_load(path, offset, duration, dtype)\n"
     ]
    },
    {
     "name": "stdout",
     "output_type": "stream",
     "text": [
      "(160, 12651)\n",
      "Prog_Dataset/Non_Progressive/Other_Songs/09Henry Mancini - Peter Gunn.mp3\n",
      "(160, 5489)\n",
      "Prog_Dataset/Non_Progressive/Other_Songs/02 - Someone In The Crowd.mp3\n",
      "(160, 11181)\n",
      "Prog_Dataset/Non_Progressive/Other_Songs/01 - Big Chief.mp3\n",
      "(160, 8457)\n",
      "Prog_Dataset/Non_Progressive/Other_Songs/01 - Mustt Mustt (Lost in His Work).mp3\n",
      "(160, 13705)\n",
      "Prog_Dataset/Non_Progressive/Other_Songs/07 - While The Earth Sleeps (feat Peter Gabriel).mp3\n",
      "(160, 16529)\n",
      "Prog_Dataset/Non_Progressive/Other_Songs/02 Aja.mp3\n",
      "(160, 20572)\n",
      "Prog_Dataset/Non_Progressive/Other_Songs/O_Re_Piya_Rahat Fateh Ali Khan_ Salim-Sulaiman.mp3\n",
      "(160, 16326)\n",
      "Prog_Dataset/Non_Progressive/Other_Songs/05 Homewrecker.mp3\n",
      "(160, 9955)\n",
      "Prog_Dataset/Non_Progressive/Other_Songs/01 - End Titles from Blade Runner.mp3\n",
      "(160, 12879)\n",
      "Prog_Dataset/Non_Progressive/Other_Songs/03 Midnight At The Bazaar.mp3\n",
      "(160, 22276)\n",
      "Prog_Dataset/Non_Progressive/Other_Songs/1-01 Eruption.mp3\n",
      "(160, 4459)\n",
      "Prog_Dataset/Non_Progressive/Other_Songs/01 - Tiempo Al Tiempo.mp3\n",
      "(160, 11509)\n",
      "Prog_Dataset/Non_Progressive/Other_Songs/02 - Joie De Vivre.mp3\n",
      "(160, 25177)\n",
      "Prog_Dataset/Non_Progressive/Other_Songs/Lil Nas X - Old Town Road (feat. Billy Ray Cyrus).mp3\n",
      "(160, 6781)\n",
      "Prog_Dataset/Non_Progressive/Other_Songs/Salif Keita - Cono.mp3\n",
      "(160, 15589)\n",
      "Prog_Dataset/Non_Progressive/Other_Songs/01. B.mp3\n",
      "(160, 8020)\n",
      "Prog_Dataset/Non_Progressive/Other_Songs/Paul Gilbert - Technical Difficulties (Racer X).mp3\n",
      "(160, 11353)\n",
      "Prog_Dataset/Non_Progressive/Other_Songs/the-chainsmokers-&-coldplay---something-just-like-this.mp3\n",
      "(160, 10668)\n",
      "Prog_Dataset/Non_Progressive/Other_Songs/03-oneohtrix_point_never-betrayed_in_the_octagon-kouala.mp3\n",
      "(160, 9191)\n",
      "Prog_Dataset/Non_Progressive/Other_Songs/01. Painkiller.mp3\n",
      "(160, 15792)\n",
      "Prog_Dataset/Non_Progressive/Other_Songs/04-Invisible Limits.mp3\n",
      "(160, 29524)\n",
      "Prog_Dataset/Non_Progressive/Other_Songs/03 Julianna Barwick - One Half.mp3\n",
      "(160, 9520)\n",
      "Prog_Dataset/Non_Progressive/Other_Songs/01 - Harden My Heart.mp3\n",
      "(160, 10022)\n",
      "Prog_Dataset/Non_Progressive/Other_Songs/10 - Jefferson Airplane - Surrealistic Pillow  - White Rabbit.mp3\n",
      "(160, 6488)\n",
      "Prog_Dataset/Non_Progressive/Other_Songs/10-hozier-be-65228571.mp3\n",
      "(160, 12450)\n",
      "Prog_Dataset/Non_Progressive/Other_Songs/06. Blue Jeans.mp3\n",
      "(160, 10107)\n",
      "Prog_Dataset/Non_Progressive/Other_Songs/01_Surfing with the Alien.mp3\n",
      "(160, 11427)\n",
      "Prog_Dataset/Non_Progressive/Other_Songs/05-lana_del_rey-doin_time.mp3\n",
      "(160, 8709)\n",
      "Prog_Dataset/Non_Progressive/Other_Songs/02 The World At Large.mp3\n",
      "(160, 11708)\n",
      "Prog_Dataset/Non_Progressive/Other_Songs/03-the_strokes-brooklyn_bridge_to_chorus.mp3\n",
      "(160, 10162)\n",
      "Prog_Dataset/Non_Progressive/Other_Songs/A Tribe Called Quest - Midnight Marauders - 14 - God Lives Through.mp3\n",
      "(160, 10994)\n",
      "Prog_Dataset/Non_Progressive/Other_Songs/02 - A Whiter Shade Of Pale.mp3\n",
      "(160, 10342)\n",
      "Prog_Dataset/Non_Progressive/Other_Songs/03 Horns Surrounding Me.mp3\n",
      "(160, 12343)\n",
      "Prog_Dataset/Non_Progressive/Other_Songs/Khalil_Fong_Love_in_this_world.mp3\n",
      "(160, 7671)\n",
      "Prog_Dataset/Non_Progressive/Other_Songs/15. Happier Than Ever.mp3\n",
      "(160, 12873)\n",
      "Prog_Dataset/Non_Progressive/Other_Songs/04 Still D.R.E. (Feat. Snoop Dogg).mp3\n",
      "(160, 11656)\n",
      "Prog_Dataset/Non_Progressive/Other_Songs/Julia-Michaels---Issues.mp3\n",
      "(160, 7861)\n",
      "Prog_Dataset/Non_Progressive/Other_Songs/02 - Adagio in C Minor.mp3\n",
      "(160, 9972)\n",
      "Prog_Dataset/Non_Progressive/Other_Songs/01 - Under the Pressure.mp3\n",
      "(160, 22859)\n",
      "Prog_Dataset/Non_Progressive/Other_Songs/02 End Game (feat. Ed Sheeran & Future).mp3\n",
      "(160, 10544)\n",
      "Prog_Dataset/Non_Progressive/Other_Songs/04 - Piano Concerto No. 2 - 1. Allegro.mp3\n",
      "(160, 24333)\n",
      "Prog_Dataset/Non_Progressive/Other_Songs/14 - 25 or 6 to 4 (Steven Wilson Remix).mp3\n",
      "(160, 12830)\n",
      "Prog_Dataset/Non_Progressive/Other_Songs/27.-The-Chainsmokers---Paris.mp3\n"
     ]
    },
    {
     "name": "stderr",
     "output_type": "stream",
     "text": [
      "Note: Illegal Audio-MPEG-Header 0x4c595249 at offset 8933388.\n",
      "Note: Trying to resync...\n",
      "Note: Hit end of (available) data during resync.\n"
     ]
    },
    {
     "name": "stdout",
     "output_type": "stream",
     "text": [
      "(160, 9547)\n",
      "Prog_Dataset/Non_Progressive/Other_Songs/Hallelujah_Kate_McKinnon.mp3\n",
      "(160, 7851)\n",
      "Prog_Dataset/Non_Progressive/Other_Songs/Chinna Chinna Aasai - ROJA.mp3\n",
      "(160, 12580)\n",
      "Prog_Dataset/Non_Progressive/Other_Songs/23-The-Weeknd---I-Feel-It-Coming-(Feat-Daft-Punk).mp3\n"
     ]
    },
    {
     "name": "stderr",
     "output_type": "stream",
     "text": [
      "Note: Illegal Audio-MPEG-Header 0x4c595249 at offset 10880470.\n",
      "Note: Trying to resync...\n",
      "Note: Hit end of (available) data during resync.\n"
     ]
    },
    {
     "name": "stdout",
     "output_type": "stream",
     "text": [
      "(160, 11598)\n",
      "Prog_Dataset/Non_Progressive/Other_Songs/03 - Angel of Music.mp3\n",
      "(160, 6063)\n",
      "Prog_Dataset/Non_Progressive/Other_Songs/www.NewAlbumReleases.net_14 - Hyyerr (Feat. Chip Tha Ripper).mp3\n"
     ]
    },
    {
     "name": "stderr",
     "output_type": "stream",
     "text": [
      "Note: Illegal Audio-MPEG-Header 0x46656174 at offset 5182435.\n",
      "Note: Trying to resync...\n",
      "Note: Hit end of (available) data during resync.\n"
     ]
    },
    {
     "name": "stdout",
     "output_type": "stream",
     "text": [
      "(160, 9140)\n",
      "Prog_Dataset/Non_Progressive/Other_Songs/Aphex Twin - Avril 14th.mp3\n",
      "(160, 5226)\n",
      "Prog_Dataset/Non_Progressive/Other_Songs/04 - Devil_s Advocate _ Bambodansarna.mp3\n",
      "(160, 15315)\n",
      "Prog_Dataset/Non_Progressive/Other_Songs/05 - Go to the West - Meeting in Menggu Tents - Be Together - Sister Liu.mp3\n",
      "(160, 12257)\n",
      "Prog_Dataset/Non_Progressive/Other_Songs/04-deacon_blues_320_lame_cbr.mp3\n",
      "(160, 19641)\n",
      "Prog_Dataset/Non_Progressive/Other_Songs/02. Ascension (feat. Vince Staples).mp3\n",
      "(160, 6712)\n",
      "Prog_Dataset/Non_Progressive/Other_Songs/03 - Don_t Believe The Hype.mp3\n",
      "(160, 13756)\n",
      "Prog_Dataset/Non_Progressive/Other_Songs/Serge_Prokofiev_1.mp3\n",
      "(160, 19467)\n",
      "Prog_Dataset/Non_Progressive/Other_Songs/10 All Is Full Of Love.mp3\n",
      "(160, 11760)\n",
      "Prog_Dataset/Non_Progressive/Other_Songs/07_Summoning Of The Muse.mp3\n",
      "(160, 12735)\n",
      "Prog_Dataset/Non_Progressive/Other_Songs/04 Dounounia.mp3\n",
      "(160, 13937)\n",
      "Prog_Dataset/Non_Progressive/Other_Songs/7 - The Hurt Inside.mp3\n",
      "(160, 14502)\n",
      "Prog_Dataset/Non_Progressive/Other_Songs/02 - Woman In Love (Album Version).mp3\n",
      "(160, 10106)\n",
      "Prog_Dataset/Non_Progressive/Other_Songs/06 - Sweet Dreams (Are Made Of This).mp3\n",
      "(160, 9343)\n",
      "Prog_Dataset/Non_Progressive/Other_Songs/05-Tjolky [Тьолки].mp3\n",
      "(160, 9738)\n",
      "Prog_Dataset/Non_Progressive/Other_Songs/Imagine-Dragons---Believer.mp3\n",
      "(160, 9330)\n",
      "Prog_Dataset/Non_Progressive/Other_Songs/02 - Petrichrist.mp3\n",
      "(160, 16338)\n",
      "Prog_Dataset/Non_Progressive/Other_Songs/16 - Navras.mp3\n",
      "(160, 23638)\n",
      "Prog_Dataset/Non_Progressive/Other_Songs/04-The Rip.mp3\n",
      "(160, 11672)\n",
      "Prog_Dataset/Non_Progressive/Other_Songs/The Jimi Hendrix Experience - Voodoo Chile.mp3\n",
      "(160, 38757)\n",
      "Prog_Dataset/Non_Progressive/Other_Songs/Anu_Orta_Veniya.mp3\n",
      "(160, 14177)\n",
      "Prog_Dataset/Non_Progressive/Other_Songs/01 - amy winehouse - rehab.mp3\n",
      "(160, 9260)\n",
      "Prog_Dataset/Non_Progressive/Other_Songs/04 - El corrido de Alfonso.mp3\n",
      "(160, 9118)\n",
      "Prog_Dataset/Non_Progressive/Other_Songs/01.ArmenMiran-PreciousStory.mp3\n",
      "(160, 16964)\n",
      "Prog_Dataset/Non_Progressive/Other_Songs/04. Air Supply - All Out Of Love.mp3\n",
      "(160, 10486)\n",
      "Prog_Dataset/Non_Progressive/Other_Songs/04 - Big Shot.mp3\n",
      "(160, 13642)\n",
      "Prog_Dataset/Non_Progressive/Other_Songs/06 - Sigur Rós - Sæglópur.mp3\n",
      "(160, 19766)\n",
      "Prog_Dataset/Non_Progressive/Other_Songs/16 - Madhuban Mein Radhika Nache Re (Kohinoor 1960).mp3\n",
      "(160, 15677)\n",
      "Prog_Dataset/Non_Progressive/Other_Songs/01 Play Your Part (Pt. 1).mp3\n",
      "(160, 12266)\n",
      "Prog_Dataset/Non_Progressive/Other_Songs/10 The Thrill Is Gone.mp3\n",
      "(160, 14023)\n",
      "Prog_Dataset/Non_Progressive/Other_Songs/08 - Tsinandali Choir - Orovela.mp3\n",
      "(160, 13007)\n",
      "Prog_Dataset/Non_Progressive/Other_Songs/rasme-asheghi.mp3\n",
      "(160, 7257)\n",
      "Prog_Dataset/Non_Progressive/Other_Songs/C-Pop_Hits_1.mp3\n",
      "(160, 8774)\n",
      "Prog_Dataset/Non_Progressive/Other_Songs/06 Savana Dance.mp3\n",
      "(160, 11460)\n",
      "Prog_Dataset/Non_Progressive/Other_Songs/05. Violin Concerto in E minor op.64 - I Allegro molto appassionato.mp3\n",
      "(160, 34059)\n",
      "Prog_Dataset/Non_Progressive/Other_Songs/06 - Give It Up.mp3\n",
      "(160, 13687)\n",
      "Prog_Dataset/Non_Progressive/Other_Songs/07 Guy_s Eyes.mp3\n",
      "(160, 11657)\n",
      "Prog_Dataset/Non_Progressive/Other_Songs/08 I Could Have Danced All Night.mp3\n",
      "(160, 10339)\n",
      "Prog_Dataset/Non_Progressive/Other_Songs/03. Ten-Day Interval.mp3\n",
      "(160, 12260)\n",
      "Prog_Dataset/Non_Progressive/Other_Songs/13 Metin Arolat - Elveda.mp3\n",
      "(160, 12258)\n",
      "Prog_Dataset/Non_Progressive/Other_Songs/03 - Bayaty.mp3\n",
      "(160, 15474)\n",
      "Prog_Dataset/Non_Progressive/Other_Songs/05 - Moonwind.mp3\n",
      "(160, 21518)\n",
      "Prog_Dataset/Non_Progressive/Other_Songs/07-Cage-The-Elephant---Aint-No-Rest-For-The-Wicked.mp3\n"
     ]
    },
    {
     "name": "stderr",
     "output_type": "stream",
     "text": [
      "[src/libmpg123/id3.c:process_comment():584] error: No comment text / valid description?\n"
     ]
    },
    {
     "name": "stdout",
     "output_type": "stream",
     "text": [
      "(160, 7564)\n",
      "Prog_Dataset/Non_Progressive/Other_Songs/01 Machu Picchu.mp3\n",
      "(160, 9028)\n",
      "Prog_Dataset/Non_Progressive/Other_Songs/06 - Janelle Monae - Cold War.mp3\n",
      "(160, 8770)\n",
      "Prog_Dataset/Non_Progressive/Other_Songs/02_Violin_Concerto_in_D_Major_Adagio.mp3\n",
      "(160, 22395)\n",
      "Prog_Dataset/Non_Progressive/Other_Songs/09-Year Of The Cat.mp3\n"
     ]
    },
    {
     "name": "stderr",
     "output_type": "stream",
     "text": [
      "[src/libmpg123/id3.c:process_comment():584] error: No comment text / valid description?\n"
     ]
    },
    {
     "name": "stdout",
     "output_type": "stream",
     "text": [
      "(160, 17115)\n",
      "Prog_Dataset/Non_Progressive/Other_Songs/Ali Farka Toure with Ry Cooder - Talking Timbuktu - 10 - Diaraby.mp3\n",
      "(160, 19250)\n",
      "Prog_Dataset/Non_Progressive/Other_Songs/02 - Zombified.mp3\n",
      "(160, 8486)\n",
      "Prog_Dataset/Non_Progressive/Other_Songs/05 we_re drowning in it.mp3\n",
      "(160, 5190)\n",
      "Prog_Dataset/Non_Progressive/Other_Songs/05 - Modern Love (2002 Remastered Version).mp3\n",
      "(160, 10279)\n",
      "Prog_Dataset/Non_Progressive/Other_Songs/05 Clocks.mp3\n",
      "(160, 13211)\n",
      "Prog_Dataset/Non_Progressive/Other_Songs/03 Space Song.mp3\n",
      "(160, 13802)\n",
      "Prog_Dataset/Non_Progressive/Other_Songs/04 - Somebody Told Me.mp3\n",
      "(160, 8491)\n",
      "Prog_Dataset/Non_Progressive/Other_Songs/01-Light - Look At Your Sun.mp3\n"
     ]
    },
    {
     "name": "stderr",
     "output_type": "stream",
     "text": [
      "[src/libmpg123/id3.c:process_comment():584] error: No comment text / valid description?\n"
     ]
    },
    {
     "name": "stdout",
     "output_type": "stream",
     "text": [
      "(160, 17052)\n",
      "Prog_Dataset/Non_Progressive/Other_Songs/06 - De Música Ligera (Remasterizado 2007).mp3\n",
      "(160, 9164)\n",
      "Prog_Dataset/Non_Progressive/Other_Songs/Ursine Vulpine ft Annaca   Wicked Game (Lyrics).mp3\n",
      "(160, 11834)\n",
      "Prog_Dataset/Non_Progressive/Other_Songs/01 Styx - Grand Illusion.mp3\n"
     ]
    },
    {
     "name": "stderr",
     "output_type": "stream",
     "text": [
      "Note: Illegal Audio-MPEG-Header 0x00000000 at offset 10986313.\n",
      "Note: Trying to resync...\n",
      "Note: Hit end of (available) data during resync.\n"
     ]
    },
    {
     "name": "stdout",
     "output_type": "stream",
     "text": [
      "(160, 11829)\n",
      "Prog_Dataset/Non_Progressive/Other_Songs/04 - Interstate Love Song.mp3\n",
      "(160, 8320)\n",
      "Prog_Dataset/Non_Progressive/Other_Songs/13 Famous Last Words.mp3\n",
      "(160, 12972)\n",
      "Prog_Dataset/Non_Progressive/Other_Songs/19 - Tusk.mp3\n",
      "(160, 9052)\n",
      "Prog_Dataset/Non_Progressive/Other_Songs/11 - Your Lucky Day In Hell.mp3\n",
      "(160, 11490)\n",
      "Prog_Dataset/Non_Progressive/Other_Songs/12 - Buckingham Green.mp3\n",
      "(160, 8540)\n",
      "Prog_Dataset/Non_Progressive/Other_Songs/03 - No Doubt - Just a Girl.mp3\n",
      "(160, 9013)\n",
      "Prog_Dataset/Non_Progressive/Other_Songs/04 Cracker - Low.mp3\n"
     ]
    },
    {
     "name": "stderr",
     "output_type": "stream",
     "text": [
      "[src/libmpg123/id3.c:process_comment():584] error: No comment text / valid description?\n"
     ]
    },
    {
     "name": "stdout",
     "output_type": "stream",
     "text": [
      "(160, 11902)\n",
      "Prog_Dataset/Non_Progressive/Other_Songs/08 All the Small Things.mp3\n",
      "(160, 7238)\n",
      "Prog_Dataset/Non_Progressive/Other_Songs/01-Janitor Of Lunacy.mp3\n",
      "(160, 10459)\n",
      "Prog_Dataset/Non_Progressive/Other_Songs/09 - Money For Nothing (Album Version).mp3\n",
      "(160, 21726)\n",
      "Prog_Dataset/Non_Progressive/Other_Songs/05-Flourescent Adolescent.mp3\n",
      "(160, 7646)\n",
      "Prog_Dataset/Non_Progressive/Other_Songs/Cranberries - 04 - Zombie.mp3\n",
      "(160, 13202)\n",
      "Prog_Dataset/Non_Progressive/Other_Songs/03. Rag Doll.mp3\n",
      "(160, 11404)\n",
      "Prog_Dataset/Non_Progressive/Other_Songs/07. Black Hole Sun.mp3\n"
     ]
    },
    {
     "name": "stderr",
     "output_type": "stream",
     "text": [
      "[src/libmpg123/id3.c:process_comment():584] error: No comment text / valid description?\n"
     ]
    },
    {
     "name": "stdout",
     "output_type": "stream",
     "text": [
      "(160, 13721)\n",
      "Prog_Dataset/Non_Progressive/Other_Songs/1-03 Wonderwall.mp3\n",
      "(160, 11145)\n",
      "Prog_Dataset/Non_Progressive/Other_Songs/07 - Wake Up.mp3\n",
      "(160, 14442)\n",
      "Prog_Dataset/Non_Progressive/Other_Songs/06 - Disarm.mp3\n",
      "(160, 8548)\n",
      "Prog_Dataset/Non_Progressive/Other_Songs/Cosmia.mp3\n",
      "(160, 18738)\n",
      "Prog_Dataset/Non_Progressive/Other_Songs/06 Felt Mountain.mp3\n",
      "(160, 11072)\n",
      "Prog_Dataset/Non_Progressive/Other_Songs/09 - Dilettante.mp3\n",
      "(160, 10490)\n",
      "Prog_Dataset/Non_Progressive/Other_Songs/07 Eight Miles High.mp3\n",
      "(160, 9380)\n",
      "Prog_Dataset/Non_Progressive/Other_Songs/10 - Don_t You Want Me - The Human League.mp3\n",
      "(160, 10352)\n",
      "Prog_Dataset/Non_Progressive/Other_Songs/Gin_Blossoms_Hey_Jealousy.mp3\n",
      "(160, 10193)\n",
      "Prog_Dataset/Non_Progressive/Other_Songs/04 - Ted Just Admit it.......mp3\n",
      "(160, 18907)\n",
      "Prog_Dataset/Non_Progressive/Other_Songs/01 - It_s The End Of The World As We Know It (And I Feel Fine) (Edit) (2006 Digital Remaster).mp3\n",
      "(160, 10556)\n",
      "Prog_Dataset/Non_Progressive/Other_Songs/11 - Inoculate the Innocuous.mp3\n",
      "(160, 13707)\n",
      "Prog_Dataset/Non_Progressive/Other_Songs/05. This Time.mp3\n",
      "(160, 8686)\n",
      "Prog_Dataset/Non_Progressive/Other_Songs/Collective Soul_The World I Know.mp3\n",
      "(160, 10973)\n",
      "Prog_Dataset/Non_Progressive/Other_Songs/Closer.mp3\n",
      "(160, 16067)\n",
      "Prog_Dataset/Non_Progressive/Other_Songs/04---Relax---Frankie-Goes-To-Hollywood.mp3\n",
      "(160, 10189)\n",
      "Prog_Dataset/Non_Progressive/Other_Songs/11 Better Man.mp3\n",
      "(160, 11559)\n",
      "Prog_Dataset/Non_Progressive/Other_Songs/101-tom_petty_and_the_heartbreakers-refugee.mp3\n",
      "(160, 8687)\n",
      "Prog_Dataset/Non_Progressive/Other_Songs/06 - How Soon Is Now_.mp3\n",
      "(160, 17495)\n",
      "Prog_Dataset/Non_Progressive/Other_Songs/06 - Cruel Summer.mp3\n",
      "(160, 8938)\n",
      "Prog_Dataset/Non_Progressive/Other_Songs/09 - Madonna, Sean and Me.mp3\n",
      "(160, 18942)\n",
      "Prog_Dataset/Non_Progressive/Other_Songs/04 - Elton John - Goodbye Yellow Brick Road (Remastered 2014).mp3\n",
      "(160, 8305)\n",
      "Prog_Dataset/Non_Progressive/Other_Songs/05-shock_the_monkey_320_lame_cbr.mp3\n",
      "(160, 14203)\n",
      "Prog_Dataset/Non_Progressive/Other_Songs/02 West End Girls.mp3\n",
      "(160, 12320)\n",
      "Prog_Dataset/Non_Progressive/Other_Songs/06-alone_again_or_320_lame_cbr.mp3\n",
      "(160, 7871)\n",
      "Prog_Dataset/Non_Progressive/Other_Songs/12 - Round And Round [12_ Version].mp3\n",
      "(160, 17738)\n",
      "Prog_Dataset/Non_Progressive/Other_Songs/02 - Burnin_ For You.mp3\n",
      "(160, 11707)\n",
      "Prog_Dataset/Non_Progressive/Other_Songs/02 Peace Of Mind.mp3\n",
      "(160, 13008)\n",
      "Prog_Dataset/Non_Progressive/Other_Songs/07 - Head Over Heels  Broken.mp3\n",
      "(160, 13021)\n",
      "Prog_Dataset/Non_Progressive/Other_Songs/02 - Killer Queen.mp3\n"
     ]
    },
    {
     "name": "stderr",
     "output_type": "stream",
     "text": [
      "[src/libmpg123/id3.c:process_comment():584] error: No comment text / valid description?\n"
     ]
    },
    {
     "name": "stdout",
     "output_type": "stream",
     "text": [
      "(160, 7770)\n",
      "Prog_Dataset/Non_Progressive/Other_Songs/02-blondie-call_me-rns.mp3\n",
      "(160, 9122)\n",
      "Prog_Dataset/Non_Progressive/Other_Songs/02. Planet Earth.mp3\n",
      "(160, 10458)\n",
      "Prog_Dataset/Non_Progressive/Other_Songs/24_Billy_Vaughan_Orange_Blossom_Special.mp3\n",
      "(160, 6673)\n",
      "Prog_Dataset/Non_Progressive/Other_Songs/22 Turn On The News.mp3\n",
      "(160, 11532)\n",
      "Prog_Dataset/Non_Progressive/Other_Songs/Billy Joel - It_s Still Rock And Roll To Me.mp3\n",
      "(160, 7635)\n",
      "Prog_Dataset/Non_Progressive/Other_Songs/09 I_m Just a Singer (In a Rock and Roll Band).mp3\n",
      "(160, 11129)\n",
      "Prog_Dataset/Non_Progressive/Other_Songs/06 Tales Of Brave Ulysses.mp3\n",
      "(160, 7296)\n",
      "Prog_Dataset/Non_Progressive/Other_Songs/07 - You Really Got Me.mp3\n",
      "(160, 5800)\n",
      "Prog_Dataset/Non_Progressive/Other_Songs/01 - Loser.mp3\n",
      "(160, 10151)\n",
      "Prog_Dataset/Non_Progressive/Other_Songs/09 - Golden Brown [Explicit].mp3\n",
      "(160, 8957)\n",
      "Prog_Dataset/Non_Progressive/Other_Songs/101-led_zeppelin-immigrant_song.mp3\n",
      "(160, 6335)\n",
      "Prog_Dataset/Non_Progressive/Other_Songs/06 Naima.mp3\n",
      "(160, 11426)\n",
      "Prog_Dataset/Non_Progressive/Other_Songs/04 - Vera.mp3\n",
      "(160, 4021)\n",
      "Prog_Dataset/Non_Progressive/Other_Songs/07. The Cars - Bye Bye Love.mp3\n"
     ]
    },
    {
     "name": "stderr",
     "output_type": "stream",
     "text": [
      "Note: Illegal Audio-MPEG-Header 0x00000000 at offset 10147253.\n",
      "Note: Trying to resync...\n",
      "Note: Hit end of (available) data during resync.\n"
     ]
    },
    {
     "name": "stdout",
     "output_type": "stream",
     "text": [
      "(160, 10920)\n",
      "Prog_Dataset/Non_Progressive/Other_Songs/02 - Arc of a Diver.mp3\n",
      "(160, 14146)\n",
      "Prog_Dataset/Non_Progressive/Other_Songs/07-do_it_again_320_lame_cbr.mp3\n",
      "(160, 15250)\n",
      "Prog_Dataset/Non_Progressive/Other_Songs/13. Frank Sinatra - The Girl From Ipanema.mp3\n",
      "(160, 8343)\n",
      "Prog_Dataset/Non_Progressive/Other_Songs/01 - Blinded By The Light.mp3\n",
      "(160, 18371)\n",
      "Prog_Dataset/Non_Progressive/Other_Songs/20 - They Can_t Take That Away from Me (Remastered).mp3\n",
      "(160, 8624)\n",
      "Prog_Dataset/Non_Progressive/Other_Songs/11 - Lonely People.mp3\n",
      "(160, 6471)\n",
      "Prog_Dataset/Non_Progressive/Other_Songs/(06) [Alice Cooper] No More Mr. Nice Guy.mp3\n",
      "(160, 8033)\n",
      "Prog_Dataset/Non_Progressive/Other_Songs/3. My Beautiful Dark Twisted Fantasy - POWER.mp3\n",
      "(160, 12582)\n",
      "Prog_Dataset/Non_Progressive/Other_Songs/08-love_to_love_320_lame_cbr.mp3\n",
      "(160, 19785)\n",
      "Prog_Dataset/Non_Progressive/Other_Songs/Kind Of Blue-Miles Davis-02-Freddie Freeloader.mp3\n",
      "(160, 25369)\n",
      "Prog_Dataset/Non_Progressive/Other_Songs/08 Listen.mp3\n",
      "(160, 17991)\n",
      "Prog_Dataset/Non_Progressive/Other_Songs/Tame_Impala_01_Let_It_Happen.mp3\n"
     ]
    },
    {
     "name": "stderr",
     "output_type": "stream",
     "text": [
      "Note: Illegal Audio-MPEG-Header 0x4c595249 at offset 18882356.\n",
      "Note: Trying to resync...\n",
      "Note: Hit end of (available) data during resync.\n"
     ]
    },
    {
     "name": "stdout",
     "output_type": "stream",
     "text": [
      "(160, 20110)\n",
      "Prog_Dataset/Non_Progressive/Other_Songs/09_Jewel Of The Summertime.mp3\n",
      "(160, 10074)\n",
      "Prog_Dataset/Non_Progressive/Other_Songs/03 - The national anthem.mp3\n"
     ]
    },
    {
     "name": "stderr",
     "output_type": "stream",
     "text": [
      "Note: Illegal Audio-MPEG-Header 0x040cfffb at offset 7708883.\n",
      "Note: Trying to resync...\n",
      "Note: Skipped 2 bytes in input.\n",
      "[src/libmpg123/layer3.c:INT123_do_layer3():1801] error: dequantization failed!\n",
      "Note: Illegal Audio-MPEG-Header 0xb0049200 at offset 7710137.\n",
      "Note: Trying to resync...\n",
      "Note: Skipped 285 bytes in input.\n"
     ]
    },
    {
     "name": "stdout",
     "output_type": "stream",
     "text": [
      "(160, 13838)\n",
      "Prog_Dataset/Non_Progressive/Other_Songs/03 - Take Five (LP Version).mp3\n",
      "(160, 25367)\n",
      "Prog_Dataset/Non_Progressive/Other_Songs/09. Tel Aviv.mp3\n",
      "(160, 13668)\n",
      "Prog_Dataset/Non_Progressive/Other_Songs/06. In A Gadda Da Vida.mp3\n",
      "(160, 44038)\n",
      "Prog_Dataset/Non_Progressive/Other_Songs/17 - Cross Road Blues (take 1).mp3\n",
      "(160, 6900)\n"
     ]
    }
   ],
   "source": [
    "import glob\n",
    "# Prepare a list for all the features and all the labels\n",
    "all_features = []\n",
    "all_labels = []\n",
    "\n",
    "#genres = ['blues', 'classical', 'country', 'disco', 'hiphop', 'jazz', 'metal', 'pop', 'reggae', 'rock']\n",
    "genres_path = \"Prog_Dataset/\"\n",
    "genres = [\"Progressive\", 'Non_Progressive/Top_Of_The_Pops', 'Non_Progressive/Other_Songs']\n",
    "# Extract features and genre names from each song\n",
    "for genre in genres:\n",
    "    sound_files = glob.glob(genres_path + genre + '/*')\n",
    "    #print(sound_files)\n",
    "    print('Processing %d songs in %s genre...' % (len(sound_files), genre))\n",
    "    for i, song in enumerate(sound_files):\n",
    "        if (song[-3:] == 'csv') or (song[-3:] == 'ods'):\n",
    "            continue\n",
    "        # Handle corrupt song \n",
    "        if 'jazz.00054.wav' in song:\n",
    "            features = extract_features_song_get_means(sound_files[i - 1])\n",
    "        else:\n",
    "            features = extract_features_song_get_means(song)\n",
    "\n",
    "        all_features.append(features)\n",
    "        if genre == 'Progressive':\n",
    "            all_labels.append(0)\n",
    "        else:\n",
    "            all_labels.append(1)"
   ]
  },
  {
   "cell_type": "code",
   "execution_count": 5,
   "id": "067ee045",
   "metadata": {},
   "outputs": [],
   "source": [
    "max_shape = -1\n",
    "for i in range(len(all_features)):\n",
    "    max_shape = max(max_shape, all_features[i].shape[1])\n",
    "    #print(len(all_features[i])/160)\n",
    "    #all_features[i] = all_features[i].reshape(160,all_features[i].shape[2])"
   ]
  },
  {
   "cell_type": "code",
   "execution_count": 6,
   "id": "6637f4e5",
   "metadata": {},
   "outputs": [],
   "source": [
    "def to_shape(a, shape):\n",
    "    y_, x_ = shape\n",
    "    y, x = a.shape\n",
    "    y_pad = (y_-y)\n",
    "    x_pad = (x_-x)\n",
    "    #print(x_pad, y_pad)\n",
    "    return np.pad(a,((y_pad//2, y_pad//2 + y_pad%2), \n",
    "                     (0, x_pad)),\n",
    "                  mode = 'constant')"
   ]
  },
  {
   "cell_type": "code",
   "execution_count": 7,
   "id": "a2c65c4a",
   "metadata": {},
   "outputs": [],
   "source": [
    "dict_max = {}\n",
    "for i in range(0, 160):\n",
    "    dict_max[i] = -1\n",
    "for song in all_features:\n",
    "    for i in range(0, 160):\n",
    "        dict_max[i] = max(dict_max[i], np.amax(song[i]))\n",
    "for song in all_features:\n",
    "    for i in range(0, 160):\n",
    "        song[i] = song[i] / dict_max[i]"
   ]
  },
  {
   "cell_type": "code",
   "execution_count": 8,
   "id": "3ba55c3f",
   "metadata": {},
   "outputs": [],
   "source": [
    "for index, song in enumerate(all_features):\n",
    "    shape = [160, max_shape]\n",
    "    all_features[index] = to_shape(song, shape)"
   ]
  },
  {
   "cell_type": "code",
   "execution_count": 9,
   "id": "96ec14dc",
   "metadata": {},
   "outputs": [],
   "source": [
    "features=np.stack(all_features)"
   ]
  },
  {
   "cell_type": "code",
   "execution_count": 10,
   "id": "276c6d64",
   "metadata": {},
   "outputs": [],
   "source": [
    "labels=np.stack(all_labels)"
   ]
  },
  {
   "cell_type": "code",
   "execution_count": 11,
   "id": "eab03a59",
   "metadata": {},
   "outputs": [],
   "source": [
    "features = features.astype('float32')\n",
    "labels = labels.astype('int64')"
   ]
  },
  {
   "cell_type": "code",
   "execution_count": 12,
   "id": "7e3c7c1c",
   "metadata": {},
   "outputs": [],
   "source": [
    "from torch.utils.data import TensorDataset, DataLoader\n",
    "\n",
    "features_tensor = torch.from_numpy(features)\n",
    "labels_tensor = torch.from_numpy(labels)\n",
    "dataset = TensorDataset(features_tensor, labels_tensor)"
   ]
  },
  {
   "cell_type": "code",
   "execution_count": 13,
   "id": "faa031ae",
   "metadata": {},
   "outputs": [
    {
     "data": {
      "text/plain": [
       "(400, 101)"
      ]
     },
     "execution_count": 13,
     "metadata": {},
     "output_type": "execute_result"
    }
   ],
   "source": [
    "from torch.utils.data import random_split\n",
    "\n",
    "train_ds, val_ds = random_split(dataset, [400,len(all_features)-400])\n",
    "\n",
    "len(train_ds), len(val_ds)"
   ]
  },
  {
   "cell_type": "code",
   "execution_count": 43,
   "id": "169d8f26",
   "metadata": {},
   "outputs": [],
   "source": [
    "batch_size = 16\n",
    "\n",
    "train_dl = DataLoader(train_ds, batch_size = batch_size, shuffle = True, num_workers = 2, pin_memory = True)\n",
    "val_dl = DataLoader(val_ds, batch_size = batch_size, num_workers = 2, pin_memory = True)"
   ]
  },
  {
   "cell_type": "code",
   "execution_count": 44,
   "id": "163571f6",
   "metadata": {},
   "outputs": [],
   "source": [
    "def get_default_device():\n",
    "    \"\"\"Pick GPU if available, else CPU\"\"\"\n",
    "    if torch.cuda.is_available():\n",
    "        return torch.device('cuda')\n",
    "    else:\n",
    "        return torch.device('cpu')\n",
    "    \n",
    "def to_device(data, device):\n",
    "    \"\"\"Move tensor(s) to chosen device\"\"\"\n",
    "    if isinstance(data, (list,tuple)):\n",
    "        return [to_device(x, device) for x in data]\n",
    "    return data.to(device, non_blocking=True)\n",
    "\n",
    "class DeviceDataLoader():\n",
    "    \"\"\"Wrap a dataloader to move data to a device\"\"\"\n",
    "    def __init__(self, dl, device):\n",
    "        self.dl = dl\n",
    "        self.device = device\n",
    "        \n",
    "    def __iter__(self):\n",
    "        \"\"\"Yield a batch of data after moving it to device\"\"\"\n",
    "        for b in self.dl: \n",
    "            yield to_device(b, self.device)\n",
    "\n",
    "    def __len__(self):\n",
    "        \"\"\"Number of batches\"\"\"\n",
    "        return len(self.dl)\n",
    "    \n",
    "device = get_default_device()    \n",
    "train_loader = DeviceDataLoader(train_dl, device)\n",
    "val_loader = DeviceDataLoader(val_dl, device)"
   ]
  },
  {
   "cell_type": "code",
   "execution_count": 45,
   "id": "38ced346",
   "metadata": {},
   "outputs": [],
   "source": [
    "import torch\n",
    "import torch.nn as nn\n",
    "import torch.nn.functional as F\n",
    "from torchvision.datasets import ImageFolder\n",
    "from torchvision import transforms\n",
    "from torchvision.utils import make_grid\n",
    "import torchvision.models as models\n",
    "import numpy as np # linear algebra\n",
    "import pandas as pd # data processing, CSV file I/O (e.g. pd.read_csv)\n",
    "import os\n",
    "import librosa\n",
    "import librosa.feature\n",
    "import librosa.display\n",
    "import glob\n",
    "from matplotlib import pyplot as plt"
   ]
  },
  {
   "cell_type": "code",
   "execution_count": 17,
   "id": "201fa5c5",
   "metadata": {},
   "outputs": [],
   "source": [
    "import sklearn.metrics\n",
    "def accuracy(outputs, labels):\n",
    "    #_, preds = torch.max(outputs, dim=1)\n",
    "    #return torch.tensor(torch.sum(preds == labels).item() / len(preds))\n",
    "    accuracy = sklearn.metrics.accuracy_score(labels, outputs.reshape((outputs.shape[0],)) > 0.5)\n",
    "    #print(accuracy)\n",
    "    return torch.tensor(accuracy, dtype=torch.float64)\n",
    "\n",
    "class SongClassificationBase(nn.Module):\n",
    "    \n",
    "    def training_step(self, batch):\n",
    "        #print(batch)\n",
    "        songs, labels = batch \n",
    "        self.train()\n",
    "        out = self(songs)                  # Generate predictions\n",
    "        #print(song.shape)\n",
    "        #print(out.reshape((out.shape[0],)), labels)\n",
    "        #print(out.reshape((out.shape[0],)), labels)\n",
    "        loss = F.binary_cross_entropy(out.reshape((out.shape[0],))  , labels.float()) # Calculate loss\n",
    "        acc = accuracy(out, labels)\n",
    "        return loss, acc\n",
    "    \n",
    "    def validation_step(self, batch):\n",
    "        songs, labels = batch\n",
    "        self.eval()\n",
    "        out = self(songs)                    # Generate predictions\n",
    "        #print(out.reshape((out.shape[0],)), labels)\n",
    "        loss = F.binary_cross_entropy(out.reshape((out.shape[0],)), labels.float())   # Calculate loss\n",
    "        acc = accuracy(out, labels)           # Calculate accuracy\n",
    "        return {'val_loss': loss.detach(), 'val_acc': acc}\n",
    "        \n",
    "    def validation_epoch_end(self, outputs):\n",
    "        batch_losses = [x['val_loss'] for x in outputs]\n",
    "        epoch_loss = torch.stack(batch_losses).mean()   # Combine losses\n",
    "        batch_accs = [x['val_acc'] for x in outputs]\n",
    "        #print(batch_accs)\n",
    "        epoch_acc = torch.stack(batch_accs).mean()      # Combine accuracies\n",
    "        return {'val_loss': epoch_loss.item(), 'val_acc': epoch_acc.item()}\n",
    "    \n",
    "    def epoch_end(self, epoch, result):\n",
    "        print(\"Epoch [{}], train_loss: {:.4f}, train_acc: {:.4f}, val_loss: {:.4f}, val_acc: {:.4f}\".format(\n",
    "            epoch, result['train_loss'], result['train_acc'], result['val_loss'], result['val_acc']))"
   ]
  },
  {
   "cell_type": "code",
   "execution_count": 18,
   "id": "fa3588c3",
   "metadata": {},
   "outputs": [],
   "source": [
    "@torch.no_grad()\n",
    "def evaluate(model, val_loader):\n",
    "    model.eval()\n",
    "    outputs = [model.validation_step(batch) for batch in val_loader]\n",
    "    return model.validation_epoch_end(outputs)\n",
    "\n",
    "def get_lr(optimizer):\n",
    "    for param_group in optimizer.param_groups:\n",
    "        return param_group['lr']\n",
    "\n",
    "def fit_one_cycle(epochs, max_lr, model, train_loader, val_loader, \n",
    "                  weight_decay=0, grad_clip=None, opt_func=torch.optim.Adam):\n",
    "    torch.cuda.empty_cache()\n",
    "    history = []\n",
    "    \n",
    "    # Set up cutom optimizer with weight decay\n",
    "    optimizer = opt_func(model.parameters(), max_lr, weight_decay=weight_decay)\n",
    "    # Set up one-cycle learning rate scheduler\n",
    "    sched = torch.optim.lr_scheduler.OneCycleLR(optimizer, max_lr, epochs=epochs, \n",
    "                                                steps_per_epoch=len(train_loader))\n",
    "    for epoch in range(epochs):\n",
    "        # Training Phase \n",
    "        model.train()\n",
    "        train_losses = []\n",
    "        train_acc = []\n",
    "        lrs = []\n",
    "        for batch in train_loader:\n",
    "            loss, acc = model.training_step(batch)\n",
    "            train_losses.append(loss)\n",
    "            train_acc.append(acc)\n",
    "            loss.backward()\n",
    "            \n",
    "            # Gradient clipping\n",
    "            if grad_clip: \n",
    "                nn.utils.clip_grad_value_(model.parameters(), grad_clip)\n",
    "            \n",
    "            optimizer.step()\n",
    "            optimizer.zero_grad()\n",
    "            \n",
    "            # Record & update learning rate\n",
    "            lrs.append(get_lr(optimizer))\n",
    "            sched.step()\n",
    "        \n",
    "        # Validation phase\n",
    "        result = evaluate(model, val_loader)\n",
    "        result['train_loss'] = torch.stack(train_losses).mean().item()\n",
    "        result['train_acc'] = torch.stack(train_acc).mean().item()\n",
    "        result['lrs'] = lrs\n",
    "        model.epoch_end(epoch, result)\n",
    "        history.append(result)\n",
    "    return history"
   ]
  },
  {
   "cell_type": "code",
   "execution_count": 19,
   "id": "4a5bbe6f",
   "metadata": {},
   "outputs": [],
   "source": [
    "class CNN1D(SongClassificationBase):\n",
    "    \n",
    "    def __init__(self):\n",
    "        super().__init__()\n",
    "        self.model = nn.Sequential(\n",
    "            nn.Conv1d(160, 16, kernel_size=20, padding=1),\n",
    "            nn.BatchNorm1d(16),\n",
    "            nn.ReLU(),\n",
    "            nn.MaxPool1d(5), # output: 64 x 32 x 32\n",
    "\n",
    "            nn.Conv1d(16, 32, kernel_size=5, stride=1, padding=1),\n",
    "            nn.BatchNorm1d(32),\n",
    "            nn.ReLU(),\n",
    "            nn.MaxPool1d(5), # output: 256 x 16 x 16\n",
    "\n",
    "            nn.Conv1d(32, 64, kernel_size=5, stride=1, padding=1),\n",
    "            nn.BatchNorm1d(64),\n",
    "            nn.ReLU(),\n",
    "            nn.MaxPool1d(5),\n",
    "            nn.Conv1d(64, 32, kernel_size=5, stride=1, padding=1),\n",
    "            nn.BatchNorm1d(32),\n",
    "            nn.ReLU(),\n",
    "            nn.MaxPool1d(5),\n",
    "            nn.Conv1d(32, 16, kernel_size=5, stride=1, padding=1),\n",
    "            nn.BatchNorm1d(16),\n",
    "            nn.ReLU(),\n",
    "            nn.MaxPool1d(5),\n",
    "\n",
    "            nn.Flatten(), \n",
    "            nn.Linear(560, 64),\n",
    "            nn.ReLU(inplace = True),\n",
    "            nn.Dropout(0.2),\n",
    "            nn.Linear(64, 1)\n",
    "        )\n",
    "        \n",
    "    \n",
    "    def forward(self, xb):\n",
    "        out = self.model(xb)\n",
    "        return torch.sigmoid(out)"
   ]
  },
  {
   "cell_type": "code",
   "execution_count": 46,
   "id": "4b97ea71",
   "metadata": {},
   "outputs": [],
   "source": [
    "epochs = 50\n",
    "max_lr = 3e-4\n",
    "opt_func = torch.optim.Adam\n",
    "grad_clip = 1e-2\n",
    "weight_decay = 1e-4\n",
    "model1 = to_device(CNN1D(), device)\n",
    "\n",
    "#model1 = to_device(FNN(), device)"
   ]
  },
  {
   "cell_type": "code",
   "execution_count": 47,
   "id": "bc90f329",
   "metadata": {},
   "outputs": [
    {
     "name": "stdout",
     "output_type": "stream",
     "text": [
      "Epoch [0], train_loss: 0.6850, train_acc: 0.5650, val_loss: 0.6765, val_acc: 0.6589\n",
      "Epoch [1], train_loss: 0.6383, train_acc: 0.7600, val_loss: 0.6568, val_acc: 0.6857\n",
      "Epoch [2], train_loss: 0.5829, train_acc: 0.8025, val_loss: 0.5990, val_acc: 0.7304\n",
      "Epoch [3], train_loss: 0.5101, train_acc: 0.8350, val_loss: 0.5312, val_acc: 0.7482\n",
      "Epoch [4], train_loss: 0.4378, train_acc: 0.8425, val_loss: 0.4747, val_acc: 0.7661\n",
      "Epoch [5], train_loss: 0.3751, train_acc: 0.8625, val_loss: 0.4286, val_acc: 0.8018\n",
      "Epoch [6], train_loss: 0.3357, train_acc: 0.8800, val_loss: 0.3898, val_acc: 0.8107\n",
      "Epoch [7], train_loss: 0.3142, train_acc: 0.8800, val_loss: 0.3440, val_acc: 0.8286\n",
      "Epoch [8], train_loss: 0.2918, train_acc: 0.8775, val_loss: 0.3100, val_acc: 0.9196\n",
      "Epoch [9], train_loss: 0.2904, train_acc: 0.8850, val_loss: 0.3056, val_acc: 0.8732\n",
      "Epoch [10], train_loss: 0.2555, train_acc: 0.9025, val_loss: 0.2642, val_acc: 0.9464\n",
      "Epoch [11], train_loss: 0.2682, train_acc: 0.8925, val_loss: 0.2896, val_acc: 0.8911\n",
      "Epoch [12], train_loss: 0.2271, train_acc: 0.9050, val_loss: 0.2427, val_acc: 0.9286\n",
      "Epoch [13], train_loss: 0.2385, train_acc: 0.8950, val_loss: 0.4160, val_acc: 0.8464\n",
      "Epoch [14], train_loss: 0.2008, train_acc: 0.9100, val_loss: 0.4299, val_acc: 0.8375\n",
      "Epoch [15], train_loss: 0.2423, train_acc: 0.9050, val_loss: 0.2852, val_acc: 0.8571\n",
      "Epoch [16], train_loss: 0.1847, train_acc: 0.9075, val_loss: 0.6912, val_acc: 0.8018\n",
      "Epoch [17], train_loss: 0.1856, train_acc: 0.9200, val_loss: 0.2722, val_acc: 0.8911\n",
      "Epoch [18], train_loss: 0.1512, train_acc: 0.9450, val_loss: 0.3206, val_acc: 0.8464\n",
      "Epoch [19], train_loss: 0.1504, train_acc: 0.9350, val_loss: 0.3806, val_acc: 0.8375\n",
      "Epoch [20], train_loss: 0.1418, train_acc: 0.9500, val_loss: 0.3385, val_acc: 0.8286\n",
      "Epoch [21], train_loss: 0.1018, train_acc: 0.9600, val_loss: 0.8487, val_acc: 0.7393\n",
      "Epoch [22], train_loss: 0.1131, train_acc: 0.9425, val_loss: 0.2925, val_acc: 0.8929\n",
      "Epoch [23], train_loss: 0.0690, train_acc: 0.9775, val_loss: 0.3362, val_acc: 0.8750\n",
      "Epoch [24], train_loss: 0.0475, train_acc: 0.9875, val_loss: 0.3441, val_acc: 0.8839\n",
      "Epoch [25], train_loss: 0.0492, train_acc: 0.9825, val_loss: 0.5511, val_acc: 0.7929\n",
      "Epoch [26], train_loss: 0.0356, train_acc: 0.9900, val_loss: 0.3610, val_acc: 0.8750\n",
      "Epoch [27], train_loss: 0.0213, train_acc: 0.9975, val_loss: 0.4889, val_acc: 0.8375\n",
      "Epoch [28], train_loss: 0.0123, train_acc: 0.9975, val_loss: 0.4323, val_acc: 0.8750\n",
      "Epoch [29], train_loss: 0.0133, train_acc: 0.9975, val_loss: 0.6220, val_acc: 0.7929\n",
      "Epoch [30], train_loss: 0.0086, train_acc: 0.9975, val_loss: 0.5883, val_acc: 0.7929\n",
      "Epoch [31], train_loss: 0.0058, train_acc: 1.0000, val_loss: 0.4491, val_acc: 0.8571\n",
      "Epoch [32], train_loss: 0.0044, train_acc: 1.0000, val_loss: 0.5957, val_acc: 0.8304\n",
      "Epoch [33], train_loss: 0.0044, train_acc: 1.0000, val_loss: 0.5074, val_acc: 0.8661\n",
      "Epoch [34], train_loss: 0.0036, train_acc: 1.0000, val_loss: 0.4596, val_acc: 0.8661\n",
      "Epoch [35], train_loss: 0.0032, train_acc: 1.0000, val_loss: 0.4873, val_acc: 0.8750\n",
      "Epoch [36], train_loss: 0.0019, train_acc: 1.0000, val_loss: 0.4602, val_acc: 0.8750\n",
      "Epoch [37], train_loss: 0.0016, train_acc: 1.0000, val_loss: 0.4853, val_acc: 0.8661\n",
      "Epoch [38], train_loss: 0.0017, train_acc: 1.0000, val_loss: 0.4655, val_acc: 0.8571\n",
      "Epoch [39], train_loss: 0.0012, train_acc: 1.0000, val_loss: 0.4548, val_acc: 0.8750\n",
      "Epoch [40], train_loss: 0.0015, train_acc: 1.0000, val_loss: 0.4609, val_acc: 0.8750\n",
      "Epoch [41], train_loss: 0.0013, train_acc: 1.0000, val_loss: 0.4653, val_acc: 0.8750\n",
      "Epoch [42], train_loss: 0.0013, train_acc: 1.0000, val_loss: 0.4465, val_acc: 0.8750\n",
      "Epoch [43], train_loss: 0.0012, train_acc: 1.0000, val_loss: 0.4548, val_acc: 0.8750\n",
      "Epoch [44], train_loss: 0.0008, train_acc: 1.0000, val_loss: 0.4657, val_acc: 0.8750\n",
      "Epoch [45], train_loss: 0.0009, train_acc: 1.0000, val_loss: 0.4772, val_acc: 0.8750\n",
      "Epoch [46], train_loss: 0.0011, train_acc: 1.0000, val_loss: 0.4664, val_acc: 0.8750\n",
      "Epoch [47], train_loss: 0.0014, train_acc: 1.0000, val_loss: 0.4679, val_acc: 0.8750\n",
      "Epoch [48], train_loss: 0.0011, train_acc: 1.0000, val_loss: 0.4690, val_acc: 0.8750\n",
      "Epoch [49], train_loss: 0.0009, train_acc: 1.0000, val_loss: 0.4728, val_acc: 0.8750\n"
     ]
    }
   ],
   "source": [
    "history1 = []\n",
    "history1 += fit_one_cycle(epochs, max_lr, model1, train_loader, val_loader, \n",
    "                             grad_clip=grad_clip, \n",
    "                             weight_decay=weight_decay, \n",
    "                             opt_func=opt_func)"
   ]
  },
  {
   "cell_type": "code",
   "execution_count": 58,
   "id": "ff4167a7",
   "metadata": {},
   "outputs": [
    {
     "data": {
      "image/png": "[encoded data removed]",
      "text/plain": [
       "<Figure size 720x360 with 1 Axes>"
      ]
     },
     "metadata": {
      "needs_background": "light"
     },
     "output_type": "display_data"
    }
   ],
   "source": [
    "import matplotlib.pyplot as plt\n",
    "\n",
    "val_acc = []\n",
    "train_acc = []\n",
    "for detail in history1:\n",
    "    train_acc.append(detail['train_loss'])\n",
    "    val_acc.append(detail['val_loss'])\n",
    "\n",
    "plt.figure(figsize=(10,5))\n",
    "#plt.title(\"Training and Validation Accuracy\")\n",
    "plt.plot(val_acc,label=\"val\")\n",
    "plt.plot(train_acc,label=\"train\")\n",
    "plt.xlabel(\"Iterations\", size=15)\n",
    "plt.ylabel(\"Loss\", size=15)\n",
    "plt.rc('xtick', labelsize=15) \n",
    "plt.rc('ytick', labelsize=15) \n",
    "plt.legend()\n",
    "plt.show()\n",
    "#plt.savefig('FC_curve.png')\n",
    "\n"
   ]
  },
  {
   "cell_type": "code",
   "execution_count": 57,
   "id": "c41f95cb",
   "metadata": {},
   "outputs": [
    {
     "data": {
      "image/png": "[encoded data removed]",
      "text/plain": [
       "<Figure size 720x360 with 1 Axes>"
      ]
     },
     "metadata": {
      "needs_background": "light"
     },
     "output_type": "display_data"
    }
   ],
   "source": [
    "import matplotlib.pyplot as plt\n",
    "\n",
    "val_acc = []\n",
    "train_acc = []\n",
    "for detail in history1:\n",
    "    train_acc.append(detail['train_acc'])\n",
    "    val_acc.append(detail['val_acc'])\n",
    "\n",
    "plt.figure(figsize=(10,5))\n",
    "#plt.title(\"Training and Validation Accuracy\")\n",
    "plt.plot(val_acc,label=\"val\")\n",
    "plt.plot(train_acc,label=\"train\")\n",
    "plt.xlabel(\"Iterations\", size=15)\n",
    "plt.ylabel(\"Accuracy\", size=15)\n",
    "plt.rc('xtick', labelsize=15) \n",
    "plt.rc('ytick', labelsize=15) \n",
    "plt.legend()\n",
    "plt.show()\n",
    "#plt.savefig('FC_curve.png')\n",
    "\n"
   ]
  },
  {
   "cell_type": "code",
   "execution_count": 59,
   "id": "800e7f88",
   "metadata": {},
   "outputs": [
    {
     "name": "stdout",
     "output_type": "stream",
     "text": [
      "[[106   0]\n",
      " [  0 294]]\n"
     ]
    }
   ],
   "source": [
    "train_dl_ = DataLoader(train_ds, batch_size = 600, num_workers = 2, pin_memory = True)\n",
    "train_loader_ = DeviceDataLoader(train_dl_, device)\n",
    "for state in train_loader_:    \n",
    "    #print(state[0].shape)\n",
    "    pred = model1(state[0]).detach().numpy()\n",
    "    cm=sklearn.metrics.confusion_matrix(state[1],pred > 0.5)\n",
    "    print(cm)\n",
    "#plt.imshow(cm, cmap='binary')"
   ]
  },
  {
   "cell_type": "code",
   "execution_count": 170,
   "id": "0f1d9875",
   "metadata": {},
   "outputs": [
    {
     "name": "stdout",
     "output_type": "stream",
     "text": [
      "[[30  6]\n",
      " [ 8 57]]\n"
     ]
    }
   ],
   "source": [
    "val_dl = DataLoader(val_ds, batch_size = 120, num_workers = 2, pin_memory = True)\n",
    "val_loader = DeviceDataLoader(val_dl, device)\n",
    "for state in val_loader:    \n",
    "    #print(state[0].shape)\n",
    "    pred = model1(state[0]).detach().numpy()\n",
    "    cm=sklearn.metrics.confusion_matrix(state[1],pred > 0.5)\n",
    "    print(cm)\n",
    "#plt.imshow(cm, cmap='binary')"
   ]
  },
  {
   "cell_type": "code",
   "execution_count": 63,
   "id": "0fd7b178",
   "metadata": {},
   "outputs": [
    {
     "data": {
      "text/plain": [
       "<sklearn.metrics._plot.confusion_matrix.ConfusionMatrixDisplay at 0x7f5e8fe816a0>"
      ]
     },
     "execution_count": 63,
     "metadata": {},
     "output_type": "execute_result"
    },
    {
     "data": {
      "image/png": "[encoded data removed]",
      "text/plain": [
       "<Figure size 720x720 with 2 Axes>"
      ]
     },
     "metadata": {
      "needs_background": "light"
     },
     "output_type": "display_data"
    }
   ],
   "source": [
    "from sklearn import metrics\n",
    "cm_display = metrics.ConfusionMatrixDisplay(confusion_matrix = cm, display_labels = ['Prog', 'Non-Prog'])\n",
    "\n",
    "#cm_display.plot()\n",
    "fig, ax = plt.subplots(figsize=(10,10))\n",
    "font = {\n",
    "    'weight' : 'bold',\n",
    "    'size'   : 22}\n",
    "plt.rc('font', **font)\n",
    "cm_display.plot(ax=ax, cmap=plt.cm.Blues)\n",
    "\n",
    "#plt.show()"
   ]
  },
  {
   "cell_type": "code",
   "execution_count": 171,
   "id": "ce1fd756",
   "metadata": {},
   "outputs": [],
   "source": [
    "wrong_sample = []\n",
    "for sample, prediction, label in zip(state[0].numpy(), pred, state[1]):\n",
    "    if (prediction[0]>0.5) != label.item():\n",
    "        wrong_sample.append((sample, prediction[0]))"
   ]
  },
  {
   "cell_type": "code",
   "execution_count": 172,
   "id": "09a8e671",
   "metadata": {},
   "outputs": [
    {
     "name": "stdout",
     "output_type": "stream",
     "text": [
      "Processing 142 songs in Progressive genre...\n",
      "Processing 87 songs in Non_Progressive/Top_Of_The_Pops genre...\n",
      "Processing 272 songs in Non_Progressive/Other_Songs genre...\n"
     ]
    }
   ],
   "source": [
    "import glob\n",
    "# Prepare a list for all the features and all the labels\n",
    "song_names = []\n",
    "\n",
    "#genres = ['blues', 'classical', 'country', 'disco', 'hiphop', 'jazz', 'metal', 'pop', 'reggae', 'rock']\n",
    "genres_path = \"Prog_Dataset/\"\n",
    "genres = [\"Progressive\", 'Non_Progressive/Top_Of_The_Pops', 'Non_Progressive/Other_Songs']\n",
    "# Extract features and genre names from each song\n",
    "for genre in genres:\n",
    "    sound_files = glob.glob(genres_path + genre + '/*')\n",
    "    #print(sound_files)\n",
    "    print('Processing %d songs in %s genre...' % (len(sound_files), genre))\n",
    "    for i, song in enumerate(sound_files):\n",
    "        if (song[-3:] == 'csv') or (song[-3:] == 'ods'):\n",
    "            continue\n",
    "        # Handle corrupt song \n",
    "        song_names.append(song)"
   ]
  },
  {
   "cell_type": "code",
   "execution_count": 173,
   "id": "83adf499",
   "metadata": {},
   "outputs": [],
   "source": [
    "wrong_prog = []\n",
    "wrong_nonprog = []\n",
    "for sample, prediction in wrong_sample:\n",
    "    for index, feature in enumerate(all_features):\n",
    "        check = True\n",
    "        for i in range(feature.shape[0]):\n",
    "            if abs(feature[50][i] - sample[50][i]) >= 10**-20:\n",
    "                check = False\n",
    "                break\n",
    "        if check:\n",
    "            if song_names[index][13] == 'P':\n",
    "                #print(feature[50], sample[50])\n",
    "                wrong_prog.append((song_names[index], prediction))\n",
    "                #print(prediction)\n",
    "            else:\n",
    "                wrong_nonprog.append((song_names[index], 1-prediction))\n",
    "                #print(1-prediction)\n",
    "    #break\n",
    "            #print(song_names[index])"
   ]
  },
  {
   "cell_type": "code",
   "execution_count": 186,
   "id": "4aaeff79",
   "metadata": {},
   "outputs": [],
   "source": [
    "res_dict = []\n",
    "for song, prediction in wrong_prog:\n",
    "    res_dict.append({'Song names':song[25:], 'Probability for wrong class': prediction, 'True label': 'Prog'})\n",
    "for song, prediction in wrong_nonprog:\n",
    "    res_dict.append({'Song names':song[41:], 'Probability for wrong class': prediction, 'True label': 'Non-Prog'})"
   ]
  },
  {
   "cell_type": "code",
   "execution_count": 187,
   "id": "0e46a1f0",
   "metadata": {},
   "outputs": [],
   "source": [
    "# name of csv file\n",
    "import csv\n",
    "\n",
    "filename = \"1D_CNN_Misclassification_Validation.csv\"\n",
    "fields = ['Song names', 'Probability for wrong class', 'True label']\n",
    "# writing to csv file\n",
    "with open(filename, 'w') as csvfile:\n",
    "    # creating a csv dict writer object\n",
    "    writer = csv.DictWriter(csvfile, fieldnames=fields)\n",
    " \n",
    "    # writing headers (field names)\n",
    "    writer.writeheader()\n",
    " \n",
    "    # writing data rows\n",
    "    writer.writerows(res_dict)"
   ]
  },
  {
   "cell_type": "code",
   "execution_count": 174,
   "id": "4e6caed9",
   "metadata": {},
   "outputs": [
    {
     "data": {
      "text/plain": [
       "[('Prog_Dataset/Non_Progressive/Other_Songs/01_Pulcinella_1st_scene_Overture.mp3',\n",
       "  0.6292544901371002),\n",
       " ('Prog_Dataset/Non_Progressive/Other_Songs/05. Violin Concerto in E minor op.64 - I Allegro molto appassionato.mp3',\n",
       "  0.9999807295662322),\n",
       " ('Prog_Dataset/Non_Progressive/Other_Songs/10 The Thrill Is Gone.mp3',\n",
       "  0.7229859828948975),\n",
       " ('Prog_Dataset/Non_Progressive/Top_Of_The_Pops/2001_Train_Drops_Of_Jupiter.mp3',\n",
       "  0.93043003231287),\n",
       " ('Prog_Dataset/Non_Progressive/Other_Songs/16 - Madhuban Mein Radhika Nache Re (Kohinoor 1960).mp3',\n",
       "  0.9124214872717857),\n",
       " ('Prog_Dataset/Non_Progressive/Other_Songs/04 - Vera.mp3',\n",
       "  0.7757387608289719),\n",
       " ('Prog_Dataset/Non_Progressive/Other_Songs/03 - Take Five (LP Version).mp3',\n",
       "  0.9398361369967461),\n",
       " ('Prog_Dataset/Non_Progressive/Top_Of_The_Pops/1971_Rod_Stewart_Maggie_May.mp3',\n",
       "  0.5754530429840088)]"
      ]
     },
     "execution_count": 174,
     "metadata": {},
     "output_type": "execute_result"
    }
   ],
   "source": [
    "wrong_nonprog"
   ]
  },
  {
   "cell_type": "code",
   "execution_count": 90,
   "id": "52cf8f53",
   "metadata": {},
   "outputs": [
    {
     "data": {
      "text/plain": [
       "[('Prog_Dataset/Progressive/04 - The River Under.mp3', 0.82208675),\n",
       " ('Prog_Dataset/Progressive/06-king_crimson-larks_tounges_in_aspic_(part_ii).mp3',\n",
       "  0.9895258),\n",
       " ('Prog_Dataset/Progressive/01 Peaches En Regalia.mp3', 0.9996263),\n",
       " ('Prog_Dataset/Progressive/01Al Di Meola - Flight over Rio.mp3', 0.8404518),\n",
       " ('Prog_Dataset/Progressive/05. Part V.mp3', 0.99689484),\n",
       " ('Prog_Dataset/Progressive/05 Red Shift.mp3', 0.9668197)]"
      ]
     },
     "execution_count": 90,
     "metadata": {},
     "output_type": "execute_result"
    }
   ],
   "source": [
    "wrong_prog"
   ]
  },
  {
   "cell_type": "code",
   "execution_count": 96,
   "id": "6e2c2e8c",
   "metadata": {},
   "outputs": [
    {
     "name": "stdout",
     "output_type": "stream",
     "text": [
      "----------------------------------------------------------------\n",
      "        Layer (type)               Output Shape         Param #\n",
      "================================================================\n",
      "            Conv1d-1           [32, 16, 112914]          51,216\n",
      "       BatchNorm1d-2           [32, 16, 112914]              32\n",
      "              ReLU-3           [32, 16, 112914]               0\n",
      "         MaxPool1d-4            [32, 16, 22582]               0\n",
      "            Conv1d-5            [32, 32, 22580]           2,592\n",
      "       BatchNorm1d-6            [32, 32, 22580]              64\n",
      "              ReLU-7            [32, 32, 22580]               0\n",
      "         MaxPool1d-8             [32, 32, 4516]               0\n",
      "            Conv1d-9             [32, 64, 4514]          10,304\n",
      "      BatchNorm1d-10             [32, 64, 4514]             128\n",
      "             ReLU-11             [32, 64, 4514]               0\n",
      "        MaxPool1d-12              [32, 64, 902]               0\n",
      "           Conv1d-13              [32, 32, 900]          10,272\n",
      "      BatchNorm1d-14              [32, 32, 900]              64\n",
      "             ReLU-15              [32, 32, 900]               0\n",
      "        MaxPool1d-16              [32, 32, 180]               0\n",
      "           Conv1d-17              [32, 16, 178]           2,576\n",
      "      BatchNorm1d-18              [32, 16, 178]              32\n",
      "             ReLU-19              [32, 16, 178]               0\n",
      "        MaxPool1d-20               [32, 16, 35]               0\n",
      "          Flatten-21                  [32, 560]               0\n",
      "           Linear-22                   [32, 64]          35,904\n",
      "             ReLU-23                   [32, 64]               0\n",
      "          Dropout-24                   [32, 64]               0\n",
      "           Linear-25                    [32, 1]              65\n",
      "================================================================\n",
      "Total params: 113,249\n",
      "Trainable params: 113,249\n",
      "Non-trainable params: 0\n",
      "----------------------------------------------------------------\n",
      "Input size (MB): 2205.68\n",
      "Forward/backward pass size (MB): 2226.52\n",
      "Params size (MB): 0.43\n",
      "Estimated Total Size (MB): 4432.63\n",
      "----------------------------------------------------------------\n"
     ]
    }
   ],
   "source": [
    "from torchsummary.torchsummary import summary\n",
    "\n",
    "summary(model1, (160,112931), batch_size=32, device='cuda')"
   ]
  },
  {
   "cell_type": "code",
   "execution_count": 90,
   "id": "da246318",
   "metadata": {},
   "outputs": [
    {
     "name": "stdout",
     "output_type": "stream",
     "text": [
      "CNN1D(\n",
      "  (model): Sequential(\n",
      "    (0): Conv1d(160, 16, kernel_size=(20,), stride=(1,), padding=(1,))\n",
      "    (1): BatchNorm1d(16, eps=1e-05, momentum=0.1, affine=True, track_running_stats=True)\n",
      "    (2): ReLU()\n",
      "    (3): MaxPool1d(kernel_size=5, stride=5, padding=0, dilation=1, ceil_mode=False)\n",
      "    (4): Conv1d(16, 32, kernel_size=(5,), stride=(1,), padding=(1,))\n",
      "    (5): BatchNorm1d(32, eps=1e-05, momentum=0.1, affine=True, track_running_stats=True)\n",
      "    (6): ReLU()\n",
      "    (7): MaxPool1d(kernel_size=5, stride=5, padding=0, dilation=1, ceil_mode=False)\n",
      "    (8): Conv1d(32, 64, kernel_size=(5,), stride=(1,), padding=(1,))\n",
      "    (9): BatchNorm1d(64, eps=1e-05, momentum=0.1, affine=True, track_running_stats=True)\n",
      "    (10): ReLU()\n",
      "    (11): MaxPool1d(kernel_size=5, stride=5, padding=0, dilation=1, ceil_mode=False)\n",
      "    (12): Conv1d(64, 32, kernel_size=(5,), stride=(1,), padding=(1,))\n",
      "    (13): BatchNorm1d(32, eps=1e-05, momentum=0.1, affine=True, track_running_stats=True)\n",
      "    (14): ReLU()\n",
      "    (15): MaxPool1d(kernel_size=5, stride=5, padding=0, dilation=1, ceil_mode=False)\n",
      "    (16): Conv1d(32, 16, kernel_size=(5,), stride=(1,), padding=(1,))\n",
      "    (17): BatchNorm1d(16, eps=1e-05, momentum=0.1, affine=True, track_running_stats=True)\n",
      "    (18): ReLU()\n",
      "    (19): MaxPool1d(kernel_size=5, stride=5, padding=0, dilation=1, ceil_mode=False)\n",
      "    (20): Flatten(start_dim=1, end_dim=-1)\n",
      "    (21): Linear(in_features=560, out_features=64, bias=True)\n",
      "    (22): ReLU(inplace=True)\n",
      "    (23): Dropout(p=0.2, inplace=False)\n",
      "    (24): Linear(in_features=64, out_features=1, bias=True)\n",
      "  )\n",
      ")\n"
     ]
    }
   ],
   "source": [
    "print(model1)"
   ]
  },
  {
   "cell_type": "markdown",
   "id": "bd3077f6",
   "metadata": {},
   "source": [
    "# Testing"
   ]
  },
  {
   "cell_type": "code",
   "execution_count": null,
   "id": "78dd3793",
   "metadata": {},
   "outputs": [
    {
     "name": "stdout",
     "output_type": "stream",
     "text": [
      "Processing 138 songs in Progressive genre...\n",
      "Prog_Dataset/Test/Progressive/08 .3 1.m4a\n"
     ]
    },
    {
     "name": "stderr",
     "output_type": "stream",
     "text": [
      "/tmp/ipykernel_3471998/2405025507.py:6: UserWarning: PySoundFile failed. Trying audioread instead.\n",
      "  y, _ = librosa.load(song, sr = rate)\n",
      "/home/hoangngominh98/anaconda3/lib/python3.9/site-packages/librosa/core/audio.py:183: FutureWarning: librosa.core.audio.__audioread_load\n",
      "\tDeprecated as of librosa version 0.10.0.\n",
      "\tIt will be removed in librosa version 1.0.\n",
      "  y, sr_native = __audioread_load(path, offset, duration, dtype)\n"
     ]
    },
    {
     "name": "stdout",
     "output_type": "stream",
     "text": [
      "(160, 14022)\n",
      "Prog_Dataset/Test/Progressive/01 - Red.mp3\n",
      "(160, 16224)\n",
      "Prog_Dataset/Test/Progressive/10.Elegy.mp3\n",
      "(160, 9412)\n",
      "Prog_Dataset/Test/Progressive/05 Awaken.mp3\n",
      "(160, 40403)\n",
      "Prog_Dataset/Test/Progressive/01. Diana.mp3\n",
      "(160, 11827)\n",
      "Prog_Dataset/Test/Progressive/03 Nectar.mp3\n",
      "(160, 26251)\n",
      "Prog_Dataset/Test/Progressive/10_Sorrow.mp3\n",
      "(160, 22772)\n",
      "Prog_Dataset/Test/Progressive/08 - I Spy.mp3\n",
      "(160, 15720)\n",
      "Prog_Dataset/Test/Progressive/05. Vrooom.mp3\n",
      "(160, 12640)\n",
      "Prog_Dataset/Test/Progressive/01. Ka$cade.mp3\n",
      "(160, 13943)\n",
      "Prog_Dataset/Test/Progressive/06. Part VI.mp3\n",
      "(160, 19335)\n",
      "Prog_Dataset/Test/Progressive/05 - Entree.mp3\n",
      "(160, 13665)\n",
      "Prog_Dataset/Test/Progressive/02 - Xanadu.mp3\n",
      "(160, 28636)\n",
      "Prog_Dataset/Test/Progressive/01-Stand By.mp3\n"
     ]
    },
    {
     "name": "stderr",
     "output_type": "stream",
     "text": [
      "[src/libmpg123/id3.c:process_comment():584] error: No comment text / valid description?\n"
     ]
    }
   ],
   "source": [
    "import glob\n",
    "# Prepare a list for all the features and all the labels\n",
    "all_features_test = []\n",
    "all_labels_test = []\n",
    "\n",
    "#genres = ['blues', 'classical', 'country', 'disco', 'hiphop', 'jazz', 'metal', 'pop', 'reggae', 'rock']\n",
    "genres_path = \"Prog_Dataset/Test/\"\n",
    "genres = [\"Progressive\", 'Non_Progressive']\n",
    "# Extract features and genre names from each song\n",
    "for genre in genres:\n",
    "    sound_files = glob.glob(genres_path + genre + '/*')\n",
    "    #print(sound_files)\n",
    "    print('Processing %d songs in %s genre...' % (len(sound_files), genre))\n",
    "    for i, song in enumerate(sound_files):\n",
    "        if (song[-3:] == 'csv') or (song[-3:] == 'ods'):\n",
    "            continue\n",
    "        # Handle corrupt song \n",
    "        if 'jazz.00054.wav' in song:\n",
    "            features = extract_features_song_get_means(sound_files[i - 1])\n",
    "        else:\n",
    "            features = extract_features_song_get_means(song)\n",
    "\n",
    "        all_features_test.append(features)\n",
    "        if genre == 'Progressive':\n",
    "            all_labels_test.append(0)\n",
    "        else:\n",
    "            all_labels_test.append(1)"
   ]
  },
  {
   "cell_type": "code",
   "execution_count": 94,
   "id": "7146f1ba",
   "metadata": {},
   "outputs": [
    {
     "name": "stdout",
     "output_type": "stream",
     "text": [
      "Processing 138 songs in Progressive genre...\n",
      "Processing 133 songs in Non_Progressive genre...\n"
     ]
    }
   ],
   "source": [
    "import glob\n",
    "# Prepare a list for all the features and all the labels\n",
    "song_names_test = []\n",
    "\n",
    "#genres = ['blues', 'classical', 'country', 'disco', 'hiphop', 'jazz', 'metal', 'pop', 'reggae', 'rock']\n",
    "genres_path = \"Prog_Dataset/Test/\"\n",
    "genres = [\"Progressive\", 'Non_Progressive']\n",
    "# Extract features and genre names from each song\n",
    "for genre in genres:\n",
    "    sound_files = glob.glob(genres_path + genre + '/*')\n",
    "    #print(sound_files)\n",
    "    print('Processing %d songs in %s genre...' % (len(sound_files), genre))\n",
    "    for i, song in enumerate(sound_files):\n",
    "        if (song[-3:] == 'csv') or (song[-3:] == 'ods'):\n",
    "            continue\n",
    "        # Handle corrupt song \n",
    "        song_names_test.append(song)"
   ]
  },
  {
   "cell_type": "code",
   "execution_count": 33,
   "id": "22383d81",
   "metadata": {},
   "outputs": [],
   "source": [
    "for song in all_features_test:\n",
    "    for i in range(0, 160):\n",
    "        song[i] = song[i] / dict_max[i]\n",
    "for index, song in enumerate(all_features_test):\n",
    "    shape = [160, max_shape]\n",
    "    all_features_test[index] = to_shape(song, shape)\n"
   ]
  },
  {
   "cell_type": "code",
   "execution_count": 38,
   "id": "1eaef41a",
   "metadata": {},
   "outputs": [],
   "source": [
    "for index, song in enumerate(all_features_test):\n",
    "    all_features_test[index] = all_features_test[index].T"
   ]
  },
  {
   "cell_type": "code",
   "execution_count": 40,
   "id": "52f377bc",
   "metadata": {},
   "outputs": [],
   "source": [
    "features_test=np.stack(all_features_test)\n",
    "labels_test=np.stack(all_labels_test)\n",
    "features_test = features_test.astype('float32')\n",
    "labels_test = labels_test.astype('int64')\n",
    "features_tensor_test = torch.from_numpy(features_test)\n",
    "labels_tensor_test = torch.from_numpy(labels_test)\n",
    "dataset_test = TensorDataset(features_tensor_test, labels_tensor_test)\n",
    "test_dl = DataLoader(dataset_test, batch_size = 267, num_workers = 2, pin_memory = True)\n",
    "test_loader = DeviceDataLoader(test_dl, device)"
   ]
  },
  {
   "cell_type": "code",
   "execution_count": 80,
   "id": "fcf35c2e",
   "metadata": {},
   "outputs": [
    {
     "data": {
      "text/plain": [
       "(267, 160, 112931)"
      ]
     },
     "execution_count": 80,
     "metadata": {},
     "output_type": "execute_result"
    }
   ],
   "source": [
    "features_test.shape"
   ]
  },
  {
   "cell_type": "code",
   "execution_count": 95,
   "id": "d17fe63d",
   "metadata": {},
   "outputs": [
    {
     "name": "stdout",
     "output_type": "stream",
     "text": [
      "[[ 80  56]\n",
      " [ 14 117]]\n"
     ]
    }
   ],
   "source": [
    "for state in test_loader:    \n",
    "    #print(state[0].shape)\n",
    "    pred = model1(state[0]).detach().numpy()\n",
    "    cm=sklearn.metrics.confusion_matrix(state[1],pred > 0.5)\n",
    "    print(cm)"
   ]
  },
  {
   "cell_type": "code",
   "execution_count": 138,
   "id": "dc769fe2",
   "metadata": {},
   "outputs": [
    {
     "data": {
      "text/plain": [
       "['Prog_Dataset/Test/Progressive/08 .3 1.m4a',\n",
       " 'Prog_Dataset/Test/Progressive/01 - Red.mp3',\n",
       " 'Prog_Dataset/Test/Progressive/10.Elegy.mp3',\n",
       " 'Prog_Dataset/Test/Progressive/05 Awaken.mp3',\n",
       " 'Prog_Dataset/Test/Progressive/01. Diana.mp3',\n",
       " 'Prog_Dataset/Test/Progressive/03 Nectar.mp3',\n",
       " 'Prog_Dataset/Test/Progressive/10_Sorrow.mp3',\n",
       " 'Prog_Dataset/Test/Progressive/08 - I Spy.mp3',\n",
       " 'Prog_Dataset/Test/Progressive/05. Vrooom.mp3',\n",
       " 'Prog_Dataset/Test/Progressive/01. Ka$cade.mp3',\n",
       " 'Prog_Dataset/Test/Progressive/06. Part VI.mp3',\n",
       " 'Prog_Dataset/Test/Progressive/05 - Entree.mp3',\n",
       " 'Prog_Dataset/Test/Progressive/02 - Xanadu.mp3',\n",
       " 'Prog_Dataset/Test/Progressive/01-Stand By.mp3',\n",
       " 'Prog_Dataset/Test/Progressive/02_Freewill.mp3',\n",
       " 'Prog_Dataset/Test/Progressive/09_Lateralus.mp3',\n",
       " 'Prog_Dataset/Test/Progressive/15 Third Eye.mp3',\n",
       " 'Prog_Dataset/Test/Progressive/06. Hardcore.mp3',\n",
       " 'Prog_Dataset/Test/Progressive/08 - Voyager.mp3',\n",
       " 'Prog_Dataset/Test/Progressive/08 Los Endos.mp3',\n",
       " 'Prog_Dataset/Test/Progressive/07. ShutDOWN.mp3',\n",
       " 'Prog_Dataset/Test/Progressive/08 Dreamtime.mp3',\n",
       " 'Prog_Dataset/Test/Progressive/10 The Storm.mp3',\n",
       " 'Prog_Dataset/Test/Progressive/02 - Rubicon.mp3',\n",
       " 'Prog_Dataset/Test/Progressive/04_Birthright.mp3',\n",
       " 'Prog_Dataset/Test/Progressive/09_Time Flies.mp3',\n",
       " 'Prog_Dataset/Test/Progressive/11 - Stopa 11.mp3',\n",
       " 'Prog_Dataset/Test/Progressive/11. Jaguar God.mp3',\n",
       " 'Prog_Dataset/Test/Progressive/03. Little Man.mp3',\n",
       " 'Prog_Dataset/Test/Progressive/04 Clairvoyant.mp3',\n",
       " 'Prog_Dataset/Test/Progressive/04. Descending.mp3',\n",
       " 'Prog_Dataset/Test/Progressive/01. Simple Boy.mp3',\n",
       " 'Prog_Dataset/Test/Progressive/05 - Ouroboros.mp3',\n",
       " 'Prog_Dataset/Test/Progressive/08. Pareidolia.mp3',\n",
       " 'Prog_Dataset/Test/Progressive/03 - Kali Yuga.mp3',\n",
       " 'Prog_Dataset/Test/Progressive/05 - Stargazers.mp3',\n",
       " 'Prog_Dataset/Test/Progressive/01-Introduzione.mp3',\n",
       " 'Prog_Dataset/Test/Progressive/08 Heavy Horses.mp3',\n",
       " 'Prog_Dataset/Test/Progressive/01-Opening Move.mp3',\n",
       " 'Prog_Dataset/Test/Progressive/08 - Ebb & Flow.mp3',\n",
       " 'Prog_Dataset/Test/Progressive/12 - The Garden.mp3',\n",
       " 'Prog_Dataset/Test/Progressive/11 Strip The Soul.m4a',\n",
       " 'Prog_Dataset/Test/Progressive/08 Rosetta Stoned.mp3',\n",
       " 'Prog_Dataset/Test/Progressive/02 - The Weirding.mp3',\n",
       " 'Prog_Dataset/Test/Progressive/04 - Running Hard.mp3',\n",
       " 'Prog_Dataset/Test/Progressive/02 April Ethereal.mp3',\n",
       " 'Prog_Dataset/Test/Progressive/02. Time Is Monet.mp3',\n",
       " 'Prog_Dataset/Test/Progressive/04 - No Part Of Me.mp3',\n",
       " 'Prog_Dataset/Test/Progressive/11 - On That Note.flac',\n",
       " 'Prog_Dataset/Test/Progressive/01. Oblivion_khaos.mp3',\n",
       " 'Prog_Dataset/Test/Progressive/07 The Cinema Show.mp3',\n",
       " 'Prog_Dataset/Test/Progressive/04 Master Builder.flac',\n",
       " 'Prog_Dataset/Test/Progressive/09 - Quantum Factor.mp3',\n",
       " 'Prog_Dataset/Test/Progressive/01. Machine Messiah.mp3',\n",
       " 'Prog_Dataset/Test/Progressive/05.Harvest_of_Souls.mp3',\n",
       " 'Prog_Dataset/Test/Progressive/03. Egoist Hedonist.mp3',\n",
       " 'Prog_Dataset/Test/Progressive/05 - Jurassic Shift.mp3',\n",
       " \"Prog_Dataset/Test/Progressive/04-Anyone's Daughter.mp3\",\n",
       " 'Prog_Dataset/Test/Progressive/08 Suite Sister Mary.mp3',\n",
       " 'Prog_Dataset/Test/Progressive/07. Escalator Shrine.mp3',\n",
       " 'Prog_Dataset/Test/Progressive/01 - Nothing At Best.mp3',\n",
       " 'Prog_Dataset/Test/Progressive/07 - Chimera’s Wreck.mp3',\n",
       " 'Prog_Dataset/Test/Progressive/13 - Beyond the Pale.mp3',\n",
       " 'Prog_Dataset/Test/Progressive/02 - Song for America.mp3',\n",
       " 'Prog_Dataset/Test/Progressive/103 Thela Hun Ginjeet.mp3',\n",
       " 'Prog_Dataset/Test/Progressive/02_Pictures_Of_A_City.mp3',\n",
       " 'Prog_Dataset/Test/Progressive/03 Sartori In Tangier.mp3',\n",
       " 'Prog_Dataset/Test/Progressive/01 Prologue - Autumn.flac',\n",
       " 'Prog_Dataset/Test/Progressive/05_Turn of the Century.mp3',\n",
       " 'Prog_Dataset/Test/Progressive/05. Bortglömda Gårdar.flac',\n",
       " 'Prog_Dataset/Test/Progressive/05. Guardian Of My Soul.mp3',\n",
       " 'Prog_Dataset/Test/Progressive/1 robert wyatt SEA SONG.mp3',\n",
       " 'Prog_Dataset/Test/Progressive/06  Ashes Are  Burning .mp3',\n",
       " 'Prog_Dataset/Test/Progressive/203-opeth-heart_in_hand.mp3',\n",
       " 'Prog_Dataset/Test/Progressive/05 - Those Golden Wings.mp3',\n",
       " 'Prog_Dataset/Test/Progressive/03 - Symphony X - Fallen.mp3',\n",
       " 'Prog_Dataset/Test/Progressive/10 Peace To The Mountain.mp3',\n",
       " 'Prog_Dataset/Test/Progressive/Impressioni di settembre.mp3',\n",
       " 'Prog_Dataset/Test/Progressive/07. Incantation (Part 1).mp3',\n",
       " 'Prog_Dataset/Test/Progressive/01 - Untouchable, Part 1.mp3',\n",
       " 'Prog_Dataset/Test/Progressive/03 Paralised Civilization.mp3',\n",
       " \"Prog_Dataset/Test/Progressive/Dark Light - Sinkin' Deep.mp3\",\n",
       " 'Prog_Dataset/Test/Progressive/05. Histoires Sans Paroles.mp3',\n",
       " 'Prog_Dataset/Test/Progressive/09 - Welcome to the Planet.mp3',\n",
       " 'Prog_Dataset/Test/Progressive/17-Toxicological Whispering.mp3',\n",
       " 'Prog_Dataset/Test/Progressive/06 The Main Monkey Business.mp3',\n",
       " 'Prog_Dataset/Test/Progressive/Thrak-King Crimson-06-THRAK.mp3',\n",
       " 'Prog_Dataset/Test/Progressive/08. Towards The Blue Horizon.mp3',\n",
       " 'Prog_Dataset/Test/Progressive/01 - Assault & Battery Part I.mp3',\n",
       " 'Prog_Dataset/Test/Progressive/08. Visions -remastered 2017-.mp3',\n",
       " 'Prog_Dataset/Test/Progressive/06-Happy Nightmare (Mescaline).mp3',\n",
       " 'Prog_Dataset/Test/Progressive/Opeth - Serenity Painted Death.mp3',\n",
       " 'Prog_Dataset/Test/Progressive/09 - The World We Used to Know.mp3',\n",
       " \"Prog_Dataset/Test/Progressive/Duke-Genesis-11-Duke's Travels.mp3\",\n",
       " 'Prog_Dataset/Test/Progressive/The Gathering - 09 - Saturnine.mp3',\n",
       " 'Prog_Dataset/Test/Progressive/06 - The Storm Before the Calm.mp3',\n",
       " 'Prog_Dataset/Test/Progressive/03. Aquarium -remastered 2017-.mp3',\n",
       " 'Prog_Dataset/Test/Progressive/11 Architects of Consciousness.mp3',\n",
       " 'Prog_Dataset/Test/Progressive/07 - The Final Thing On My Mind.mp3',\n",
       " \"Prog_Dataset/Test/Progressive/08_The_Devil's_Triangle_Part_II.mp3\",\n",
       " 'Prog_Dataset/Test/Progressive/04-In The Land Of Grey And Pink.mp3',\n",
       " 'Prog_Dataset/Test/Progressive/02_The Revealing Science of God.mp3',\n",
       " 'Prog_Dataset/Test/Progressive/05_Shine On You Crazy Diamond II.mp3',\n",
       " 'Prog_Dataset/Test/Progressive/Devin Townsend Project - Kingdom.mp3',\n",
       " 'Prog_Dataset/Test/Progressive/EMERSON-LAKE-PALMER---PETER-GUNN.mp3',\n",
       " 'Prog_Dataset/Test/Progressive/02-Mountain Of Fruits And Flowers.mp3',\n",
       " 'Prog_Dataset/Test/Progressive/04. Selkies- The Endless Obsession.mp3',\n",
       " 'Prog_Dataset/Test/Progressive/01 Dream Theater - The Glass Prison.mp3',\n",
       " 'Prog_Dataset/Test/Progressive/07_Genesis_The Fountain of Salmacis.mp3',\n",
       " 'Prog_Dataset/Test/Progressive/MIKE OLDFIELD - Part One (Ommadawn).mp3',\n",
       " 'Prog_Dataset/Test/Progressive/101-marillion-the_invisible_man-sns.mp3',\n",
       " 'Prog_Dataset/Test/Progressive/02. This Film Might Change Your Life.mp3',\n",
       " 'Prog_Dataset/Test/Progressive/Barclay James Harvest - Mocking Bird.mp3',\n",
       " 'Prog_Dataset/Test/Progressive/101-emerson_lake_and_palmer-jerusalem.mp3',\n",
       " 'Prog_Dataset/Test/Progressive/06. Native Construct - Chromatic Lights.mp3',\n",
       " \"Prog_Dataset/Test/Progressive/05-Son Of There's No Place Like Homerton.mp3\",\n",
       " 'Prog_Dataset/Test/Progressive/08_-_shadow_of_the_hierophant_320_lame_cbr.mp3',\n",
       " 'Prog_Dataset/Test/Progressive/19 - Islands (Live at The Egg, Albany, NY).mp3',\n",
       " \"Prog_Dataset/Test/Progressive/King Crimson - Islands - 02 - Sailor's Tale.mp3\",\n",
       " 'Prog_Dataset/Test/Progressive/The Dear Hunter - 06 - A Night on the Town.flac',\n",
       " 'Prog_Dataset/Test/Progressive/Wind & Wuthering-Genesis-02-One For the Vine.mp3',\n",
       " 'Prog_Dataset/Test/Progressive/01 Cirkus (including Entry of the Chameleons).mp3',\n",
       " 'Prog_Dataset/Test/Progressive/08 - Spectral Mornings (2005 Digital Remaster).mp3',\n",
       " 'Prog_Dataset/Test/Progressive/01 - Atom Heart Mother Suite (2011 - Remaster).mp3',\n",
       " 'Prog_Dataset/Test/Progressive/01 - Beyond the Threshold, Pt. I (Helios Awakens).mp3',\n",
       " 'Prog_Dataset/Test/Progressive/06-duel_of_the_jester_and_the_tyrant_320_lame_cbr.mp3',\n",
       " 'Prog_Dataset/Test/Progressive/The Power To Believe-King Crimson-08-Dangerous Curves.mp3',\n",
       " 'Prog_Dataset/Test/Progressive/03 Starship Trooper- Life Seeker , Disillusion , Wurm.flac',\n",
       " 'Prog_Dataset/Test/Progressive/1 - 09 - Steve Hackett - Can-Utility And The Coastliners.mp3',\n",
       " 'Prog_Dataset/Test/Progressive/De-Loused In The Comatorium-The Mars Volta-07-Cicatriz ESP.mp3',\n",
       " 'Prog_Dataset/Test/Progressive/10-Locomotive Breath (Mixed And Mastered By Steven Wilson).flac',\n",
       " 'Prog_Dataset/Test/Progressive/The Power To Believe-King Crimson-07-The Power To Believe II.mp3',\n",
       " 'Prog_Dataset/Test/Progressive/captain beefheart - trout mask replica - 05 - hair pie- bake .mp3',\n",
       " 'Prog_Dataset/Test/Progressive/Dream Theater - Metropolis, Pt. 1- The Miracle and the Sleeper.mp3',\n",
       " \"Prog_Dataset/Test/Progressive/Rick Wakeman-The Six Wives of Henry VIII-05-Anne Boleyn 'The Day Thou Gavest Lord Hath Ended'.flac\",\n",
       " 'Prog_Dataset/Test/Progressive/02-And You And I (I. Cord Of Life, II. Eclipse, III. The Preacher The Teacher, IV. Apocalypse).mp3',\n",
       " 'Prog_Dataset/Test/Non_Progressive/10 I.mp3',\n",
       " 'Prog_Dataset/Test/Non_Progressive/06 How.mp3',\n",
       " 'Prog_Dataset/Test/Non_Progressive/Reptile.mp3',\n",
       " 'Prog_Dataset/Test/Non_Progressive/Bambola.mp3',\n",
       " 'Prog_Dataset/Test/Non_Progressive/15 - Tam.mp3',\n",
       " 'Prog_Dataset/Test/Non_Progressive/06 - Merge.mp3',\n",
       " 'Prog_Dataset/Test/Non_Progressive/02 All Mine.mp3',\n",
       " 'Prog_Dataset/Test/Non_Progressive/03-Birthday.mp3',\n",
       " 'Prog_Dataset/Test/Non_Progressive/03 - Cirice.mp3',\n",
       " 'Prog_Dataset/Test/Non_Progressive/03 Madazulu.mp3',\n",
       " 'Prog_Dataset/Test/Non_Progressive/02 Paranoid.m4a',\n",
       " 'Prog_Dataset/Test/Non_Progressive/03. Teardrop.mp3',\n",
       " 'Prog_Dataset/Test/Non_Progressive/07 By Myself.m4a',\n",
       " 'Prog_Dataset/Test/Non_Progressive/03 Katy Song.mp3',\n",
       " 'Prog_Dataset/Test/Non_Progressive/02. Cover Me.mp3',\n",
       " 'Prog_Dataset/Test/Non_Progressive/08 - Kollaps.wma',\n",
       " \"Prog_Dataset/Test/Non_Progressive/02 That's All.mp3\",\n",
       " 'Prog_Dataset/Test/Non_Progressive/06 - Physical.mp3',\n",
       " 'Prog_Dataset/Test/Non_Progressive/into the void.mp3',\n",
       " 'Prog_Dataset/Test/Non_Progressive/01 Jacqueline.mp3',\n",
       " 'Prog_Dataset/Test/Non_Progressive/05-Territories.mp3',\n",
       " 'Prog_Dataset/Test/Non_Progressive/03. Tessellate.mp3',\n",
       " 'Prog_Dataset/Test/Non_Progressive/Chelsea Dagger.mp3',\n",
       " 'Prog_Dataset/Test/Non_Progressive/01 - Bolo Hari.mp3',\n",
       " 'Prog_Dataset/Test/Non_Progressive/06 - Video Girl.mp3',\n",
       " 'Prog_Dataset/Test/Non_Progressive/03 - King Ghost.mp3',\n",
       " 'Prog_Dataset/Test/Non_Progressive/09 - Dilettante.mp3',\n",
       " 'Prog_Dataset/Test/Non_Progressive/01_Mind Ecology.mp3',\n",
       " 'Prog_Dataset/Test/Non_Progressive/09 Ascot Gavotte.mp3',\n",
       " 'Prog_Dataset/Test/Non_Progressive/02 Sweet Lullaby.mp3',\n",
       " 'Prog_Dataset/Test/Non_Progressive/03 - Mikrokosmos.mp3',\n",
       " 'Prog_Dataset/Test/Non_Progressive/01 - Djobi Djoba.mp3',\n",
       " 'Prog_Dataset/Test/Non_Progressive/02 - James Brown.mp3',\n",
       " 'Prog_Dataset/Test/Non_Progressive/08 - Old Strings.mp3',\n",
       " 'Prog_Dataset/Test/Non_Progressive/01 - Highway Star.mp3',\n",
       " \"Prog_Dataset/Test/Non_Progressive/03 Boys Don't Cry.mp3\",\n",
       " 'Prog_Dataset/Test/Non_Progressive/05 - In Your Eyes.mp3',\n",
       " 'Prog_Dataset/Test/Non_Progressive/13 - Neodammerung.mp3',\n",
       " \"Prog_Dataset/Test/Non_Progressive/1-01 It's Not Over.m4a\",\n",
       " 'Prog_Dataset/Test/Non_Progressive/04 Boy In The Moon.mp3',\n",
       " 'Prog_Dataset/Test/Non_Progressive/07_Sinister Grains.mp3',\n",
       " 'Prog_Dataset/Test/Non_Progressive/03-Sweet Blindness.mp3',\n",
       " 'Prog_Dataset/Test/Non_Progressive/Bauhaus - Mask - 02.mp3',\n",
       " 'Prog_Dataset/Test/Non_Progressive/09 Do You Realize--.mp3',\n",
       " 'Prog_Dataset/Test/Non_Progressive/05 - Hey Lawdy Mama.mp3',\n",
       " 'Prog_Dataset/Test/Non_Progressive/07 - Speed Of Sound.mp3',\n",
       " 'Prog_Dataset/Test/Non_Progressive/Radiohead - Spectre.mp3',\n",
       " 'Prog_Dataset/Test/Non_Progressive/03 - Of These, Hope.mp3',\n",
       " 'Prog_Dataset/Test/Non_Progressive/03_vicious_delicious.mp3',\n",
       " 'Prog_Dataset/Test/Non_Progressive/04 - Song of Destiny.mp3',\n",
       " 'Prog_Dataset/Test/Non_Progressive/02 I Can Do Anything.m4a',\n",
       " 'Prog_Dataset/Test/Non_Progressive/05.King of Hollywood.mp3',\n",
       " 'Prog_Dataset/Test/Non_Progressive/Beethoven_Symphony_5.mp3',\n",
       " 'Prog_Dataset/Test/Non_Progressive/Jerusalem-the Anthem.mp3',\n",
       " 'Prog_Dataset/Test/Non_Progressive/22 - Dear Mr. Fantasy.mp3',\n",
       " 'Prog_Dataset/Test/Non_Progressive/11 - Terraplane Blues.mp3',\n",
       " 'Prog_Dataset/Test/Non_Progressive/01 - Run Away With Me.mp3',\n",
       " 'Prog_Dataset/Test/Non_Progressive/02-Heart Full Of Soul.mp3',\n",
       " 'Prog_Dataset/Test/Non_Progressive/10-Music And Politics.mp3',\n",
       " 'Prog_Dataset/Test/Non_Progressive/07 Keep An Eye On Dan.mp3',\n",
       " 'Prog_Dataset/Test/Non_Progressive/01 - Beds Are Burning.mp3',\n",
       " 'Prog_Dataset/Test/Non_Progressive/01 Dance Yrself Clean.mp3',\n",
       " 'Prog_Dataset/Test/Non_Progressive/01 Penguin Cafe Single.mp3',\n",
       " 'Prog_Dataset/Test/Non_Progressive/09 - Intimate Grandeur.mp3',\n",
       " 'Prog_Dataset/Test/Non_Progressive/01_Mere Sapnon Ki Rani.mp3',\n",
       " \"Prog_Dataset/Test/Non_Progressive/03 Sweet Talkin' Woman.mp3\",\n",
       " \"Prog_Dataset/Test/Non_Progressive/01-Life's Greatest Fool.mp3\",\n",
       " 'Prog_Dataset/Test/Non_Progressive/01 - Heat Of The Moment.mp3',\n",
       " 'Prog_Dataset/Test/Non_Progressive/55. Rosalía - Malamente.mp3',\n",
       " 'Prog_Dataset/Test/Non_Progressive/01 - Another Day Of Sun.mp3',\n",
       " 'Prog_Dataset/Test/Non_Progressive/A Dream In Red Mansions.mp3',\n",
       " 'Prog_Dataset/Test/Non_Progressive/06 - Between Love & Hate.mp3',\n",
       " 'Prog_Dataset/Test/Non_Progressive/08 - You Make Loving Fun.mp3',\n",
       " 'Prog_Dataset/Test/Non_Progressive/03 I Am a God (feat. God).m4a',\n",
       " 'Prog_Dataset/Test/Non_Progressive/04-Fade Away (And Radiate).mp3',\n",
       " 'Prog_Dataset/Test/Non_Progressive/08 - When the Levee Breaks.mp3',\n",
       " 'Prog_Dataset/Test/Non_Progressive/05 - The Time And The Test.mp3',\n",
       " 'Prog_Dataset/Test/Non_Progressive/06_The Offspring_Gone Away.mp3',\n",
       " 'Prog_Dataset/Test/Non_Progressive/08 - Supersonic Rocket Ship.mp3',\n",
       " 'Prog_Dataset/Test/Non_Progressive/03 - What the Water Gave Me.mp3',\n",
       " 'Prog_Dataset/Test/Non_Progressive/02 Voulez-Vous Abba 320kbps.mp3',\n",
       " 'Prog_Dataset/Test/Non_Progressive/01. Owner Of A Lonely Heart.mp3',\n",
       " 'Prog_Dataset/Test/Non_Progressive/The Legend Of Ashitaka Theme.mp3',\n",
       " 'Prog_Dataset/Test/Non_Progressive/02. Untitled 02 (06.23.2014).mp3',\n",
       " \"Prog_Dataset/Test/Non_Progressive/03 - Three Ragas in 'D' Minor.mp3\",\n",
       " 'Prog_Dataset/Test/Non_Progressive/03.-DJ-Snake---Let-Me-Love-You.mp3',\n",
       " 'Prog_Dataset/Test/Non_Progressive/06 TITO PUENTE-HONG KONG MAMBO.mp3',\n",
       " 'Prog_Dataset/Test/Non_Progressive/12-modest_mouse-spitting_venom.mp3',\n",
       " 'Prog_Dataset/Test/Non_Progressive/09-the_strokes-ode_to_the_mets.mp3',\n",
       " 'Prog_Dataset/Test/Non_Progressive/9-08 Strawberry Fields Forever.mp3',\n",
       " 'Prog_Dataset/Test/Non_Progressive/11 Jeru The Damaja - Come Clean.mp3',\n",
       " \"Prog_Dataset/Test/Non_Progressive/04. Let's Pretend We're Married.mp3\",\n",
       " 'Prog_Dataset/Test/Non_Progressive/02 - Sigur Rós - Svefn-G-Englar.mp3',\n",
       " 'Prog_Dataset/Test/Non_Progressive/01 Ghost Love Score (Remastered).mp3',\n",
       " 'Prog_Dataset/Test/Non_Progressive/20. De La Soul - Me Myself And I.mp3',\n",
       " \"Prog_Dataset/Test/Non_Progressive/04. Ascension (Don't Ever Wonder).mp3\",\n",
       " 'Prog_Dataset/Test/Non_Progressive/05 I Left My Wallet In El Segundo.mp3',\n",
       " 'Prog_Dataset/Test/Non_Progressive/11 variations on a cocktail dress.mp3',\n",
       " 'Prog_Dataset/Test/Non_Progressive/07 - Signals (Orchestrion Sketch).mp3',\n",
       " 'Prog_Dataset/Test/Non_Progressive/13 - Porcelina of the Vast Oceans.mp3',\n",
       " 'Prog_Dataset/Test/Non_Progressive/03 Nightmares On Wax - Pipes Honour.mp3',\n",
       " 'Prog_Dataset/Test/Non_Progressive/01 the american metaphysical circus.mp3',\n",
       " \"Prog_Dataset/Test/Non_Progressive/01 Everyone's At It (Album Version).mp3\",\n",
       " 'Prog_Dataset/Test/Non_Progressive/01 - Prelude and The Sound of Music.mp3',\n",
       " 'Prog_Dataset/Test/Non_Progressive/05 - The Temple On the Edge of Time.mp3',\n",
       " 'Prog_Dataset/Test/Non_Progressive/05. Ancestress (feat. Sindri Eldon).mp3',\n",
       " 'Prog_Dataset/Test/Non_Progressive/21Henry Mancini - Baby Elephant Walk.mp3',\n",
       " 'Prog_Dataset/Test/Non_Progressive/06 Angel Tears - Inshalla (Ya Salam).mp3',\n",
       " 'Prog_Dataset/Test/Non_Progressive/01 - Nina Simone -  - Be My Husband .mp3',\n",
       " 'Prog_Dataset/Test/Non_Progressive/01. Redbone - Come And Get Your Love.mp3',\n",
       " 'Prog_Dataset/Test/Non_Progressive/Edward_Sharpe_The_Magnetic_Zeros_Home.mp3',\n",
       " 'Prog_Dataset/Test/Non_Progressive/02. None Of Them Knew They Were Robots.mp3',\n",
       " 'Prog_Dataset/Test/Non_Progressive/02 QUEENS OF THE STONE AGE-NO ONE KNOWS.mp3',\n",
       " 'Prog_Dataset/Test/Non_Progressive/02-kendrick_lamar-all_the_stars-88bcf2c3.mp3',\n",
       " \"Prog_Dataset/Test/Non_Progressive/Moby---Extreme-Ways-(Bourne's-Ultimatum).mp3\",\n",
       " 'Prog_Dataset/Test/Non_Progressive/02. Death Cab for Cutie - Soul Meets Body.ogg',\n",
       " 'Prog_Dataset/Test/Non_Progressive/15 Sprawl II (Mountains Beyond Mountains).mp3',\n",
       " 'Prog_Dataset/Test/Non_Progressive/05-miles_runs_the_voodoo_down_320_lame_cbr.mp3',\n",
       " 'Prog_Dataset/Test/Non_Progressive/2 - Arctic Monkeys - One Point Perspective.mp3',\n",
       " \"Prog_Dataset/Test/Non_Progressive/06.-Jax-Jones-feat.-RAYE--You-Don't-Know-Me.mp3\",\n",
       " 'Prog_Dataset/Test/Non_Progressive/02-tears_for_fears-the_tipping_point-68bb3466.mp3',\n",
       " 'Prog_Dataset/Test/Non_Progressive/08-oneohtrix_point_never-computer_vision-kouala.mp3',\n",
       " 'Prog_Dataset/Test/Non_Progressive/Oingo-Boingo---Weird-Science-(Extended-Dance-Mix).mp3',\n",
       " 'Prog_Dataset/Test/Non_Progressive/Kiss Me, Kiss Me, Kiss Me-The Cure-07-The Snakepit.mp3',\n",
       " 'Prog_Dataset/Test/Non_Progressive/Sufjan Stevens - The Age of Adz - 11 Impossible Soul.mp3',\n",
       " 'Prog_Dataset/Test/Non_Progressive/John Williams-The Phantom Menace-0 - Duel of the Fates.mp3',\n",
       " 'Prog_Dataset/Test/Non_Progressive/01  The Last Shadow Puppets - The Age Of The Understatement.mp3',\n",
       " 'Prog_Dataset/Test/Non_Progressive/05 - Nick Cave & The Bad Seeds - Fifteen Feet Of Pure White Snow.mp3',\n",
       " 'Prog_Dataset/Test/Non_Progressive/06 Marvins Room - Buried Alive (Interlude) (Feat. Kendrick Lamar).mp3',\n",
       " 'Prog_Dataset/Test/Non_Progressive/Gustav Mahler - Symphony no.3 - 06 - Langsam--Ruhevoll--Empfunden.flac',\n",
       " 'Prog_Dataset/Test/Non_Progressive/15 - Mussorgsky - Pictures at an Exhibition (orch. Ravel)- The Great Gate at Kiev.flac']"
      ]
     },
     "execution_count": 138,
     "metadata": {},
     "output_type": "execute_result"
    }
   ],
   "source": [
    "song_names_test"
   ]
  },
  {
   "cell_type": "code",
   "execution_count": 96,
   "id": "15786c11",
   "metadata": {},
   "outputs": [],
   "source": [
    "wrong_sample_test = []\n",
    "for sample, prediction, label in zip(state[0].numpy(), pred, state[1]):\n",
    "    if (prediction[0]>0.5) != label.item():\n",
    "        wrong_sample_test.append((sample, prediction[0]))"
   ]
  },
  {
   "cell_type": "code",
   "execution_count": 107,
   "id": "f97d2b23",
   "metadata": {},
   "outputs": [
    {
     "data": {
      "text/plain": [
       "267"
      ]
     },
     "execution_count": 107,
     "metadata": {},
     "output_type": "execute_result"
    }
   ],
   "source": [
    "len(all_features_test)"
   ]
  },
  {
   "cell_type": "code",
   "execution_count": 118,
   "id": "5fc7ae1c",
   "metadata": {},
   "outputs": [],
   "source": [
    "wrong_prog_test = []\n",
    "wrong_nonprog_test = []\n",
    "for sample, prediction in wrong_sample_test:\n",
    "    for index, feature in enumerate(all_features_test):\n",
    "        check = True\n",
    "        for i in range(feature.shape[0]):\n",
    "            if abs(feature[50][i] - sample[50][i]) >= 10**-20:\n",
    "                check = False\n",
    "                break\n",
    "        if check:\n",
    "            if song_names_test[index][18] == 'P':\n",
    "                #print(feature[50], sample[50])\n",
    "                wrong_prog_test.append((song_names_test[index], prediction))\n",
    "                #print(prediction)\n",
    "            else:\n",
    "                wrong_nonprog_test.append((song_names_test[index], 1-prediction))\n",
    "                #print(1-prediction)\n",
    "    #break\n",
    "            #print(song_names[index])"
   ]
  },
  {
   "cell_type": "code",
   "execution_count": 149,
   "id": "12799a2c",
   "metadata": {},
   "outputs": [],
   "source": [
    "res_dict = []\n",
    "for song, prediction in wrong_prog_test:\n",
    "    res_dict.append({'Song names':song[30:], 'Probability for wrong class': prediction, 'True label': 'Prog'})\n",
    "for song, prediction in wrong_nonprog_test:\n",
    "    res_dict.append({'Song names':song[34:], 'Probability for wrong class': prediction, 'True label': 'Non-Prog'})"
   ]
  },
  {
   "cell_type": "code",
   "execution_count": 148,
   "id": "e43877f5",
   "metadata": {},
   "outputs": [
    {
     "data": {
      "text/plain": [
       "'08 - Kollaps.wma'"
      ]
     },
     "execution_count": 148,
     "metadata": {},
     "output_type": "execute_result"
    }
   ],
   "source": [
    "wrong_nonprog_test[0][0][34:]"
   ]
  },
  {
   "cell_type": "code",
   "execution_count": 150,
   "id": "8ce0c820",
   "metadata": {},
   "outputs": [],
   "source": [
    "# name of csv file\n",
    "import csv\n",
    "\n",
    "filename = \"1D_CNN_Misclassification_Test.csv\"\n",
    "fields = ['Song names', 'Probability for wrong class', 'True label']\n",
    "# writing to csv file\n",
    "with open(filename, 'w') as csvfile:\n",
    "    # creating a csv dict writer object\n",
    "    writer = csv.DictWriter(csvfile, fieldnames=fields)\n",
    " \n",
    "    # writing headers (field names)\n",
    "    writer.writeheader()\n",
    " \n",
    "    # writing data rows\n",
    "    writer.writerows(res_dict)"
   ]
  },
  {
   "cell_type": "code",
   "execution_count": 93,
   "id": "f6006838",
   "metadata": {},
   "outputs": [
    {
     "data": {
      "text/plain": [
       "<sklearn.metrics._plot.confusion_matrix.ConfusionMatrixDisplay at 0x7f5e906d87c0>"
      ]
     },
     "execution_count": 93,
     "metadata": {},
     "output_type": "execute_result"
    },
    {
     "data": {
      "image/png": "[encoded data removed]",
      "text/plain": [
       "<Figure size 720x720 with 2 Axes>"
      ]
     },
     "metadata": {
      "needs_background": "light"
     },
     "output_type": "display_data"
    }
   ],
   "source": [
    "from sklearn import metrics\n",
    "cm_display = metrics.ConfusionMatrixDisplay(confusion_matrix = cm, display_labels = ['Prog', 'Non-Prog'])\n",
    "\n",
    "#cm_display.plot()\n",
    "fig, ax = plt.subplots(figsize=(10,10))\n",
    "font = {\n",
    "    'weight' : 'bold',\n",
    "    'size'   : 22}\n",
    "plt.rc('font', **font)\n",
    "cm_display.plot(ax=ax, cmap=plt.cm.Blues)\n",
    "\n",
    "#plt.show()"
   ]
  },
  {
   "cell_type": "code",
   "execution_count": 84,
   "id": "b9c41475",
   "metadata": {},
   "outputs": [
    {
     "data": {
      "text/plain": [
       "0.7528089887640449"
      ]
     },
     "execution_count": 84,
     "metadata": {},
     "output_type": "execute_result"
    }
   ],
   "source": [
    "(126+75)/(126+75+66)"
   ]
  },
  {
   "cell_type": "code",
   "execution_count": 50,
   "id": "97b0a3bb",
   "metadata": {},
   "outputs": [
    {
     "data": {
      "text/plain": [
       "0.7378277153558053"
      ]
     },
     "execution_count": 50,
     "metadata": {},
     "output_type": "execute_result"
    }
   ],
   "source": [
    "(117+80)/(114+76+60+17)"
   ]
  },
  {
   "cell_type": "code",
   "execution_count": 53,
   "id": "1d861a77",
   "metadata": {},
   "outputs": [
    {
     "name": "stdout",
     "output_type": "stream",
     "text": [
      "Processing 22 songs in Other genre...\n",
      "Prog_Dataset/Test/Other/01 Arithmophobia.mp3\n",
      "(160, 15640)\n",
      "Prog_Dataset/Test/Other/PERIPHERY - Zyglrox.mp3\n",
      "(160, 13236)\n",
      "Prog_Dataset/Test/Other/Meshuggah- Soul Burn.mp3\n",
      "(160, 13695)\n",
      "Prog_Dataset/Test/Other/06 A Light Will Shine.mp3\n",
      "(160, 11326)\n",
      "Prog_Dataset/Test/Other/05. Physical Education.mp3\n",
      "(160, 12100)\n",
      "Prog_Dataset/Test/Other/SikTh - Hold My Finger.mp3\n",
      "(160, 16113)\n",
      "Prog_Dataset/Test/Other/Veil Of Maya - Punisher.mp3\n",
      "(160, 6550)\n",
      "Prog_Dataset/Test/Other/CHIMP SPANNER - Bad Code.mp3\n",
      "(160, 13138)\n",
      "Prog_Dataset/Test/Other/The Algorithm - Isometry.mp3\n",
      "(160, 8187)\n",
      "Prog_Dataset/Test/Other/01-darko_us-splinter_cell.mp3\n",
      "(160, 9909)\n",
      "Prog_Dataset/Test/Other/03 - Language II Conspire.mp3\n",
      "(160, 11008)\n",
      "Prog_Dataset/Test/Other/MONUMENTS - I, The Creator.mp3\n",
      "(160, 10507)\n",
      "Prog_Dataset/Test/Other/HEART OF A COWARD - Hollow.mp3\n",
      "(160, 11112)\n",
      "Prog_Dataset/Test/Other/BORN OF OSIRIS - Divergency.mp3\n",
      "(160, 10617)\n",
      "Prog_Dataset/Test/Other/Hacktivist - DECEIVE AND DEFY.mp3\n",
      "(160, 8617)\n",
      "Prog_Dataset/Test/Other/07 The Race Is About To Begin.mp3\n",
      "(160, 18746)\n",
      "Prog_Dataset/Test/Other/Textures - Laments Of An Icarus.mp3\n",
      "(160, 11196)\n",
      "Prog_Dataset/Test/Other/08-the_haarp_machine-machine_over.mp3\n",
      "(160, 15974)\n",
      "Prog_Dataset/Test/Other/Cloudkicker - Let yourself be huge.mp3\n",
      "(160, 11253)\n",
      "Prog_Dataset/Test/Other/b1-master_boot_record-dma_4_cascade.mp3\n",
      "(160, 18570)\n",
      "Prog_Dataset/Test/Other/AFTER THE BURIAL - A Wolf Amongst Ravens.mp3\n",
      "(160, 13271)\n",
      "Prog_Dataset/Test/Other/06-1289, Voyeur Will Shine, Fight For Distinction, Evolution Is Mine..mp3\n",
      "(160, 16535)\n"
     ]
    }
   ],
   "source": [
    "import glob\n",
    "# Prepare a list for all the features and all the labels\n",
    "all_features_test_2 = []\n",
    "all_labels_test_2 = []\n",
    "\n",
    "#genres = ['blues', 'classical', 'country', 'disco', 'hiphop', 'jazz', 'metal', 'pop', 'reggae', 'rock']\n",
    "genres_path = \"Prog_Dataset/Test/\"\n",
    "genres = [\"Other\"]\n",
    "# Extract features and genre names from each song\n",
    "for genre in genres:\n",
    "    sound_files = glob.glob(genres_path + genre + '/*')\n",
    "    #print(sound_files)\n",
    "    print('Processing %d songs in %s genre...' % (len(sound_files), genre))\n",
    "    for i, song in enumerate(sound_files):\n",
    "        if (song[-3:] == 'csv') or (song[-3:] == 'ods'):\n",
    "            continue\n",
    "        # Handle corrupt song \n",
    "        if 'jazz.00054.wav' in song:\n",
    "            features = extract_features_song_get_means(sound_files[i - 1])\n",
    "        else:\n",
    "            features = extract_features_song_get_means(song)\n",
    "\n",
    "        all_features_test_2.append(features)\n",
    "        if genre == 'Progressive':\n",
    "            all_labels_test_2.append(0)\n",
    "        else:\n",
    "            all_labels_test_2.append(1)"
   ]
  },
  {
   "cell_type": "code",
   "execution_count": 54,
   "id": "69ebdae8",
   "metadata": {},
   "outputs": [],
   "source": [
    "for song in all_features_test_2:\n",
    "    for i in range(0, 160):\n",
    "        song[i] = song[i] / dict_max[i]\n",
    "for index, song in enumerate(all_features_test_2):\n",
    "    shape = [160, max_shape]\n",
    "    all_features_test_2[index] = to_shape(song, shape)\n"
   ]
  },
  {
   "cell_type": "code",
   "execution_count": 102,
   "id": "52602553",
   "metadata": {},
   "outputs": [],
   "source": [
    "for index, song in enumerate(all_features_test_2):\n",
    "    all_features_test_2[index] = all_features_test_2[index].T"
   ]
  },
  {
   "cell_type": "code",
   "execution_count": 55,
   "id": "cc7f9645",
   "metadata": {},
   "outputs": [],
   "source": [
    "features_test_2=np.stack(all_features_test_2)\n",
    "labels_test_2=np.stack(all_labels_test_2)\n",
    "features_test_2 = features_test_2.astype('float32')\n",
    "labels_test_2 = labels_test_2.astype('int64')\n",
    "features_tensor_test_2 = torch.from_numpy(features_test_2)\n",
    "labels_tensor_test_2 = torch.from_numpy(labels_test_2)\n",
    "dataset_test_2 = TensorDataset(features_tensor_test_2, labels_tensor_test_2)\n",
    "test_dl_2 = DataLoader(dataset_test_2, batch_size = 267, num_workers = 2, pin_memory = True)\n",
    "test_loader_2 = DeviceDataLoader(test_dl_2, device)"
   ]
  },
  {
   "cell_type": "code",
   "execution_count": 157,
   "id": "6601c189",
   "metadata": {},
   "outputs": [
    {
     "name": "stdout",
     "output_type": "stream",
     "text": [
      "[[ 0  0]\n",
      " [ 3 19]]\n"
     ]
    }
   ],
   "source": [
    "for state in test_loader_2:    \n",
    "    #print(state[0].shape)\n",
    "    pred = model1(state[0]).detach().numpy()\n",
    "    cm=sklearn.metrics.confusion_matrix(state[1],pred > 0.5)\n",
    "    print(cm)"
   ]
  },
  {
   "cell_type": "code",
   "execution_count": 151,
   "id": "7533f492",
   "metadata": {},
   "outputs": [
    {
     "name": "stdout",
     "output_type": "stream",
     "text": [
      "Processing 22 songs in Other genre...\n"
     ]
    }
   ],
   "source": [
    "import glob\n",
    "# Prepare a list for all the features and all the labels\n",
    "song_names_2 = []\n",
    "\n",
    "#genres = ['blues', 'classical', 'country', 'disco', 'hiphop', 'jazz', 'metal', 'pop', 'reggae', 'rock']\n",
    "genres_path = \"Prog_Dataset/Test/\"\n",
    "genres = [\"Other\"]\n",
    "# Extract features and genre names from each song\n",
    "for genre in genres:\n",
    "    sound_files = glob.glob(genres_path + genre + '/*')\n",
    "    #print(sound_files)\n",
    "    print('Processing %d songs in %s genre...' % (len(sound_files), genre))\n",
    "    for i, song in enumerate(sound_files):\n",
    "        if (song[-3:] == 'csv') or (song[-3:] == 'ods'):\n",
    "            continue\n",
    "        # Handle corrupt song \n",
    "        song_names_2.append(song)"
   ]
  },
  {
   "cell_type": "code",
   "execution_count": 158,
   "id": "54572eb0",
   "metadata": {},
   "outputs": [],
   "source": [
    "song_list = []\n",
    "for sample, prediction in zip(state[0].numpy(), pred):\n",
    "    if (prediction[0]>0.5):\n",
    "        song_list.append((sample, 0))\n",
    "    else:\n",
    "        song_list.append((sample, 1))"
   ]
  },
  {
   "cell_type": "code",
   "execution_count": 167,
   "id": "057bda8d",
   "metadata": {},
   "outputs": [
    {
     "data": {
      "text/plain": [
       "'01 Arithmophobia.mp3'"
      ]
     },
     "execution_count": 167,
     "metadata": {},
     "output_type": "execute_result"
    }
   ],
   "source": [
    "song_names_2[0][24:]"
   ]
  },
  {
   "cell_type": "code",
   "execution_count": 168,
   "id": "5a1fa3cc",
   "metadata": {},
   "outputs": [],
   "source": [
    "res_dict_2 = []\n",
    "for sample, prediction in song_list:\n",
    "    for index, feature in enumerate(all_features_test_2):\n",
    "        check = True\n",
    "        for i in range(feature.shape[0]):\n",
    "            if abs(feature[50][i] - sample[50][i]) >= 10**-20:\n",
    "                check = False\n",
    "                break\n",
    "        if check:\n",
    "            if prediction == 0:\n",
    "                res_dict_2.append({'Song names': song_names_2[index][24:], 'Predicted label': 'Prog'})\n",
    "                #print(prediction)\n",
    "            else:\n",
    "                res_dict_2.append({'Song names': song_names_2[index][24:], 'Predicted label': 'Non-Prog'})\n",
    "                #print(1-prediction)\n",
    "    #break\n",
    "            #print(song_names[index])"
   ]
  },
  {
   "cell_type": "code",
   "execution_count": 169,
   "id": "1e5489e5",
   "metadata": {},
   "outputs": [],
   "source": [
    "# name of csv file\n",
    "import csv\n",
    "\n",
    "filename = \"1D_CNN_PostProg_Prediction.csv\"\n",
    "fields = ['Song names', 'Predicted label']\n",
    "# writing to csv file\n",
    "with open(filename, 'w') as csvfile:\n",
    "    # creating a csv dict writer object\n",
    "    writer = csv.DictWriter(csvfile, fieldnames=fields)\n",
    " \n",
    "    # writing headers (field names)\n",
    "    writer.writeheader()\n",
    " \n",
    "    # writing data rows\n",
    "    writer.writerows(res_dict_2)"
   ]
  }
 ],
 "metadata": {
  "kernelspec": {
   "display_name": "Python 3 (ipykernel)",
   "language": "python",
   "name": "python3"
  },
  "language_info": {
   "codemirror_mode": {
    "name": "ipython",
    "version": 3
   },
   "file_extension": ".py",
   "mimetype": "text/x-python",
   "name": "python",
   "nbconvert_exporter": "python",
   "pygments_lexer": "ipython3",
   "version": "3.11.5"
  }
 },
 "nbformat": 4,
 "nbformat_minor": 5
}
