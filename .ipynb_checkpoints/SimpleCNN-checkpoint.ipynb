{
 "cells": [
  {
   "cell_type": "code",
   "execution_count": 1,
   "id": "51da5757-8fc9-4e92-8a6a-e14b1e425208",
   "metadata": {},
   "outputs": [],
   "source": [
    "import torch\n",
    "import librosa.display\n",
    "\n",
    "import numpy as np\n",
    "import torch.nn as nn\n",
    "import matplotlib.pyplot as plt\n",
    "\n",
    "from ProgDataset import SnippetProgDataset\n",
    "from torch.utils.data import DataLoader\n",
    "from torchvision import transforms\n",
    "from torchsummary import summary"
   ]
  },
  {
   "cell_type": "code",
   "execution_count": 2,
   "id": "14ada8f6-a359-4348-a041-f0345a09fe66",
   "metadata": {},
   "outputs": [
    {
     "name": "stderr",
     "output_type": "stream",
     "text": [
      " 12%|████████████▉                                                                                            | 62/501 [04:32<19:02,  2.60s/it]C:\\Users\\tatke\\anaconda3\\envs\\MLenv\\Lib\\site-packages\\librosa\\core\\pitch.py:101: UserWarning: Trying to estimate tuning from empty frequency set.\n",
      "  return pitch_tuning(\n",
      " 63%|█████████████████████████████████████████████████████████████████▍                                      | 315/501 [12:36<03:08,  1.02s/it]C:\\Users\\tatke\\Learning\\Python\\PyTorch\\ProgRock vd World\\ProgDataset.py:14: UserWarning: PySoundFile failed. Trying audioread instead.\n",
      "  data, sr = librosa.load(file, sr = sampling_rate)\n",
      "C:\\Users\\tatke\\anaconda3\\envs\\MLenv\\Lib\\site-packages\\librosa\\core\\audio.py:183: FutureWarning: librosa.core.audio.__audioread_load\n",
      "\tDeprecated as of librosa version 0.10.0.\n",
      "\tIt will be removed in librosa version 1.0.\n",
      "  y, sr_native = __audioread_load(path, offset, duration, dtype)\n",
      "100%|████████████████████████████████████████████████████████████████████████████████████████████████████████| 501/501 [16:05<00:00,  1.93s/it]\n"
     ]
    }
   ],
   "source": [
    "transform = transforms.Compose([\n",
    "    transforms.ToTensor()\n",
    "])\n",
    "\n",
    "dataset = ProgDataset(transform = transform)"
   ]
  },
  {
   "cell_type": "code",
   "execution_count": 3,
   "id": "264a0a7d-018e-4dbc-bc1a-04db1c83aee6",
   "metadata": {},
   "outputs": [
    {
     "name": "stdout",
     "output_type": "stream",
     "text": [
      "The current device used is cuda\n"
     ]
    }
   ],
   "source": [
    "device = 'cpu'\n",
    "if torch.cuda.is_available():\n",
    "    device = 'cuda'\n",
    "print(f\"The current device used is {device}\")"
   ]
  },
  {
   "cell_type": "code",
   "execution_count": 9,
   "id": "e043a89d-eb13-4d20-b219-443b1c35a84d",
   "metadata": {},
   "outputs": [],
   "source": [
    "BATCH_SIZE = 32\n",
    "EPOCHS = 10\n",
    "LEARNING_RATE = 0.01"
   ]
  },
  {
   "cell_type": "code",
   "execution_count": 5,
   "id": "0d8d0ab6-1fdc-4a73-8003-cf41b7c0596b",
   "metadata": {},
   "outputs": [
    {
     "name": "stdout",
     "output_type": "stream",
     "text": [
      "Feature batch shape: torch.Size([32, 1, 160, 216])\n",
      "Labels batch shape: torch.Size([32])\n"
     ]
    }
   ],
   "source": [
    "data_loader = DataLoader(dataset, batch_size = BATCH_SIZE, shuffle = True)\n",
    "train_features, train_labels = next(iter(data_loader))\n",
    "print(f\"Feature batch shape: {train_features.size()}\")\n",
    "print(f\"Labels batch shape: {train_labels.size()}\")"
   ]
  },
  {
   "cell_type": "code",
   "execution_count": 6,
   "id": "5c1104f9-9770-45d7-82b9-fc145d4101d4",
   "metadata": {},
   "outputs": [],
   "source": [
    "class SimpleModel(nn.Module):\n",
    "    def __init__(self):\n",
    "        super(SimpleModel, self).__init__()\n",
    "        self.conv1 = nn.Sequential(\n",
    "            nn.Conv2d(1, 4, kernel_size = 3),\n",
    "            nn.ReLU(),\n",
    "            nn.MaxPool2d(kernel_size = 2)\n",
    "        )\n",
    "        self.conv2 = nn.Sequential(\n",
    "            nn.Conv2d(4, 16, kernel_size = 3),\n",
    "            nn.ReLU(),\n",
    "            nn.MaxPool2d(kernel_size = 2)\n",
    "        )\n",
    "        self.conv3 = nn.Sequential(\n",
    "            nn.Conv2d(16, 32, kernel_size = 3),\n",
    "            nn.ReLU(),\n",
    "            nn.MaxPool2d(kernel_size = 2)\n",
    "        )\n",
    "        \n",
    "        self.flatten = nn.Flatten()\n",
    "        \n",
    "        self.fc1 = nn.Sequential(\n",
    "            nn.Linear(32 * 18 * 25, 512),\n",
    "            nn.ReLU()\n",
    "        )\n",
    "        self.fc2 = nn.Sequential(\n",
    "            nn.Linear(512, 128),\n",
    "            nn.ReLU()\n",
    "        )\n",
    "        self.fc3 = nn.Sequential(\n",
    "            nn.Linear(128, 16),\n",
    "            nn.ReLU()\n",
    "        )\n",
    "        self.fc4 = nn.Sequential(\n",
    "            nn.Linear(16, 1),\n",
    "            nn.Sigmoid()\n",
    "        )\n",
    "\n",
    "    def forward(self, x):\n",
    "        x = self.conv1(x)\n",
    "        x = self.conv2(x)\n",
    "        x = self.conv3(x)\n",
    "        x = self.flatten(x)\n",
    "        x = self.fc1(x)\n",
    "        x = self.fc2(x)\n",
    "        x = self.fc3(x)\n",
    "        x = self.fc4(x)\n",
    "        return x"
   ]
  },
  {
   "cell_type": "code",
   "execution_count": 7,
   "id": "25f1dcf1-5a5e-4b00-9587-7e63e8093d4f",
   "metadata": {},
   "outputs": [],
   "source": [
    "def train_one_epoch(model, data_loader, loss_fn, optimizer, device):\n",
    "    for inputs, targets in data_loader:\n",
    "        inputs, targets = inputs.to(device), targets.to(device)\n",
    "        inputs, targets = inputs.float(), targets.float()\n",
    "\n",
    "        prediction = model(inputs)\n",
    "        loss = loss_fn(prediction.reshape(-1), targets)\n",
    "\n",
    "        optimizer.zero_grad()\n",
    "        loss.backward()\n",
    "        optimizer.step()\n",
    "    print(f\"Loss: {loss.item()}\")\n",
    "\n",
    "def train(model, data_loader, loss_fn, optimizer, device, num_epochs):\n",
    "    for epoch in range(num_epochs):\n",
    "        print(f\"Epoch: {epoch + 1}\")\n",
    "        train_one_epoch(model, data_loader, loss_fn, optimizer, device)\n",
    "        print(\"-----------------\")"
   ]
  },
  {
   "cell_type": "code",
   "execution_count": 8,
   "id": "ebf1838f-df53-4c97-9184-0238b419841e",
   "metadata": {},
   "outputs": [
    {
     "name": "stdout",
     "output_type": "stream",
     "text": [
      "==========================================================================================\n",
      "Layer (type:depth-idx)                   Output Shape              Param #\n",
      "==========================================================================================\n",
      "├─Sequential: 1-1                        [-1, 4, 79, 107]          --\n",
      "|    └─Conv2d: 2-1                       [-1, 4, 158, 214]         40\n",
      "|    └─ReLU: 2-2                         [-1, 4, 158, 214]         --\n",
      "|    └─MaxPool2d: 2-3                    [-1, 4, 79, 107]          --\n",
      "├─Sequential: 1-2                        [-1, 16, 38, 52]          --\n",
      "|    └─Conv2d: 2-4                       [-1, 16, 77, 105]         592\n",
      "|    └─ReLU: 2-5                         [-1, 16, 77, 105]         --\n",
      "|    └─MaxPool2d: 2-6                    [-1, 16, 38, 52]          --\n",
      "├─Sequential: 1-3                        [-1, 32, 18, 25]          --\n",
      "|    └─Conv2d: 2-7                       [-1, 32, 36, 50]          4,640\n",
      "|    └─ReLU: 2-8                         [-1, 32, 36, 50]          --\n",
      "|    └─MaxPool2d: 2-9                    [-1, 32, 18, 25]          --\n",
      "├─Flatten: 1-4                           [-1, 14400]               --\n",
      "├─Sequential: 1-5                        [-1, 512]                 --\n",
      "|    └─Linear: 2-10                      [-1, 512]                 7,373,312\n",
      "|    └─ReLU: 2-11                        [-1, 512]                 --\n",
      "├─Sequential: 1-6                        [-1, 128]                 --\n",
      "|    └─Linear: 2-12                      [-1, 128]                 65,664\n",
      "|    └─ReLU: 2-13                        [-1, 128]                 --\n",
      "├─Sequential: 1-7                        [-1, 16]                  --\n",
      "|    └─Linear: 2-14                      [-1, 16]                  2,064\n",
      "|    └─ReLU: 2-15                        [-1, 16]                  --\n",
      "├─Sequential: 1-8                        [-1, 1]                   --\n",
      "|    └─Linear: 2-16                      [-1, 1]                   17\n",
      "|    └─Sigmoid: 2-17                     [-1, 1]                   --\n",
      "==========================================================================================\n",
      "Total params: 7,446,329\n",
      "Trainable params: 7,446,329\n",
      "Non-trainable params: 0\n",
      "Total mult-adds (M): 29.05\n",
      "==========================================================================================\n",
      "Input size (MB): 0.13\n",
      "Forward/backward pass size (MB): 2.46\n",
      "Params size (MB): 28.41\n",
      "Estimated Total Size (MB): 31.00\n",
      "==========================================================================================\n",
      "==========================================================================================\n",
      "Layer (type:depth-idx)                   Output Shape              Param #\n",
      "==========================================================================================\n",
      "├─Sequential: 1-1                        [-1, 4, 79, 107]          --\n",
      "|    └─Conv2d: 2-1                       [-1, 4, 158, 214]         40\n",
      "|    └─ReLU: 2-2                         [-1, 4, 158, 214]         --\n",
      "|    └─MaxPool2d: 2-3                    [-1, 4, 79, 107]          --\n",
      "├─Sequential: 1-2                        [-1, 16, 38, 52]          --\n",
      "|    └─Conv2d: 2-4                       [-1, 16, 77, 105]         592\n",
      "|    └─ReLU: 2-5                         [-1, 16, 77, 105]         --\n",
      "|    └─MaxPool2d: 2-6                    [-1, 16, 38, 52]          --\n",
      "├─Sequential: 1-3                        [-1, 32, 18, 25]          --\n",
      "|    └─Conv2d: 2-7                       [-1, 32, 36, 50]          4,640\n",
      "|    └─ReLU: 2-8                         [-1, 32, 36, 50]          --\n",
      "|    └─MaxPool2d: 2-9                    [-1, 32, 18, 25]          --\n",
      "├─Flatten: 1-4                           [-1, 14400]               --\n",
      "├─Sequential: 1-5                        [-1, 512]                 --\n",
      "|    └─Linear: 2-10                      [-1, 512]                 7,373,312\n",
      "|    └─ReLU: 2-11                        [-1, 512]                 --\n",
      "├─Sequential: 1-6                        [-1, 128]                 --\n",
      "|    └─Linear: 2-12                      [-1, 128]                 65,664\n",
      "|    └─ReLU: 2-13                        [-1, 128]                 --\n",
      "├─Sequential: 1-7                        [-1, 16]                  --\n",
      "|    └─Linear: 2-14                      [-1, 16]                  2,064\n",
      "|    └─ReLU: 2-15                        [-1, 16]                  --\n",
      "├─Sequential: 1-8                        [-1, 1]                   --\n",
      "|    └─Linear: 2-16                      [-1, 1]                   17\n",
      "|    └─Sigmoid: 2-17                     [-1, 1]                   --\n",
      "==========================================================================================\n",
      "Total params: 7,446,329\n",
      "Trainable params: 7,446,329\n",
      "Non-trainable params: 0\n",
      "Total mult-adds (M): 29.05\n",
      "==========================================================================================\n",
      "Input size (MB): 0.13\n",
      "Forward/backward pass size (MB): 2.46\n",
      "Params size (MB): 28.41\n",
      "Estimated Total Size (MB): 31.00\n",
      "==========================================================================================\n"
     ]
    }
   ],
   "source": [
    "model = SimpleModel().to(device)\n",
    "print(summary(model, (1, 160, 216)))"
   ]
  },
  {
   "cell_type": "code",
   "execution_count": 10,
   "id": "bd818ca6-d676-47f4-9350-87bc02dc3fd3",
   "metadata": {},
   "outputs": [
    {
     "name": "stdout",
     "output_type": "stream",
     "text": [
      "Epoch: 1\n",
      "Loss: 56.25\n",
      "-----------------\n",
      "Epoch: 2\n",
      "Loss: 56.25\n",
      "-----------------\n",
      "Epoch: 3\n",
      "Loss: 18.75\n",
      "-----------------\n",
      "Epoch: 4\n",
      "Loss: 43.75\n",
      "-----------------\n",
      "Epoch: 5\n",
      "Loss: 62.5\n",
      "-----------------\n",
      "Epoch: 6\n",
      "Loss: 68.75\n",
      "-----------------\n",
      "Epoch: 7\n",
      "Loss: 56.25\n",
      "-----------------\n",
      "Epoch: 8\n",
      "Loss: 25.0\n",
      "-----------------\n",
      "Epoch: 9\n",
      "Loss: 50.0\n",
      "-----------------\n",
      "Epoch: 10\n",
      "Loss: 56.25\n",
      "-----------------\n"
     ]
    }
   ],
   "source": [
    "loss_fn = nn.BCELoss()\n",
    "optimizer = torch.optim.Adam(model.parameters(), lr = LEARNING_RATE)\n",
    "\n",
    "train(model, data_loader, loss_fn, optimizer, device, EPOCHS)"
   ]
  },
  {
   "cell_type": "code",
   "execution_count": null,
   "id": "723c2a2d-ebc4-4d6a-b32b-57d72a98de1f",
   "metadata": {},
   "outputs": [],
   "source": []
  }
 ],
 "metadata": {
  "kernelspec": {
   "display_name": "ML Environment",
   "language": "python",
   "name": "mlenv"
  },
  "language_info": {
   "codemirror_mode": {
    "name": "ipython",
    "version": 3
   },
   "file_extension": ".py",
   "mimetype": "text/x-python",
   "name": "python",
   "nbconvert_exporter": "python",
   "pygments_lexer": "ipython3",
   "version": "3.11.5"
  }
 },
 "nbformat": 4,
 "nbformat_minor": 5
}
