{
 "cells": [
  {
   "cell_type": "markdown",
   "metadata": {},
   "source": [
    "## Evaluations"
   ]
  },
  {
   "cell_type": "markdown",
   "metadata": {},
   "source": [
    "### Imports"
   ]
  },
  {
   "cell_type": "code",
   "execution_count": 1,
   "metadata": {},
   "outputs": [],
   "source": [
    "import os\n",
    "import sys\n",
    "import torch\n",
    "import librosa\n",
    "import numpy as np\n",
    "import torch.nn as nn\n",
    "import torch.nn.functional as F\n",
    "import files.RNN as rec\n",
    "import matplotlib.pyplot as plt\n",
    "\n",
    "from files.Utils import Utils\n",
    "# from Models import ProgCNN\n",
    "from torchvision import transforms\n",
    "from files.FeatureExtractors import AudioFeatureExtractor\n",
    "from files.Datasets import SnippetProgDataset\n",
    "from torch.utils.data import DataLoader\n",
    "from torchsummary import summary\n",
    "from files.songList import load_csv, generate_table\n",
    "from torch.utils.tensorboard import SummaryWriter"
   ]
  },
  {
   "cell_type": "markdown",
   "metadata": {},
   "source": [
    "### Loading Songs and Dataset"
   ]
  },
  {
   "cell_type": "code",
   "execution_count": 2,
   "metadata": {},
   "outputs": [],
   "source": [
    "test_songs = load_csv(\"test_audio_files.csv\")"
   ]
  },
  {
   "cell_type": "code",
   "execution_count": 3,
   "metadata": {},
   "outputs": [],
   "source": [
    "CLASS_NAMES = ['Non-Prog', 'Prog']\n",
    "SAMPLING_RATE = 11025\n",
    "SNIPPET_LENGTH = 10"
   ]
  },
  {
   "cell_type": "code",
   "execution_count": 4,
   "metadata": {},
   "outputs": [],
   "source": [
    "transform = transforms.Compose([\n",
    "        AudioFeatureExtractor(sr = SAMPLING_RATE),\n",
    "        transforms.ToTensor(),\n",
    "        transforms.Normalize(mean = [0.0], std = [1.0])\n",
    "])"
   ]
  },
  {
   "cell_type": "code",
   "execution_count": 5,
   "metadata": {},
   "outputs": [],
   "source": [
    "test_dataset = Utils.getTestData(SnippetProgDataset, test_songs, transform, getNew=False, saveData=False)"
   ]
  },
  {
   "cell_type": "markdown",
   "metadata": {},
   "source": [
    "### Device"
   ]
  },
  {
   "cell_type": "code",
   "execution_count": 6,
   "metadata": {},
   "outputs": [
    {
     "name": "stdout",
     "output_type": "stream",
     "text": [
      "The current device used is cuda\n"
     ]
    }
   ],
   "source": [
    "writer = None\n",
    "device = 'cpu'\n",
    "if torch.cuda.is_available():\n",
    "    device = 'cuda'\n",
    "torch.cuda.empty_cache()\n",
    "print(f\"The current device used is {device}\")"
   ]
  },
  {
   "cell_type": "markdown",
   "metadata": {},
   "source": [
    "### Model Loading"
   ]
  },
  {
   "cell_type": "code",
   "execution_count": 7,
   "metadata": {},
   "outputs": [],
   "source": [
    "class ProgCNN(nn.Module):\n",
    "    def __init__(self, in_channels: int = 1, out_channels: int = 1, dropout: float = 0.2):\n",
    "        super(ProgCNN, self).__init__()\n",
    "        self.in_channels = in_channels\n",
    "        self.out_channels = out_channels\n",
    "\n",
    "        self.conv1 = nn.Sequential(\n",
    "            nn.Conv2d(self.in_channels, 64, kernel_size = 3, stride=2),\n",
    "            nn.BatchNorm2d(64),\n",
    "            nn.ReLU(),\n",
    "        )\n",
    "\n",
    "        self.dropout = nn.Dropout(dropout)\n",
    "        \n",
    "        self.conv2 = nn.Sequential(\n",
    "            nn.Conv2d(64, 128, kernel_size = 3, stride = 2, dilation=2),\n",
    "            nn.BatchNorm2d(128),\n",
    "            nn.ReLU(),\n",
    "            nn.AvgPool2d(kernel_size = 2)\n",
    "        )\n",
    "\n",
    "        self.conv3 = nn.Sequential(\n",
    "            nn.Conv2d(128, 256, kernel_size = 3),\n",
    "            nn.BatchNorm2d(256),\n",
    "            nn.ReLU(),\n",
    "            nn.AvgPool2d(kernel_size = 2)\n",
    "        )\n",
    "\n",
    "        self.conv4 = nn.Sequential(\n",
    "            nn.Conv2d(256, 256, kernel_size = 3, dilation=2),\n",
    "            nn.BatchNorm2d(256),\n",
    "            nn.ReLU(),\n",
    "            nn.AvgPool2d(kernel_size = 2)\n",
    "        )\n",
    "\n",
    "        self.flatten = nn.Flatten()\n",
    "        \n",
    "        self.fc1 = nn.Sequential(\n",
    "            nn.Linear(256 * 2 * 4, 512),\n",
    "            nn.ReLU()\n",
    "        )\n",
    "        \n",
    "        self.fc2 = nn.Sequential(\n",
    "            nn.Linear(512, 256),\n",
    "            nn.BatchNorm1d(256),\n",
    "            nn.ReLU()\n",
    "        )\n",
    "\n",
    "        self.fc3 = nn.Sequential(\n",
    "            nn.Linear(256, 64),\n",
    "            nn.ReLU()\n",
    "        )\n",
    "\n",
    "        self.fc4 = nn.Sequential(\n",
    "            nn.Linear(64, self.out_channels),\n",
    "        )\n",
    "\n",
    "    def forward(self, x):\n",
    "        x = self.conv1(x)\n",
    "        x = self.dropout(x)\n",
    "        x = self.conv2(x)\n",
    "        x = self.dropout(x)\n",
    "        x = self.conv3(x)\n",
    "        x = self.dropout(x)\n",
    "        x = self.conv4(x)\n",
    "        x = self.flatten(x)\n",
    "        x = self.fc1(x)\n",
    "        x = self.dropout(x)\n",
    "        x = self.fc2(x)\n",
    "        x = self.dropout(x)\n",
    "        x = self.fc3(x)\n",
    "        x = F.sigmoid(self.fc4(x))\n",
    "        return x"
   ]
  },
  {
   "cell_type": "code",
   "execution_count": 8,
   "metadata": {},
   "outputs": [
    {
     "data": {
      "text/plain": [
       "<All keys matched successfully>"
      ]
     },
     "execution_count": 8,
     "metadata": {},
     "output_type": "execute_result"
    }
   ],
   "source": [
    "BATCH_SIZE = 32\n",
    "EXPERIMENT = 5\n",
    "loader = DataLoader(test_dataset, batch_size = BATCH_SIZE, num_workers = 2, shuffle = True)\n",
    "loss_fn = nn.BCELoss()\n",
    "model = ProgCNN().to(device)\n",
    "model_params = torch.load(f\"models/model_exp{EXPERIMENT}.pth\")\n",
    "model.load_state_dict(model_params[\"model_state_dict\"])"
   ]
  },
  {
   "cell_type": "markdown",
   "metadata": {},
   "source": [
    "### Helper Function"
   ]
  },
  {
   "cell_type": "code",
   "execution_count": 9,
   "metadata": {},
   "outputs": [],
   "source": [
    "def evaluate(loader, model):\n",
    "    model.eval()\n",
    "    loss = 0.0\n",
    "    correct = 0\n",
    "    predictions_dict = {}\n",
    "    results = {}\n",
    "    with torch.no_grad():\n",
    "        for inputs, labels, metadata in loader:\n",
    "            inputs, labels = inputs.to(device), labels.to(device)\n",
    "            inputs, labels = inputs.float(), labels.float()\n",
    "            \n",
    "            outputs = model(inputs).reshape(-1)\n",
    "            loss += loss_fn(outputs, labels).item()\n",
    "            predictions = (outputs > 0.5).long().reshape(-1)\n",
    "            correct += (predictions == labels).sum()\n",
    "            \n",
    "            results = Utils.getConfusionMatrix(results, predictions.cpu().detach().numpy(), labels.cpu().detach().numpy())\n",
    "            Utils.updateSongDict(predictions_dict, metadata, outputs)\n",
    "            \n",
    "        loss /= len(loader)\n",
    "        accuracy = 100. * correct / len(loader.dataset)\n",
    "    print(f\"Test Evalutaion: Loss: {loss:.4f}, Accuracy: {correct}/{len(loader.dataset)} ({accuracy:.2f}%)\")\n",
    "    return predictions_dict, results\n",
    "\n",
    "def eval_score(loader, model):\n",
    "    model.eval()\n",
    "    predictions_dict = {}\n",
    "    with torch.no_grad():\n",
    "        for inputs, labels, metadata in loader:\n",
    "            inputs, labels = inputs.to(device), labels.to(device)\n",
    "            inputs, labels = inputs.float(), labels.float()\n",
    "            outputs = model(inputs).reshape(-1)            \n",
    "            Utils.updateSongDict(predictions_dict, metadata, outputs)\n",
    "    return predictions_dict"
   ]
  },
  {
   "cell_type": "markdown",
   "metadata": {},
   "source": [
    "### Evaluate over snippets"
   ]
  },
  {
   "cell_type": "code",
   "execution_count": 10,
   "metadata": {},
   "outputs": [
    {
     "name": "stderr",
     "output_type": "stream",
     "text": [
      "/home/anish/miniconda3/envs/prog/lib/python3.10/site-packages/librosa/core/pitch.py:101: UserWarning: Trying to estimate tuning from empty frequency set.\n",
      "  return pitch_tuning(\n",
      "/home/anish/miniconda3/envs/prog/lib/python3.10/site-packages/librosa/core/pitch.py:101: UserWarning: Trying to estimate tuning from empty frequency set.\n",
      "  return pitch_tuning(\n"
     ]
    },
    {
     "name": "stdout",
     "output_type": "stream",
     "text": [
      "Test Evalutaion: Loss: 0.5717, Accuracy: 8480/11529 (73.55%)\n",
      "Non Prog Accuracy 55.76%\n",
      "Prog Accuracy 84.22%\n",
      "Non Prog Accuracy 55.76%\n",
      "Prog Accuracy 84.22%\n"
     ]
    },
    {
     "data": {
      "image/png": "[encoded data removed]",
      "text/plain": [
       "<Figure size 800x800 with 2 Axes>"
      ]
     },
     "metadata": {},
     "output_type": "display_data"
    }
   ],
   "source": [
    "test_dict, results = evaluate(loader, model)\n",
    "for key in results:\n",
    "    for class_name in CLASS_NAMES:\n",
    "        if class_name in key:\n",
    "            print(key, f\"{results[key]:.2f}%\")\n",
    "\n",
    "Utils.getClassAccuracies(results, CLASS_NAMES)\n",
    "Utils.plot_confusion_matrix(results[\"conf_matrix\"], CLASS_NAMES)"
   ]
  },
  {
   "cell_type": "markdown",
   "metadata": {},
   "source": [
    "### Voting over songs"
   ]
  },
  {
   "cell_type": "code",
   "execution_count": 11,
   "metadata": {},
   "outputs": [
    {
     "name": "stdout",
     "output_type": "stream",
     "text": [
      "1)\t03 Nightmares On Wax - Pipes Honour.mp3\t 1:0\t0.75\n",
      "2)\t05. Ancestress (feat. Sindri Eldon).mp3\t 1:0\t0.49\n",
      "3)\t13 - Neodammerung.mp3\t 1:0\t0.55\n",
      "4)\t09-the_strokes-ode_to_the_mets.mp3\t 1:0\t0.62\n",
      "5)\t12-modest_mouse-spitting_venom.mp3\t 1:0\t0.67\n",
      "6)\tThrak-King Crimson-06-THRAK.mp3\t 0:1\t0.45\n",
      "7)\t01 - Nothing At Best.mp3\t 0:1\t0.53\n",
      "8)\t03 Boys Don't Cry.mp3\t 1:0\t0.55\n",
      "9)\t03-Sweet Blindness.mp3\t 1:0\t0.56\n",
      "10)\t05-miles_runs_the_voodoo_down_320_lame_cbr.mp3\t 1:0\t0.67\n",
      "11)\t01 the american metaphysical circus.mp3\t 1:0\t0.6\n",
      "12)\t03 Katy Song.mp3\t 1:0\t0.51\n",
      "13)\t15 - Mussorgsky - Pictures at an Exhibition (orch. Ravel)- The Great Gate at Kiev.flac\t 1:0\t0.61\n",
      "14)\t02 - Sigur Rós - Svefn-G-Englar.mp3\t 1:0\t0.65\n",
      "15)\t02-tears_for_fears-the_tipping_point-68bb3466.mp3\t 1:0\t0.53\n",
      "16)\t09 - Intimate Grandeur.mp3\t 1:0\t0.67\n",
      "17)\tThe Power To Believe-King Crimson-08-Dangerous Curves.mp3\t 0:1\t0.32\n",
      "18)\t03. Tessellate.mp3\t 1:0\t0.74\n",
      "19)\t20. De La Soul - Me Myself And I.mp3\t 1:0\t0.5\n",
      "20)\t04 Boy In The Moon.mp3\t 1:0\t0.54\n",
      "21)\tJohn Williams-The Phantom Menace-0 - Duel of the Fates.mp3\t 1:0\t0.47\n",
      "22)\t03-Birthday.mp3\t 1:0\t0.81\n",
      "23)\t13 - Porcelina of the Vast Oceans.mp3\t 1:0\t0.6\n",
      "24)\t15 - Tam.mp3\t 1:0\t0.58\n",
      "25)\t01_Mind Ecology.mp3\t 1:0\t0.63\n",
      "26)\tSufjan Stevens - The Age of Adz - 11 Impossible Soul.mp3\t 1:0\t0.62\n",
      "27)\t01 - Assault & Battery Part I.mp3\t 0:1\t0.29\n",
      "28)\t02 - Xanadu.mp3\t 0:1\t0.44\n",
      "29)\t01 Ghost Love Score (Remastered).mp3\t 1:0\t0.55\n",
      "30)\t03 - What the Water Gave Me.mp3\t 1:0\t0.56\n",
      "31)\t01 Penguin Cafe Single.mp3\t 1:0\t0.88\n",
      "32)\t05 - Nick Cave & The Bad Seeds - Fifteen Feet Of Pure White Snow.mp3\t 1:0\t0.67\n",
      "33)\t05 - Hey Lawdy Mama.mp3\t 1:0\t0.66\n",
      "34)\t01 - Prelude and The Sound of Music.mp3\t 1:0\t0.53\n",
      "35)\t05 - In Your Eyes.mp3\t 1:0\t0.5\n",
      "36)\t08 - When the Levee Breaks.mp3\t 1:0\t0.89\n",
      "37)\t22 - Dear Mr. Fantasy.mp3\t 1:0\t0.54\n",
      "38)\t07 - Signals (Orchestrion Sketch).mp3\t 1:0\t0.68\n",
      "39)\t01-Life's Greatest Fool.mp3\t 1:0\t0.79\n",
      "40)\t03 - Cirice.mp3\t 1:0\t0.71\n",
      "41)\t01. Diana.mp3\t 0:1\t0.47\n",
      "42)\t04_Birthright.mp3\t 0:1\t0.36\n",
      "43)\t01 Jacqueline.mp3\t 1:0\t0.63\n",
      "44)\t02 That's All.mp3\t 1:0\t0.62\n",
      "45)\tcaptain beefheart - trout mask replica - 05 - hair pie- bake .mp3\t 0:1\t0.47\n",
      "46)\t07 - Speed Of Sound.mp3\t 1:0\t0.83\n",
      "47)\t10-Music And Politics.mp3\t 1:0\t0.64\n",
      "48)\t02. None Of Them Knew They Were Robots.mp3\t 1:0\t0.74\n",
      "49)\t08 - Supersonic Rocket Ship.mp3\t 1:0\t0.85\n",
      "50)\tThe Power To Believe-King Crimson-07-The Power To Believe II.mp3\t 0:1\t0.46\n",
      "51)\t01 - Heat Of The Moment.mp3\t 1:0\t0.7\n",
      "52)\t05 - The Temple On the Edge of Time.mp3\t 1:0\t0.7\n",
      "53)\t05 - The Time And The Test.mp3\t 1:0\t0.59\n",
      "54)\t04-Fade Away (And Radiate).mp3\t 1:0\t0.67\n",
      "55)\tKiss Me, Kiss Me, Kiss Me-The Cure-07-The Snakepit.mp3\t 1:0\t0.6\n",
      "56)\tDevin Townsend Project - Kingdom.mp3\t 0:1\t0.36\n",
      "57)\t01 - Another Day Of Sun.mp3\t 1:0\t0.84\n",
      "58)\t02-Heart Full Of Soul.mp3\t 1:0\t0.56\n",
      "59)\t01 - Highway Star.mp3\t 1:0\t0.94\n",
      "60)\t01  The Last Shadow Puppets - The Age Of The Understatement.mp3\t 1:0\t0.86\n",
      "61)\t103 Thela Hun Ginjeet.mp3\t 0:1\t0.36\n",
      "62)\tMoby---Extreme-Ways-(Bourne's-Ultimatum).mp3\t 1:0\t0.55\n",
      "63)\t10 I.mp3\t 1:0\t0.69\n",
      "64)\t02. Death Cab for Cutie - Soul Meets Body.ogg\t 1:0\t0.53\n",
      "65)\tJerusalem-the Anthem.mp3\t 1:0\t0.74\n",
      "Accuracy after Voting: 75.56%\n",
      "Non Prog Accuracy 58.46%\n",
      "Prog Accuracy 91.91%\n"
     ]
    },
    {
     "data": {
      "image/png": "[encoded data removed]",
      "text/plain": [
       "<Figure size 800x800 with 2 Axes>"
      ]
     },
     "metadata": {},
     "output_type": "display_data"
    }
   ],
   "source": [
    "test_songs_probabilities, test_labels = rec.prepareSongData(test_dict, test_songs)\n",
    "correct = 0\n",
    "predictions = []\n",
    "mis_classified_count = 0\n",
    "songs_table = []\n",
    "with torch.no_grad():\n",
    "    for name, song, label in zip(test_dict.keys(), test_songs_probabilities, test_labels):\n",
    "        pred = Utils.getSongPredictions([(snip > 0.5).long().item() for snip in song.view(-1)])\n",
    "        correct += (pred == label.item())\n",
    "        predictions.append(pred)\n",
    "        if pred != label:\n",
    "            mis_classified_count += 1\n",
    "            print(f\"{mis_classified_count})\\t{name}\\t {pred}:{label.item()}\\t{round(torch.mean(song.view(-1)).item(), 2)}\")\n",
    "            songs_table.append([name, int(label.item()), pred, round(torch.mean(song.view(-1)).item(), 2)])\n",
    "    accuracy = 100. * (correct / len(test_songs_probabilities))\n",
    "    result = Utils.getConfusionMatrix({}, predictions, test_labels)\n",
    "generate_table(f\"voting_eval_exp{EXPERIMENT}\", songs_table)\n",
    "print(f\"Accuracy after Voting: {accuracy:.2f}%\")\n",
    "Utils.getClassAccuracies(result, CLASS_NAMES)\n",
    "Utils.plot_confusion_matrix(result[\"conf_matrix\"], CLASS_NAMES)"
   ]
  },
  {
   "cell_type": "markdown",
   "metadata": {},
   "source": [
    "### RNN over Songs"
   ]
  },
  {
   "cell_type": "code",
   "execution_count": 12,
   "metadata": {},
   "outputs": [],
   "source": [
    "HIDDEN_SIZE = 3\n",
    "NUM_CLASSES = 1\n",
    "rnn = rec.PredictionsRNN(input_size=1, hidden_size=HIDDEN_SIZE, output_size=NUM_CLASSES).to(device)\n",
    "rnn_params = torch.load(f\"models/rnn_exp{EXPERIMENT}.pth\")\n",
    "rnn.load_state_dict(rnn_params[\"model_state_dict\"])\n",
    "criterion = nn.BCELoss()\n",
    "model_name = 'rnn'"
   ]
  },
  {
   "cell_type": "code",
   "execution_count": 13,
   "metadata": {},
   "outputs": [
    {
     "name": "stdout",
     "output_type": "stream",
     "text": [
      "1)\tBarclay James Harvest - Mocking Bird.mp3\t 0:1\t0.01\n",
      "2)\t05_Shine On You Crazy Diamond II.mp3\t 0:1\t0.45\n",
      "3)\tOpeth - Serenity Painted Death.mp3\t 0:1\t0.48\n",
      "4)\t05 Awaken.mp3\t 0:1\t0.0\n",
      "5)\tMIKE OLDFIELD - Part One (Ommadawn).mp3\t 0:1\t0.0\n",
      "6)\tThrak-King Crimson-06-THRAK.mp3\t 0:1\t0.0\n",
      "7)\t01 - Nothing At Best.mp3\t 0:1\t0.0\n",
      "8)\t08 Dreamtime.mp3\t 0:1\t0.19\n",
      "9)\t07 - The Final Thing On My Mind.mp3\t 0:1\t0.05\n",
      "10)\t08 Suite Sister Mary.mp3\t 0:1\t0.0\n",
      "11)\t01. Ka$cade.mp3\t 0:1\t0.01\n",
      "12)\t09 - The World We Used to Know.mp3\t 0:1\t0.4\n",
      "13)\t02_Freewill.mp3\t 0:1\t0.0\n",
      "14)\t01 - Atom Heart Mother Suite (2011 - Remaster).mp3\t 0:1\t0.01\n",
      "15)\t08_-_shadow_of_the_hierophant_320_lame_cbr.mp3\t 0:1\t0.0\n",
      "16)\tThe Gathering - 09 - Saturnine.mp3\t 0:1\t0.11\n",
      "17)\t03 - Kali Yuga.mp3\t 0:1\t0.16\n",
      "18)\tThe Power To Believe-King Crimson-08-Dangerous Curves.mp3\t 0:1\t0.0\n",
      "19)\t10 Peace To The Mountain.mp3\t 0:1\t0.0\n",
      "20)\t03-Birthday.mp3\t 1:0\t0.63\n",
      "21)\t02-And You And I (I. Cord Of Life, II. Eclipse, III. The Preacher The Teacher, IV. Apocalypse).mp3\t 0:1\t0.02\n",
      "22)\tDe-Loused In The Comatorium-The Mars Volta-07-Cicatriz ESP.mp3\t 0:1\t0.0\n",
      "23)\tRick Wakeman-The Six Wives of Henry VIII-05-Anne Boleyn 'The Day Thou Gavest Lord Hath Ended'.flac\t 0:1\t0.32\n",
      "24)\t08 - I Spy.mp3\t 0:1\t0.0\n",
      "25)\t01-Stand By.mp3\t 0:1\t0.03\n",
      "26)\t11 Strip The Soul.m4a\t 0:1\t0.42\n",
      "27)\t02_Pictures_Of_A_City.mp3\t 0:1\t0.41\n",
      "28)\t11 - Stopa 11.mp3\t 0:1\t0.04\n",
      "29)\tThe Dear Hunter - 06 - A Night on the Town.flac\t 0:1\t0.0\n",
      "30)\t04 Clairvoyant.mp3\t 0:1\t0.0\n",
      "31)\t01 - Assault & Battery Part I.mp3\t 0:1\t0.0\n",
      "32)\t1 robert wyatt SEA SONG.mp3\t 0:1\t0.42\n",
      "33)\t02 - Xanadu.mp3\t 0:1\t0.0\n",
      "34)\t02-Mountain Of Fruits And Flowers.mp3\t 0:1\t0.01\n",
      "35)\t04 - Running Hard.mp3\t 0:1\t0.28\n",
      "36)\t11. Jaguar God.mp3\t 0:1\t0.04\n",
      "37)\t07. ShutDOWN.mp3\t 0:1\t0.06\n",
      "38)\t02 April Ethereal.mp3\t 0:1\t0.0\n",
      "39)\t11 - On That Note.flac\t 0:1\t0.0\n",
      "40)\t08 Los Endos.mp3\t 0:1\t0.34\n",
      "41)\t01 Penguin Cafe Single.mp3\t 1:0\t0.98\n",
      "42)\t04 - No Part Of Me.mp3\t 0:1\t0.01\n",
      "43)\t01 - Untouchable, Part 1.mp3\t 0:1\t0.0\n",
      "44)\t06 The Main Monkey Business.mp3\t 0:1\t0.5\n",
      "45)\t05 - Entree.mp3\t 0:1\t0.02\n",
      "46)\t10_Sorrow.mp3\t 0:1\t0.0\n",
      "47)\t03 Sartori In Tangier.mp3\t 0:1\t0.12\n",
      "48)\t08 - When the Levee Breaks.mp3\t 1:0\t0.98\n",
      "49)\t08. Towards The Blue Horizon.mp3\t 0:1\t0.01\n",
      "50)\t06. Part VI.mp3\t 0:1\t0.47\n",
      "51)\t01-Life's Greatest Fool.mp3\t 1:0\t0.66\n",
      "52)\t09_Lateralus.mp3\t 0:1\t0.03\n",
      "53)\t10 The Storm.mp3\t 0:1\t0.0\n",
      "54)\t01. Diana.mp3\t 0:1\t0.0\n",
      "55)\t01 Cirkus (including Entry of the Chameleons).mp3\t 0:1\t0.45\n",
      "56)\t101-emerson_lake_and_palmer-jerusalem.mp3\t 0:1\t0.28\n",
      "57)\t04_Birthright.mp3\t 0:1\t0.0\n",
      "58)\tcaptain beefheart - trout mask replica - 05 - hair pie- bake .mp3\t 0:1\t0.0\n",
      "59)\t07 - Speed Of Sound.mp3\t 1:0\t0.84\n",
      "60)\t10-Locomotive Breath (Mixed And Mastered By Steven Wilson).flac\t 0:1\t0.01\n",
      "61)\t08 - Supersonic Rocket Ship.mp3\t 1:0\t0.7\n",
      "62)\tThe Power To Believe-King Crimson-07-The Power To Believe II.mp3\t 0:1\t0.0\n",
      "63)\t05. Vrooom.mp3\t 0:1\t0.14\n",
      "64)\t03. Egoist Hedonist.mp3\t 0:1\t0.22\n",
      "65)\t08 - Spectral Mornings (2005 Digital Remaster).mp3\t 0:1\t0.12\n",
      "66)\t03. Little Man.mp3\t 0:1\t0.02\n",
      "67)\tDevin Townsend Project - Kingdom.mp3\t 0:1\t0.0\n",
      "68)\t01 - Red.mp3\t 0:1\t0.0\n",
      "69)\tDark Light - Sinkin' Deep.mp3\t 0:1\t0.0\n",
      "70)\t04 Master Builder.flac\t 0:1\t0.0\n",
      "71)\t01 - Another Day Of Sun.mp3\t 1:0\t0.77\n",
      "72)\t01 - Highway Star.mp3\t 1:0\t1.0\n",
      "73)\t01  The Last Shadow Puppets - The Age Of The Understatement.mp3\t 1:0\t0.75\n",
      "74)\t06 - The Storm Before the Calm.mp3\t 0:1\t0.0\n",
      "75)\t103 Thela Hun Ginjeet.mp3\t 0:1\t0.0\n",
      "76)\tKing Crimson - Islands - 02 - Sailor's Tale.mp3\t 0:1\t0.0\n",
      "77)\t01. Oblivion_khaos.mp3\t 0:1\t0.02\n",
      "Evaluation: Loss: 1.5896\tAccuracy: 189/266 71.05%\n",
      "Non Prog Accuracy 58.46%\n",
      "Prog Accuracy 91.91%\n"
     ]
    },
    {
     "data": {
      "image/png": "[encoded data removed]",
      "text/plain": [
       "<Figure size 800x800 with 2 Axes>"
      ]
     },
     "metadata": {},
     "output_type": "display_data"
    }
   ],
   "source": [
    "val_accuracy, val_loss, results, table = rec.evaluate_rnn(list(test_dict.keys()), test_songs_probabilities, test_labels, rnn, criterion, device)\n",
    "generate_table(f\"rnn_eval_exp{EXPERIMENT}\", table)\n",
    "Utils.getClassAccuracies(result, CLASS_NAMES)\n",
    "Utils.plot_confusion_matrix(result[\"conf_matrix\"], CLASS_NAMES)"
   ]
  },
  {
   "cell_type": "markdown",
   "metadata": {},
   "source": [
    "### LSTM Over Songs"
   ]
  },
  {
   "cell_type": "code",
   "execution_count": 14,
   "metadata": {},
   "outputs": [],
   "source": [
    "HIDDEN_SIZE = 5\n",
    "NUM_LAYERS = 1\n",
    "NUM_CLASSES = 1\n",
    "lstm = rec.MyLSTM(input_size=1, hidden_size=HIDDEN_SIZE, num_layers=NUM_LAYERS, num_classes=NUM_CLASSES).to(device)\n",
    "lstm_params = torch.load(f\"models/lstm_exp{EXPERIMENT}.pth\")\n",
    "lstm.load_state_dict(lstm_params[\"model_state_dict\"])\n",
    "criterion = nn.BCELoss()\n",
    "model_name = 'lstm'"
   ]
  },
  {
   "cell_type": "code",
   "execution_count": 15,
   "metadata": {},
   "outputs": [
    {
     "name": "stdout",
     "output_type": "stream",
     "text": [
      "1)\t03 Nightmares On Wax - Pipes Honour.mp3\t 1:0\t0.68\n",
      "2)\tBarclay James Harvest - Mocking Bird.mp3\t 0:1\t0.03\n",
      "3)\t05 Awaken.mp3\t 0:1\t0.07\n",
      "4)\tMIKE OLDFIELD - Part One (Ommadawn).mp3\t 0:1\t0.0\n",
      "5)\tThrak-King Crimson-06-THRAK.mp3\t 0:1\t0.0\n",
      "6)\t01 - Nothing At Best.mp3\t 0:1\t0.0\n",
      "7)\t07 - The Final Thing On My Mind.mp3\t 0:1\t0.15\n",
      "8)\t08 Suite Sister Mary.mp3\t 0:1\t0.04\n",
      "9)\t01. Ka$cade.mp3\t 0:1\t0.0\n",
      "10)\t02_Freewill.mp3\t 0:1\t0.03\n",
      "11)\t01 - Atom Heart Mother Suite (2011 - Remaster).mp3\t 0:1\t0.14\n",
      "12)\t08_-_shadow_of_the_hierophant_320_lame_cbr.mp3\t 0:1\t0.0\n",
      "13)\t05_Turn of the Century.mp3\t 0:1\t0.49\n",
      "14)\tThe Gathering - 09 - Saturnine.mp3\t 0:1\t0.16\n",
      "15)\t03 - Kali Yuga.mp3\t 0:1\t0.04\n",
      "16)\tThe Power To Believe-King Crimson-08-Dangerous Curves.mp3\t 0:1\t0.09\n",
      "17)\t10 Peace To The Mountain.mp3\t 0:1\t0.0\n",
      "18)\t03-Birthday.mp3\t 1:0\t0.58\n",
      "19)\tDe-Loused In The Comatorium-The Mars Volta-07-Cicatriz ESP.mp3\t 0:1\t0.0\n",
      "20)\tRick Wakeman-The Six Wives of Henry VIII-05-Anne Boleyn 'The Day Thou Gavest Lord Hath Ended'.flac\t 0:1\t0.28\n",
      "21)\t06-Happy Nightmare (Mescaline).mp3\t 0:1\t0.45\n",
      "22)\t08 - I Spy.mp3\t 0:1\t0.02\n",
      "23)\t01-Stand By.mp3\t 0:1\t0.13\n",
      "24)\t06. Native Construct - Chromatic Lights.mp3\t 0:1\t0.26\n",
      "25)\t11 - Stopa 11.mp3\t 0:1\t0.01\n",
      "26)\tThe Dear Hunter - 06 - A Night on the Town.flac\t 0:1\t0.0\n",
      "27)\t04 Clairvoyant.mp3\t 0:1\t0.06\n",
      "28)\t01 - Assault & Battery Part I.mp3\t 0:1\t0.0\n",
      "29)\t02 - Xanadu.mp3\t 0:1\t0.0\n",
      "30)\t02-Mountain Of Fruits And Flowers.mp3\t 0:1\t0.05\n",
      "31)\t04 - Running Hard.mp3\t 0:1\t0.33\n",
      "32)\t07. ShutDOWN.mp3\t 0:1\t0.09\n",
      "33)\t02 April Ethereal.mp3\t 0:1\t0.02\n",
      "34)\t11 - On That Note.flac\t 0:1\t0.03\n",
      "35)\t08 Los Endos.mp3\t 0:1\t0.34\n",
      "36)\t01 Penguin Cafe Single.mp3\t 1:0\t0.94\n",
      "37)\t04 - No Part Of Me.mp3\t 0:1\t0.02\n",
      "38)\t01 - Untouchable, Part 1.mp3\t 0:1\t0.02\n",
      "39)\t05 - Entree.mp3\t 0:1\t0.01\n",
      "40)\t10_Sorrow.mp3\t 0:1\t0.0\n",
      "41)\t03 Sartori In Tangier.mp3\t 0:1\t0.14\n",
      "42)\t08 - When the Levee Breaks.mp3\t 1:0\t0.94\n",
      "43)\t08. Towards The Blue Horizon.mp3\t 0:1\t0.01\n",
      "44)\t01-Life's Greatest Fool.mp3\t 1:0\t0.55\n",
      "45)\t10 The Storm.mp3\t 0:1\t0.05\n",
      "46)\t01. Diana.mp3\t 0:1\t0.02\n",
      "47)\t101-emerson_lake_and_palmer-jerusalem.mp3\t 0:1\t0.16\n",
      "48)\t04_Birthright.mp3\t 0:1\t0.01\n",
      "49)\tcaptain beefheart - trout mask replica - 05 - hair pie- bake .mp3\t 0:1\t0.0\n",
      "50)\t07 - Speed Of Sound.mp3\t 1:0\t0.6\n",
      "51)\t10-Locomotive Breath (Mixed And Mastered By Steven Wilson).flac\t 0:1\t0.01\n",
      "52)\t08 - Supersonic Rocket Ship.mp3\t 1:0\t0.67\n",
      "53)\tThe Power To Believe-King Crimson-07-The Power To Believe II.mp3\t 0:1\t0.01\n",
      "54)\t05. Vrooom.mp3\t 0:1\t0.11\n",
      "55)\t03. Egoist Hedonist.mp3\t 0:1\t0.44\n",
      "56)\t08 - Spectral Mornings (2005 Digital Remaster).mp3\t 0:1\t0.19\n",
      "57)\t03. Little Man.mp3\t 0:1\t0.04\n",
      "58)\tDevin Townsend Project - Kingdom.mp3\t 0:1\t0.08\n",
      "59)\t01 - Red.mp3\t 0:1\t0.02\n",
      "60)\tDark Light - Sinkin' Deep.mp3\t 0:1\t0.07\n",
      "61)\t04 Master Builder.flac\t 0:1\t0.02\n",
      "62)\t01 - Another Day Of Sun.mp3\t 1:0\t0.66\n",
      "63)\t01 - Highway Star.mp3\t 1:0\t0.94\n",
      "64)\t01  The Last Shadow Puppets - The Age Of The Understatement.mp3\t 1:0\t0.63\n",
      "65)\t06 - The Storm Before the Calm.mp3\t 0:1\t0.14\n",
      "66)\t103 Thela Hun Ginjeet.mp3\t 0:1\t0.0\n",
      "67)\tKing Crimson - Islands - 02 - Sailor's Tale.mp3\t 0:1\t0.04\n",
      "68)\t01. Oblivion_khaos.mp3\t 0:1\t0.0\n",
      "Evaluation: Loss: 0.8901\tAccuracy: 198/266 74.44%\n",
      "Non Prog Accuracy 58.46%\n",
      "Prog Accuracy 91.91%\n"
     ]
    },
    {
     "data": {
      "image/png": "[encoded data removed]",
      "text/plain": [
       "<Figure size 800x800 with 2 Axes>"
      ]
     },
     "metadata": {},
     "output_type": "display_data"
    }
   ],
   "source": [
    "validate_songs_probabilities, validate_labels = rec.prepareSongData(test_dict, test_songs, model=model_name)\n",
    "val_accuracy, val_loss, results, table = rec.evaluate_lstm(list(test_dict.keys()), validate_songs_probabilities, validate_labels, lstm, criterion, device)\n",
    "generate_table(f\"lstm_eval_exp{EXPERIMENT}\", table)\n",
    "Utils.getClassAccuracies(result, CLASS_NAMES)\n",
    "Utils.plot_confusion_matrix(results['conf_matrix'], CLASS_NAMES)"
   ]
  },
  {
   "cell_type": "markdown",
   "metadata": {},
   "source": [
    "## Post Prog Rock"
   ]
  },
  {
   "cell_type": "markdown",
   "metadata": {},
   "source": [
    "### Loading data"
   ]
  },
  {
   "cell_type": "code",
   "execution_count": 16,
   "metadata": {},
   "outputs": [
    {
     "name": "stderr",
     "output_type": "stream",
     "text": [
      "  0%|          | 0/22 [00:00<?, ?it/s]"
     ]
    },
    {
     "name": "stderr",
     "output_type": "stream",
     "text": [
      "100%|██████████| 22/22 [00:26<00:00,  1.21s/it]\n"
     ]
    }
   ],
   "source": [
    "other_songs = [(i, Utils.getName(i), 1) for i in librosa.util.find_files(\"Other/\")]\n",
    "dataset_2 = SnippetProgDataset(other_songs, transform=transform)"
   ]
  },
  {
   "cell_type": "markdown",
   "metadata": {},
   "source": [
    "### Evaluate Models"
   ]
  },
  {
   "cell_type": "code",
   "execution_count": 17,
   "metadata": {},
   "outputs": [],
   "source": [
    "loader2 = DataLoader(dataset_2, batch_size = BATCH_SIZE, num_workers = 2, shuffle = True)\n",
    "other_dict = eval_score(loader2, model)"
   ]
  },
  {
   "cell_type": "code",
   "execution_count": 18,
   "metadata": {},
   "outputs": [
    {
     "name": "stdout",
     "output_type": "stream",
     "text": [
      "0\tTextures - Laments Of An Icarus.mp3\t0.64\n",
      "1\t01-darko_us-splinter_cell.mp3\t0.48\n",
      "2\tAFTER THE BURIAL - A Wolf Amongst Ravens.mp3\t0.60\n",
      "3\tMeshuggah- Soul Burn.mp3\t0.38\n",
      "4\t06 A Light Will Shine.mp3\t0.81\n",
      "5\t06-1289, Voyeur Will Shine, Fight For Distinction, Evolution Is Mine..mp3\t0.49\n",
      "6\t01 Arithmophobia.mp3\t0.83\n",
      "7\t03 - Language II Conspire.mp3\t0.89\n",
      "8\tSikTh - Hold My Finger.mp3\t0.49\n",
      "9\tThe Algorithm - Isometry.mp3\t0.14\n",
      "10\tMONUMENTS - I, The Creator.mp3\t0.72\n",
      "11\tCHIMP SPANNER - Bad Code.mp3\t0.78\n",
      "12\t07 The Race Is About To Begin.mp3\t0.67\n",
      "13\tVeil Of Maya - Punisher.mp3\t0.63\n",
      "14\tb1-master_boot_record-dma_4_cascade.mp3\t0.29\n",
      "15\tHEART OF A COWARD - Hollow.mp3\t0.09\n",
      "16\tBORN OF OSIRIS - Divergency.mp3\t0.18\n",
      "17\t08-the_haarp_machine-machine_over.mp3\t0.98\n",
      "18\tCloudkicker - Let yourself be huge.mp3\t0.85\n",
      "19\t05. Physical Education.mp3\t0.53\n",
      "20\tPERIPHERY - Zyglrox.mp3\t0.77\n",
      "21\tHacktivist - DECEIVE AND DEFY.mp3\t0.39\n"
     ]
    }
   ],
   "source": [
    "other_songs_probabilities, _ = rec.prepareSongData(other_dict, other_songs)\n",
    "with torch.no_grad():\n",
    "    for idx, (name, song) in enumerate(zip(other_dict.keys(), other_songs_probabilities)):\n",
    "        score = torch.mean(song.view(-1))\n",
    "        print(f\"{idx}\\t{name}\\t{score:.2f}\")"
   ]
  },
  {
   "cell_type": "code",
   "execution_count": 20,
   "metadata": {},
   "outputs": [
    {
     "name": "stdout",
     "output_type": "stream",
     "text": [
      "0\tTextures - Laments Of An Icarus.mp3\t0.02\n",
      "1\t01-darko_us-splinter_cell.mp3\t0.00\n",
      "2\tAFTER THE BURIAL - A Wolf Amongst Ravens.mp3\t0.00\n",
      "3\tMeshuggah- Soul Burn.mp3\t0.00\n",
      "4\t06 A Light Will Shine.mp3\t0.63\n",
      "5\t06-1289, Voyeur Will Shine, Fight For Distinction, Evolution Is Mine..mp3\t0.00\n",
      "6\t01 Arithmophobia.mp3\t0.88\n",
      "7\t03 - Language II Conspire.mp3\t0.93\n",
      "8\tSikTh - Hold My Finger.mp3\t0.00\n",
      "9\tThe Algorithm - Isometry.mp3\t0.00\n",
      "10\tMONUMENTS - I, The Creator.mp3\t0.14\n",
      "11\tCHIMP SPANNER - Bad Code.mp3\t0.55\n",
      "12\t07 The Race Is About To Begin.mp3\t0.01\n",
      "13\tVeil Of Maya - Punisher.mp3\t0.06\n",
      "14\tb1-master_boot_record-dma_4_cascade.mp3\t0.00\n",
      "15\tHEART OF A COWARD - Hollow.mp3\t0.00\n",
      "16\tBORN OF OSIRIS - Divergency.mp3\t0.00\n",
      "17\t08-the_haarp_machine-machine_over.mp3\t1.00\n",
      "18\tCloudkicker - Let yourself be huge.mp3\t0.83\n",
      "19\t05. Physical Education.mp3\t0.00\n",
      "20\tPERIPHERY - Zyglrox.mp3\t0.49\n",
      "21\tHacktivist - DECEIVE AND DEFY.mp3\t0.00\n"
     ]
    }
   ],
   "source": [
    "rec.eval_score_rnn(list(other_dict.keys()), other_songs_probabilities, rnn, device)"
   ]
  },
  {
   "cell_type": "code",
   "execution_count": null,
   "metadata": {},
   "outputs": [],
   "source": []
  }
 ],
 "metadata": {
  "kernelspec": {
   "display_name": "prog",
   "language": "python",
   "name": "python3"
  },
  "language_info": {
   "codemirror_mode": {
    "name": "ipython",
    "version": 3
   },
   "file_extension": ".py",
   "mimetype": "text/x-python",
   "name": "python",
   "nbconvert_exporter": "python",
   "pygments_lexer": "ipython3",
   "version": "3.11.5"
  }
 },
 "nbformat": 4,
 "nbformat_minor": 2
}
